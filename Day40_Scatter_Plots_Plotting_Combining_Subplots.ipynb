{
  "nbformat": 4,
  "nbformat_minor": 0,
  "metadata": {
    "colab": {
      "name": "Day40_Scatter-Plots_Plotting-Combining-Subplots.ipynb",
      "provenance": [],
      "collapsed_sections": [],
      "authorship_tag": "ABX9TyMU7+36XOnBA0rUSIdKUR5/",
      "include_colab_link": true
    },
    "kernelspec": {
      "name": "python3",
      "display_name": "Python 3"
    },
    "language_info": {
      "name": "python"
    }
  },
  "cells": [
    {
      "cell_type": "markdown",
      "metadata": {
        "id": "view-in-github",
        "colab_type": "text"
      },
      "source": [
        "<a href=\"https://colab.research.google.com/github/sureshmecad/Samrat-Ashok-Technology-Internship/blob/main/Day40_Scatter_Plots_Plotting_Combining_Subplots.ipynb\" target=\"_parent\"><img src=\"https://colab.research.google.com/assets/colab-badge.svg\" alt=\"Open In Colab\"/></a>"
      ]
    },
    {
      "cell_type": "markdown",
      "metadata": {
        "id": "OzUbkwbFwS-G"
      },
      "source": [
        "- 1) Plotting scatter plots\n",
        "\n",
        "- 2) Combining Plots\n",
        "\n",
        "- 3) Subplots"
      ]
    },
    {
      "cell_type": "markdown",
      "metadata": {
        "id": "oq3RoZT1pi6X"
      },
      "source": [
        "#### **1) Plotting scatter plots**\n",
        "\n",
        "- A **scatter plot** is a **two-dimensional chart** that uses dots (or other shapes) to represent the values for two different variables.\n",
        "\n",
        "- Scatter plots are often used to show how much the value of one variable is affected by another.\n",
        "\n",
        "- The following code snippet shows a scatter plot with the x-axis containing a list of numbers from 1 to 4 and the y-axis showing the cube of the x-axis values."
      ]
    },
    {
      "cell_type": "code",
      "metadata": {
        "id": "OgQyxrrjpLe9"
      },
      "source": [
        "import matplotlib.pyplot as plt\n",
        "%matplotlib inline"
      ],
      "execution_count": 1,
      "outputs": []
    },
    {
      "cell_type": "code",
      "metadata": {
        "colab": {
          "base_uri": "https://localhost:8080/",
          "height": 269
        },
        "id": "8Qq-tJLgpieY",
        "outputId": "e66aed14-5a63-4e07-ed20-f4eb32054b3a"
      },
      "source": [
        "plt.plot([1, 2, 3, 4],    # x-axis\n",
        "         [1, 8, 27, 64],   # y-axis\n",
        "         'bo')            # blue cicle marker\n",
        "\n",
        "plt.axis([0,4.5,0,70])    # xmin, xmax, ymin, ymax\n",
        "plt.show()"
      ],
      "execution_count": 3,
      "outputs": [
        {
          "output_type": "display_data",
          "data": {
            "image/png": "[encoded data removed]",
            "text/plain": [
              "<Figure size 432x288 with 1 Axes>"
            ]
          },
          "metadata": {
            "needs_background": "light"
          }
        }
      ]
    },
    {
      "cell_type": "markdown",
      "metadata": {
        "id": "gbkZnE_Vs-6c"
      },
      "source": [
        "#### **2) Combining Plots**\n",
        "\n",
        "- We can combine multiple scatter plots into one chart as follow.\n",
        "\n",
        "- The chart displays **three scatter plots**\n",
        "\n",
        "- We can customize the shape of the points to draw on the scatter plot.\n",
        "\n",
        "- For example, \n",
        "\n",
        " - **y^** indicates a **yellow triangle-up marker**\n",
        " \n",
        " - **bo** indicates **blue circle**\n",
        "\n",
        " - **r--** indicates **red dashed line**"
      ]
    },
    {
      "cell_type": "code",
      "metadata": {
        "colab": {
          "base_uri": "https://localhost:8080/",
          "height": 269
        },
        "id": "ItrCis5TpiaT",
        "outputId": "40860057-f81a-4f1e-8b60-eeada6091ad6"
      },
      "source": [
        "import numpy as np\n",
        "\n",
        "a = np.arange(1, 4.5, 0.1)     # 1, 1.1, 1.2, 1.3 ... 4.4\n",
        "plt.plot(a, a**2, 'y^',      # yellow triangle up marker\n",
        "         a, a**3, 'bo',      # blue circle\n",
        "         a, a**4, 'r--')     # red dashed line\n",
        "\n",
        "plt.axis([0,4.5,0,70])     # xmin, xmax, ymin, ymax\n",
        "plt.show()"
      ],
      "execution_count": 6,
      "outputs": [
        {
          "output_type": "display_data",
          "data": {
            "image/png": "[encoded data removed]",
            "text/plain": [
              "<Figure size 432x288 with 1 Axes>"
            ]
          },
          "metadata": {
            "needs_background": "light"
          }
        }
      ]
    },
    {
      "cell_type": "markdown",
      "metadata": {
        "id": "EbGBuoKcwcET"
      },
      "source": [
        "#### **3) Subplots**\n",
        "\n",
        "- We can also plot multiple scatter plots seperately and combine them into a single figure.\n",
        "\n",
        "- The **subplot()** function adds a subplot to the current figure\n",
        "\n",
        "- One of the arguments it takes in has the following format: nrow, ncols, index\n",
        "\n",
        "- In the preceeding example, **121** means **\"1 row, 2 columns and chart 1\"**\n",
        "\n",
        "- Using this format, we can have upto a **maximum of nine figures.**\n",
        "\n",
        "- The subplot() function also be called with the following syntax;\n",
        "\n",
        "        plt.subplot(121) # 1 row, 2 cols, 1 chart\n",
        "\n",
        "- Using this syntax, we can now have more than **10 charts in a single figure**\n",
        "\n",
        "- The **scatter()** function draws **points without lines connecting them**, whereas the **plot()** function **may or may not plot the lines**, depending on the arguments."
      ]
    },
    {
      "cell_type": "code",
      "metadata": {
        "colab": {
          "base_uri": "https://localhost:8080/",
          "height": 269
        },
        "id": "2btxsbTxpiWW",
        "outputId": "618a523d-009f-4802-c13d-813305d29ea5"
      },
      "source": [
        "a = np.arange(1, 5, 0.1)\n",
        "\n",
        "plt.subplot(121)             # 1 row, 2 cols, chart 1\n",
        "plt.plot([1, 2, 3, 4, 5], [1, 8, 27, 64, 125], 'y^')\n",
        "\n",
        "plt.subplot(122)             # 1 row, 2 cols, chart 2\n",
        "plt.plot(a, a**2, 'y^',      # yellow triangle up marker\n",
        "         a, a**3, 'bo',      # blue circle\n",
        "         a, a**4, 'r--')     # red dashed line\n",
        "\n",
        "plt.axis([0,4.5,0,70])     # xmin, xmax, ymin, ymax\n",
        "plt.show()"
      ],
      "execution_count": 7,
      "outputs": [
        {
          "output_type": "display_data",
          "data": {
            "image/png": "[encoded data removed]",
            "text/plain": [
              "<Figure size 432x288 with 2 Axes>"
            ]
          },
          "metadata": {
            "needs_background": "light"
          }
        }
      ]
    },
    {
      "cell_type": "markdown",
      "metadata": {
        "id": "IQpbQ5Hwpc9d"
      },
      "source": [
        "#### **Reference**\n",
        "\n",
        "- https://www.youtube.com/watch?v=vh4OlIYf2yw&list=PLzx-_kRo3HZtP3tWaieUPwAh9K4I00_6p&index=51"
      ]
    }
  ]
}