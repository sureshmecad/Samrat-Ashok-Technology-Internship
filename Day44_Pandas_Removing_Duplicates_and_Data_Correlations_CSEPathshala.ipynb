{
  "nbformat": 4,
  "nbformat_minor": 0,
  "metadata": {
    "colab": {
      "name": "Day44_Pandas Removing Duplicates and Data Correlations_CSEPathshala.ipynb",
      "provenance": [],
      "collapsed_sections": [],
      "authorship_tag": "ABX9TyOihC8fYRUWuFQIH8eIpbic",
      "include_colab_link": true
    },
    "kernelspec": {
      "name": "python3",
      "display_name": "Python 3"
    },
    "language_info": {
      "name": "python"
    }
  },
  "cells": [
    {
      "cell_type": "markdown",
      "metadata": {
        "id": "view-in-github",
        "colab_type": "text"
      },
      "source": [
        "<a href=\"https://colab.research.google.com/github/sureshmecad/Samrat-Ashok-Technology-Internship/blob/main/Day44_Pandas_Removing_Duplicates_and_Data_Correlations_CSEPathshala.ipynb\" target=\"_parent\"><img src=\"https://colab.research.google.com/assets/colab-badge.svg\" alt=\"Open In Colab\"/></a>"
      ]
    },
    {
      "cell_type": "markdown",
      "metadata": {
        "id": "6VFTJEGOHY3j"
      },
      "source": [
        "### **PANDAS**\n",
        "\n",
        "- Removing Duplicates\n",
        "\n",
        "- Data Correlations "
      ]
    },
    {
      "cell_type": "markdown",
      "metadata": {
        "id": "YxjMzjYDHosU"
      },
      "source": [
        "#### **1) Discovering Duplicates**"
      ]
    },
    {
      "cell_type": "markdown",
      "metadata": {
        "id": "iK3EjgG1l7uj"
      },
      "source": [
        "- **Duplicate rows** are rows that have been registered **more than one time**\n",
        "\n",
        "- By taking a look at our **\"DoB New\"** dataset, we can assume that **row 3 and 4 are duplicates**.\n",
        "\n",
        "- To **discover duplicates**, we can use the **duplicated()** method.\n",
        "\n",
        "- The **duplicated()** method returns a **boolean values** for each row."
      ]
    },
    {
      "cell_type": "markdown",
      "metadata": {
        "id": "y-lDS425KXpz"
      },
      "source": [
        "- Returns **True** for every row that is a **duplicate**, otherwise **False**."
      ]
    },
    {
      "cell_type": "code",
      "metadata": {
        "id": "MM-3X-qnBuao"
      },
      "source": [
        "import pandas as pd"
      ],
      "execution_count": null,
      "outputs": []
    },
    {
      "cell_type": "code",
      "metadata": {
        "id": "gscGaNdmNR1z"
      },
      "source": [
        "data = {'Name': ['Nirmal', 'Priyanka', 'Resham', 'Jalaj', 'Jalaj'],\n",
        "        'Date': ['2021/07/31', '2021/08/01', '2021/08/01', '2021/08/01', '2021/08/01'],\n",
        "        'Age': [35, 33, 3, 40, 40]}"
      ],
      "execution_count": null,
      "outputs": []
    },
    {
      "cell_type": "code",
      "metadata": {
        "colab": {
          "base_uri": "https://localhost:8080/",
          "height": 206
        },
        "id": "tfYwN26OHVMf",
        "outputId": "c421825f-9eb0-493f-c704-40d522e41d06"
      },
      "source": [
        "df = pd.DataFrame(data)\n",
        "df"
      ],
      "execution_count": null,
      "outputs": [
        {
          "output_type": "execute_result",
          "data": {
            "text/html": [
              "<div>\n",
              "<style scoped>\n",
              "    .dataframe tbody tr th:only-of-type {\n",
              "        vertical-align: middle;\n",
              "    }\n",
              "\n",
              "    .dataframe tbody tr th {\n",
              "        vertical-align: top;\n",
              "    }\n",
              "\n",
              "    .dataframe thead th {\n",
              "        text-align: right;\n",
              "    }\n",
              "</style>\n",
              "<table border=\"1\" class=\"dataframe\">\n",
              "  <thead>\n",
              "    <tr style=\"text-align: right;\">\n",
              "      <th></th>\n",
              "      <th>Name</th>\n",
              "      <th>Date</th>\n",
              "      <th>Age</th>\n",
              "    </tr>\n",
              "  </thead>\n",
              "  <tbody>\n",
              "    <tr>\n",
              "      <th>0</th>\n",
              "      <td>Nirmal</td>\n",
              "      <td>2021/07/31</td>\n",
              "      <td>35</td>\n",
              "    </tr>\n",
              "    <tr>\n",
              "      <th>1</th>\n",
              "      <td>Priyanka</td>\n",
              "      <td>2021/08/01</td>\n",
              "      <td>33</td>\n",
              "    </tr>\n",
              "    <tr>\n",
              "      <th>2</th>\n",
              "      <td>Resham</td>\n",
              "      <td>2021/08/01</td>\n",
              "      <td>3</td>\n",
              "    </tr>\n",
              "    <tr>\n",
              "      <th>3</th>\n",
              "      <td>Jalaj</td>\n",
              "      <td>2021/08/01</td>\n",
              "      <td>40</td>\n",
              "    </tr>\n",
              "    <tr>\n",
              "      <th>4</th>\n",
              "      <td>Jalaj</td>\n",
              "      <td>2021/08/01</td>\n",
              "      <td>40</td>\n",
              "    </tr>\n",
              "  </tbody>\n",
              "</table>\n",
              "</div>"
            ],
            "text/plain": [
              "       Name        Date  Age\n",
              "0    Nirmal  2021/07/31   35\n",
              "1  Priyanka  2021/08/01   33\n",
              "2    Resham  2021/08/01    3\n",
              "3     Jalaj  2021/08/01   40\n",
              "4     Jalaj  2021/08/01   40"
            ]
          },
          "metadata": {},
          "execution_count": 3
        }
      ]
    },
    {
      "cell_type": "code",
      "metadata": {
        "colab": {
          "base_uri": "https://localhost:8080/"
        },
        "id": "J7R-_VneNR0z",
        "outputId": "aad3daee-86bf-44b9-c43d-84d89d2954de"
      },
      "source": [
        "print(df.to_string())"
      ],
      "execution_count": null,
      "outputs": [
        {
          "output_type": "stream",
          "name": "stdout",
          "text": [
            "       Name        Date  Age\n",
            "0    Nirmal  2021/07/31   35\n",
            "1  Priyanka  2021/08/01   33\n",
            "2    Resham  2021/08/01    3\n",
            "3     Jalaj  2021/08/01   40\n",
            "4     Jalaj  2021/08/01   40\n"
          ]
        }
      ]
    },
    {
      "cell_type": "code",
      "metadata": {
        "colab": {
          "base_uri": "https://localhost:8080/"
        },
        "id": "S22WVmhtHVHq",
        "outputId": "744b5a1b-0a7c-4951-a1d2-65a667c5a887"
      },
      "source": [
        "df.duplicated()"
      ],
      "execution_count": null,
      "outputs": [
        {
          "output_type": "execute_result",
          "data": {
            "text/plain": [
              "0    False\n",
              "1    False\n",
              "2    False\n",
              "3    False\n",
              "4     True\n",
              "dtype: bool"
            ]
          },
          "metadata": {},
          "execution_count": 8
        }
      ]
    },
    {
      "cell_type": "markdown",
      "metadata": {
        "id": "5t2CULZDQw_P"
      },
      "source": [
        "- **inplace=True** will make sure that the method **does NOT** return a **new\n",
        "dataframe**, but it will **remove all duplicates** from the **original dataframe**."
      ]
    },
    {
      "cell_type": "markdown",
      "metadata": {
        "id": "N1LDT--PQw-C"
      },
      "source": [
        "#### **2) Data Correlations:** Finding Relationships"
      ]
    },
    {
      "cell_type": "markdown",
      "metadata": {
        "id": "IeF7BdMpmHx2"
      },
      "source": [
        "- A great aspect of the pandas module is the **corr()** method\n",
        "\n",
        "- The **corr()** method calculates the relationship b/n each **column** in your \n",
        "dataset."
      ]
    },
    {
      "cell_type": "code",
      "metadata": {
        "id": "Pet0O3X8HVG4",
        "colab": {
          "base_uri": "https://localhost:8080/",
          "height": 81
        },
        "outputId": "02b572f7-6d97-43fc-d79d-939ce1f51d1a"
      },
      "source": [
        "# show the relationship b/n the columns\n",
        "df.corr()"
      ],
      "execution_count": 9,
      "outputs": [
        {
          "output_type": "execute_result",
          "data": {
            "text/html": [
              "<div>\n",
              "<style scoped>\n",
              "    .dataframe tbody tr th:only-of-type {\n",
              "        vertical-align: middle;\n",
              "    }\n",
              "\n",
              "    .dataframe tbody tr th {\n",
              "        vertical-align: top;\n",
              "    }\n",
              "\n",
              "    .dataframe thead th {\n",
              "        text-align: right;\n",
              "    }\n",
              "</style>\n",
              "<table border=\"1\" class=\"dataframe\">\n",
              "  <thead>\n",
              "    <tr style=\"text-align: right;\">\n",
              "      <th></th>\n",
              "      <th>Age</th>\n",
              "    </tr>\n",
              "  </thead>\n",
              "  <tbody>\n",
              "    <tr>\n",
              "      <th>Age</th>\n",
              "      <td>1.0</td>\n",
              "    </tr>\n",
              "  </tbody>\n",
              "</table>\n",
              "</div>"
            ],
            "text/plain": [
              "     Age\n",
              "Age  1.0"
            ]
          },
          "metadata": {},
          "execution_count": 9
        }
      ]
    },
    {
      "cell_type": "markdown",
      "metadata": {
        "id": "VNwE-AC1b5Rn"
      },
      "source": [
        "- The **corr()** method ignores **\"not numeric\"** columns."
      ]
    },
    {
      "cell_type": "markdown",
      "metadata": {
        "id": "OZispgQ2cNEQ"
      },
      "source": [
        "#### **Results**\n",
        "\n",
        "- The result of the **corr()** method is a table with a lot of numbers that represents how well the **relationship is b/n columns**.\n",
        "\n",
        "- The number varies from **-1 to 1**\n",
        "\n",
        "- **1** means that there is a 1 to 1 relationship (a **perfect correlation**), and for this dataset, each time a value went up in the first column, the other one went up as well.\n",
        "\n",
        "- **0.9** is also a good relationship, and if you increase one value, the other will probably increase as well.\n",
        "\n",
        "- **-0.9** would be just as good relationship as 0.9, but if you increase one value, the other will probably go down.\n",
        "\n",
        "- **0.2** means **NOT a good relationship**, meaning that if one value goes up does not mean that the other will."
      ]
    },
    {
      "cell_type": "markdown",
      "metadata": {
        "id": "FehVitfyjyDc"
      },
      "source": [
        "#### **What is a good correlation?**\n",
        "\n",
        "- It depends on the use, but it is safe to say you have to have at least **0.6(or -0.6)** to call it a **good relation**."
      ]
    },
    {
      "cell_type": "markdown",
      "metadata": {
        "id": "hYekvtvryLPk"
      },
      "source": [
        "#### **Perfect Correlation**\n",
        "\n",
        "- We can see that \"Age\" and \"Age\" got the number 1, which makes sense each column relationship with itself."
      ]
    },
    {
      "cell_type": "markdown",
      "metadata": {
        "id": "Ua3ZUsYNHOvY"
      },
      "source": [
        "### **Reference**\n",
        "\n",
        "- https://www.youtube.com/watch?v=5gKIeaiZkdE&list=PLzx-_kRo3HZtP3tWaieUPwAh9K4I00_6p&index=44"
      ]
    }
  ]
}