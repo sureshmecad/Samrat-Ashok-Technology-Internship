{
  "nbformat": 4,
  "nbformat_minor": 0,
  "metadata": {
    "colab": {
      "name": "Day15_Random Numbers in NumPy_Pathshala.ipynb",
      "provenance": [],
      "collapsed_sections": [],
      "authorship_tag": "ABX9TyNWHnj/aVAtIX3XuN14DbiT",
      "include_colab_link": true
    },
    "kernelspec": {
      "name": "python3",
      "display_name": "Python 3"
    },
    "language_info": {
      "name": "python"
    }
  },
  "cells": [
    {
      "cell_type": "markdown",
      "metadata": {
        "id": "view-in-github",
        "colab_type": "text"
      },
      "source": [
        "<a href=\"https://colab.research.google.com/github/sureshmecad/Samrat-Ashok-Technology-Internship/blob/main/Day15_Random_Numbers_in_NumPy_Pathshala.ipynb\" target=\"_parent\"><img src=\"https://colab.research.google.com/assets/colab-badge.svg\" alt=\"Open In Colab\"/></a>"
      ]
    },
    {
      "cell_type": "markdown",
      "metadata": {
        "id": "yEylm4EwDCKk"
      },
      "source": [
        "#### **What is a Random Number?**\n",
        "\n",
        "- Random number does NOT mean a different number every time. Random means something that cannot be predicted logically."
      ]
    },
    {
      "cell_type": "markdown",
      "metadata": {
        "id": "zU0Q91nuDtuU"
      },
      "source": [
        "#### **Pseudo Random and True Random**\n",
        "\n",
        "- Computers work on programs, and programs are definitive set of instructions. So it means there must be some algorithm to generate a random number as well.\n",
        "\n",
        "- If there is aprogram to generate random number it can be predicted, thus it is not truely random.\n",
        "\n",
        "- **Random numbers** generated through a generation algorithm are called **pseudo random**."
      ]
    },
    {
      "cell_type": "markdown",
      "metadata": {
        "id": "tBY165jBPJOz"
      },
      "source": [
        "#### **Can we make truly Random Numbers?**\n",
        "\n",
        "- Yes. In order to generate a truely random number on our computers we need to get the random data from some outside source. This outside source is generally our keystrokes, mouse movements, data on networks etc. We do not need truly random numbers, unless it is related to security (e.g. encryption keys) or the basis of application is the randomness (e.g. Digital roulette wheels) "
      ]
    },
    {
      "cell_type": "markdown",
      "metadata": {
        "id": "DcMkDEz_XM2u"
      },
      "source": [
        "#### **1) Generate Random Number**\n",
        "\n",
        "- NumPy offers the random module to work with random numbers."
      ]
    },
    {
      "cell_type": "code",
      "metadata": {
        "id": "sVP5E27IYTRy"
      },
      "source": [
        "import numpy as np\n",
        "from numpy import random"
      ],
      "execution_count": 2,
      "outputs": []
    },
    {
      "cell_type": "code",
      "metadata": {
        "colab": {
          "base_uri": "https://localhost:8080/"
        },
        "id": "Zxxtq5ymAN58",
        "outputId": "884dcd73-83d0-4dea-db8d-3af5b0d2528a"
      },
      "source": [
        "# Generate a random integer from 0 to 100\n",
        "\n",
        "x = random.randint(100)\n",
        "print(x)"
      ],
      "execution_count": 3,
      "outputs": [
        {
          "output_type": "stream",
          "name": "stdout",
          "text": [
            "17\n"
          ]
        }
      ]
    },
    {
      "cell_type": "code",
      "metadata": {
        "colab": {
          "base_uri": "https://localhost:8080/"
        },
        "id": "xIjl6_0aAsRq",
        "outputId": "0d37841d-a7f3-4fa4-eb44-cd38cdec179f"
      },
      "source": [
        "# Generate a random integer from 0 to 100\n",
        "\n",
        "x = random.randint(100)\n",
        "print(x)"
      ],
      "execution_count": 4,
      "outputs": [
        {
          "output_type": "stream",
          "name": "stdout",
          "text": [
            "57\n"
          ]
        }
      ]
    },
    {
      "cell_type": "markdown",
      "metadata": {
        "id": "ndGdBR8xZQWX"
      },
      "source": [
        "#### **2) Generate Random Float**\n",
        "\n",
        "- The random modules **rand()** method returns a random float between 0 and 1."
      ]
    },
    {
      "cell_type": "code",
      "metadata": {
        "colab": {
          "base_uri": "https://localhost:8080/"
        },
        "id": "xpJJxOisAsJK",
        "outputId": "9b8f19b3-e823-4782-d40d-4c9fa5da4e38"
      },
      "source": [
        "# Generate a random float from 0 to 1\n",
        "\n",
        "x = random.rand()\n",
        "print(x)"
      ],
      "execution_count": 5,
      "outputs": [
        {
          "output_type": "stream",
          "name": "stdout",
          "text": [
            "0.346989078719523\n"
          ]
        }
      ]
    },
    {
      "cell_type": "code",
      "metadata": {
        "colab": {
          "base_uri": "https://localhost:8080/"
        },
        "id": "ThDrwHFNAsFS",
        "outputId": "155c6982-8894-4d16-db41-321a58e4f00a"
      },
      "source": [
        "# Generate a random float from 0 to 1\n",
        "\n",
        "x = random.rand()\n",
        "print(x)"
      ],
      "execution_count": 6,
      "outputs": [
        {
          "output_type": "stream",
          "name": "stdout",
          "text": [
            "0.11345368340579698\n"
          ]
        }
      ]
    },
    {
      "cell_type": "markdown",
      "metadata": {
        "id": "OLZouVEQaVK1"
      },
      "source": [
        "#### **3) Generate Random Array**\n",
        "\n",
        "- In NumPy we work with arrays, and we can use the two methods from the above examples to make random arrays."
      ]
    },
    {
      "cell_type": "markdown",
      "metadata": {
        "id": "YvtsDJeNj-Rx"
      },
      "source": [
        "##### **3.1) Integers**\n",
        "- The **randint()** method takes a **size** parameter where we can specify the **shape** of an array."
      ]
    },
    {
      "cell_type": "code",
      "metadata": {
        "colab": {
          "base_uri": "https://localhost:8080/"
        },
        "id": "xWhIvsH0aL_t",
        "outputId": "8e835a7f-31be-49df-d32f-140d648b7f94"
      },
      "source": [
        "# Generate a 1-D array containing 5 random integers from 0 to 100\n",
        "\n",
        "x = random.randint(100, size=(5))\n",
        "print(x)"
      ],
      "execution_count": 7,
      "outputs": [
        {
          "output_type": "stream",
          "name": "stdout",
          "text": [
            "[93 14 48 18 95]\n"
          ]
        }
      ]
    },
    {
      "cell_type": "code",
      "metadata": {
        "colab": {
          "base_uri": "https://localhost:8080/"
        },
        "id": "_u6df7OUaL7Z",
        "outputId": "e4617ffb-2bb4-47fa-aab3-6e1743d15bd3"
      },
      "source": [
        "# Generate a 2-D array with 3 rows, each row containing 5 random integers from 0 to 100\n",
        "\n",
        "x = random.randint(100, size=(3,5))  # 3 rows; 5 elements in each row\n",
        "print(x)"
      ],
      "execution_count": 8,
      "outputs": [
        {
          "output_type": "stream",
          "name": "stdout",
          "text": [
            "[[72 81 87 49 25]\n",
            " [44 35 54 25 29]\n",
            " [55 34 52 93 40]]\n"
          ]
        }
      ]
    },
    {
      "cell_type": "markdown",
      "metadata": {
        "id": "B54gklAIdSGh"
      },
      "source": [
        "##### **3.2) Floats**\n",
        "\n",
        "- The **rand()** method also allows you to specify the **shape** of the array"
      ]
    },
    {
      "cell_type": "code",
      "metadata": {
        "colab": {
          "base_uri": "https://localhost:8080/"
        },
        "id": "FJELh1QmaL6l",
        "outputId": "706338a2-8e73-4431-a648-e210889dad61"
      },
      "source": [
        "# Generate a 1-D array containing 5 random floats\n",
        "\n",
        "x = random.rand(5)\n",
        "print(x)"
      ],
      "execution_count": 9,
      "outputs": [
        {
          "output_type": "stream",
          "name": "stdout",
          "text": [
            "[0.32059086 0.41812302 0.38287109 0.44711067 0.6945388 ]\n"
          ]
        }
      ]
    },
    {
      "cell_type": "code",
      "metadata": {
        "colab": {
          "base_uri": "https://localhost:8080/"
        },
        "id": "8BYO-p67aL5Y",
        "outputId": "30f6551b-1032-4f3b-b86f-4e73c6847c87"
      },
      "source": [
        "# Generate a 2-D array with 3 rows, each row containing 5 random numbers\n",
        "\n",
        "x = random.rand(3,5)\n",
        "print(x)"
      ],
      "execution_count": 10,
      "outputs": [
        {
          "output_type": "stream",
          "name": "stdout",
          "text": [
            "[[0.34583299 0.39359908 0.7500127  0.57343864 0.92507456]\n",
            " [0.43850668 0.9927156  0.63948791 0.8562448  0.41309068]\n",
            " [0.98582194 0.13246335 0.4678971  0.77084353 0.79965953]]\n"
          ]
        }
      ]
    },
    {
      "cell_type": "markdown",
      "metadata": {
        "id": "Hbp4lHtnfSz0"
      },
      "source": [
        "#### **4) Generate Random Number from Array**\n",
        "\n",
        "- The **choice()** method allows you to generate a random value based on an array of values. \n",
        "\n",
        "- The choice() method takes an array as a parameter and randomly returns one of the values"
      ]
    },
    {
      "cell_type": "code",
      "metadata": {
        "colab": {
          "base_uri": "https://localhost:8080/"
        },
        "id": "k32fRpG7aL3J",
        "outputId": "95da2f69-b06c-4ce9-d5b3-f8ba707a5025"
      },
      "source": [
        "# Return one of the values in an array\n",
        "\n",
        "x = random.choice([3,5,7,9])\n",
        "print(x)"
      ],
      "execution_count": 11,
      "outputs": [
        {
          "output_type": "stream",
          "name": "stdout",
          "text": [
            "5\n"
          ]
        }
      ]
    },
    {
      "cell_type": "markdown",
      "metadata": {
        "id": "9t53siQjgriv"
      },
      "source": [
        "- The **choice()** method also allows you to return an **array of values**. Add a **size** parameter to specify the **shape** of the array."
      ]
    },
    {
      "cell_type": "code",
      "metadata": {
        "colab": {
          "base_uri": "https://localhost:8080/"
        },
        "id": "faXhqoiCaL2O",
        "outputId": "d90c9041-01df-4697-e554-774cc2ecb972"
      },
      "source": [
        "# Generate a 2-D array that consists of the values in the array parameter (3,5,7 and 9)\n",
        "\n",
        "x = random.choice([3,5,7,9], size=(3,5))\n",
        "print(x)"
      ],
      "execution_count": 12,
      "outputs": [
        {
          "output_type": "stream",
          "name": "stdout",
          "text": [
            "[[5 5 7 3 3]\n",
            " [9 5 7 3 3]\n",
            " [9 3 9 5 9]]\n"
          ]
        }
      ]
    },
    {
      "cell_type": "markdown",
      "metadata": {
        "id": "gW9pmcvuAmIe"
      },
      "source": [
        "### **Reference**\n",
        "\n",
        "- https://www.youtube.com/watch?v=BPQKwsrv2Rs&list=PLzx-_kRo3HZtP3tWaieUPwAh9K4I00_6p&index=15"
      ]
    }
  ]
}