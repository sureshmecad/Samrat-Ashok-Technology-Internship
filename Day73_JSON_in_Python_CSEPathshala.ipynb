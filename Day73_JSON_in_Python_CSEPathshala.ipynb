{
  "nbformat": 4,
  "nbformat_minor": 0,
  "metadata": {
    "colab": {
      "name": "Day73_JSON in Python_CSEPathshala.ipynb",
      "provenance": [],
      "collapsed_sections": [],
      "authorship_tag": "ABX9TyMOvcs7eQvJQze37kwFbnzT",
      "include_colab_link": true
    },
    "kernelspec": {
      "name": "python3",
      "display_name": "Python 3"
    },
    "language_info": {
      "name": "python"
    }
  },
  "cells": [
    {
      "cell_type": "markdown",
      "metadata": {
        "id": "view-in-github",
        "colab_type": "text"
      },
      "source": [
        "<a href=\"https://colab.research.google.com/github/sureshmecad/Samrat-Ashok-Technology-Internship/blob/main/Day73_JSON_in_Python_CSEPathshala.ipynb\" target=\"_parent\"><img src=\"https://colab.research.google.com/assets/colab-badge.svg\" alt=\"Open In Colab\"/></a>"
      ]
    },
    {
      "cell_type": "markdown",
      "metadata": {
        "id": "Qn3ibJiePYBy"
      },
      "source": [
        "#### **JSON in Python**\n",
        "\n",
        "- Python has a built-in package called JSON, which can be used to work with JSON data."
      ]
    },
    {
      "cell_type": "markdown",
      "metadata": {
        "id": "KPbx-ESUP8iF"
      },
      "source": [
        "#### **Parse JSON - convert from JSON to Python**\n",
        "\n",
        "- If you have a JSON string, you can **parse** it by using the **json.loads()** method."
      ]
    },
    {
      "cell_type": "code",
      "metadata": {
        "id": "nE8urnzrTVr1",
        "colab": {
          "base_uri": "https://localhost:8080/"
        },
        "outputId": "3cca172c-658a-444f-dd33-a0c7146ad7e7"
      },
      "source": [
        "import json\n",
        "\n",
        "# some JSON:\n",
        "x = '{\"name\":\"John\", \"age\":30, \"city\":\"New York\"}'\n",
        "print(x)\n",
        "\n",
        "# parse x:\n",
        "y = json.loads(x)\n",
        "print(y)\n",
        "\n",
        "# the result is a python dictionary:\n",
        "print(y[\"age\"])"
      ],
      "execution_count": 5,
      "outputs": [
        {
          "output_type": "stream",
          "name": "stdout",
          "text": [
            "{\"name\":\"John\", \"age\":30, \"city\":\"New York\"}\n",
            "{'name': 'John', 'age': 30, 'city': 'New York'}\n",
            "30\n"
          ]
        }
      ]
    },
    {
      "cell_type": "markdown",
      "metadata": {
        "id": "kwlVvKFERwZB"
      },
      "source": [
        "#### **Convert from Python to JSON**\n",
        "\n",
        "- If you have a python object, you can convert it into a JSON string by using the **json.dumps()** method"
      ]
    },
    {
      "cell_type": "code",
      "metadata": {
        "colab": {
          "base_uri": "https://localhost:8080/"
        },
        "id": "1bMA6IAlRtQz",
        "outputId": "f2509300-e791-4120-8f1b-75bb3f04a3f6"
      },
      "source": [
        "# a python object (dict):\n",
        "x = {\"name\": \"John\", \"age\": 30, \"city\": \"New York\"}\n",
        "\n",
        "# convert into JSON\n",
        "y = json.dumps(x)\n",
        "\n",
        "# the result is a json string\n",
        "print(y)"
      ],
      "execution_count": 6,
      "outputs": [
        {
          "output_type": "stream",
          "name": "stdout",
          "text": [
            "{\"name\": \"John\", \"age\": 30, \"city\": \"New York\"}\n"
          ]
        }
      ]
    },
    {
      "cell_type": "markdown",
      "metadata": {
        "id": "ysIPDBUEUG0F"
      },
      "source": [
        "#### **You can convert Python objects of the following types, into json strings**\n",
        "\n",
        "- dict\n",
        "\n",
        "- list\n",
        "\n",
        "- tuple\n",
        "\n",
        "- string\n",
        "\n",
        "- int\n",
        "\n",
        "- float\n",
        "\n",
        "- True\n",
        "\n",
        "- False\n",
        "\n",
        "- None"
      ]
    },
    {
      "cell_type": "code",
      "metadata": {
        "colab": {
          "base_uri": "https://localhost:8080/"
        },
        "id": "LVBvUsInUnsU",
        "outputId": "fc50a50f-01af-41de-f28b-eb4fc473e351"
      },
      "source": [
        "print(json.dumps({\"name\": \"John\", \"age\": 30}))\n",
        "print(json.dumps([\"apple\", \"bananas\"]))\n",
        "print(json.dumps((\"apple\", \"bananas\")))\n",
        "print(json.dumps(\"Hello\"))\n",
        "print(json.dumps(42))\n",
        "print(json.dumps(31.76))\n",
        "print(json.dumps(True))\n",
        "print(json.dumps(False))\n",
        "print(json.dumps(None))"
      ],
      "execution_count": 7,
      "outputs": [
        {
          "output_type": "stream",
          "name": "stdout",
          "text": [
            "{\"name\": \"John\", \"age\": 30}\n",
            "[\"apple\", \"bananas\"]\n",
            "[\"apple\", \"bananas\"]\n",
            "\"Hello\"\n",
            "42\n",
            "31.76\n",
            "true\n",
            "false\n",
            "null\n"
          ]
        }
      ]
    },
    {
      "cell_type": "code",
      "metadata": {
        "colab": {
          "base_uri": "https://localhost:8080/"
        },
        "id": "Dkfjfa2HVyOD",
        "outputId": "20cf12cc-472b-4ceb-80a8-fa87cfa6587b"
      },
      "source": [
        "x = {\n",
        "    \"name\": \"John\",\n",
        "     \"age\": 30,\n",
        "     \"married\": True,\n",
        "     \"divorced\": False,\n",
        "     \"children\": (\"Ann\", \"Binny\"),\n",
        "     \"pets\": None,\n",
        "     \"cars\": [\n",
        "              {\"model\": \"BMW 238\", \"mpg\": 27.5},\n",
        "              {\"model\": \"Ford Edge\", \"mpg\": 24.1}\n",
        "     ]\n",
        "     }\n",
        "\n",
        "# use four indents to make it easier to read the result\n",
        "print(json.dumps(x, indent=4))"
      ],
      "execution_count": 8,
      "outputs": [
        {
          "output_type": "stream",
          "name": "stdout",
          "text": [
            "{\n",
            "    \"name\": \"John\",\n",
            "    \"age\": 30,\n",
            "    \"married\": true,\n",
            "    \"divorced\": false,\n",
            "    \"children\": [\n",
            "        \"Ann\",\n",
            "        \"Binny\"\n",
            "    ],\n",
            "    \"pets\": null,\n",
            "    \"cars\": [\n",
            "        {\n",
            "            \"model\": \"BMW 238\",\n",
            "            \"mpg\": 27.5\n",
            "        },\n",
            "        {\n",
            "            \"model\": \"Ford Edge\",\n",
            "            \"mpg\": 24.1\n",
            "        }\n",
            "    ]\n",
            "}\n"
          ]
        }
      ]
    },
    {
      "cell_type": "code",
      "metadata": {
        "colab": {
          "base_uri": "https://localhost:8080/"
        },
        "id": "6rofzEtMXX_f",
        "outputId": "b141df24-ab68-4439-cf3b-376dd7ad36cc"
      },
      "source": [
        "x = {\n",
        "    \"name\": \"John\",\n",
        "     \"age\": 30,\n",
        "     \"married\": True,\n",
        "     \"divorced\": False,\n",
        "     \"children\": (\"Ann\", \"Binny\"),\n",
        "     \"pets\": None,\n",
        "     \"cars\": [\n",
        "              {\"model\": \"BMW 238\", \"mpg\": 27.5},\n",
        "              {\"model\": \"Ford Edge\", \"mpg\": 24.1}\n",
        "     ]\n",
        "     }\n",
        "\n",
        "# use . and a space to seperate objects, and a space, a = and a space to seperate keys fom thier values:\n",
        "print(json.dumps(x, indent=4, separators=(\". \", \" = \")))"
      ],
      "execution_count": 11,
      "outputs": [
        {
          "output_type": "stream",
          "name": "stdout",
          "text": [
            "{\n",
            "    \"name\" = \"John\". \n",
            "    \"age\" = 30. \n",
            "    \"married\" = true. \n",
            "    \"divorced\" = false. \n",
            "    \"children\" = [\n",
            "        \"Ann\". \n",
            "        \"Binny\"\n",
            "    ]. \n",
            "    \"pets\" = null. \n",
            "    \"cars\" = [\n",
            "        {\n",
            "            \"model\" = \"BMW 238\". \n",
            "            \"mpg\" = 27.5\n",
            "        }. \n",
            "        {\n",
            "            \"model\" = \"Ford Edge\". \n",
            "            \"mpg\" = 24.1\n",
            "        }\n",
            "    ]\n",
            "}\n"
          ]
        }
      ]
    },
    {
      "cell_type": "markdown",
      "metadata": {
        "id": "grV5TGucTdMd"
      },
      "source": [
        "#### **Reference**\n",
        "\n",
        "- https://www.youtube.com/watch?v=k4jAuEa8gvo"
      ]
    }
  ]
}