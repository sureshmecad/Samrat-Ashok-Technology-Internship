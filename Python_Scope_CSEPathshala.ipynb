{
  "nbformat": 4,
  "nbformat_minor": 0,
  "metadata": {
    "colab": {
      "name": "Python Scope_CSEPathshala.ipynb",
      "provenance": [],
      "collapsed_sections": [],
      "authorship_tag": "ABX9TyMvDaPA9sQWJmY2wBU/w0oN",
      "include_colab_link": true
    },
    "kernelspec": {
      "name": "python3",
      "display_name": "Python 3"
    },
    "language_info": {
      "name": "python"
    }
  },
  "cells": [
    {
      "cell_type": "markdown",
      "metadata": {
        "id": "view-in-github",
        "colab_type": "text"
      },
      "source": [
        "<a href=\"https://colab.research.google.com/github/sureshmecad/Samrat-Ashok-Technology-Internship/blob/main/Python_Scope_CSEPathshala.ipynb\" target=\"_parent\"><img src=\"https://colab.research.google.com/assets/colab-badge.svg\" alt=\"Open In Colab\"/></a>"
      ]
    },
    {
      "cell_type": "markdown",
      "metadata": {
        "id": "8ekw6IHsiBTv"
      },
      "source": [
        "#### **Python Scope**\n",
        "\n",
        "- A variable is only available from inside the region is created called scope. "
      ]
    },
    {
      "cell_type": "markdown",
      "metadata": {
        "id": "x--3O9l7ifkt"
      },
      "source": [
        "#### **Local Scope**\n",
        "- A variable created inside a function belongs to the local scope of that function and can only be used inside that function."
      ]
    },
    {
      "cell_type": "code",
      "metadata": {
        "colab": {
          "base_uri": "https://localhost:8080/"
        },
        "id": "SkXds0cSVQzt",
        "outputId": "8f56cb0d-9c23-42e5-b6a5-fd19fa7968bd"
      },
      "source": [
        "def myfunc():\n",
        "  a = 23\n",
        "  print(a)\n",
        "\n",
        "myfunc()"
      ],
      "execution_count": 2,
      "outputs": [
        {
          "output_type": "stream",
          "name": "stdout",
          "text": [
            "23\n"
          ]
        }
      ]
    },
    {
      "cell_type": "code",
      "metadata": {
        "colab": {
          "base_uri": "https://localhost:8080/",
          "height": 221
        },
        "id": "uEDquXMdVySu",
        "outputId": "85ac99ee-580a-4659-af09-6a115eeb091b"
      },
      "source": [
        "def myfunc():\n",
        "  c = 23\n",
        "  print(c)\n",
        "\n",
        "myfunc()\n",
        "print(c)"
      ],
      "execution_count": 3,
      "outputs": [
        {
          "output_type": "stream",
          "name": "stdout",
          "text": [
            "23\n"
          ]
        },
        {
          "output_type": "error",
          "ename": "NameError",
          "evalue": "ignored",
          "traceback": [
            "\u001b[0;31m---------------------------------------------------------------------------\u001b[0m",
            "\u001b[0;31mNameError\u001b[0m                                 Traceback (most recent call last)",
            "\u001b[0;32m<ipython-input-3-61f50d9fd534>\u001b[0m in \u001b[0;36m<module>\u001b[0;34m()\u001b[0m\n\u001b[1;32m      4\u001b[0m \u001b[0;34m\u001b[0m\u001b[0m\n\u001b[1;32m      5\u001b[0m \u001b[0mmyfunc\u001b[0m\u001b[0;34m(\u001b[0m\u001b[0;34m)\u001b[0m\u001b[0;34m\u001b[0m\u001b[0;34m\u001b[0m\u001b[0m\n\u001b[0;32m----> 6\u001b[0;31m \u001b[0mprint\u001b[0m\u001b[0;34m(\u001b[0m\u001b[0mc\u001b[0m\u001b[0;34m)\u001b[0m\u001b[0;34m\u001b[0m\u001b[0;34m\u001b[0m\u001b[0m\n\u001b[0m",
            "\u001b[0;31mNameError\u001b[0m: name 'c' is not defined"
          ]
        }
      ]
    },
    {
      "cell_type": "markdown",
      "metadata": {
        "id": "ywleQqg6kFPw"
      },
      "source": [
        "- scope of c is local and is valid only inside function."
      ]
    },
    {
      "cell_type": "markdown",
      "metadata": {
        "id": "Tmvud0rYkYCi"
      },
      "source": [
        "#### **Global Scope**\n",
        "\n",
        "- A variable created in the main body of the python code is a global variable and belongs to the global scope.\n",
        "\n",
        "- Global variables are available from within any scope, global and local."
      ]
    },
    {
      "cell_type": "code",
      "metadata": {
        "colab": {
          "base_uri": "https://localhost:8080/"
        },
        "id": "-MxQ-ejIVyJo",
        "outputId": "996e96f7-2656-41f3-da65-e1c8c6d2600e"
      },
      "source": [
        "a = 23\n",
        "\n",
        "def myfunc():\n",
        "  print(a)\n",
        "\n",
        "myfunc()"
      ],
      "execution_count": 4,
      "outputs": [
        {
          "output_type": "stream",
          "name": "stdout",
          "text": [
            "23\n"
          ]
        }
      ]
    },
    {
      "cell_type": "code",
      "metadata": {
        "colab": {
          "base_uri": "https://localhost:8080/"
        },
        "id": "S4keXM85VyC8",
        "outputId": "8d39449a-0141-4386-9e31-6757d48c3116"
      },
      "source": [
        "c = 23\n",
        "\n",
        "def myfunc():\n",
        "  print(c)\n",
        "\n",
        "myfunc()\n",
        "print(c)"
      ],
      "execution_count": 5,
      "outputs": [
        {
          "output_type": "stream",
          "name": "stdout",
          "text": [
            "23\n",
            "23\n"
          ]
        }
      ]
    },
    {
      "cell_type": "markdown",
      "metadata": {
        "id": "nAE28ZEvlvXO"
      },
      "source": [
        "#### **Naming Variables**\n",
        "\n",
        "- If you operate with the same variable name inside and outside of a function, python will treat them as two seperate variables, one available in the global scope (outside the function) and one available in the local scope (inside the function):"
      ]
    },
    {
      "cell_type": "code",
      "metadata": {
        "colab": {
          "base_uri": "https://localhost:8080/"
        },
        "id": "jwfObZWzVyCX",
        "outputId": "a809743f-115b-4d19-d660-6e092024b032"
      },
      "source": [
        "a = 3\n",
        "\n",
        "def myfunc():\n",
        "  a = 2\n",
        "  print(a)\n",
        "\n",
        "myfunc()\n",
        "\n",
        "print(a)"
      ],
      "execution_count": 6,
      "outputs": [
        {
          "output_type": "stream",
          "name": "stdout",
          "text": [
            "2\n",
            "3\n"
          ]
        }
      ]
    },
    {
      "cell_type": "markdown",
      "metadata": {
        "id": "KJ-YOxI8nlxL"
      },
      "source": [
        "#### **Global Keyword**\n",
        "\n",
        "- If you need to create a global variable, but are stuck in the local scope, you can use the global keyword.\n",
        "\n",
        "- The global keyword makes the variable global."
      ]
    },
    {
      "cell_type": "code",
      "metadata": {
        "colab": {
          "base_uri": "https://localhost:8080/"
        },
        "id": "201uhWrMVx9Z",
        "outputId": "09702c72-4e32-4593-90c5-4c1f3ee43c9a"
      },
      "source": [
        "def myfunc():\n",
        "  global a\n",
        "  a = 4\n",
        "\n",
        "myfunc()\n",
        "\n",
        "print(a)"
      ],
      "execution_count": 7,
      "outputs": [
        {
          "output_type": "stream",
          "name": "stdout",
          "text": [
            "4\n"
          ]
        }
      ]
    },
    {
      "cell_type": "markdown",
      "metadata": {
        "id": "hzy0ktkboi_u"
      },
      "source": [
        "- To change the value of a global variable inside a function, refer to the variable by using the global keyword"
      ]
    },
    {
      "cell_type": "code",
      "metadata": {
        "colab": {
          "base_uri": "https://localhost:8080/"
        },
        "id": "Dl_Y10sLVx8v",
        "outputId": "5e8b2ff2-f77b-4c33-efe2-af62402b0a91"
      },
      "source": [
        "a = 3\n",
        "\n",
        "def myfunc():\n",
        "  global a\n",
        "  a = 2\n",
        "\n",
        "myfunc()\n",
        "\n",
        "print(a)"
      ],
      "execution_count": 8,
      "outputs": [
        {
          "output_type": "stream",
          "name": "stdout",
          "text": [
            "2\n"
          ]
        }
      ]
    },
    {
      "cell_type": "markdown",
      "metadata": {
        "id": "ap2qtx3kVsrn"
      },
      "source": [
        "#### **Reference**\n",
        "\n",
        "- https://www.youtube.com/watch?v=V8eFLm9ctVw"
      ]
    }
  ]
}