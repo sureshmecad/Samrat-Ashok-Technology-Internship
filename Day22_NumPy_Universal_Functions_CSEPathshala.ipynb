{
  "nbformat": 4,
  "nbformat_minor": 0,
  "metadata": {
    "colab": {
      "name": "Day22_NumPy Universal Functions_CSEPathshala.ipynb",
      "provenance": [],
      "collapsed_sections": [],
      "authorship_tag": "ABX9TyOCdtbbnFeI6HnyohlTKbVs",
      "include_colab_link": true
    },
    "kernelspec": {
      "name": "python3",
      "display_name": "Python 3"
    },
    "language_info": {
      "name": "python"
    }
  },
  "cells": [
    {
      "cell_type": "markdown",
      "metadata": {
        "id": "view-in-github",
        "colab_type": "text"
      },
      "source": [
        "<a href=\"https://colab.research.google.com/github/sureshmecad/Samrat-Ashok-Technology-Internship/blob/main/Day22_NumPy_Universal_Functions_CSEPathshala.ipynb\" target=\"_parent\"><img src=\"https://colab.research.google.com/assets/colab-badge.svg\" alt=\"Open In Colab\"/></a>"
      ]
    },
    {
      "cell_type": "markdown",
      "metadata": {
        "id": "FHX7GbLDTJAT"
      },
      "source": [
        "#### **What are ufuncs?**\n",
        "\n",
        "- ufuncs stands for \"Universal Functions\" and they are numpy functions that operates on the ndarray object."
      ]
    },
    {
      "cell_type": "markdown",
      "metadata": {
        "id": "3BiD3RNrTnyr"
      },
      "source": [
        "#### **Why use ufuncs?**\n",
        "\n",
        "- ufuncs are used to implement vectorization in NumPy which is way faster than iterating over elements.\n",
        "\n",
        "- They also provide broadcasting and additional methods like reduce, accumulate etc that are very helpful for computation.\n",
        "\n",
        "- ufuncs also take additional arguments like:\n",
        "\n",
        " - **where:** boolean array or condition defining where the operations should take place.\n",
        "\n",
        "  - **dtype:** defining the return type of elements.\n",
        "\n",
        "  - **Out:** output array where the return value should be copied."
      ]
    },
    {
      "cell_type": "markdown",
      "metadata": {
        "id": "XVUXyKyca-c3"
      },
      "source": [
        "#### **What is Vectorization?**\n",
        "\n",
        "- Converting iterative statements into a vector based operation is called vectorization\n",
        "\n",
        "- It is faster as modern CPUs are optimized for such operations.\n",
        "\n",
        "Add the Elements of Two Lists:\n",
        "\n",
        "List 1 : [1, 2, 3, 4]\n",
        "\n",
        "List 2 : [4, 5, 6, 7]\n",
        "\n",
        "One way of doing it is to iterate over both of the lists and then sum each element."
      ]
    },
    {
      "cell_type": "markdown",
      "metadata": {
        "id": "X0dJeXVtgQuN"
      },
      "source": [
        "##### **Without ufunc, we can use Python's built-in zip() method:**"
      ]
    },
    {
      "cell_type": "code",
      "metadata": {
        "id": "z-iY-2ZxHtSi",
        "colab": {
          "base_uri": "https://localhost:8080/"
        },
        "outputId": "b81f921b-3552-444a-8a3e-e28b0337ab44"
      },
      "source": [
        "x = [1, 2, 3, 4]\n",
        "y = [4, 5, 6, 7]\n",
        "\n",
        "z = []\n",
        "\n",
        "for i,j in zip(x,y):\n",
        "  z.append(i + j)\n",
        "\n",
        "print(z)"
      ],
      "execution_count": 1,
      "outputs": [
        {
          "output_type": "stream",
          "name": "stdout",
          "text": [
            "[5, 7, 9, 11]\n"
          ]
        }
      ]
    },
    {
      "cell_type": "markdown",
      "metadata": {
        "id": "GJF-QfvZtnp7"
      },
      "source": [
        "- NumPy has a ufunc for this, called **add(x,y)** that will produce the **same result**\n",
        "\n",
        "- **Example** with ufunc, we can use the add() function"
      ]
    },
    {
      "cell_type": "code",
      "metadata": {
        "id": "xRL-rs3ehaW9"
      },
      "source": [
        "import numpy as np"
      ],
      "execution_count": 2,
      "outputs": []
    },
    {
      "cell_type": "code",
      "metadata": {
        "colab": {
          "base_uri": "https://localhost:8080/"
        },
        "id": "r8GNiW6LSld4",
        "outputId": "858881bf-2a71-4cce-a2a6-0f8863294d0e"
      },
      "source": [
        "x = [1, 2, 3, 4]\n",
        "y = [4, 5, 6, 7]\n",
        "\n",
        "z = np.add(x,y)\n",
        "print(z)"
      ],
      "execution_count": 3,
      "outputs": [
        {
          "output_type": "stream",
          "name": "stdout",
          "text": [
            "[ 5  7  9 11]\n"
          ]
        }
      ]
    },
    {
      "cell_type": "markdown",
      "metadata": {
        "id": "zNq_Wd4CuTNE"
      },
      "source": [
        "#### **Create our own ufunc**\n",
        "\n",
        "##### **How to create our own ufunc?**\n",
        "\n",
        "- To create your own ufunc, you have to define a function, like we do with normal functions in python, then we add it to your NumPy ufunc library with the frompyfunc() method.\n",
        "\n",
        "##### **The frompyfuc() method takes the following arguments:**\n",
        "\n",
        " - **function:** the name of the function\n",
        "\n",
        " - **inputs:** the number of input arguments (arrays)\n",
        "\n",
        " - **outputs:** the number of output arrays"
      ]
    },
    {
      "cell_type": "code",
      "metadata": {
        "colab": {
          "base_uri": "https://localhost:8080/"
        },
        "id": "vqUS3DvkSlKR",
        "outputId": "6b884289-6348-48d7-cb48-e6d6c318e5e9"
      },
      "source": [
        "# create your own ufunc for addition\n",
        "\n",
        "def myadd(x, y):\n",
        "  return x+y\n",
        "\n",
        "myadd = np.frompyfunc(myadd, 2, 1)\n",
        "print(myadd([1,2,3,4], [5,6,7,8]))"
      ],
      "execution_count": 4,
      "outputs": [
        {
          "output_type": "stream",
          "name": "stdout",
          "text": [
            "[6 8 10 12]\n"
          ]
        }
      ]
    },
    {
      "cell_type": "markdown",
      "metadata": {
        "id": "nEq4UEizqwIj"
      },
      "source": [
        "#### **Check if a Function is a ufunc**\n",
        "\n",
        "- check the type of a function to check if it is a ufunc or not\n",
        "\n",
        "- A ufunc should return **<class 'numpy.ufunc'>**"
      ]
    },
    {
      "cell_type": "code",
      "metadata": {
        "colab": {
          "base_uri": "https://localhost:8080/"
        },
        "id": "s25DDoBSSlFw",
        "outputId": "b2e223dc-54e3-49e3-a1a6-b80a7e6169f5"
      },
      "source": [
        "# Check if a function is a ufunc\n",
        "\n",
        "print(type(np.add))"
      ],
      "execution_count": 5,
      "outputs": [
        {
          "output_type": "stream",
          "name": "stdout",
          "text": [
            "<class 'numpy.ufunc'>\n"
          ]
        }
      ]
    },
    {
      "cell_type": "markdown",
      "metadata": {
        "id": "IQkH13Wkr_Ij"
      },
      "source": [
        "- If it is **not a ufunc**, it will return another type, like this built-in NumPy function for **joining two or more arrays**"
      ]
    },
    {
      "cell_type": "code",
      "metadata": {
        "colab": {
          "base_uri": "https://localhost:8080/"
        },
        "id": "fxLCvLN4SlAI",
        "outputId": "b7e1c104-f104-4d9d-bb7b-45cec84f694e"
      },
      "source": [
        "# Check the type of another function: concatenate()\n",
        "\n",
        "print(type(np.concatenate))"
      ],
      "execution_count": 6,
      "outputs": [
        {
          "output_type": "stream",
          "name": "stdout",
          "text": [
            "<class 'function'>\n"
          ]
        }
      ]
    },
    {
      "cell_type": "markdown",
      "metadata": {
        "id": "KeNXrWbPs5av"
      },
      "source": [
        "- If the function is **not recognized** at all, it will return an **error**\n",
        "\n",
        "- **Example:** Check the type of something that doesnot exist. This will produce an error."
      ]
    },
    {
      "cell_type": "code",
      "metadata": {
        "colab": {
          "base_uri": "https://localhost:8080/",
          "height": 292
        },
        "id": "AlQFCZB6Sk-C",
        "outputId": "07943ea6-d3ed-4c02-8139-b9fef94c924d"
      },
      "source": [
        "print(type(np.xyz))"
      ],
      "execution_count": 7,
      "outputs": [
        {
          "output_type": "error",
          "ename": "AttributeError",
          "evalue": "ignored",
          "traceback": [
            "\u001b[0;31m---------------------------------------------------------------------------\u001b[0m",
            "\u001b[0;31mAttributeError\u001b[0m                            Traceback (most recent call last)",
            "\u001b[0;32m<ipython-input-7-bf8015b98bc7>\u001b[0m in \u001b[0;36m<module>\u001b[0;34m()\u001b[0m\n\u001b[0;32m----> 1\u001b[0;31m \u001b[0mprint\u001b[0m\u001b[0;34m(\u001b[0m\u001b[0mtype\u001b[0m\u001b[0;34m(\u001b[0m\u001b[0mnp\u001b[0m\u001b[0;34m.\u001b[0m\u001b[0mxyz\u001b[0m\u001b[0;34m)\u001b[0m\u001b[0;34m)\u001b[0m\u001b[0;34m\u001b[0m\u001b[0;34m\u001b[0m\u001b[0m\n\u001b[0m",
            "\u001b[0;32m/usr/local/lib/python3.7/dist-packages/numpy/__init__.py\u001b[0m in \u001b[0;36m__getattr__\u001b[0;34m(attr)\u001b[0m\n\u001b[1;32m    213\u001b[0m             \u001b[0;32melse\u001b[0m\u001b[0;34m:\u001b[0m\u001b[0;34m\u001b[0m\u001b[0;34m\u001b[0m\u001b[0m\n\u001b[1;32m    214\u001b[0m                 raise AttributeError(\"module {!r} has no attribute \"\n\u001b[0;32m--> 215\u001b[0;31m                                      \"{!r}\".format(__name__, attr))\n\u001b[0m\u001b[1;32m    216\u001b[0m \u001b[0;34m\u001b[0m\u001b[0m\n\u001b[1;32m    217\u001b[0m         \u001b[0;32mdef\u001b[0m \u001b[0m__dir__\u001b[0m\u001b[0;34m(\u001b[0m\u001b[0;34m)\u001b[0m\u001b[0;34m:\u001b[0m\u001b[0;34m\u001b[0m\u001b[0;34m\u001b[0m\u001b[0m\n",
            "\u001b[0;31mAttributeError\u001b[0m: module 'numpy' has no attribute 'xyz'"
          ]
        }
      ]
    },
    {
      "cell_type": "markdown",
      "metadata": {
        "id": "CvTUTMW0uYyU"
      },
      "source": [
        "- To test if the function is a ufunc in an if statement, use the **numpy.ufunc** value (or np.ufunc if you use np as an alias for numpy)\n",
        "\n",
        "- **Example:** use an if statement to check if the function is a ufunc or not:"
      ]
    },
    {
      "cell_type": "code",
      "metadata": {
        "colab": {
          "base_uri": "https://localhost:8080/"
        },
        "id": "u5hKUSXhSk9Y",
        "outputId": "67805f4c-85a9-49d1-d678-b71912f397b6"
      },
      "source": [
        "if type(np.add) == np.ufunc:\n",
        "  print('add is ufunc')\n",
        "\n",
        "else:\n",
        "  print('add is not ufunc')"
      ],
      "execution_count": 8,
      "outputs": [
        {
          "output_type": "stream",
          "name": "stdout",
          "text": [
            "add is ufunc\n"
          ]
        }
      ]
    },
    {
      "cell_type": "markdown",
      "metadata": {
        "id": "8M8ZRQ0dSdWe"
      },
      "source": [
        "### **Reference**\n",
        "\n",
        "- https://www.youtube.com/watch?v=5I_-FPSKPYI&list=PLzx-_kRo3HZtP3tWaieUPwAh9K4I00_6p&index=22"
      ]
    }
  ]
}