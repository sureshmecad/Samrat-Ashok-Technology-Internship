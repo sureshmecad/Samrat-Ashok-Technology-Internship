{
  "nbformat": 4,
  "nbformat_minor": 0,
  "metadata": {
    "colab": {
      "name": "Day23_Simple Arithmetic and Rounding Decimals in NumPy_CSEPathshala.ipynb",
      "provenance": [],
      "collapsed_sections": [],
      "authorship_tag": "ABX9TyMWRK4aqrL43zeloLwGT9le",
      "include_colab_link": true
    },
    "kernelspec": {
      "name": "python3",
      "display_name": "Python 3"
    },
    "language_info": {
      "name": "python"
    }
  },
  "cells": [
    {
      "cell_type": "markdown",
      "metadata": {
        "id": "view-in-github",
        "colab_type": "text"
      },
      "source": [
        "<a href=\"https://colab.research.google.com/github/sureshmecad/Samrat-Ashok-Technology-Internship/blob/main/Day23_Simple_Arithmetic_and_Rounding_Decimals_in_NumPy_CSEPathshala.ipynb\" target=\"_parent\"><img src=\"https://colab.research.google.com/assets/colab-badge.svg\" alt=\"Open In Colab\"/></a>"
      ]
    },
    {
      "cell_type": "markdown",
      "metadata": {
        "id": "35SdROzV2yuh"
      },
      "source": [
        "#### **Simple Arithmatic**\n",
        "\n",
        "- We could use **arithmatic operators +-/*** directly between numpy arrays. But an extension to it we have functions that can take any array-like objects e.g. lists, tuples etc and perform arithmatic conditionally.\n",
        "\n",
        "**Arithmatic Conditionally:** means that we can define conditions where the arithmatic operation should happen."
      ]
    },
    {
      "cell_type": "markdown",
      "metadata": {
        "id": "WMFeJx8JyBP_"
      },
      "source": [
        "#### **1) power()**\n",
        "\n",
        "  - The power functions rises the values from the first array to the power of the values of the second array and return the results in a new array."
      ]
    },
    {
      "cell_type": "code",
      "metadata": {
        "id": "TQQVui8lyCIq"
      },
      "source": [
        "import numpy as np"
      ],
      "execution_count": 1,
      "outputs": []
    },
    {
      "cell_type": "code",
      "metadata": {
        "colab": {
          "base_uri": "https://localhost:8080/"
        },
        "id": "bcUazJy72yFy",
        "outputId": "c2fe6f47-1fc2-470a-ee74-a181f621d045"
      },
      "source": [
        "arr1 = np.array([10, 20, 30, 4, 5, 6])\n",
        "arr2 = np.array([3, 5, 6, 8, 2, 3])\n",
        "\n",
        "newarr = np.power(arr1, arr2)\n",
        "print(newarr)"
      ],
      "execution_count": 3,
      "outputs": [
        {
          "output_type": "stream",
          "name": "stdout",
          "text": [
            "[     1000   3200000 729000000     65536        25       216]\n"
          ]
        }
      ]
    },
    {
      "cell_type": "markdown",
      "metadata": {
        "id": "vKglP-CdyLIO"
      },
      "source": [
        "#### **2) Remainder**\n",
        "\n",
        "- Both the **mod() and the remainder()** functions return the remainder of the values in the first array corresponding to the values in the second array and return the results in a new array."
      ]
    },
    {
      "cell_type": "code",
      "metadata": {
        "colab": {
          "base_uri": "https://localhost:8080/"
        },
        "id": "5-EE9SJm2x76",
        "outputId": "3630a8e8-a09c-4555-825f-f93186c78d7b"
      },
      "source": [
        "# Return the remainders\n",
        "\n",
        "arr1 = np.array([10, 20, 30, 40, 50, 60])\n",
        "arr2 = np.array([3, 7, 9, 8, 2, 33])\n",
        "\n",
        "newarr = np.mod(arr1, arr2)\n",
        "print(newarr)"
      ],
      "execution_count": 5,
      "outputs": [
        {
          "output_type": "stream",
          "name": "stdout",
          "text": [
            "[ 1  6  3  0  0 27]\n"
          ]
        }
      ]
    },
    {
      "cell_type": "markdown",
      "metadata": {
        "id": "MwGR1K0H0ih9"
      },
      "source": [
        "- we get the same result when using the remainder() function"
      ]
    },
    {
      "cell_type": "code",
      "metadata": {
        "colab": {
          "base_uri": "https://localhost:8080/"
        },
        "id": "9dHjQlP-2x3x",
        "outputId": "2ceace35-038b-49a4-b0a5-de2f24974526"
      },
      "source": [
        "# Return the remainders\n",
        "\n",
        "arr1 = np.array([10, 20, 30, 40, 50, 60])\n",
        "arr2 = np.array([3, 7, 9, 8, 2, 33])\n",
        "\n",
        "newarr = np.remainder(arr1, arr2)\n",
        "print(newarr)"
      ],
      "execution_count": 6,
      "outputs": [
        {
          "output_type": "stream",
          "name": "stdout",
          "text": [
            "[ 1  6  3  0  0 27]\n"
          ]
        }
      ]
    },
    {
      "cell_type": "markdown",
      "metadata": {
        "id": "7twTJMHo1G6_"
      },
      "source": [
        "#### **3) Quotient and Mod**\n",
        "\n",
        "- The **divmod()** function return **both the quotient and the mod**.\n",
        "\n",
        "- The return values is **two arrays**, the **first array** contains the **quotient** and the **second array** contains the **mod**."
      ]
    },
    {
      "cell_type": "code",
      "metadata": {
        "colab": {
          "base_uri": "https://localhost:8080/"
        },
        "id": "X3OR2zL22xz7",
        "outputId": "5b5bbf96-158e-4699-a683-d87e03a88d0a"
      },
      "source": [
        "# Return the quotient and mod\n",
        "\n",
        "arr1 = np.array([10, 20, 30, 40, 50, 60])\n",
        "arr2 = np.array([3, 7, 9, 8, 2, 33])\n",
        "\n",
        "newarr = np.divmod(arr1, arr2)\n",
        "print(newarr)"
      ],
      "execution_count": 7,
      "outputs": [
        {
          "output_type": "stream",
          "name": "stdout",
          "text": [
            "(array([ 3,  2,  3,  5, 25,  1]), array([ 1,  6,  3,  0,  0, 27]))\n"
          ]
        }
      ]
    },
    {
      "cell_type": "markdown",
      "metadata": {
        "id": "oMgPvmgY20t2"
      },
      "source": [
        "#### **4) Absolute Values**\n",
        "\n",
        "- Both the **absolute() and abs()** functions **do the same** absolute operation element-wise but we should use **absolute()** to avoid confusion with python's inbuilt **math.abs()**"
      ]
    },
    {
      "cell_type": "code",
      "metadata": {
        "colab": {
          "base_uri": "https://localhost:8080/"
        },
        "id": "CtRjnbVs2xzS",
        "outputId": "4c05d304-0b3d-4828-d027-1fbcfe0e1204"
      },
      "source": [
        "arr = np.array([-1, -2, 1, 2, 3, -4])\n",
        "newarr = np.absolute(arr)\n",
        "print(newarr)"
      ],
      "execution_count": 8,
      "outputs": [
        {
          "output_type": "stream",
          "name": "stdout",
          "text": [
            "[1 2 1 2 3 4]\n"
          ]
        }
      ]
    },
    {
      "cell_type": "markdown",
      "metadata": {
        "id": "qS9KRoso4l1D"
      },
      "source": [
        "#### **Rounding Decimals**\n",
        "\n",
        "There are primarily five ways of rounding off decimals in NumPy\n",
        "\n",
        " - Truncation\n",
        "\n",
        " - fix\n",
        "\n",
        " - rounding\n",
        "\n",
        " - floor\n",
        "\n",
        " - ceil"
      ]
    },
    {
      "cell_type": "markdown",
      "metadata": {
        "id": "0p8nYQUZ5JFG"
      },
      "source": [
        "##### **a) Truncation**\n",
        "\n",
        "- **Remove the decimals** and return the float number closest to **zero**. Use the **trunc() and fix()** functions."
      ]
    },
    {
      "cell_type": "code",
      "metadata": {
        "colab": {
          "base_uri": "https://localhost:8080/"
        },
        "id": "2H24Fol42xvh",
        "outputId": "19a52c1c-c297-4dbf-88d0-add9c4f84230"
      },
      "source": [
        "# Truncate elements of following array\n",
        "\n",
        "arr = np.trunc([-3.1666, 3.6667])\n",
        "print(arr)"
      ],
      "execution_count": 9,
      "outputs": [
        {
          "output_type": "stream",
          "name": "stdout",
          "text": [
            "[-3.  3.]\n"
          ]
        }
      ]
    },
    {
      "cell_type": "code",
      "metadata": {
        "colab": {
          "base_uri": "https://localhost:8080/"
        },
        "id": "4CJ4y0uG2xua",
        "outputId": "29595898-0ff5-472b-f78d-cbcd9181bb98"
      },
      "source": [
        "# fix elements of following array\n",
        "\n",
        "arr = np.fix([-3.1666, 3.6667])\n",
        "print(arr)"
      ],
      "execution_count": 10,
      "outputs": [
        {
          "output_type": "stream",
          "name": "stdout",
          "text": [
            "[-3.  3.]\n"
          ]
        }
      ]
    },
    {
      "cell_type": "markdown",
      "metadata": {
        "id": "ej6CkqRL7EG5"
      },
      "source": [
        "##### **b) Rounding**\n",
        "\n",
        "- The around() function increments preceding digit or decimal by 1\n",
        "\n",
        "- Example round off to 1 decimal point, 3.16666 is 3.2"
      ]
    },
    {
      "cell_type": "code",
      "metadata": {
        "colab": {
          "base_uri": "https://localhost:8080/"
        },
        "id": "SNjTjn_a2xq2",
        "outputId": "859f05cf-1998-40e1-de4d-40ba1bd02616"
      },
      "source": [
        "# Round off 3.1666 to 2 decimal places\n",
        "\n",
        "arr = np.around(3.1666, 2)\n",
        "print(arr)"
      ],
      "execution_count": 11,
      "outputs": [
        {
          "output_type": "stream",
          "name": "stdout",
          "text": [
            "3.17\n"
          ]
        }
      ]
    },
    {
      "cell_type": "markdown",
      "metadata": {
        "id": "uvqChScC9MKe"
      },
      "source": [
        "##### **c) Floor**\n",
        "\n",
        "- The **floor()** function rounds off decimal to nearest lower integer. E.g floor of 3.166 is 3"
      ]
    },
    {
      "cell_type": "code",
      "metadata": {
        "colab": {
          "base_uri": "https://localhost:8080/"
        },
        "id": "Z5EfRiae2xm5",
        "outputId": "c795db93-47aa-453c-9a42-197739b02349"
      },
      "source": [
        "# Floor the elements of following array\n",
        "\n",
        "arr = np.floor([-3.1666, 3.6667])\n",
        "print(arr)"
      ],
      "execution_count": 12,
      "outputs": [
        {
          "output_type": "stream",
          "name": "stdout",
          "text": [
            "[-4.  3.]\n"
          ]
        }
      ]
    },
    {
      "cell_type": "markdown",
      "metadata": {
        "id": "mDHU9mUB-KGy"
      },
      "source": [
        "- The **floor()** function returns floats, unlike the **trunc()** function who returns integers"
      ]
    },
    {
      "cell_type": "markdown",
      "metadata": {
        "id": "klDjO6Rw-lUw"
      },
      "source": [
        "##### **d) ceil**\n",
        "\n",
        "- The **ceil()** function rounds off decimal to **nearest upper integer**. E.g. ceil of **3.166 is 4**."
      ]
    },
    {
      "cell_type": "code",
      "metadata": {
        "colab": {
          "base_uri": "https://localhost:8080/"
        },
        "id": "f995L1mj-jSw",
        "outputId": "cb5d5fb6-9c43-4c4b-babd-f7b7bb4f49de"
      },
      "source": [
        "# Ceil the elements of following array\n",
        "\n",
        "arr = np.ceil([-3.1666, 3.6667])\n",
        "print(arr)"
      ],
      "execution_count": 13,
      "outputs": [
        {
          "output_type": "stream",
          "name": "stdout",
          "text": [
            "[-3.  4.]\n"
          ]
        }
      ]
    },
    {
      "cell_type": "markdown",
      "metadata": {
        "id": "1mX-tJc1yWnj"
      },
      "source": [
        "#### **Reference**\n",
        "\n",
        "- https://www.youtube.com/watch?v=15UW-DfuVbs&list=PLzx-_kRo3HZtP3tWaieUPwAh9K4I00_6p&index=24"
      ]
    }
  ]
}