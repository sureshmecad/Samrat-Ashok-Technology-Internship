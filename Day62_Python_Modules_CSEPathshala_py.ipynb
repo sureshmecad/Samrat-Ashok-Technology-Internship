{
  "nbformat": 4,
  "nbformat_minor": 0,
  "metadata": {
    "colab": {
      "name": "Day62_Python-Modules_CSEPathshala.py",
      "provenance": [],
      "collapsed_sections": [],
      "authorship_tag": "ABX9TyOhzKTyk+wDhx9qx0pqYuay",
      "include_colab_link": true
    },
    "kernelspec": {
      "name": "python3",
      "display_name": "Python 3"
    },
    "language_info": {
      "name": "python"
    }
  },
  "cells": [
    {
      "cell_type": "markdown",
      "metadata": {
        "id": "view-in-github",
        "colab_type": "text"
      },
      "source": [
        "<a href=\"https://colab.research.google.com/github/sureshmecad/Samrat-Ashok-Technology-Internship/blob/main/Day62_Python_Modules_CSEPathshala_py.ipynb\" target=\"_parent\"><img src=\"https://colab.research.google.com/assets/colab-badge.svg\" alt=\"Open In Colab\"/></a>"
      ]
    },
    {
      "cell_type": "markdown",
      "metadata": {
        "id": "4_kiNp6AQgSh"
      },
      "source": [
        "#### **PYTHON MODULES**"
      ]
    },
    {
      "cell_type": "markdown",
      "metadata": {
        "id": "-1Mu-KxOLdEo"
      },
      "source": [
        "**1) What is a Module?**\n",
        "\n",
        "- Consider a module to be the same as a code library.\n",
        "\n",
        "- A file containing a set of functions you want to include in your application.\n",
        "\n",
        "**2) Create a Module**\n",
        "\n",
        "- To create a module just **save the code** you want in a file with the file extension **.py:**"
      ]
    },
    {
      "cell_type": "code",
      "metadata": {
        "id": "PsvmIq2oLUFh"
      },
      "source": [
        "# Save this code in a file named mymodule.py\n",
        "\n",
        "def greeting(name):\n",
        "  print(\"Hello, \" + name)"
      ],
      "execution_count": 1,
      "outputs": []
    },
    {
      "cell_type": "markdown",
      "metadata": {
        "id": "chvUjNlCRdoS"
      },
      "source": [
        "**3) Use a Module**\n",
        "\n",
        "- Now we can use the module we just created, by using the import statement:"
      ]
    },
    {
      "cell_type": "code",
      "metadata": {
        "id": "pqs__SX1TnVa"
      },
      "source": [
        "import mymodule\n",
        "\n",
        "mymodule.greeting(\"Jonathan\")"
      ],
      "execution_count": null,
      "outputs": []
    },
    {
      "cell_type": "markdown",
      "metadata": {
        "id": "fnizJj3vShwZ"
      },
      "source": [
        "**4) Variables in Module**\n",
        "- The module can contain functions, as already described, but also variables of all types (arrays, dictionaries, objects etc):"
      ]
    },
    {
      "cell_type": "code",
      "metadata": {
        "id": "hbGe4HaTLTvR"
      },
      "source": [
        "# Save this code in the file mymodule.py\n",
        "person1 = {\n",
        "  \"name\": \"John\",\n",
        "  \"age\": 36,\n",
        "  \"country\": \"Norway\"\n",
        "}"
      ],
      "execution_count": null,
      "outputs": []
    },
    {
      "cell_type": "code",
      "metadata": {
        "id": "3Oup3T00LTrW"
      },
      "source": [
        "# Import the module named mymodule, and access the person1 dictionary:\n",
        "import mymodule\n",
        "\n",
        "a = mymodule.person1[\"age\"]\n",
        "print(a)"
      ],
      "execution_count": null,
      "outputs": []
    },
    {
      "cell_type": "markdown",
      "metadata": {
        "id": "bH1tBoFYS2ju"
      },
      "source": [
        "**5) Naming a Module**\n",
        "- You can name the module file whatever you like, but it must have the file extension .py\n",
        "\n",
        "**6) Re-naming a Module**\n",
        "- You can create an alias when you import a module, by using the as keyword:"
      ]
    },
    {
      "cell_type": "code",
      "metadata": {
        "id": "emsFAbMeLTnS"
      },
      "source": [
        "# Create an alias for mymodule called mx:\n",
        "import mymodule as mx\n",
        "\n",
        "a = mx.person1[\"age\"]\n",
        "print(a)"
      ],
      "execution_count": null,
      "outputs": []
    },
    {
      "cell_type": "markdown",
      "metadata": {
        "id": "zb8DckIoTFt-"
      },
      "source": [
        "**7) Built-in Modules**\n",
        "- There are several built-in modules in Python, which you can import whenever you like."
      ]
    },
    {
      "cell_type": "code",
      "metadata": {
        "id": "ahg1wwppLTji"
      },
      "source": [
        "# Import and use the platform module:\n",
        "import platform\n",
        "\n",
        "x = platform.system()\n",
        "print(x)"
      ],
      "execution_count": null,
      "outputs": []
    },
    {
      "cell_type": "markdown",
      "metadata": {
        "id": "jhEcbnC5TRbW"
      },
      "source": [
        "**8) Using the dir() Function**\n",
        "- There is a built-in function to list all the function names (or variable names) in a module. The dir() function:"
      ]
    },
    {
      "cell_type": "code",
      "metadata": {
        "id": "lk_OUFC0Jz8r"
      },
      "source": [
        "# List all the defined names belonging to the platform module:\n",
        "import platform\n",
        "\n",
        "x = dir(platform)\n",
        "print(x)"
      ],
      "execution_count": null,
      "outputs": []
    },
    {
      "cell_type": "markdown",
      "metadata": {
        "id": "atHMq-gQTf4b"
      },
      "source": [
        "**Note:** The **dir()** function can be used on all modules, also the ones you create yourself."
      ]
    },
    {
      "cell_type": "markdown",
      "metadata": {
        "id": "7eFEbt1FTuOx"
      },
      "source": [
        "**9) Import From Module**\n",
        "- You can choose to import only parts from a module, by using the from keyword."
      ]
    },
    {
      "cell_type": "code",
      "metadata": {
        "id": "7o3K6noLTz8p"
      },
      "source": [
        "# The module named mymodule has one function and one dictionary:\n",
        "def greeting(name):\n",
        "  print(\"Hello, \" + name)\n",
        "\n",
        "person1 = {\n",
        "  \"name\": \"John\",\n",
        "  \"age\": 36,\n",
        "  \"country\": \"Norway\"\n",
        "}"
      ],
      "execution_count": null,
      "outputs": []
    },
    {
      "cell_type": "markdown",
      "metadata": {
        "id": "7YoIjyktLOM6"
      },
      "source": [
        "#### **Reference**\n",
        "\n",
        "- https://www.youtube.com/watch?v=ZtrMqkmUR7E\n",
        "\n",
        "- https://www.w3schools.com/python/python_modules.asp"
      ]
    }
  ]
}