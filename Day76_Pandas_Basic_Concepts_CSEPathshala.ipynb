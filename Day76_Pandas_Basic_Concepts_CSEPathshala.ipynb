{
  "nbformat": 4,
  "nbformat_minor": 0,
  "metadata": {
    "colab": {
      "name": "Day76_Pandas Basic Concepts_CSEPathshala.ipynb",
      "provenance": [],
      "collapsed_sections": [],
      "authorship_tag": "ABX9TyNnquexK7k37LZCeu0ciRgB",
      "include_colab_link": true
    },
    "kernelspec": {
      "name": "python3",
      "display_name": "Python 3"
    },
    "language_info": {
      "name": "python"
    }
  },
  "cells": [
    {
      "cell_type": "markdown",
      "metadata": {
        "id": "view-in-github",
        "colab_type": "text"
      },
      "source": [
        "<a href=\"https://colab.research.google.com/github/sureshmecad/Samrat-Ashok-Technology-Internship/blob/main/Day76_Pandas_Basic_Concepts_CSEPathshala.ipynb\" target=\"_parent\"><img src=\"https://colab.research.google.com/assets/colab-badge.svg\" alt=\"Open In Colab\"/></a>"
      ]
    },
    {
      "cell_type": "markdown",
      "source": [
        "#### **Manipulating Tabular data using PANDAS**"
      ],
      "metadata": {
        "id": "rXnvYIK1as2X"
      }
    },
    {
      "cell_type": "markdown",
      "source": [
        "**PANDAS basic concepts**\n",
        "\n",
        "- Pandas is a python library used for working with datasets.\n",
        "\n",
        "- It has functions for analyzing, cleaning, exploring and manipulating data.\n",
        "\n",
        "- The name Pandas has a reference to both \"Panel Data\" and \"Python data analysis\"."
      ],
      "metadata": {
        "id": "qGLPq3Rebav7"
      }
    },
    {
      "cell_type": "markdown",
      "source": [
        "#### **Why use Pandas?**\n",
        "\n",
        "- Pandas allows us to analyze bigdata and make conclusions based on statistical theories.\n",
        "\n",
        "- Pandas can clean messy datasets and make them readble and relavent.\n",
        "\n",
        "- Relevant data is very important in data science.\n",
        "\n",
        "- **Data Science** is a branch of computer science where we study how to store, use and analyze data for deriving information from it."
      ],
      "metadata": {
        "id": "Xm0a8f-TnEwr"
      }
    },
    {
      "cell_type": "markdown",
      "source": [
        "#### **What can Pandas do?**\n",
        "\n",
        "- Pandas gives you answers about the data Like:\n",
        "\n",
        " - is there a correlation between two or more columns?\n",
        "\n",
        " - What is average value?\n",
        "\n",
        " - Max value?\n",
        "\n",
        " - Min value?\n",
        "\n",
        " - Pandas are also able to delete rows that are not revelant or contains wrong values, like empty or NULL values. This is called cleaning the data."
      ],
      "metadata": {
        "id": "Na4MtD_so4Nw"
      }
    },
    {
      "cell_type": "markdown",
      "source": [
        "#### **Where is the Pandas Codebase?**\n",
        "\n",
        "- The source code for Pandas is located at this github repository https://github.com/pandas-dev/pandas\n",
        "\n",
        "- **Github** enables many people to work on the same codebase."
      ],
      "metadata": {
        "id": "Nw9AqHWCslJq"
      }
    },
    {
      "cell_type": "markdown",
      "source": [
        "#### **Installation of Pandas**\n",
        "\n",
        "- If we have python and PIP already installed on a system, then installation of pandas is very easy. Install it using this command:\n",
        "\n",
        "      C:\\Users\\Your Name> pip install pandas\n",
        "\n",
        "- If this command fails, then use a python distribution that already has Pandas installed like, Anaconda, Spyder etc."
      ],
      "metadata": {
        "id": "QDpa7GZ4t1se"
      }
    },
    {
      "cell_type": "markdown",
      "source": [
        "**Import Pandas**\n",
        "- once pandas is installed, import it in our applications by adding the import keyword."
      ],
      "metadata": {
        "id": "f5FFtQZ3cngq"
      }
    },
    {
      "cell_type": "code",
      "execution_count": 1,
      "metadata": {
        "id": "ogewQONhZ4w7"
      },
      "outputs": [],
      "source": [
        "import pandas\n",
        "\n",
        "# Now pandas is imported and ready to use"
      ]
    },
    {
      "cell_type": "code",
      "source": [
        "mydataset = {'cars': [\"BMW\", \"Volvo\", \"Ford\"], \"Model Number\": [3,1,2]}\n",
        "myvar = pandas.DataFrame(mydataset)\n",
        "print(myvar)"
      ],
      "metadata": {
        "colab": {
          "base_uri": "https://localhost:8080/"
        },
        "id": "lQ901FblatxM",
        "outputId": "c91fdd48-9adb-4269-ddd8-4a915830e44a"
      },
      "execution_count": 2,
      "outputs": [
        {
          "output_type": "stream",
          "name": "stdout",
          "text": [
            "    cars  Model Number\n",
            "0    BMW             3\n",
            "1  Volvo             1\n",
            "2   Ford             2\n"
          ]
        }
      ]
    },
    {
      "cell_type": "markdown",
      "source": [
        "**pandas as pd**\n",
        "\n",
        "- pandas is usually imported under the pd alias\n",
        "\n",
        "- **alias:** In python alias are an alternate name for referring to the same thing.\n",
        "\n",
        "- create an alias with the **as** keyword while importing.\n",
        "\n",
        "      import pandas as pd\n",
        "\n",
        "- Now the pandas package can be referred to as **pd** instead of **pandas**"
      ],
      "metadata": {
        "id": "O8AN4w1YePCW"
      }
    },
    {
      "cell_type": "code",
      "source": [
        "import pandas as pd\n",
        "\n",
        "mydataset = {'cars': [\"BMW\", \"Volvo\", \"Ford\"], \"Model Number\": [3,1,2]}\n",
        "myvar = pd.DataFrame(mydataset)\n",
        "print(myvar)"
      ],
      "metadata": {
        "colab": {
          "base_uri": "https://localhost:8080/"
        },
        "id": "BlIf9VRXattu",
        "outputId": "a650f283-a11a-4f3e-c101-daddf6cb3f20"
      },
      "execution_count": 3,
      "outputs": [
        {
          "output_type": "stream",
          "name": "stdout",
          "text": [
            "    cars  Model Number\n",
            "0    BMW             3\n",
            "1  Volvo             1\n",
            "2   Ford             2\n"
          ]
        }
      ]
    },
    {
      "cell_type": "markdown",
      "source": [
        "**Key/Value Objects as Series**\n",
        "\n",
        "- we can also use a key/value object, like a dictionary, when creating a series."
      ],
      "metadata": {
        "id": "gYzD4P_4j-pN"
      }
    },
    {
      "cell_type": "code",
      "source": [
        "# create a simple Pandas Series from a dictionary\n",
        "\n",
        "import pandas as pd\n",
        "\n",
        "calories = {\"day1\": 420, \"day2\": 380, \"day3\": 390}\n",
        "myvar = pd.Series(calories)\n",
        "print(myvar)"
      ],
      "metadata": {
        "colab": {
          "base_uri": "https://localhost:8080/"
        },
        "id": "uoGVcuqjkiJQ",
        "outputId": "08032c7c-c8e3-4dfe-a526-8e87911c760b"
      },
      "execution_count": 4,
      "outputs": [
        {
          "output_type": "stream",
          "name": "stdout",
          "text": [
            "day1    420\n",
            "day2    380\n",
            "day3    390\n",
            "dtype: int64\n"
          ]
        }
      ]
    },
    {
      "cell_type": "markdown",
      "source": [
        "**Note:** The keys of the dictionary become the labels.\n",
        "\n",
        "- To select only some of the items in the dictionary, use the index argument and specify only the items you want to include in the series."
      ],
      "metadata": {
        "id": "Di587GjEloCu"
      }
    },
    {
      "cell_type": "code",
      "source": [
        "# create a series using only data from \"day1\" and \"day2\"\n",
        "\n",
        "calories = {\"day1\": 420, \"day2\": 380, \"day3\": 390}\n",
        "myvar = pd.Series(calories, index=[\"day1\", \"day2\"])\n",
        "print(myvar)"
      ],
      "metadata": {
        "colab": {
          "base_uri": "https://localhost:8080/"
        },
        "id": "eYVMGX-MmdNU",
        "outputId": "a7f00f75-301c-4076-e5a6-a0c190d150d5"
      },
      "execution_count": 5,
      "outputs": [
        {
          "output_type": "stream",
          "name": "stdout",
          "text": [
            "day1    420\n",
            "day2    380\n",
            "dtype: int64\n"
          ]
        }
      ]
    },
    {
      "cell_type": "markdown",
      "source": [
        "#### **Reference**\n",
        "\n",
        "- https://www.youtube.com/watch?v=I5TEl4zfFSU&list=PLzx-_kRo3HZtP3tWaieUPwAh9K4I00_6p&index=33"
      ],
      "metadata": {
        "id": "42KZF-qfalJP"
      }
    }
  ]
}