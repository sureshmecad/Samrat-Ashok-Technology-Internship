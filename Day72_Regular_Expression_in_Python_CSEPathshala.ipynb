{
  "nbformat": 4,
  "nbformat_minor": 0,
  "metadata": {
    "colab": {
      "name": "Day72_Regular Expression in Python_CSEPathshala.ipynb",
      "provenance": [],
      "collapsed_sections": [],
      "authorship_tag": "ABX9TyOdkX333QfAB+9KC/P6WQMp",
      "include_colab_link": true
    },
    "kernelspec": {
      "name": "python3",
      "display_name": "Python 3"
    },
    "language_info": {
      "name": "python"
    }
  },
  "cells": [
    {
      "cell_type": "markdown",
      "metadata": {
        "id": "view-in-github",
        "colab_type": "text"
      },
      "source": [
        "<a href=\"https://colab.research.google.com/github/sureshmecad/Samrat-Ashok-Technology-Internship/blob/main/Day72_Regular_Expression_in_Python_CSEPathshala.ipynb\" target=\"_parent\"><img src=\"https://colab.research.google.com/assets/colab-badge.svg\" alt=\"Open In Colab\"/></a>"
      ]
    },
    {
      "cell_type": "markdown",
      "source": [
        "#### **PythonRegEx**\n",
        "\n",
        "- A RegEx or regular expression is a sequence of characters that forms a search pattern.\n",
        "\n",
        "- RegEx can be used to check if a string contains the specified search pattern."
      ],
      "metadata": {
        "id": "6Eil0pJb_C_7"
      }
    },
    {
      "cell_type": "markdown",
      "source": [
        "#### **RegEx Module**\n",
        "\n",
        "- python has a built-in package called re which can be used to work with regular expressions"
      ],
      "metadata": {
        "id": "8b8x8E9SAOLI"
      }
    },
    {
      "cell_type": "code",
      "metadata": {
        "id": "uiyb0YUkSPFb",
        "colab": {
          "base_uri": "https://localhost:8080/"
        },
        "outputId": "53252cc9-c786-4542-d016-81ac84996af2"
      },
      "source": [
        "import re\n",
        "\n",
        "# check if string starts with \"The\" and ends with \"Spain\"\n",
        "\n",
        "txt = \"The rain in Spain\"\n",
        "x = re.search(\"^The.*Spain$\", txt)\n",
        "\n",
        "if x:\n",
        "  print(\"YES! we have a match!\")\n",
        "else:\n",
        "  print(\"No match\")"
      ],
      "execution_count": 2,
      "outputs": [
        {
          "output_type": "stream",
          "name": "stdout",
          "text": [
            "YES! we have a match!\n"
          ]
        }
      ]
    },
    {
      "cell_type": "code",
      "source": [
        "import re\n",
        "\n",
        "# check if string starts with \"The\" and ends with \"Spain\"\n",
        "\n",
        "txt = \"The rain in India\"\n",
        "x = re.search(\"^The.*Spain$\", txt)\n",
        "\n",
        "if x:\n",
        "  print(\"YES! we have a match!\")\n",
        "else:\n",
        "  print(\"No match\")"
      ],
      "metadata": {
        "colab": {
          "base_uri": "https://localhost:8080/"
        },
        "id": "1llnVRnhDCvC",
        "outputId": "5175b128-c290-496e-9375-2903644fd2f9"
      },
      "execution_count": 3,
      "outputs": [
        {
          "output_type": "stream",
          "name": "stdout",
          "text": [
            "No match\n"
          ]
        }
      ]
    },
    {
      "cell_type": "markdown",
      "source": [
        "#### **RegEx Functions**\n",
        "\n",
        "- The re module offers a set of functions that allows us to search a string for match.\n",
        "\n",
        " - **findall:**\tReturns a list containing all matches\n",
        "\n",
        " - **search:**\tReturns a Match object if there is a match anywhere in the string\n",
        "  \n",
        "  - **split:**\tReturns a list where the string has been split at each match\n",
        "\n",
        " - **sub:**\tReplaces one or many matches with a string"
      ],
      "metadata": {
        "id": "AhGJSN0MBzo7"
      }
    },
    {
      "cell_type": "markdown",
      "source": [
        "#### **Metacharacters**\n",
        "\n",
        "- Metacharacters are characters with a special meaning"
      ],
      "metadata": {
        "id": "FZtQLMFCB3Na"
      }
    },
    {
      "cell_type": "code",
      "source": [
        "txt = \"The rain in Spain\"\n",
        "\n",
        "# Find all lower case characters alphabetically between \"a\" and \"m\"\n",
        "\n",
        "x = re.findall(\"[a-m]\", txt)\n",
        "print(x)"
      ],
      "metadata": {
        "colab": {
          "base_uri": "https://localhost:8080/"
        },
        "id": "8wRF_6lBErrW",
        "outputId": "dcc2bd3b-2244-481e-c2dc-90a564018696"
      },
      "execution_count": 4,
      "outputs": [
        {
          "output_type": "stream",
          "name": "stdout",
          "text": [
            "['h', 'e', 'a', 'i', 'i', 'a', 'i']\n"
          ]
        }
      ]
    },
    {
      "cell_type": "code",
      "source": [
        "# check if string starts with \"hello\"\n",
        "\n",
        "txt = \"hello planet\"\n",
        "x = re.findall(\"^hello\", txt)\n",
        "\n",
        "if x:\n",
        "  print(\"YES, the string starts with 'hello'\")\n",
        "else:\n",
        "  print(\"No match\")"
      ],
      "metadata": {
        "colab": {
          "base_uri": "https://localhost:8080/"
        },
        "id": "CtN-aHybEsPu",
        "outputId": "e894cf7e-487f-4fa7-cf6b-8f52f2ccecc6"
      },
      "execution_count": 6,
      "outputs": [
        {
          "output_type": "stream",
          "name": "stdout",
          "text": [
            "YES, the string starts with 'hello'\n"
          ]
        }
      ]
    },
    {
      "cell_type": "code",
      "source": [
        "# check if string ends with \"planet\"\n",
        "\n",
        "txt = \"hello planet\"\n",
        "x = re.findall(\"planet$\", txt)\n",
        "\n",
        "if x:\n",
        "  print(\"YES, the string ends with 'planet'\")\n",
        "else:\n",
        "  print(\"No match\")"
      ],
      "metadata": {
        "colab": {
          "base_uri": "https://localhost:8080/"
        },
        "id": "uqlp3nM_EsDf",
        "outputId": "9fea9125-342d-4567-da79-a5531a12ee5c"
      },
      "execution_count": 7,
      "outputs": [
        {
          "output_type": "stream",
          "name": "stdout",
          "text": [
            "YES, the string ends with 'planet'\n"
          ]
        }
      ]
    },
    {
      "cell_type": "code",
      "source": [
        "txt = \"hello planet\"\n",
        "\n",
        "# search for a sequence that starts with \"he\", followed by o or more (any) characers and an \"o\"\n",
        "\n",
        "x = re.findall(\"he.*o\", txt)\n",
        "print(x)"
      ],
      "metadata": {
        "colab": {
          "base_uri": "https://localhost:8080/"
        },
        "id": "uY1oOylUHJ4J",
        "outputId": "961d3152-1422-4b34-a80f-fe5bb92945c9"
      },
      "execution_count": 11,
      "outputs": [
        {
          "output_type": "stream",
          "name": "stdout",
          "text": [
            "['hello']\n"
          ]
        }
      ]
    },
    {
      "cell_type": "markdown",
      "source": [
        "#### **The findall() Function**\n",
        "\n",
        "- The findall() function returns a list containing all matches"
      ],
      "metadata": {
        "id": "QX2jd5PWJ6V5"
      }
    },
    {
      "cell_type": "code",
      "source": [
        "# Print a list of all matches\n",
        "# return a list containing every occurrence of \"ai\"\n",
        "\n",
        "txt = \"The rain in Spain\"\n",
        "x = re.findall(\"ai\", txt)\n",
        "print(x)"
      ],
      "metadata": {
        "colab": {
          "base_uri": "https://localhost:8080/"
        },
        "id": "qVvId4xoJi3c",
        "outputId": "63572bea-4779-49c1-e690-f9c3a1312494"
      },
      "execution_count": 12,
      "outputs": [
        {
          "output_type": "stream",
          "name": "stdout",
          "text": [
            "['ai', 'ai']\n"
          ]
        }
      ]
    },
    {
      "cell_type": "markdown",
      "source": [
        "- The list contains the matches in the order they are found.\n",
        "\n",
        "- If no matches are found, an empty list is returned"
      ],
      "metadata": {
        "id": "XPsDWN2qKZuK"
      }
    },
    {
      "cell_type": "code",
      "source": [
        "txt = \"The rain in Spain\"\n",
        "\n",
        "# check if \"Portugal\" is in the string\n",
        "\n",
        "x = re.findall(\"Portugal\", txt)\n",
        "print(x)\n",
        "\n",
        "if x:\n",
        "  print(\"YES, there is atleast one match!\")\n",
        "else:\n",
        "  print(\"No match\")"
      ],
      "metadata": {
        "colab": {
          "base_uri": "https://localhost:8080/"
        },
        "id": "-s7gGFH8Jizl",
        "outputId": "c52a85a4-dc16-46ba-bbcb-bf7decd589fe"
      },
      "execution_count": 13,
      "outputs": [
        {
          "output_type": "stream",
          "name": "stdout",
          "text": [
            "[]\n",
            "No match\n"
          ]
        }
      ]
    },
    {
      "cell_type": "markdown",
      "source": [
        "#### **The search() Function**\n",
        "\n",
        "- The search() function searches the string for a match, and returns a Match object if there is a match.\n",
        "\n",
        "- If there is more than one match, only the first occurrence of the match will be returned"
      ],
      "metadata": {
        "id": "pFcqlle1LXKI"
      }
    },
    {
      "cell_type": "code",
      "source": [
        "txt = \"The rain in Spain\"\n",
        "\n",
        "x = re.search(\"\\s\", txt)\n",
        "\n",
        "print(\"The first white-space character is located in position:\", x.start())"
      ],
      "metadata": {
        "colab": {
          "base_uri": "https://localhost:8080/"
        },
        "id": "5xRSi1GaLcHv",
        "outputId": "0b3c06c3-e89b-48e7-f6c5-231ae35ab398"
      },
      "execution_count": 14,
      "outputs": [
        {
          "output_type": "stream",
          "name": "stdout",
          "text": [
            "The first white-space character is located in position: 3\n"
          ]
        }
      ]
    },
    {
      "cell_type": "code",
      "source": [
        "# if no matches are found, the value None is returned\n",
        "\n",
        "txt = \"The rain in Spain\"\n",
        "x = re.search(\"Portugal\", txt)\n",
        "print(x)"
      ],
      "metadata": {
        "colab": {
          "base_uri": "https://localhost:8080/"
        },
        "id": "nYuE5N-SLoMm",
        "outputId": "58462d43-245a-41f2-910b-13d374e1f583"
      },
      "execution_count": 15,
      "outputs": [
        {
          "output_type": "stream",
          "name": "stdout",
          "text": [
            "None\n"
          ]
        }
      ]
    },
    {
      "cell_type": "markdown",
      "source": [
        "#### **The split() Function**\n",
        "\n",
        "- The split() function returns a list where the string has been split at each match"
      ],
      "metadata": {
        "id": "ggQ5zscRL9I2"
      }
    },
    {
      "cell_type": "code",
      "source": [
        "txt = \"The rain in Spain\"\n",
        "\n",
        "# split the string at every white-space character\n",
        "\n",
        "x = re.split(\"\\s\", txt)\n",
        "print(x)"
      ],
      "metadata": {
        "colab": {
          "base_uri": "https://localhost:8080/"
        },
        "id": "TZQoqtvlMBVv",
        "outputId": "e9ed427b-6dd9-44a6-869c-1d26a8e49660"
      },
      "execution_count": 16,
      "outputs": [
        {
          "output_type": "stream",
          "name": "stdout",
          "text": [
            "['The', 'rain', 'in', 'Spain']\n"
          ]
        }
      ]
    },
    {
      "cell_type": "markdown",
      "source": [
        "- You can control the number of occurrences by specifying the maxsplit parameter"
      ],
      "metadata": {
        "id": "N2zfE_6GMZLM"
      }
    },
    {
      "cell_type": "markdown",
      "source": [
        "#### **The sub() Function**\n",
        "\n",
        "- The sub() function replaces the matches with the text of your choice"
      ],
      "metadata": {
        "id": "IlpnyFyaMaac"
      }
    },
    {
      "cell_type": "code",
      "source": [
        "# replace all white-space characters with the digit \"9\"\n",
        "\n",
        "txt = \"The rain in Spain\"\n",
        "x = re.sub(\"\\s\", \"9\", txt)\n",
        "print(x)"
      ],
      "metadata": {
        "colab": {
          "base_uri": "https://localhost:8080/"
        },
        "id": "wlOEqp21MhuE",
        "outputId": "af5f1627-c21d-4084-8f18-56a375b98f9b"
      },
      "execution_count": 17,
      "outputs": [
        {
          "output_type": "stream",
          "name": "stdout",
          "text": [
            "The9rain9in9Spain\n"
          ]
        }
      ]
    },
    {
      "cell_type": "markdown",
      "source": [
        "- You can control the number of replacements by specifying the count parameter"
      ],
      "metadata": {
        "id": "XGsrwsTLM_u2"
      }
    },
    {
      "cell_type": "code",
      "source": [
        "# Replace the first 2 occurrences\n",
        "\n",
        "txt = \"The rain in Spain\"\n",
        "x = re.sub(\"\\s\", \"9\", txt, 2)\n",
        "print(x)"
      ],
      "metadata": {
        "colab": {
          "base_uri": "https://localhost:8080/"
        },
        "id": "k42fG5EkNFfs",
        "outputId": "2ace5cac-d6cb-4b3b-8565-2db8366582dd"
      },
      "execution_count": 18,
      "outputs": [
        {
          "output_type": "stream",
          "name": "stdout",
          "text": [
            "The9rain9in Spain\n"
          ]
        }
      ]
    },
    {
      "cell_type": "markdown",
      "metadata": {
        "id": "BZiOrXpFSgyV"
      },
      "source": [
        "#### **Reference**\n",
        "\n",
        "- https://www.youtube.com/watch?v=9ShlhteitfI\n",
        "\n",
        "- https://www.w3schools.com/python/python_regex.asp"
      ]
    }
  ]
}