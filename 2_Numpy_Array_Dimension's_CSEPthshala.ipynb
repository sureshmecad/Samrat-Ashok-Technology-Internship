{
  "nbformat": 4,
  "nbformat_minor": 0,
  "metadata": {
    "colab": {
      "name": "2_Numpy Array Dimension's_CSEPthshala.ipynb",
      "provenance": [],
      "collapsed_sections": [],
      "authorship_tag": "ABX9TyP/j6D0Mzv6NjoqGId2B75l",
      "include_colab_link": true
    },
    "kernelspec": {
      "name": "python3",
      "display_name": "Python 3"
    },
    "language_info": {
      "name": "python"
    }
  },
  "cells": [
    {
      "cell_type": "markdown",
      "metadata": {
        "id": "view-in-github",
        "colab_type": "text"
      },
      "source": [
        "<a href=\"https://colab.research.google.com/github/sureshmecad/Samrat-Ashok-Technology-Internship/blob/main/2_Numpy_Array_Dimension's_CSEPthshala.ipynb\" target=\"_parent\"><img src=\"https://colab.research.google.com/assets/colab-badge.svg\" alt=\"Open In Colab\"/></a>"
      ]
    },
    {
      "cell_type": "markdown",
      "metadata": {
        "id": "pqx60wGEcdFb"
      },
      "source": [
        "* [1) Numpy Array creation](#1)\n",
        "\n",
        "   * [1.1) List](#1.1)\n",
        "\n",
        "   * [1.2) Tuple](#1.2)\n",
        "\n",
        "   * [1.3) Set](#1.3)\n",
        "\n",
        "   * [1.4) Dictionary](#1.4)\n",
        "\n",
        "* [2) Dimensions in Arrays](#2)\n",
        "\n",
        "   * [2.1) 0-D Arrays (or) Scalars](#2.1)\n",
        "\n",
        "   * [2.2) 1-D Arrays](#2.2)\n",
        "\n",
        "   * [2.3) 2-D Arrays](#2.3)\n",
        "\n",
        "   * [2.4) 3-D Arrays](#2.4)\n",
        "\n",
        "* [3) Check number of dimensions](#3)\n",
        "\n",
        "* [4) Higher Dimensional Arrays](#4)"
      ]
    },
    {
      "cell_type": "markdown",
      "metadata": {
        "id": "YNgxZLLqcM1K"
      },
      "source": [
        "- NumPy is used to work with arrays\n",
        "\n",
        "- The array object in NumPy is called ndarray\n",
        "\n",
        "- We can create a NumPy ndarray object by using the array() function\n"
      ]
    },
    {
      "cell_type": "markdown",
      "metadata": {
        "id": "-TqtiiEFcwpt"
      },
      "source": [
        "------------------"
      ]
    },
    {
      "cell_type": "code",
      "metadata": {
        "id": "08OzxBO5ttm1"
      },
      "source": [
        "import numpy as np"
      ],
      "execution_count": 19,
      "outputs": []
    },
    {
      "cell_type": "markdown",
      "metadata": {
        "id": "1CGWL6XFdmRT"
      },
      "source": [
        "### **1) NumPy Array Creation**\n"
      ]
    },
    {
      "cell_type": "markdown",
      "metadata": {
        "id": "phhH7C-4e4pg"
      },
      "source": [
        "- **type():** This built-in python function tells the type of the object passed to it.\n",
        "\n",
        "- To create an **ndarray**, we can pass a **list, tuple** or any array-like object into the array() method and it will be converted into an ndarray.\n"
      ]
    },
    {
      "cell_type": "markdown",
      "metadata": {
        "id": "Wxslegvg4QC8"
      },
      "source": [
        "##### **1.1) List**"
      ]
    },
    {
      "cell_type": "code",
      "metadata": {
        "colab": {
          "base_uri": "https://localhost:8080/"
        },
        "id": "NDBUvSwayY4l",
        "outputId": "a7a34665-5f2e-4fe5-a630-f7632e7477ce"
      },
      "source": [
        "list = [1,2,3,4,5]\n",
        "\n",
        "arr = np.array(list)\n",
        "print(arr)\n",
        "print(type(arr))"
      ],
      "execution_count": 3,
      "outputs": [
        {
          "output_type": "stream",
          "name": "stdout",
          "text": [
            "[1 2 3 4 5]\n",
            "<class 'numpy.ndarray'>\n"
          ]
        }
      ]
    },
    {
      "cell_type": "code",
      "metadata": {
        "colab": {
          "base_uri": "https://localhost:8080/"
        },
        "id": "EnvY7U2D4u6H",
        "outputId": "559b2b02-810e-458b-ed7f-1d9ada5245a1"
      },
      "source": [
        "list1 = [1,2,3,4,5]\n",
        "list2 = [6,7,8,9,10]\n",
        "list3 = [11,12,13,14,15]\n",
        "\n",
        "arr = np.array([list1, list2, list3])\n",
        "print(arr)\n",
        "print(type(arr))"
      ],
      "execution_count": 4,
      "outputs": [
        {
          "output_type": "stream",
          "name": "stdout",
          "text": [
            "[[ 1  2  3  4  5]\n",
            " [ 6  7  8  9 10]\n",
            " [11 12 13 14 15]]\n",
            "<class 'numpy.ndarray'>\n"
          ]
        }
      ]
    },
    {
      "cell_type": "markdown",
      "metadata": {
        "id": "hGrAV7Q-4TRj"
      },
      "source": [
        "##### **1.2) tuple**"
      ]
    },
    {
      "cell_type": "code",
      "metadata": {
        "colab": {
          "base_uri": "https://localhost:8080/"
        },
        "id": "d_h7Se5pyY0f",
        "outputId": "281cc803-607b-4770-9c49-196ade683aae"
      },
      "source": [
        "tuple = (1,2,3,4,5)\n",
        "\n",
        "arr = np.array(tuple)\n",
        "print(arr)\n",
        "print(type(arr))"
      ],
      "execution_count": 5,
      "outputs": [
        {
          "output_type": "stream",
          "name": "stdout",
          "text": [
            "[1 2 3 4 5]\n",
            "<class 'numpy.ndarray'>\n"
          ]
        }
      ]
    },
    {
      "cell_type": "markdown",
      "metadata": {
        "id": "IMIXN0nO5th4"
      },
      "source": [
        "##### **1.3) set**"
      ]
    },
    {
      "cell_type": "code",
      "metadata": {
        "colab": {
          "base_uri": "https://localhost:8080/"
        },
        "id": "CQ1rQXBxyYwN",
        "outputId": "d69986db-1785-4685-9372-e5a0cb31cc74"
      },
      "source": [
        "set = {1,2,3,4,5}\n",
        "\n",
        "arr = np.array(set)\n",
        "print(arr)\n",
        "print(type(arr))"
      ],
      "execution_count": 6,
      "outputs": [
        {
          "output_type": "stream",
          "name": "stdout",
          "text": [
            "{1, 2, 3, 4, 5}\n",
            "<class 'numpy.ndarray'>\n"
          ]
        }
      ]
    },
    {
      "cell_type": "markdown",
      "metadata": {
        "id": "zRSZHrwK768U"
      },
      "source": [
        "##### **1.4) dictionary**"
      ]
    },
    {
      "cell_type": "code",
      "metadata": {
        "colab": {
          "base_uri": "https://localhost:8080/"
        },
        "id": "8vmMstrxyYpV",
        "outputId": "0f560956-a6c3-490b-d98f-9fbfbfdaa4f7"
      },
      "source": [
        "dic = {\"Name\":\"Nirmal\", \"Surname\":\"Gaud\"}\n",
        "\n",
        "arr = np.array(dic)\n",
        "print(arr)\n",
        "print(type(arr))"
      ],
      "execution_count": 7,
      "outputs": [
        {
          "output_type": "stream",
          "name": "stdout",
          "text": [
            "{'Name': 'Nirmal', 'Surname': 'Gaud'}\n",
            "<class 'numpy.ndarray'>\n"
          ]
        }
      ]
    },
    {
      "cell_type": "markdown",
      "metadata": {
        "id": "avNsrY-Z-w9H"
      },
      "source": [
        "### **2) Dimensions in Arrays**"
      ]
    },
    {
      "cell_type": "markdown",
      "metadata": {
        "id": "4PBLWwcs-2YG"
      },
      "source": [
        "- A dimension in arrays is one level of array depth (nested arrays)\n",
        "\n",
        "- Nested array are arrays that have arrays as their elements"
      ]
    },
    {
      "cell_type": "markdown",
      "metadata": {
        "id": "HBnkbjMZZqRe"
      },
      "source": [
        "##### **2.1) 0-D Arrays (or) Scalars**\n",
        "\n",
        "- 0-D arrays or Scalars, are the elements in an array. Each value in an array is a 0-D array.\n",
        "\n",
        "- Create a 0-D array with value 10"
      ]
    },
    {
      "cell_type": "code",
      "metadata": {
        "colab": {
          "base_uri": "https://localhost:8080/"
        },
        "id": "3K_Jp6JO7-rE",
        "outputId": "766d9bb6-eb8b-4c5e-d403-ec2c106499d8"
      },
      "source": [
        "arr = np.array(10)\n",
        "print(arr)\n",
        "print(type(arr))"
      ],
      "execution_count": 8,
      "outputs": [
        {
          "output_type": "stream",
          "name": "stdout",
          "text": [
            "10\n",
            "<class 'numpy.ndarray'>\n"
          ]
        }
      ]
    },
    {
      "cell_type": "markdown",
      "metadata": {
        "id": "g0MMRnQ6AWWB"
      },
      "source": [
        "##### **2.2) 1-D Arrays:**\n",
        "\n",
        "- An array that has 0-D arrays as its elements is called unidimensional or 1-D array. There are the most common and basic arrays.\n",
        "\n",
        "- create a 1-D array containing the values 6,7,8,9,10"
      ]
    },
    {
      "cell_type": "code",
      "metadata": {
        "colab": {
          "base_uri": "https://localhost:8080/"
        },
        "id": "dGpq1lZ67_Dk",
        "outputId": "4f26513f-0533-4bb1-bddc-b8bbdaf56c19"
      },
      "source": [
        "arr = np.array(dic)\n",
        "print(arr)\n",
        "print(type(arr))"
      ],
      "execution_count": 9,
      "outputs": [
        {
          "output_type": "stream",
          "name": "stdout",
          "text": [
            "[ 6  7  8  9 10]\n",
            "<class 'numpy.ndarray'>\n"
          ]
        }
      ]
    },
    {
      "cell_type": "markdown",
      "metadata": {
        "id": "E1c4nbZtCNzm"
      },
      "source": [
        "##### **2.3) 2-D Arrays:**\n",
        "\n",
        "- An array that has 1-D arrays as its elements is called a 2-D array. These are often used to represent matrix or 2nd order tensors. NumPy has a whole sub module dedicated towards matrix operations called numpy.mat\n",
        "\n",
        "- create a 2-D array containing two arrays with the values 1,2,3 and 4,5,5"
      ]
    },
    {
      "cell_type": "code",
      "metadata": {
        "colab": {
          "base_uri": "https://localhost:8080/"
        },
        "id": "Qc541QeR7-8j",
        "outputId": "11de75da-e554-4c11-f0f7-3f9910734558"
      },
      "source": [
        "arr = np.array([[1,2,3],[4,5,6]])\n",
        "print(arr)\n",
        "print(type(arr))"
      ],
      "execution_count": 11,
      "outputs": [
        {
          "output_type": "stream",
          "name": "stdout",
          "text": [
            "[[1 2 3]\n",
            " [4 5 6]]\n",
            "<class 'numpy.ndarray'>\n"
          ]
        }
      ]
    },
    {
      "cell_type": "code",
      "metadata": {
        "colab": {
          "base_uri": "https://localhost:8080/"
        },
        "id": "VYaS7fLiBz4U",
        "outputId": "c819dad6-6aad-4665-9f54-832561360ff0"
      },
      "source": [
        "set1 = {1,2}\n",
        "set2 = {3,4}\n",
        "\n",
        "arr = np.array([set1, set2])\n",
        "print(arr)\n",
        "print(type(arr))"
      ],
      "execution_count": 12,
      "outputs": [
        {
          "output_type": "stream",
          "name": "stdout",
          "text": [
            "[{1, 2} {3, 4}]\n",
            "<class 'numpy.ndarray'>\n"
          ]
        }
      ]
    },
    {
      "cell_type": "markdown",
      "metadata": {
        "id": "s5fQEed2ZapO"
      },
      "source": [
        "##### **2.4) 3-D Arrays:**\n",
        "\n",
        "- An array that has 2-D arrays (matrices) as its elements is called 3-D array. These are often used to represent a 3rd order tensor.\n",
        "\n",
        "- Create a 3-D array with two 2-D arrays both containing two arrays with the values 1,2,3 and 4,5,6."
      ]
    },
    {
      "cell_type": "code",
      "metadata": {
        "colab": {
          "base_uri": "https://localhost:8080/"
        },
        "id": "WTRbSQroD1pc",
        "outputId": "60a0a480-f2ec-43ba-9eca-fa094ef75eab"
      },
      "source": [
        "arr = np.array([[[1,2,3],[4,5,6]],[[1,2,3],[4,5,6]]])\n",
        "print(arr)\n",
        "print(type(arr))"
      ],
      "execution_count": 13,
      "outputs": [
        {
          "output_type": "stream",
          "name": "stdout",
          "text": [
            "[[[1 2 3]\n",
            "  [4 5 6]]\n",
            "\n",
            " [[1 2 3]\n",
            "  [4 5 6]]]\n",
            "<class 'numpy.ndarray'>\n"
          ]
        }
      ]
    },
    {
      "cell_type": "code",
      "metadata": {
        "colab": {
          "base_uri": "https://localhost:8080/"
        },
        "id": "1VgityXbD1gc",
        "outputId": "4c7b12b2-492e-4e2c-d302-efb709215585"
      },
      "source": [
        "list1 = [1,2,3]\n",
        "list2 = [4,5,6]\n",
        "\n",
        "arr = np.array([[list1, list2]])\n",
        "print(arr)\n",
        "print(type(arr))"
      ],
      "execution_count": 14,
      "outputs": [
        {
          "output_type": "stream",
          "name": "stdout",
          "text": [
            "[[[1 2 3]\n",
            "  [4 5 6]]]\n",
            "<class 'numpy.ndarray'>\n"
          ]
        }
      ]
    },
    {
      "cell_type": "markdown",
      "metadata": {
        "id": "-AwIyFgzF9mY"
      },
      "source": [
        "#### **3) Check number of dimensions**"
      ]
    },
    {
      "cell_type": "markdown",
      "metadata": {
        "id": "Sic84HffHJbA"
      },
      "source": [
        "- **Numpy arrays** provides the **ndim** attribute that returns an integer that tells us **how many dimensions** the arrays have."
      ]
    },
    {
      "cell_type": "code",
      "metadata": {
        "colab": {
          "base_uri": "https://localhost:8080/"
        },
        "id": "0p7uig0gF9-u",
        "outputId": "4e488bad-9d9d-4740-e82a-02a9a69ab56b"
      },
      "source": [
        "a = np.array(42)\n",
        "b = np.array([1,2,3,4,5])\n",
        "c = np.array([[1,2,3],[4,5,6]])\n",
        "d = np.array([[[1,2,3],[4,5,6]],[[1,2,3],[4,5,6]]])\n",
        "\n",
        "print(\"Dimension of a is:\", a.ndim)\n",
        "print(\"Dimension of b is:\", b.ndim)\n",
        "print(\"Dimension of c is:\", c.ndim)\n",
        "print(\"Dimension of d is:\", d.ndim)"
      ],
      "execution_count": 15,
      "outputs": [
        {
          "output_type": "stream",
          "name": "stdout",
          "text": [
            "Dimension of a is: 0\n",
            "Dimension of b is: 1\n",
            "Dimension of c is: 2\n",
            "Dimension of d is: 3\n"
          ]
        }
      ]
    },
    {
      "cell_type": "markdown",
      "metadata": {
        "id": "-EHkvsT7FiJ1"
      },
      "source": [
        "#### **4) Higher Dimensional Arrays**"
      ]
    },
    {
      "cell_type": "markdown",
      "metadata": {
        "id": "kxDRv-8hIxYf"
      },
      "source": [
        "- An array can have any number of dimensions. When the array is created you can define the **number of dimensions** by using the **ndmin** argument. Create an array with 5 dimensions and verify that it has 5 dimensions."
      ]
    },
    {
      "cell_type": "code",
      "metadata": {
        "colab": {
          "base_uri": "https://localhost:8080/"
        },
        "id": "gQuN-m6sFpwG",
        "outputId": "f3560a62-45f9-4d1a-8658-dd00ebf5adc5"
      },
      "source": [
        "arr = np.array([1,2,3,4], ndmin=5)\n",
        "print(arr)\n",
        "print(\"number of dimensions:\", arr.ndim)"
      ],
      "execution_count": 17,
      "outputs": [
        {
          "output_type": "stream",
          "name": "stdout",
          "text": [
            "[[[[[1 2 3 4]]]]]\n",
            "number of dimensions: 5\n"
          ]
        }
      ]
    },
    {
      "cell_type": "code",
      "metadata": {
        "colab": {
          "base_uri": "https://localhost:8080/"
        },
        "id": "L1LvUP9zITLE",
        "outputId": "603abfaa-16ce-4f89-fbfe-89e5e968f8b5"
      },
      "source": [
        "arr = np.array([[1,2,3,4],[5,6,7,8]], ndmin=6)\n",
        "print(arr)\n",
        "print(\"number of dimensions:\", arr.ndim)"
      ],
      "execution_count": 18,
      "outputs": [
        {
          "output_type": "stream",
          "name": "stdout",
          "text": [
            "[[[[[[1 2 3 4]\n",
            "     [5 6 7 8]]]]]]\n",
            "number of dimensions: 6\n"
          ]
        }
      ]
    },
    {
      "cell_type": "markdown",
      "metadata": {
        "id": "NMF_7NXPems7"
      },
      "source": [
        "### **Reference**"
      ]
    },
    {
      "cell_type": "markdown",
      "metadata": {
        "id": "aKYFhJaqJaVK"
      },
      "source": [
        "- https://www.youtube.com/watch?v=nCGvTmiRla0&list=PLzx-_kRo3HZtP3tWaieUPwAh9K4I00_6p&index=2 ---> Numpy Array Dimension's"
      ]
    }
  ]
}