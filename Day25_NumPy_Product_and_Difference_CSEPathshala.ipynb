{
  "nbformat": 4,
  "nbformat_minor": 0,
  "metadata": {
    "colab": {
      "name": "Day25_NumPy Product and Difference_CSEPathshala.ipynb",
      "provenance": [],
      "collapsed_sections": [],
      "authorship_tag": "ABX9TyOSOIYieakkal1cnMb8YJct",
      "include_colab_link": true
    },
    "kernelspec": {
      "name": "python3",
      "display_name": "Python 3"
    },
    "language_info": {
      "name": "python"
    }
  },
  "cells": [
    {
      "cell_type": "markdown",
      "metadata": {
        "id": "view-in-github",
        "colab_type": "text"
      },
      "source": [
        "<a href=\"https://colab.research.google.com/github/sureshmecad/Samrat-Ashok-Technology-Internship/blob/main/Day25_NumPy_Product_and_Difference_CSEPathshala.ipynb\" target=\"_parent\"><img src=\"https://colab.research.google.com/assets/colab-badge.svg\" alt=\"Open In Colab\"/></a>"
      ]
    },
    {
      "cell_type": "markdown",
      "metadata": {
        "id": "-mhZ7W2Nwb02"
      },
      "source": [
        "### **NumPy Product and Difference**"
      ]
    },
    {
      "cell_type": "markdown",
      "metadata": {
        "id": "Es-f2u7XN4dg"
      },
      "source": [
        "#### **1) Products**\n",
        "\n",
        "- To find the product of the elements in an array, use the **prod()** function"
      ]
    },
    {
      "cell_type": "code",
      "metadata": {
        "id": "CSUX1Bo7OZfs"
      },
      "source": [
        "import numpy as np"
      ],
      "execution_count": 1,
      "outputs": []
    },
    {
      "cell_type": "code",
      "metadata": {
        "colab": {
          "base_uri": "https://localhost:8080/"
        },
        "id": "wZigUWDivYLx",
        "outputId": "48506025-1d3c-4299-8676-6537dc46e20e"
      },
      "source": [
        "# Find the product of the elements of this array\n",
        "\n",
        "arr = np.array([1, 2, 3, 4])\n",
        "x = np.prod(arr)\n",
        "print(x)"
      ],
      "execution_count": 4,
      "outputs": [
        {
          "output_type": "stream",
          "name": "stdout",
          "text": [
            "24\n"
          ]
        }
      ]
    },
    {
      "cell_type": "code",
      "metadata": {
        "colab": {
          "base_uri": "https://localhost:8080/"
        },
        "id": "ydUaf7sRwbQs",
        "outputId": "18a8c67e-7b47-4e8f-88bc-9b8b6eb75950"
      },
      "source": [
        "# Find the product of the elements of two arrays\n",
        "\n",
        "arr1 = np.array([1, 2, 3, 4])\n",
        "arr2 = np.array([5, 6, 7, 8])\n",
        "\n",
        "x = np.prod([arr1, arr2])\n",
        "print(x)"
      ],
      "execution_count": 5,
      "outputs": [
        {
          "output_type": "stream",
          "name": "stdout",
          "text": [
            "40320\n"
          ]
        }
      ]
    },
    {
      "cell_type": "markdown",
      "metadata": {
        "id": "faV9xpxUP-7R"
      },
      "source": [
        "#### **Product over an axis**\n",
        "\n",
        "- If we specify axis=1, NumPy will return the product of each array"
      ]
    },
    {
      "cell_type": "code",
      "metadata": {
        "colab": {
          "base_uri": "https://localhost:8080/"
        },
        "id": "7Mi_rMc4wbNN",
        "outputId": "9a09dd2c-2ed7-4e7a-cbc2-e67f95798995"
      },
      "source": [
        "# Perform product in the following array over 1st axis\n",
        "\n",
        "arr1 = np.array([1, 2, 3, 4])\n",
        "arr2 = np.array([5, 6, 7, 8])\n",
        "\n",
        "newarr = np.prod([arr1, arr2], axis=1)\n",
        "print(newarr)"
      ],
      "execution_count": 6,
      "outputs": [
        {
          "output_type": "stream",
          "name": "stdout",
          "text": [
            "[  24 1680]\n"
          ]
        }
      ]
    },
    {
      "cell_type": "markdown",
      "metadata": {
        "id": "CpEgsfn9RQws"
      },
      "source": [
        "#### **Cumulative Product**\n",
        "\n",
        "- Cumulative product means taking the product partially.\n",
        "\n",
        "- e.g. The partial product of [1, 2, 3, 4] is [1, 1*2, 1*2*3, 1*2*3*4] = [1, 2, 6, 24]\n",
        "\n",
        "- Perform partial sum with the cumprod() function"
      ]
    },
    {
      "cell_type": "code",
      "metadata": {
        "colab": {
          "base_uri": "https://localhost:8080/"
        },
        "id": "Afu_9ZBZwbJ3",
        "outputId": "1117bd68-dc29-418b-fca2-79142c81466c"
      },
      "source": [
        "# Take cumulative product of all elements for following array\n",
        "\n",
        "arr = np.array([5, 6, 7, 8])\n",
        "\n",
        "newarr = np.cumprod(arr)\n",
        "print(newarr)"
      ],
      "execution_count": 7,
      "outputs": [
        {
          "output_type": "stream",
          "name": "stdout",
          "text": [
            "[   5   30  210 1680]\n"
          ]
        }
      ]
    },
    {
      "cell_type": "markdown",
      "metadata": {
        "id": "g_7kt-bkXDfY"
      },
      "source": [
        "#### **Differences**\n",
        "\n",
        "- A **discrete difference** means **subtracting two successive elements**.\n",
        "\n",
        "- e.g. for **[1, 2, 3, 4]**, the discrete difference would be **[2-1, 3-2, 4-3] = [1, 1, 1]**\n",
        "\n",
        "- To find the discrete difference, use the **diff()** function."
      ]
    },
    {
      "cell_type": "code",
      "metadata": {
        "id": "x3EKAhAQwbJM",
        "colab": {
          "base_uri": "https://localhost:8080/"
        },
        "outputId": "ccfd41ca-ce50-4f97-f9a8-4119117088c3"
      },
      "source": [
        "# Compute discrete difference of the following array\n",
        "\n",
        "arr = np.array([10, 15, 25, 5])\n",
        "newarr = np.diff(arr)\n",
        "print(newarr)"
      ],
      "execution_count": 2,
      "outputs": [
        {
          "output_type": "stream",
          "name": "stdout",
          "text": [
            "[  5  10 -20]\n"
          ]
        }
      ]
    },
    {
      "cell_type": "markdown",
      "metadata": {
        "id": "qHgYIVLx1M0l"
      },
      "source": [
        "- we can perform this operation repeatedly by giving parameter n\n",
        "\n",
        "- E.g for **[1, 2, 3, 4]**, the **discrete difference** with **n=2** would be **[2-1, 3-2, 4-3] = [1, 1, 1]** then, since n=2, we will do it once more, with the new result: **[1-1, 1-1] = [0, 0]**"
      ]
    },
    {
      "cell_type": "code",
      "metadata": {
        "id": "oBLlEPP8wa_E",
        "colab": {
          "base_uri": "https://localhost:8080/"
        },
        "outputId": "634f5008-7e38-4e55-ca23-5f82677ddeb5"
      },
      "source": [
        "# Compute discrete difference of the following array twice\n",
        "\n",
        "arr = np.array([10, 15, 25, 5])\n",
        "newarr = np.diff(arr, n=2)\n",
        "print(newarr)"
      ],
      "execution_count": 3,
      "outputs": [
        {
          "output_type": "stream",
          "name": "stdout",
          "text": [
            "[  5 -30]\n"
          ]
        }
      ]
    },
    {
      "cell_type": "markdown",
      "metadata": {
        "id": "Ssf6rCHJvh-0"
      },
      "source": [
        "#### **Reference**\n",
        "\n",
        "- https://www.youtube.com/watch?v=r3xl7Kigo_4&list=PLzx-_kRo3HZtP3tWaieUPwAh9K4I00_6p&index=25"
      ]
    }
  ]
}