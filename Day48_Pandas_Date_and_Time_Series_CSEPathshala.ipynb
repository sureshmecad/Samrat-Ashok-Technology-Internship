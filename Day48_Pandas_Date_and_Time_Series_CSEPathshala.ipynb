{
  "nbformat": 4,
  "nbformat_minor": 0,
  "metadata": {
    "colab": {
      "name": "Day48_Pandas Date and Time Series_CSEPathshala.ipynb",
      "provenance": [],
      "collapsed_sections": [],
      "authorship_tag": "ABX9TyPA+WMYLD/QwEDlY6YsQiVI",
      "include_colab_link": true
    },
    "kernelspec": {
      "name": "python3",
      "display_name": "Python 3"
    },
    "language_info": {
      "name": "python"
    }
  },
  "cells": [
    {
      "cell_type": "markdown",
      "metadata": {
        "id": "view-in-github",
        "colab_type": "text"
      },
      "source": [
        "<a href=\"https://colab.research.google.com/github/sureshmecad/Samrat-Ashok-Technology-Internship/blob/main/Day48_Pandas_Date_and_Time_Series_CSEPathshala.ipynb\" target=\"_parent\"><img src=\"https://colab.research.google.com/assets/colab-badge.svg\" alt=\"Open In Colab\"/></a>"
      ]
    },
    {
      "cell_type": "markdown",
      "metadata": {
        "id": "nwKWMv2Usr6f"
      },
      "source": [
        "**Specifying Datetime range as the index of a series**\n",
        "\n",
        "- Often we want to create a timeseries, such as running sequence of dates in a month. We could use the **date_range()** function for this purpose."
      ]
    },
    {
      "cell_type": "code",
      "metadata": {
        "id": "VIHV3h3psrry"
      },
      "source": [
        "import pandas as pd"
      ],
      "execution_count": 1,
      "outputs": []
    },
    {
      "cell_type": "code",
      "metadata": {
        "colab": {
          "base_uri": "https://localhost:8080/"
        },
        "id": "M_6O6U2dsrni",
        "outputId": "852733e2-f57d-4b9b-cf06-565f8def04e2"
      },
      "source": [
        "dates1 = pd.date_range('20210629', periods=12)\n",
        "print(dates1)"
      ],
      "execution_count": 2,
      "outputs": [
        {
          "output_type": "stream",
          "name": "stdout",
          "text": [
            "DatetimeIndex(['2021-06-29', '2021-06-30', '2021-07-01', '2021-07-02',\n",
            "               '2021-07-03', '2021-07-04', '2021-07-05', '2021-07-06',\n",
            "               '2021-07-07', '2021-07-08', '2021-07-09', '2021-07-10'],\n",
            "              dtype='datetime64[ns]', freq='D')\n"
          ]
        }
      ]
    },
    {
      "cell_type": "markdown",
      "metadata": {
        "id": "hzhsaBemuk4r"
      },
      "source": [
        "**To assign the range of dates as the index of a series, use the index property of the series**"
      ]
    },
    {
      "cell_type": "code",
      "metadata": {
        "colab": {
          "base_uri": "https://localhost:8080/"
        },
        "id": "1GLqtAADsrjh",
        "outputId": "431766e6-e417-4a62-aace-5f175e364f15"
      },
      "source": [
        "dates1 = pd.date_range('20210629', periods=12)\n",
        "series = pd.Series([1,2,3,4,5,6,7,8,9,10,11,12])\n",
        "series.index = dates1\n",
        "print(series)"
      ],
      "execution_count": 3,
      "outputs": [
        {
          "output_type": "stream",
          "name": "stdout",
          "text": [
            "2021-06-29     1\n",
            "2021-06-30     2\n",
            "2021-07-01     3\n",
            "2021-07-02     4\n",
            "2021-07-03     5\n",
            "2021-07-04     6\n",
            "2021-07-05     7\n",
            "2021-07-06     8\n",
            "2021-07-07     9\n",
            "2021-07-08    10\n",
            "2021-07-09    11\n",
            "2021-07-10    12\n",
            "Freq: D, dtype: int64\n"
          ]
        }
      ]
    },
    {
      "cell_type": "markdown",
      "metadata": {
        "id": "mUM64ZRjvgKo"
      },
      "source": [
        "**Date Ranges**\n",
        "\n",
        "- In the previous example, we saw how to create date ranges using the **date_range()** function.\n",
        "\n",
        "- The periods programmer specifies **how many dates** we want to create, and the **default frequency is D (Daily).**\n",
        "\n",
        "- If we want to change the **frequency to month** use the freq parameter and set it to **M**."
      ]
    },
    {
      "cell_type": "code",
      "metadata": {
        "colab": {
          "base_uri": "https://localhost:8080/"
        },
        "id": "Pjflizb0srfw",
        "outputId": "71c62dd9-6e04-45a0-8a2b-39051d3d1a3e"
      },
      "source": [
        "dates2 = pd.date_range('20210629', periods=12, freq='M')\n",
        "print(dates2)"
      ],
      "execution_count": 5,
      "outputs": [
        {
          "output_type": "stream",
          "name": "stdout",
          "text": [
            "DatetimeIndex(['2021-06-30', '2021-07-31', '2021-08-31', '2021-09-30',\n",
            "               '2021-10-31', '2021-11-30', '2021-12-31', '2022-01-31',\n",
            "               '2022-02-28', '2022-03-31', '2022-04-30', '2022-05-31'],\n",
            "              dtype='datetime64[ns]', freq='M')\n"
          ]
        }
      ]
    },
    {
      "cell_type": "markdown",
      "metadata": {
        "id": "QMMec1_AxnVT"
      },
      "source": [
        "- Notice that when the **frequency is set to month**, the **day** of each date will be the **last day of the month**. If we want the **date to start with the first day** of the monthset the **freq parameter to MS.**"
      ]
    },
    {
      "cell_type": "code",
      "metadata": {
        "colab": {
          "base_uri": "https://localhost:8080/"
        },
        "id": "bYW5xI-fshgE",
        "outputId": "005f2dbb-50d6-4472-9489-3288793a4cc9"
      },
      "source": [
        "dates2 = pd.date_range('20210629', periods=12, freq='MS')\n",
        "print(dates2)"
      ],
      "execution_count": 6,
      "outputs": [
        {
          "output_type": "stream",
          "name": "stdout",
          "text": [
            "DatetimeIndex(['2021-07-01', '2021-08-01', '2021-09-01', '2021-10-01',\n",
            "               '2021-11-01', '2021-12-01', '2022-01-01', '2022-02-01',\n",
            "               '2022-03-01', '2022-04-01', '2022-05-01', '2022-06-01'],\n",
            "              dtype='datetime64[ns]', freq='MS')\n"
          ]
        }
      ]
    },
    {
      "cell_type": "markdown",
      "metadata": {
        "id": "D1waGU7nyuwp"
      },
      "source": [
        "- Notice that pandas automatically interprets the date you specified. In this case, **2021-06-29** is interpreted as **29 June 2021**.\n",
        "\n",
        "- In **some regions developers**, will specify the date in the **dd-mm-yyyy** format. Thus to represent **29 June 2021**, we would specify it as follows:"
      ]
    },
    {
      "cell_type": "code",
      "metadata": {
        "colab": {
          "base_uri": "https://localhost:8080/"
        },
        "id": "dvadFK6gz2-G",
        "outputId": "9c6e69e1-9556-404d-c108-489f6224bece"
      },
      "source": [
        "dates2 = pd.date_range('29-06-2021', periods=12, freq='MS')\n",
        "print(dates2)"
      ],
      "execution_count": 7,
      "outputs": [
        {
          "output_type": "stream",
          "name": "stdout",
          "text": [
            "DatetimeIndex(['2021-07-01', '2021-08-01', '2021-09-01', '2021-10-01',\n",
            "               '2021-11-01', '2021-12-01', '2022-01-01', '2022-02-01',\n",
            "               '2022-03-01', '2022-04-01', '2022-05-01', '2022-06-01'],\n",
            "              dtype='datetime64[ns]', freq='MS')\n"
          ]
        }
      ]
    },
    {
      "cell_type": "code",
      "metadata": {
        "colab": {
          "base_uri": "https://localhost:8080/"
        },
        "id": "knaXYdky0aqE",
        "outputId": "559263a3-b8bc-4751-aadb-bb1fb835c1d6"
      },
      "source": [
        "dates2 = pd.date_range('2021-06-29', periods=12, freq='MS')\n",
        "print(dates2)"
      ],
      "execution_count": 8,
      "outputs": [
        {
          "output_type": "stream",
          "name": "stdout",
          "text": [
            "DatetimeIndex(['2021-07-01', '2021-08-01', '2021-09-01', '2021-10-01',\n",
            "               '2021-11-01', '2021-12-01', '2022-01-01', '2022-02-01',\n",
            "               '2022-03-01', '2022-04-01', '2022-05-01', '2022-06-01'],\n",
            "              dtype='datetime64[ns]', freq='MS')\n"
          ]
        }
      ]
    },
    {
      "cell_type": "markdown",
      "metadata": {
        "id": "9PoaXsl20sYr"
      },
      "source": [
        "- In addition to setting dates, you can also set time"
      ]
    },
    {
      "cell_type": "code",
      "metadata": {
        "colab": {
          "base_uri": "https://localhost:8080/"
        },
        "id": "M75Vu_8h056z",
        "outputId": "18df6c0e-2452-4304-d649-3a0b647b6d24"
      },
      "source": [
        "dates3 = pd.date_range('2021/06/29 09:00:00', periods=8, freq='H')\n",
        "print(dates3)"
      ],
      "execution_count": 9,
      "outputs": [
        {
          "output_type": "stream",
          "name": "stdout",
          "text": [
            "DatetimeIndex(['2021-06-29 09:00:00+00:00', '2021-06-29 10:00:00+00:00',\n",
            "               '2021-06-29 11:00:00+00:00', '2021-06-29 12:00:00+00:00',\n",
            "               '2021-06-29 13:00:00+00:00', '2021-06-29 14:00:00+00:00',\n",
            "               '2021-06-29 15:00:00+00:00', '2021-06-29 16:00:00+00:00'],\n",
            "              dtype='datetime64[ns, tzlocal()]', freq='H')\n"
          ]
        }
      ]
    },
    {
      "cell_type": "markdown",
      "metadata": {
        "id": "K1UUY2dGsmdA"
      },
      "source": [
        "#### **Reference**\n",
        "\n",
        "- https://www.youtube.com/watch?v=SwgxGxbVifI&list=PLzx-_kRo3HZtP3tWaieUPwAh9K4I00_6p&index=30"
      ]
    }
  ]
}