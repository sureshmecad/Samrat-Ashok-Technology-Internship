{
  "nbformat": 4,
  "nbformat_minor": 0,
  "metadata": {
    "colab": {
      "name": "Day28_NumPy Set Operations_CSEPathshala.ipynb",
      "provenance": [],
      "collapsed_sections": [],
      "authorship_tag": "ABX9TyP2mQqRI8jEgn5YBFF595Wk",
      "include_colab_link": true
    },
    "kernelspec": {
      "name": "python3",
      "display_name": "Python 3"
    },
    "language_info": {
      "name": "python"
    }
  },
  "cells": [
    {
      "cell_type": "markdown",
      "metadata": {
        "id": "view-in-github",
        "colab_type": "text"
      },
      "source": [
        "<a href=\"https://colab.research.google.com/github/sureshmecad/Samrat-Ashok-Technology-Internship/blob/main/Day28_NumPy_Set_Operations_CSEPathshala.ipynb\" target=\"_parent\"><img src=\"https://colab.research.google.com/assets/colab-badge.svg\" alt=\"Open In Colab\"/></a>"
      ]
    },
    {
      "cell_type": "markdown",
      "metadata": {
        "id": "aOQXC9Es6l0X"
      },
      "source": [
        "#### **What is a set?**\n",
        "\n",
        "- A **set** in mathematics is a collection of **unique elements**\n",
        "\n",
        "- **Sets** are used for operations involving frequent **intersection, union and difference operations**."
      ]
    },
    {
      "cell_type": "markdown",
      "metadata": {
        "id": "-4j42LxbExvV"
      },
      "source": [
        "#### **1) Create sets in NumPy**\n",
        "\n",
        "- We can use NumPy's **unique()** method to find **unique elements from any array**. E.g. create a set array, but remember that the set arrays should only be 1-D arrays. "
      ]
    },
    {
      "cell_type": "code",
      "metadata": {
        "id": "mPHfSq_lGZO1"
      },
      "source": [
        "import numpy as np"
      ],
      "execution_count": 1,
      "outputs": []
    },
    {
      "cell_type": "code",
      "metadata": {
        "id": "M-0j1Luc4qwc",
        "colab": {
          "base_uri": "https://localhost:8080/"
        },
        "outputId": "4d8d1429-25c0-40b1-fc25-ce4fdab7dad4"
      },
      "source": [
        "# Convert following array with repeated elements to a set\n",
        "\n",
        "arr = np.array([1, 1, 1, 2, 3, 4, 5, 5, 6, 7])\n",
        "x = np.unique(arr)\n",
        "print(x)"
      ],
      "execution_count": 2,
      "outputs": [
        {
          "output_type": "stream",
          "name": "stdout",
          "text": [
            "[1 2 3 4 5 6 7]\n"
          ]
        }
      ]
    },
    {
      "cell_type": "markdown",
      "metadata": {
        "id": "gAmdO1V9G-KV"
      },
      "source": [
        "#### **2) Finding Union**\n",
        "\n",
        "- To find the **unique** values of **two arrays**, use the **union1d()** method."
      ]
    },
    {
      "cell_type": "code",
      "metadata": {
        "id": "Ie9-D9TV6lGH",
        "colab": {
          "base_uri": "https://localhost:8080/"
        },
        "outputId": "04c2e03f-9d95-4bc4-fcb6-19e02236715d"
      },
      "source": [
        "# Find union of the following two set arrays\n",
        "\n",
        "arr1 = np.array([1, 2, 3, 4])\n",
        "arr2 = np.array([3, 4, 5, 6])\n",
        "newarr = np.union1d(arr1, arr2)\n",
        "print(newarr)"
      ],
      "execution_count": 4,
      "outputs": [
        {
          "output_type": "stream",
          "name": "stdout",
          "text": [
            "[1 2 3 4 5 6]\n"
          ]
        }
      ]
    },
    {
      "cell_type": "markdown",
      "metadata": {
        "id": "u8_uCgiKIYAy"
      },
      "source": [
        "#### **3) Finding Intersection**\n",
        "\n",
        "- To find only the values that are **present in both arrays**, use the **intersect1d()** method."
      ]
    },
    {
      "cell_type": "code",
      "metadata": {
        "id": "3gLzAv1X6kzn",
        "colab": {
          "base_uri": "https://localhost:8080/"
        },
        "outputId": "cbbefb31-cb19-4d15-f551-6b596cfd0a7e"
      },
      "source": [
        "# Find intersection of the following two set arrays\n",
        "\n",
        "arr1 = np.array([1, 2, 3, 4])\n",
        "arr2 = np.array([3, 4, 5, 6])\n",
        "newarr = np.intersect1d(arr1, arr2, assume_unique=True)\n",
        "print(newarr)"
      ],
      "execution_count": 5,
      "outputs": [
        {
          "output_type": "stream",
          "name": "stdout",
          "text": [
            "[3 4]\n"
          ]
        }
      ]
    },
    {
      "cell_type": "markdown",
      "metadata": {
        "id": "OxhjDMyEL_fp"
      },
      "source": [
        "**Note:**\n",
        "- the **intersect1d()** method takes an optional argument **assume_unique**, which if set to **True** can **speed up computation**.\n",
        "\n",
        "- It should always be set to **True** when **dealing with sets**."
      ]
    },
    {
      "cell_type": "markdown",
      "metadata": {
        "id": "F5U7tZT-M7Wo"
      },
      "source": [
        "#### **4) Finding Difference**\n",
        "\n",
        "- To find only the values in the **first set that is NOT present in the seconds set** use the **setdiff1d()** method."
      ]
    },
    {
      "cell_type": "code",
      "metadata": {
        "id": "xc-vDuu46kwX",
        "colab": {
          "base_uri": "https://localhost:8080/"
        },
        "outputId": "2c7d040f-096f-47f7-8041-d151b076bcf2"
      },
      "source": [
        "# Find the difference of the set1 from set2\n",
        "\n",
        "arr1 = np.array([1, 2, 3, 4])\n",
        "arr2 = np.array([3, 4, 5, 6])\n",
        "newarr = np.setdiff1d(arr1, arr2, assume_unique=True)\n",
        "print(newarr)"
      ],
      "execution_count": 6,
      "outputs": [
        {
          "output_type": "stream",
          "name": "stdout",
          "text": [
            "[1 2]\n"
          ]
        }
      ]
    },
    {
      "cell_type": "markdown",
      "metadata": {
        "id": "PSoYIFKVTjL0"
      },
      "source": [
        "**Note:** the **setdiff1d()** method takes an optional argument **assume_unique**, which if set to True can speed up computation. It should always be set to True when dealing with sets."
      ]
    },
    {
      "cell_type": "markdown",
      "metadata": {
        "id": "-xH9KKxCURcP"
      },
      "source": [
        "#### **5) Finding Symmetric Difference**\n",
        "\n",
        "- To find **only** the values that are **NOT** present in **BOTH sets**, use the **setxor1d()** method "
      ]
    },
    {
      "cell_type": "code",
      "metadata": {
        "id": "uK6sEX-U6kr_",
        "colab": {
          "base_uri": "https://localhost:8080/"
        },
        "outputId": "6c27ae2e-71b2-4563-e960-2f29d922cd31"
      },
      "source": [
        "# Find the symmetric difference of the set1 and set2\n",
        "\n",
        "arr1 = np.array([1, 2, 3, 4])\n",
        "arr2 = np.array([3, 4, 5, 6])\n",
        "newarr = np.setxor1d(arr1, arr2, assume_unique=True)\n",
        "print(newarr)"
      ],
      "execution_count": 7,
      "outputs": [
        {
          "output_type": "stream",
          "name": "stdout",
          "text": [
            "[1 2 5 6]\n"
          ]
        }
      ]
    },
    {
      "cell_type": "markdown",
      "metadata": {
        "id": "KY5At_t4VCkU"
      },
      "source": [
        "**Note:** the **setxor1d()** method takes an optional argument **assume_unique**, which if set to True can speed up computation. It should always be set to True when dealing with sets."
      ]
    },
    {
      "cell_type": "markdown",
      "metadata": {
        "id": "_WkAmAuw6egI"
      },
      "source": [
        "#### **Reference**\n",
        "\n",
        "- https://www.youtube.com/watch?v=tSkduMieU58&list=PLzx-_kRo3HZtP3tWaieUPwAh9K4I00_6p&index=28"
      ]
    }
  ]
}