{
  "nbformat": 4,
  "nbformat_minor": 0,
  "metadata": {
    "colab": {
      "name": "Day8_Numpy Array Sorting_CSCPathshala.ipynb",
      "provenance": [],
      "collapsed_sections": [],
      "authorship_tag": "ABX9TyMAxqjkROJYisCYGOpxkEuC",
      "include_colab_link": true
    },
    "kernelspec": {
      "name": "python3",
      "display_name": "Python 3"
    },
    "language_info": {
      "name": "python"
    }
  },
  "cells": [
    {
      "cell_type": "markdown",
      "metadata": {
        "id": "view-in-github",
        "colab_type": "text"
      },
      "source": [
        "<a href=\"https://colab.research.google.com/github/sureshmecad/Samrat-Ashok-Technology-Internship/blob/main/Day8_Numpy_Array_Sorting_CSCPathshala.ipynb\" target=\"_parent\"><img src=\"https://colab.research.google.com/assets/colab-badge.svg\" alt=\"Open In Colab\"/></a>"
      ]
    },
    {
      "cell_type": "code",
      "metadata": {
        "id": "bNf2ONCnfC51"
      },
      "source": [
        "import numpy as np"
      ],
      "execution_count": 1,
      "outputs": []
    },
    {
      "cell_type": "markdown",
      "metadata": {
        "id": "QD_QLCBl3RQy"
      },
      "source": [
        "- NumPy provides a number of efficient sorting functions that make it very easy to sort an array. The first function for sorting is **sort()**, which takes in an array and returns a sorted array."
      ]
    },
    {
      "cell_type": "code",
      "metadata": {
        "colab": {
          "base_uri": "https://localhost:8080/"
        },
        "id": "Cy4bpsF2mR3E",
        "outputId": "2b34e13c-ce84-420a-9f1d-3af9c6a2ea05"
      },
      "source": [
        "ages = np.array([34,12,37,5,13])\n",
        "sorted_ages = np.sort(ages)\n",
        "print(\"The sorted ages are:\", sorted_ages)\n",
        "print(\"The ages are:\", ages)"
      ],
      "execution_count": 2,
      "outputs": [
        {
          "output_type": "stream",
          "name": "stdout",
          "text": [
            "The sorted ages are: [ 5 12 13 34 37]\n",
            "The ages are: [34 12 37  5 13]\n"
          ]
        }
      ]
    },
    {
      "cell_type": "markdown",
      "metadata": {
        "id": "sV5sSCeL5uLX"
      },
      "source": [
        "- As we can see from the output, the **sort()** function **does not modify** the **original array**.\n",
        "\n",
        "- Instead it returns a sorted array. If we want to **sort the original array**, call the **sort() function** on the **array itself**. "
      ]
    },
    {
      "cell_type": "code",
      "metadata": {
        "colab": {
          "base_uri": "https://localhost:8080/"
        },
        "id": "RXiTYdubmR1k",
        "outputId": "67bca1e4-a492-4dce-bb1e-78a0d90a3383"
      },
      "source": [
        "ages = np.array([34,12,37,5,13])\n",
        "print(\"The ages are:\", ages)\n",
        "ages.sort()\n",
        "print(\"The sorted ages are:\", ages)"
      ],
      "execution_count": 3,
      "outputs": [
        {
          "output_type": "stream",
          "name": "stdout",
          "text": [
            "The ages are: [34 12 37  5 13]\n",
            "The sorted ages are: [ 5 12 13 34 37]\n"
          ]
        }
      ]
    },
    {
      "cell_type": "markdown",
      "metadata": {
        "id": "yWVnyA5B7OdI"
      },
      "source": [
        "#### **argsort()**\n",
        "\n",
        "- function returns the **indices** that will **sort an array**"
      ]
    },
    {
      "cell_type": "code",
      "metadata": {
        "colab": {
          "base_uri": "https://localhost:8080/"
        },
        "id": "6MN8H1x4mRy-",
        "outputId": "eb5fe8fb-5c19-4955-bd22-1403776b5230"
      },
      "source": [
        "ages = np.array([34,12,37,5,13])\n",
        "print(\"The index of the sorted ages are:\", ages.argsort())"
      ],
      "execution_count": 4,
      "outputs": [
        {
          "output_type": "stream",
          "name": "stdout",
          "text": [
            "The index of the sorted ages are: [3 1 4 0 2]\n"
          ]
        }
      ]
    },
    {
      "cell_type": "markdown",
      "metadata": {
        "id": "QAUoWCr18wKD"
      },
      "source": [
        "- The first element (3) in the result of the argsort() function means that the smallest element after the sort is in index 3 of the original array, which is the number 5. The next number is in index 1, which is the number 12 and so on."
      ]
    },
    {
      "cell_type": "markdown",
      "metadata": {
        "id": "6w26HAa7-V-m"
      },
      "source": [
        "|Descrption     | row1 | row2 | row3 | row4 | row5 |\n",
        "|---------------|------|------|------|------|------|\n",
        "|Array Indices  | 0    | 1    | 2    | 3    | 4    |\n",
        "|Array          | 34   | 12   | 37   | 5    | 13   |\n",
        "|Sort Indices   | 3    | 1    | 4    | 0    | 2    |\n",
        "|Sorted Array   | 5    | 12   | 13   | 34   | 37   |"
      ]
    },
    {
      "cell_type": "code",
      "metadata": {
        "colab": {
          "base_uri": "https://localhost:8080/"
        },
        "id": "KXYF5UazmRxy",
        "outputId": "37e47a85-48ff-44cc-8935-0861803afb48"
      },
      "source": [
        "ages = np.array([34,12,37,5,13])\n",
        "print(\"The sorted ages are:\", ages[ages.argsort()])"
      ],
      "execution_count": 5,
      "outputs": [
        {
          "output_type": "stream",
          "name": "stdout",
          "text": [
            "The sorted ages are: [ 5 12 13 34 37]\n"
          ]
        }
      ]
    },
    {
      "cell_type": "markdown",
      "metadata": {
        "id": "5m7Bd6wcD_vW"
      },
      "source": [
        "- What is the real use of argsort()? Imagine that we have three arrays representing a list of people, along with thier ages and heights. Suppose that we want to sort this group of people by age. If we simply sort the ages array by itself, the other two arrays would not be sorted correctly based on age. This is where argsort() comes in really handy. Once the sort indices are obtained simply feed them into the three arrays."
      ]
    },
    {
      "cell_type": "code",
      "metadata": {
        "colab": {
          "base_uri": "https://localhost:8080/"
        },
        "id": "IZxykklmmRu8",
        "outputId": "e9520ac5-04ec-4a07-c702-74f34bd8864b"
      },
      "source": [
        "persons = np.array(['Johny', 'Mary', 'Peter', 'Will', 'Joe'])\n",
        "ages = np.array([34,12,37,5,13])\n",
        "heights = np.array([1.76, 1.2, 1.68, 0.5, 1.25])\n",
        "sort_indices = np.argsort(ages)\n",
        "print(\"The sorted names wrt ages are:\", persons[sort_indices])\n",
        "print(\"The sorted ages are:\", ages[sort_indices])\n",
        "print(\"The sorted heights wrt ages are:\", heights[sort_indices])"
      ],
      "execution_count": 6,
      "outputs": [
        {
          "output_type": "stream",
          "name": "stdout",
          "text": [
            "The sorted names wrt ages are: ['Will' 'Mary' 'Joe' 'Johny' 'Peter']\n",
            "The sorted ages are: [ 5 12 13 34 37]\n",
            "The sorted heights wrt ages are: [0.5  1.2  1.25 1.76 1.68]\n"
          ]
        }
      ]
    },
    {
      "cell_type": "markdown",
      "metadata": {
        "id": "6j0rpioYJt8M"
      },
      "source": [
        "- They would now be sorted based on age. As we can see, Will is the youngest, followed by Mary, and so on. The corresponding height for each person would also be in the correct order. If we wish to sort based on name, then simply use argsort() on the persons array and feed the resulting indices into the three arrays."
      ]
    },
    {
      "cell_type": "code",
      "metadata": {
        "colab": {
          "base_uri": "https://localhost:8080/"
        },
        "id": "KCIX5AiUmRuE",
        "outputId": "acc19079-c02a-45f3-87b1-27e2da12a7e8"
      },
      "source": [
        "persons = np.array(['Johny', 'Mary', 'Peter', 'Will', 'Joe'])\n",
        "ages = np.array([34,12,37,5,13])\n",
        "heights = np.array([1.76, 1.2, 1.68, 0.5, 1.25])\n",
        "sort_indices = np.argsort(persons)\n",
        "print(\"The sorted names are:\", persons[sort_indices])\n",
        "print(\"The sorted ages wrt names are:\", ages[sort_indices])\n",
        "print(\"The sorted heights wrt names are:\", heights[sort_indices])"
      ],
      "execution_count": 7,
      "outputs": [
        {
          "output_type": "stream",
          "name": "stdout",
          "text": [
            "The sorted names are: ['Joe' 'Johny' 'Mary' 'Peter' 'Will']\n",
            "The sorted ages wrt names are: [13 34 12 37  5]\n",
            "The sorted heights wrt names are: [1.25 1.76 1.2  1.68 0.5 ]\n"
          ]
        }
      ]
    },
    {
      "cell_type": "markdown",
      "metadata": {
        "id": "Zt4SPjCRPcG3"
      },
      "source": [
        "- To reverse the order of the names and display them in descending order "
      ]
    },
    {
      "cell_type": "code",
      "metadata": {
        "colab": {
          "base_uri": "https://localhost:8080/"
        },
        "id": "VaIi_ro3mRrD",
        "outputId": "c9a632c7-2081-474b-b46a-06719dd30b80"
      },
      "source": [
        "persons = np.array(['Johny', 'Mary', 'Peter', 'Will', 'Joe'])\n",
        "ages = np.array([34,12,37,5,13])\n",
        "heights = np.array([1.76, 1.2, 1.68, 0.5, 1.25])\n",
        "reverse_sort_indices = np.argsort(persons)[::-1]\n",
        "print(\"The reverse sorted names are:\", persons[reverse_sort_indices])\n",
        "print(\"The reverse sorted ages wrt names are:\", ages[reverse_sort_indices])\n",
        "print(\"The reverse sorted heights wrt names are:\", heights[reverse_sort_indices])"
      ],
      "execution_count": 8,
      "outputs": [
        {
          "output_type": "stream",
          "name": "stdout",
          "text": [
            "The reverse sorted names are: ['Will' 'Peter' 'Mary' 'Johny' 'Joe']\n",
            "The reverse sorted ages wrt names are: [ 5 37 12 34 13]\n",
            "The reverse sorted heights wrt names are: [0.5  1.68 1.2  1.76 1.25]\n"
          ]
        }
      ]
    },
    {
      "cell_type": "markdown",
      "metadata": {
        "id": "dcQQjTydmGRk"
      },
      "source": [
        "#### **Reference**"
      ]
    },
    {
      "cell_type": "markdown",
      "metadata": {
        "id": "plq1ia--mJpT"
      },
      "source": [
        "- https://www.youtube.com/watch?v=Vo7NW098DSI&list=PLzx-_kRo3HZtP3tWaieUPwAh9K4I00_6p&index=8"
      ]
    }
  ]
}