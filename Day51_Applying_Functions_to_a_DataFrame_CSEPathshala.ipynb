{
  "nbformat": 4,
  "nbformat_minor": 0,
  "metadata": {
    "colab": {
      "name": "Day51_Applying Functions to a DataFrame_CSEPathshala.ipynb",
      "provenance": [],
      "collapsed_sections": [],
      "authorship_tag": "ABX9TyNU1bUzOEvAeBFxQDKm3Xol",
      "include_colab_link": true
    },
    "kernelspec": {
      "name": "python3",
      "display_name": "Python 3"
    },
    "language_info": {
      "name": "python"
    }
  },
  "cells": [
    {
      "cell_type": "markdown",
      "metadata": {
        "id": "view-in-github",
        "colab_type": "text"
      },
      "source": [
        "<a href=\"https://colab.research.google.com/github/sureshmecad/Samrat-Ashok-Technology-Internship/blob/main/Day51_Applying_Functions_to_a_DataFrame_CSEPathshala.ipynb\" target=\"_parent\"><img src=\"https://colab.research.google.com/assets/colab-badge.svg\" alt=\"Open In Colab\"/></a>"
      ]
    },
    {
      "cell_type": "markdown",
      "metadata": {
        "id": "t_ypP8ta5rhS"
      },
      "source": [
        "#### **Applying function to a Dataframe**\n",
        "\n",
        "- We can also apply funcions to values in a dataframe using the **apply()** function.\n",
        "\n",
        "- First let's define two lambda functions as folows:"
      ]
    },
    {
      "cell_type": "code",
      "metadata": {
        "id": "qn82vfv4-ZCu"
      },
      "source": [
        "import numpy as np\n",
        "import pandas as pd\n",
        "import math"
      ],
      "execution_count": 1,
      "outputs": []
    },
    {
      "cell_type": "code",
      "metadata": {
        "colab": {
          "base_uri": "https://localhost:8080/"
        },
        "id": "fsvcQAW75Wx8",
        "outputId": "0ae3b9d0-0704-4f72-a5b3-3dad28b3cb1a"
      },
      "source": [
        "sq_root = lambda x: math.sqrt(x) if x>0 else x\n",
        "sq = lambda x:x**2\n",
        "\n",
        "df = pd.DataFrame(np.random.randn(10,4), columns=list(\"ABCD\"))\n",
        "print(df)"
      ],
      "execution_count": 2,
      "outputs": [
        {
          "output_type": "stream",
          "name": "stdout",
          "text": [
            "          A         B         C         D\n",
            "0 -0.648312 -0.654999 -0.509691  0.125060\n",
            "1  0.076845 -0.907783  0.938368  1.546889\n",
            "2  0.592840 -1.363953 -1.135187  0.068783\n",
            "3 -1.406178  1.436224 -0.139252  0.536860\n",
            "4 -0.406399 -0.611900 -0.757008 -1.116224\n",
            "5  0.792503  0.951712 -1.077993 -0.357209\n",
            "6  0.403896 -1.452898 -0.049275 -0.001796\n",
            "7 -1.520886 -0.819668  0.311887  1.160203\n",
            "8  0.935517  0.744527  0.095402 -0.562557\n",
            "9  0.874176  0.090624 -0.061426  0.908994\n"
          ]
        }
      ]
    },
    {
      "cell_type": "code",
      "metadata": {
        "colab": {
          "base_uri": "https://localhost:8080/"
        },
        "id": "GeCEnpUJBICB",
        "outputId": "c88fe709-932b-4f9d-e788-f8bcf67b8c11"
      },
      "source": [
        "print(df.B.apply(sq_root))"
      ],
      "execution_count": 3,
      "outputs": [
        {
          "output_type": "stream",
          "name": "stdout",
          "text": [
            "0   -0.654999\n",
            "1   -0.907783\n",
            "2   -1.363953\n",
            "3    1.198425\n",
            "4   -0.611900\n",
            "5    0.975557\n",
            "6   -1.452898\n",
            "7   -0.819668\n",
            "8    0.862860\n",
            "9    0.301039\n",
            "Name: B, dtype: float64\n"
          ]
        }
      ]
    },
    {
      "cell_type": "code",
      "metadata": {
        "colab": {
          "base_uri": "https://localhost:8080/"
        },
        "id": "cQAhNcTMBKG2",
        "outputId": "781d1840-9f72-4e17-efe9-49abc4f80ecb"
      },
      "source": [
        "print(df.B.apply(sq))"
      ],
      "execution_count": 4,
      "outputs": [
        {
          "output_type": "stream",
          "name": "stdout",
          "text": [
            "0    0.429023\n",
            "1    0.824070\n",
            "2    1.860367\n",
            "3    2.062738\n",
            "4    0.374421\n",
            "5    0.905755\n",
            "6    2.110913\n",
            "7    0.671855\n",
            "8    0.554320\n",
            "9    0.008213\n",
            "Name: B, dtype: float64\n"
          ]
        }
      ]
    },
    {
      "cell_type": "markdown",
      "metadata": {
        "id": "jHOVTVq68q05"
      },
      "source": [
        "- The first function sq_root takes the square root of the value x if it is a positive number.\n",
        "\n",
        "- The second function sq takes the square of the value x.\n",
        "\n",
        "- It is important to note that objects passed to the apply() function are Series objects whose index is either the dataframe's index  (axis=0) or the dataframe's columns(axis=1).\n",
        "\n",
        "- We can now apply the functions to the dataframe. First apply the sq_root function to column \"B\": print(df.B.apply(sq_root))\n",
        "\n",
        "- If we apply the sq_root function to the dataframe, df.apply(sq_root) # value error. We will get the following error.\n",
        "\n",
        "- This is because the object passed into the apply() funcion in this case is a dataframe, not a series. Interestingly we can apply the sq function to the dataframe: df.apply(sq)"
      ]
    },
    {
      "cell_type": "code",
      "metadata": {
        "colab": {
          "base_uri": "https://localhost:8080/",
          "height": 527
        },
        "id": "kBCN85vU5rIc",
        "outputId": "6607d7b8-47ef-4d20-9521-d7ab6b82c34b"
      },
      "source": [
        "sq_root = lambda x: math.sqrt(x) if x>0 else x\n",
        "sq = lambda x:x**2\n",
        "\n",
        "df = pd.DataFrame(np.random.randn(10,4), columns=list(\"ABCD\"))\n",
        "print(df)\n",
        "print(df.apply(sq_root))"
      ],
      "execution_count": 5,
      "outputs": [
        {
          "output_type": "stream",
          "name": "stdout",
          "text": [
            "          A         B         C         D\n",
            "0  1.390287  1.322263 -0.132488  1.756926\n",
            "1  1.320863  0.042930 -0.122650  0.084998\n",
            "2 -0.413195 -1.927476 -0.507756  1.412334\n",
            "3 -1.461611  1.095450 -2.097424 -0.574043\n",
            "4  0.286183 -0.445613  0.495433 -1.473659\n",
            "5 -0.044876 -0.688227 -0.772011  2.306687\n",
            "6  1.264235  0.054017 -1.118211 -0.153853\n",
            "7 -0.858452 -1.252070 -0.913806  0.226988\n",
            "8  0.324212 -0.091543  1.493102 -0.589811\n",
            "9 -1.402827 -1.549258 -0.227046 -0.198374\n"
          ]
        },
        {
          "output_type": "error",
          "ename": "ValueError",
          "evalue": "ignored",
          "traceback": [
            "\u001b[0;31m---------------------------------------------------------------------------\u001b[0m",
            "\u001b[0;31mValueError\u001b[0m                                Traceback (most recent call last)",
            "\u001b[0;32m<ipython-input-5-94a54d2f0fc1>\u001b[0m in \u001b[0;36m<module>\u001b[0;34m()\u001b[0m\n\u001b[1;32m      4\u001b[0m \u001b[0mdf\u001b[0m \u001b[0;34m=\u001b[0m \u001b[0mpd\u001b[0m\u001b[0;34m.\u001b[0m\u001b[0mDataFrame\u001b[0m\u001b[0;34m(\u001b[0m\u001b[0mnp\u001b[0m\u001b[0;34m.\u001b[0m\u001b[0mrandom\u001b[0m\u001b[0;34m.\u001b[0m\u001b[0mrandn\u001b[0m\u001b[0;34m(\u001b[0m\u001b[0;36m10\u001b[0m\u001b[0;34m,\u001b[0m\u001b[0;36m4\u001b[0m\u001b[0;34m)\u001b[0m\u001b[0;34m,\u001b[0m \u001b[0mcolumns\u001b[0m\u001b[0;34m=\u001b[0m\u001b[0mlist\u001b[0m\u001b[0;34m(\u001b[0m\u001b[0;34m\"ABCD\"\u001b[0m\u001b[0;34m)\u001b[0m\u001b[0;34m)\u001b[0m\u001b[0;34m\u001b[0m\u001b[0;34m\u001b[0m\u001b[0m\n\u001b[1;32m      5\u001b[0m \u001b[0mprint\u001b[0m\u001b[0;34m(\u001b[0m\u001b[0mdf\u001b[0m\u001b[0;34m)\u001b[0m\u001b[0;34m\u001b[0m\u001b[0;34m\u001b[0m\u001b[0m\n\u001b[0;32m----> 6\u001b[0;31m \u001b[0mprint\u001b[0m\u001b[0;34m(\u001b[0m\u001b[0mdf\u001b[0m\u001b[0;34m.\u001b[0m\u001b[0mapply\u001b[0m\u001b[0;34m(\u001b[0m\u001b[0msq_root\u001b[0m\u001b[0;34m)\u001b[0m\u001b[0;34m)\u001b[0m\u001b[0;34m\u001b[0m\u001b[0;34m\u001b[0m\u001b[0m\n\u001b[0m",
            "\u001b[0;32m/usr/local/lib/python3.7/dist-packages/pandas/core/frame.py\u001b[0m in \u001b[0;36mapply\u001b[0;34m(self, func, axis, raw, result_type, args, **kwds)\u001b[0m\n\u001b[1;32m   7550\u001b[0m             \u001b[0mkwds\u001b[0m\u001b[0;34m=\u001b[0m\u001b[0mkwds\u001b[0m\u001b[0;34m,\u001b[0m\u001b[0;34m\u001b[0m\u001b[0;34m\u001b[0m\u001b[0m\n\u001b[1;32m   7551\u001b[0m         )\n\u001b[0;32m-> 7552\u001b[0;31m         \u001b[0;32mreturn\u001b[0m \u001b[0mop\u001b[0m\u001b[0;34m.\u001b[0m\u001b[0mget_result\u001b[0m\u001b[0;34m(\u001b[0m\u001b[0;34m)\u001b[0m\u001b[0;34m\u001b[0m\u001b[0;34m\u001b[0m\u001b[0m\n\u001b[0m\u001b[1;32m   7553\u001b[0m \u001b[0;34m\u001b[0m\u001b[0m\n\u001b[1;32m   7554\u001b[0m     \u001b[0;32mdef\u001b[0m \u001b[0mapplymap\u001b[0m\u001b[0;34m(\u001b[0m\u001b[0mself\u001b[0m\u001b[0;34m,\u001b[0m \u001b[0mfunc\u001b[0m\u001b[0;34m)\u001b[0m \u001b[0;34m->\u001b[0m \u001b[0;34m\"DataFrame\"\u001b[0m\u001b[0;34m:\u001b[0m\u001b[0;34m\u001b[0m\u001b[0;34m\u001b[0m\u001b[0m\n",
            "\u001b[0;32m/usr/local/lib/python3.7/dist-packages/pandas/core/apply.py\u001b[0m in \u001b[0;36mget_result\u001b[0;34m(self)\u001b[0m\n\u001b[1;32m    183\u001b[0m             \u001b[0;32mreturn\u001b[0m \u001b[0mself\u001b[0m\u001b[0;34m.\u001b[0m\u001b[0mapply_raw\u001b[0m\u001b[0;34m(\u001b[0m\u001b[0;34m)\u001b[0m\u001b[0;34m\u001b[0m\u001b[0;34m\u001b[0m\u001b[0m\n\u001b[1;32m    184\u001b[0m \u001b[0;34m\u001b[0m\u001b[0m\n\u001b[0;32m--> 185\u001b[0;31m         \u001b[0;32mreturn\u001b[0m \u001b[0mself\u001b[0m\u001b[0;34m.\u001b[0m\u001b[0mapply_standard\u001b[0m\u001b[0;34m(\u001b[0m\u001b[0;34m)\u001b[0m\u001b[0;34m\u001b[0m\u001b[0;34m\u001b[0m\u001b[0m\n\u001b[0m\u001b[1;32m    186\u001b[0m \u001b[0;34m\u001b[0m\u001b[0m\n\u001b[1;32m    187\u001b[0m     \u001b[0;32mdef\u001b[0m \u001b[0mapply_empty_result\u001b[0m\u001b[0;34m(\u001b[0m\u001b[0mself\u001b[0m\u001b[0;34m)\u001b[0m\u001b[0;34m:\u001b[0m\u001b[0;34m\u001b[0m\u001b[0;34m\u001b[0m\u001b[0m\n",
            "\u001b[0;32m/usr/local/lib/python3.7/dist-packages/pandas/core/apply.py\u001b[0m in \u001b[0;36mapply_standard\u001b[0;34m(self)\u001b[0m\n\u001b[1;32m    274\u001b[0m \u001b[0;34m\u001b[0m\u001b[0m\n\u001b[1;32m    275\u001b[0m     \u001b[0;32mdef\u001b[0m \u001b[0mapply_standard\u001b[0m\u001b[0;34m(\u001b[0m\u001b[0mself\u001b[0m\u001b[0;34m)\u001b[0m\u001b[0;34m:\u001b[0m\u001b[0;34m\u001b[0m\u001b[0;34m\u001b[0m\u001b[0m\n\u001b[0;32m--> 276\u001b[0;31m         \u001b[0mresults\u001b[0m\u001b[0;34m,\u001b[0m \u001b[0mres_index\u001b[0m \u001b[0;34m=\u001b[0m \u001b[0mself\u001b[0m\u001b[0;34m.\u001b[0m\u001b[0mapply_series_generator\u001b[0m\u001b[0;34m(\u001b[0m\u001b[0;34m)\u001b[0m\u001b[0;34m\u001b[0m\u001b[0;34m\u001b[0m\u001b[0m\n\u001b[0m\u001b[1;32m    277\u001b[0m \u001b[0;34m\u001b[0m\u001b[0m\n\u001b[1;32m    278\u001b[0m         \u001b[0;31m# wrap results\u001b[0m\u001b[0;34m\u001b[0m\u001b[0;34m\u001b[0m\u001b[0;34m\u001b[0m\u001b[0m\n",
            "\u001b[0;32m/usr/local/lib/python3.7/dist-packages/pandas/core/apply.py\u001b[0m in \u001b[0;36mapply_series_generator\u001b[0;34m(self)\u001b[0m\n\u001b[1;32m    303\u001b[0m                 \u001b[0;32mfor\u001b[0m \u001b[0mi\u001b[0m\u001b[0;34m,\u001b[0m \u001b[0mv\u001b[0m \u001b[0;32min\u001b[0m \u001b[0menumerate\u001b[0m\u001b[0;34m(\u001b[0m\u001b[0mseries_gen\u001b[0m\u001b[0;34m)\u001b[0m\u001b[0;34m:\u001b[0m\u001b[0;34m\u001b[0m\u001b[0;34m\u001b[0m\u001b[0m\n\u001b[1;32m    304\u001b[0m                     \u001b[0;31m# ignore SettingWithCopy here in case the user mutates\u001b[0m\u001b[0;34m\u001b[0m\u001b[0;34m\u001b[0m\u001b[0;34m\u001b[0m\u001b[0m\n\u001b[0;32m--> 305\u001b[0;31m                     \u001b[0mresults\u001b[0m\u001b[0;34m[\u001b[0m\u001b[0mi\u001b[0m\u001b[0;34m]\u001b[0m \u001b[0;34m=\u001b[0m \u001b[0mself\u001b[0m\u001b[0;34m.\u001b[0m\u001b[0mf\u001b[0m\u001b[0;34m(\u001b[0m\u001b[0mv\u001b[0m\u001b[0;34m)\u001b[0m\u001b[0;34m\u001b[0m\u001b[0;34m\u001b[0m\u001b[0m\n\u001b[0m\u001b[1;32m    306\u001b[0m                     \u001b[0;32mif\u001b[0m \u001b[0misinstance\u001b[0m\u001b[0;34m(\u001b[0m\u001b[0mresults\u001b[0m\u001b[0;34m[\u001b[0m\u001b[0mi\u001b[0m\u001b[0;34m]\u001b[0m\u001b[0;34m,\u001b[0m \u001b[0mABCSeries\u001b[0m\u001b[0;34m)\u001b[0m\u001b[0;34m:\u001b[0m\u001b[0;34m\u001b[0m\u001b[0;34m\u001b[0m\u001b[0m\n\u001b[1;32m    307\u001b[0m                         \u001b[0;31m# If we have a view on v, we need to make a copy because\u001b[0m\u001b[0;34m\u001b[0m\u001b[0;34m\u001b[0m\u001b[0;34m\u001b[0m\u001b[0m\n",
            "\u001b[0;32m<ipython-input-5-94a54d2f0fc1>\u001b[0m in \u001b[0;36m<lambda>\u001b[0;34m(x)\u001b[0m\n\u001b[0;32m----> 1\u001b[0;31m \u001b[0msq_root\u001b[0m \u001b[0;34m=\u001b[0m \u001b[0;32mlambda\u001b[0m \u001b[0mx\u001b[0m\u001b[0;34m:\u001b[0m \u001b[0mmath\u001b[0m\u001b[0;34m.\u001b[0m\u001b[0msqrt\u001b[0m\u001b[0;34m(\u001b[0m\u001b[0mx\u001b[0m\u001b[0;34m)\u001b[0m \u001b[0;32mif\u001b[0m \u001b[0mx\u001b[0m\u001b[0;34m>\u001b[0m\u001b[0;36m0\u001b[0m \u001b[0;32melse\u001b[0m \u001b[0mx\u001b[0m\u001b[0;34m\u001b[0m\u001b[0;34m\u001b[0m\u001b[0m\n\u001b[0m\u001b[1;32m      2\u001b[0m \u001b[0msq\u001b[0m \u001b[0;34m=\u001b[0m \u001b[0;32mlambda\u001b[0m \u001b[0mx\u001b[0m\u001b[0;34m:\u001b[0m\u001b[0mx\u001b[0m\u001b[0;34m**\u001b[0m\u001b[0;36m2\u001b[0m\u001b[0;34m\u001b[0m\u001b[0;34m\u001b[0m\u001b[0m\n\u001b[1;32m      3\u001b[0m \u001b[0;34m\u001b[0m\u001b[0m\n\u001b[1;32m      4\u001b[0m \u001b[0mdf\u001b[0m \u001b[0;34m=\u001b[0m \u001b[0mpd\u001b[0m\u001b[0;34m.\u001b[0m\u001b[0mDataFrame\u001b[0m\u001b[0;34m(\u001b[0m\u001b[0mnp\u001b[0m\u001b[0;34m.\u001b[0m\u001b[0mrandom\u001b[0m\u001b[0;34m.\u001b[0m\u001b[0mrandn\u001b[0m\u001b[0;34m(\u001b[0m\u001b[0;36m10\u001b[0m\u001b[0;34m,\u001b[0m\u001b[0;36m4\u001b[0m\u001b[0;34m)\u001b[0m\u001b[0;34m,\u001b[0m \u001b[0mcolumns\u001b[0m\u001b[0;34m=\u001b[0m\u001b[0mlist\u001b[0m\u001b[0;34m(\u001b[0m\u001b[0;34m\"ABCD\"\u001b[0m\u001b[0;34m)\u001b[0m\u001b[0;34m)\u001b[0m\u001b[0;34m\u001b[0m\u001b[0;34m\u001b[0m\u001b[0m\n\u001b[1;32m      5\u001b[0m \u001b[0mprint\u001b[0m\u001b[0;34m(\u001b[0m\u001b[0mdf\u001b[0m\u001b[0;34m)\u001b[0m\u001b[0;34m\u001b[0m\u001b[0;34m\u001b[0m\u001b[0m\n",
            "\u001b[0;32m/usr/local/lib/python3.7/dist-packages/pandas/core/generic.py\u001b[0m in \u001b[0;36m__nonzero__\u001b[0;34m(self)\u001b[0m\n\u001b[1;32m   1328\u001b[0m     \u001b[0;32mdef\u001b[0m \u001b[0m__nonzero__\u001b[0m\u001b[0;34m(\u001b[0m\u001b[0mself\u001b[0m\u001b[0;34m)\u001b[0m\u001b[0;34m:\u001b[0m\u001b[0;34m\u001b[0m\u001b[0;34m\u001b[0m\u001b[0m\n\u001b[1;32m   1329\u001b[0m         raise ValueError(\n\u001b[0;32m-> 1330\u001b[0;31m             \u001b[0;34mf\"The truth value of a {type(self).__name__} is ambiguous. \"\u001b[0m\u001b[0;34m\u001b[0m\u001b[0;34m\u001b[0m\u001b[0m\n\u001b[0m\u001b[1;32m   1331\u001b[0m             \u001b[0;34m\"Use a.empty, a.bool(), a.item(), a.any() or a.all().\"\u001b[0m\u001b[0;34m\u001b[0m\u001b[0;34m\u001b[0m\u001b[0m\n\u001b[1;32m   1332\u001b[0m         )\n",
            "\u001b[0;31mValueError\u001b[0m: The truth value of a Series is ambiguous. Use a.empty, a.bool(), a.item(), a.any() or a.all()."
          ]
        }
      ]
    },
    {
      "cell_type": "code",
      "metadata": {
        "colab": {
          "base_uri": "https://localhost:8080/"
        },
        "id": "EvExJLOp5rBz",
        "outputId": "fb829dbe-5ade-468b-9050-2f5878bfaa3a"
      },
      "source": [
        "sq_root = lambda x: math.sqrt(x) if x>0 else x\n",
        "sq = lambda x:x**2\n",
        "\n",
        "df = pd.DataFrame(np.random.randn(10,4), columns=list(\"ABCD\"))\n",
        "print(df)\n",
        "print(df.apply(sq))"
      ],
      "execution_count": 6,
      "outputs": [
        {
          "output_type": "stream",
          "name": "stdout",
          "text": [
            "          A         B         C         D\n",
            "0  0.127782  1.871493  1.937813  0.316956\n",
            "1 -0.414391 -0.155247 -0.786709 -0.828641\n",
            "2  0.479631  0.580688  1.191611  0.707303\n",
            "3 -0.319859 -2.682393  0.481369 -0.148915\n",
            "4 -0.680539 -0.808777  0.194144 -0.521989\n",
            "5  0.430787 -0.856580  1.968149  0.800534\n",
            "6  0.849863 -0.129318 -1.303532  1.351792\n",
            "7 -0.924012 -0.146211 -0.544390  0.745918\n",
            "8 -0.133459 -1.020844  0.271215 -0.501301\n",
            "9  0.345726  0.855271 -0.315447  0.117440\n",
            "          A         B         C         D\n",
            "0  0.016328  3.502486  3.755121  0.100461\n",
            "1  0.171720  0.024102  0.618912  0.686646\n",
            "2  0.230046  0.337199  1.419938  0.500278\n",
            "3  0.102310  7.195235  0.231716  0.022176\n",
            "4  0.463133  0.654120  0.037692  0.272472\n",
            "5  0.185578  0.733729  3.873610  0.640854\n",
            "6  0.722266  0.016723  1.699196  1.827343\n",
            "7  0.853799  0.021378  0.296360  0.556394\n",
            "8  0.017811  1.042122  0.073558  0.251303\n",
            "9  0.119526  0.731488  0.099507  0.013792\n"
          ]
        }
      ]
    },
    {
      "cell_type": "markdown",
      "metadata": {
        "id": "1xtsElN1DbqZ"
      },
      "source": [
        "- If you want to apply the sq_root function to the entire dataframe, we can iterate through the columns and apply the function to each column."
      ]
    },
    {
      "cell_type": "code",
      "metadata": {
        "colab": {
          "base_uri": "https://localhost:8080/"
        },
        "id": "PfEzuynY5q9Q",
        "outputId": "f5101231-fd02-4606-ab1b-51a9a71982df"
      },
      "source": [
        "sq_root = lambda x: math.sqrt(x) if x>0 else x\n",
        "sq = lambda x:x**2\n",
        "\n",
        "df = pd.DataFrame(np.random.randn(10,4), columns=list(\"ABCD\"))\n",
        "print(df)\n",
        "\n",
        "for column in df:\n",
        "  df[column] = df[column].apply(sq_root)\n",
        "\n",
        "print(df)"
      ],
      "execution_count": 7,
      "outputs": [
        {
          "output_type": "stream",
          "name": "stdout",
          "text": [
            "          A         B         C         D\n",
            "0  0.263379  1.979759  1.127425  1.369400\n",
            "1  1.307043  0.504118 -0.986870  0.064790\n",
            "2 -0.551990  0.557353 -0.598737 -0.613732\n",
            "3 -0.891798  1.574916  0.310596 -0.372662\n",
            "4 -0.644754  0.469123 -1.190078  0.700023\n",
            "5 -0.776872  0.030715 -2.079235  0.052676\n",
            "6 -0.891018  0.425227 -1.050417 -1.906478\n",
            "7 -0.777529  0.277125 -0.590767  0.418381\n",
            "8 -0.451935  1.153258 -0.412089 -0.613638\n",
            "9 -1.594419 -0.678711  1.137935 -1.777736\n",
            "          A         B         C         D\n",
            "0  0.513205  1.407039  1.061803  1.170214\n",
            "1  1.143260  0.710013 -0.986870  0.254538\n",
            "2 -0.551990  0.746561 -0.598737 -0.613732\n",
            "3 -0.891798  1.254957  0.557312 -0.372662\n",
            "4 -0.644754  0.684925 -1.190078  0.836674\n",
            "5 -0.776872  0.175258 -2.079235  0.229513\n",
            "6 -0.891018  0.652095 -1.050417 -1.906478\n",
            "7 -0.777529  0.526427 -0.590767  0.646824\n",
            "8 -0.451935  1.073899 -0.412089 -0.613638\n",
            "9 -1.594419 -0.678711  1.066740 -1.777736\n"
          ]
        }
      ]
    },
    {
      "cell_type": "markdown",
      "metadata": {
        "id": "jGfh-tYzE3xI"
      },
      "source": [
        "- The apply function can be applied on either axis: index(0, apply function to each column) or column(1, apply function to each row)\n",
        "\n",
        "- For the two particular lambda funcions that we have seen thus far, it does not matter which axis you apply it to, and the result would be same. However for some functions, the axis that you apply it to does matter.\n",
        "\n",
        "- For example, the following statement uses the sum() function from numpy and applies it to the rows of the dataframe. print(df.apply(np.sum, axis=0)). Essentially you are summing up all of the values in each column.\n",
        "\n",
        "- If you set axis to 1 as follows: print(df.apply(np.sum, axis=1))"
      ]
    },
    {
      "cell_type": "code",
      "metadata": {
        "colab": {
          "base_uri": "https://localhost:8080/"
        },
        "id": "pkGmCdYz5q5I",
        "outputId": "9850fb75-bb6c-4f68-f4da-fbd4370febd0"
      },
      "source": [
        "sq_root = lambda x: math.sqrt(x) if x>0 else x\n",
        "sq = lambda x:x**2\n",
        "\n",
        "df = pd.DataFrame(np.random.randn(10,4), columns=list(\"ABCD\"))\n",
        "print(df)\n",
        "print(df.apply(np.sum, axis=0))\n",
        "print(df.apply(np.sum, axis=1))"
      ],
      "execution_count": 8,
      "outputs": [
        {
          "output_type": "stream",
          "name": "stdout",
          "text": [
            "          A         B         C         D\n",
            "0 -0.018422 -0.791488  1.288785  1.094123\n",
            "1  1.221634  0.490458  2.385125  0.532308\n",
            "2  1.442761 -1.195045 -0.865685 -1.509961\n",
            "3 -0.736129 -0.201071  0.459043  1.863487\n",
            "4 -0.327226 -1.867535  0.882174 -1.581162\n",
            "5 -1.400939  1.051560  0.816175 -0.474885\n",
            "6  0.471896 -0.077626 -0.113615  1.080663\n",
            "7  2.680963  0.506915 -0.302124 -0.643873\n",
            "8  0.374623  0.935245 -2.168973 -0.581465\n",
            "9  0.770848 -0.766358 -1.279907  1.977479\n",
            "A    4.480009\n",
            "B   -1.914945\n",
            "C    1.100997\n",
            "D    1.756715\n",
            "dtype: float64\n",
            "0    1.572998\n",
            "1    4.629525\n",
            "2   -2.127930\n",
            "3    1.385330\n",
            "4   -2.893747\n",
            "5   -0.008089\n",
            "6    1.361317\n",
            "7    2.241881\n",
            "8   -1.440570\n",
            "9    0.702061\n",
            "dtype: float64\n"
          ]
        }
      ]
    },
    {
      "cell_type": "markdown",
      "metadata": {
        "id": "dJ0Kmzxx5juY"
      },
      "source": [
        "#### **Reference**\n",
        "\n",
        "- https://www.youtube.com/watch?v=YtqI1ZX0ick&list=PLzx-_kRo3HZtP3tWaieUPwAh9K4I00_6p&index=38"
      ]
    }
  ]
}