{
  "nbformat": 4,
  "nbformat_minor": 0,
  "metadata": {
    "colab": {
      "name": "Day66_Hyper Parameter Tuning_CSEPathshala.ipynb",
      "provenance": [],
      "collapsed_sections": [],
      "authorship_tag": "ABX9TyMplx9YAS0u91Nmkc/k358E",
      "include_colab_link": true
    },
    "kernelspec": {
      "name": "python3",
      "display_name": "Python 3"
    },
    "language_info": {
      "name": "python"
    }
  },
  "cells": [
    {
      "cell_type": "markdown",
      "metadata": {
        "id": "view-in-github",
        "colab_type": "text"
      },
      "source": [
        "<a href=\"https://colab.research.google.com/github/sureshmecad/Samrat-Ashok-Technology-Internship/blob/main/Day66_Hyper_Parameter_Tuning_CSEPathshala.ipynb\" target=\"_parent\"><img src=\"https://colab.research.google.com/assets/colab-badge.svg\" alt=\"Open In Colab\"/></a>"
      ]
    },
    {
      "cell_type": "markdown",
      "metadata": {
        "id": "oGPZZrRv3QUt"
      },
      "source": [
        "### **Hyper Parameter Tuning**"
      ]
    },
    {
      "cell_type": "markdown",
      "metadata": {
        "id": "pp61hv2z4Yvm"
      },
      "source": [
        "- **Grid Search** is a tuning technique that attempts compute the optimum values of hyperparameter.\n",
        "\n",
        "- It is an exhaustive search that is performed on the specific parameter values of a model. The model is also known as estimator.\n",
        "\n",
        "- Grid search is great for spot-checking combinations that are known to perform well generally."
      ]
    },
    {
      "cell_type": "code",
      "metadata": {
        "id": "vrM6gC-Lyl0a"
      },
      "source": [
        "from sklearn import neighbors, datasets, metrics\n",
        "from sklearn.model_selection import GridSearchCV"
      ],
      "execution_count": null,
      "outputs": []
    },
    {
      "cell_type": "code",
      "metadata": {
        "id": "tq14Oje6zv6u"
      },
      "source": [
        "X,y = datasets.load_iris(return_X_y=True)"
      ],
      "execution_count": null,
      "outputs": []
    },
    {
      "cell_type": "code",
      "metadata": {
        "id": "V-weItpvzvzf"
      },
      "source": [
        "X_train = X[range(0,150,2), :]\n",
        "y_train = y[range(0,150,2)]\n",
        "\n",
        "X_test = X[range(1,150,2), :]\n",
        "y_test = y[range(1,150,2)]"
      ],
      "execution_count": null,
      "outputs": []
    },
    {
      "cell_type": "code",
      "metadata": {
        "colab": {
          "base_uri": "https://localhost:8080/"
        },
        "id": "krmvz-p3zvlG",
        "outputId": "ba148987-595f-4c73-f2b3-a78a83f041d2"
      },
      "source": [
        "classifier = neighbors.KNeighborsClassifier()\n",
        "\n",
        "param_grid = {'n_neighbors': [1,5,10,15], 'weights': ['uniform', 'distance'], 'metric': ['euclidean', 'manhattan']}\n",
        "\n",
        "clf = GridSearchCV(classifier, param_grid, cv=5)\n",
        "clf.fit(X_train, y_train)"
      ],
      "execution_count": null,
      "outputs": [
        {
          "output_type": "execute_result",
          "data": {
            "text/plain": [
              "GridSearchCV(cv=5, error_score=nan,\n",
              "             estimator=KNeighborsClassifier(algorithm='auto', leaf_size=30,\n",
              "                                            metric='minkowski',\n",
              "                                            metric_params=None, n_jobs=None,\n",
              "                                            n_neighbors=5, p=2,\n",
              "                                            weights='uniform'),\n",
              "             iid='deprecated', n_jobs=None,\n",
              "             param_grid={'metric': ['euclidean', 'manhattan'],\n",
              "                         'n_neighbors': [1, 5, 10, 15],\n",
              "                         'weights': ['uniform', 'distance']},\n",
              "             pre_dispatch='2*n_jobs', refit=True, return_train_score=False,\n",
              "             scoring=None, verbose=0)"
            ]
          },
          "metadata": {},
          "execution_count": 4
        }
      ]
    },
    {
      "cell_type": "markdown",
      "metadata": {
        "id": "uSSf7U7n9ezv"
      },
      "source": [
        "### **verbose=1**"
      ]
    },
    {
      "cell_type": "code",
      "metadata": {
        "colab": {
          "base_uri": "https://localhost:8080/"
        },
        "id": "MsF_oArZ9hwm",
        "outputId": "f38402c6-36e4-43be-e8ef-537e7a8f54f0"
      },
      "source": [
        "classifier = neighbors.KNeighborsClassifier()\n",
        "\n",
        "param_grid = {'n_neighbors': [1,5,10,15], 'weights': ['uniform', 'distance'], 'metric': ['euclidean', 'manhattan']}\n",
        "\n",
        "clf = GridSearchCV(classifier, param_grid, cv=5, verbose=1)\n",
        "clf.fit(X_train, y_train)"
      ],
      "execution_count": null,
      "outputs": [
        {
          "output_type": "stream",
          "name": "stdout",
          "text": [
            "Fitting 5 folds for each of 16 candidates, totalling 80 fits\n"
          ]
        },
        {
          "output_type": "stream",
          "name": "stderr",
          "text": [
            "[Parallel(n_jobs=1)]: Using backend SequentialBackend with 1 concurrent workers.\n",
            "[Parallel(n_jobs=1)]: Done  80 out of  80 | elapsed:    0.2s finished\n"
          ]
        },
        {
          "output_type": "execute_result",
          "data": {
            "text/plain": [
              "GridSearchCV(cv=5, error_score=nan,\n",
              "             estimator=KNeighborsClassifier(algorithm='auto', leaf_size=30,\n",
              "                                            metric='minkowski',\n",
              "                                            metric_params=None, n_jobs=None,\n",
              "                                            n_neighbors=5, p=2,\n",
              "                                            weights='uniform'),\n",
              "             iid='deprecated', n_jobs=None,\n",
              "             param_grid={'metric': ['euclidean', 'manhattan'],\n",
              "                         'n_neighbors': [1, 5, 10, 15],\n",
              "                         'weights': ['uniform', 'distance']},\n",
              "             pre_dispatch='2*n_jobs', refit=True, return_train_score=False,\n",
              "             scoring=None, verbose=1)"
            ]
          },
          "metadata": {},
          "execution_count": 8
        }
      ]
    },
    {
      "cell_type": "markdown",
      "metadata": {
        "id": "-Vzm_7uU90qN"
      },
      "source": [
        "### **verbose=2**"
      ]
    },
    {
      "cell_type": "code",
      "metadata": {
        "colab": {
          "base_uri": "https://localhost:8080/"
        },
        "id": "sYiaLUl29iTJ",
        "outputId": "3543a824-c7a8-4a10-d161-d88b3f7e0458"
      },
      "source": [
        "classifier = neighbors.KNeighborsClassifier()\n",
        "\n",
        "param_grid = {'n_neighbors': [1,5,10,15], 'weights': ['uniform', 'distance'], 'metric': ['euclidean', 'manhattan']}\n",
        "\n",
        "clf = GridSearchCV(classifier, param_grid, cv=5, verbose=2)\n",
        "clf.fit(X_train, y_train)"
      ],
      "execution_count": null,
      "outputs": [
        {
          "output_type": "stream",
          "name": "stdout",
          "text": [
            "Fitting 5 folds for each of 16 candidates, totalling 80 fits\n",
            "[CV] metric=euclidean, n_neighbors=1, weights=uniform ................\n",
            "[CV] . metric=euclidean, n_neighbors=1, weights=uniform, total=   0.0s\n",
            "[CV] metric=euclidean, n_neighbors=1, weights=uniform ................\n",
            "[CV] . metric=euclidean, n_neighbors=1, weights=uniform, total=   0.0s\n",
            "[CV] metric=euclidean, n_neighbors=1, weights=uniform ................\n",
            "[CV] . metric=euclidean, n_neighbors=1, weights=uniform, total=   0.0s\n",
            "[CV] metric=euclidean, n_neighbors=1, weights=uniform ................\n",
            "[CV] . metric=euclidean, n_neighbors=1, weights=uniform, total=   0.0s\n",
            "[CV] metric=euclidean, n_neighbors=1, weights=uniform ................\n",
            "[CV] . metric=euclidean, n_neighbors=1, weights=uniform, total=   0.0s\n",
            "[CV] metric=euclidean, n_neighbors=1, weights=distance ...............\n",
            "[CV]  metric=euclidean, n_neighbors=1, weights=distance, total=   0.0s\n",
            "[CV] metric=euclidean, n_neighbors=1, weights=distance ...............\n",
            "[CV]  metric=euclidean, n_neighbors=1, weights=distance, total=   0.0s\n",
            "[CV] metric=euclidean, n_neighbors=1, weights=distance ...............\n",
            "[CV]  metric=euclidean, n_neighbors=1, weights=distance, total=   0.0s\n",
            "[CV] metric=euclidean, n_neighbors=1, weights=distance ...............\n",
            "[CV]  metric=euclidean, n_neighbors=1, weights=distance, total=   0.0s\n",
            "[CV] metric=euclidean, n_neighbors=1, weights=distance ...............\n",
            "[CV]  metric=euclidean, n_neighbors=1, weights=distance, total=   0.0s\n",
            "[CV] metric=euclidean, n_neighbors=5, weights=uniform ................\n",
            "[CV] . metric=euclidean, n_neighbors=5, weights=uniform, total=   0.0s\n",
            "[CV] metric=euclidean, n_neighbors=5, weights=uniform ................\n",
            "[CV] . metric=euclidean, n_neighbors=5, weights=uniform, total=   0.0s\n",
            "[CV] metric=euclidean, n_neighbors=5, weights=uniform ................\n",
            "[CV] . metric=euclidean, n_neighbors=5, weights=uniform, total=   0.0s\n",
            "[CV] metric=euclidean, n_neighbors=5, weights=uniform ................\n",
            "[CV] . metric=euclidean, n_neighbors=5, weights=uniform, total=   0.0s\n",
            "[CV] metric=euclidean, n_neighbors=5, weights=uniform ................\n",
            "[CV] . metric=euclidean, n_neighbors=5, weights=uniform, total=   0.0s\n",
            "[CV] metric=euclidean, n_neighbors=5, weights=distance ...............\n",
            "[CV]  metric=euclidean, n_neighbors=5, weights=distance, total=   0.0s\n",
            "[CV] metric=euclidean, n_neighbors=5, weights=distance ...............\n",
            "[CV]  metric=euclidean, n_neighbors=5, weights=distance, total=   0.0s\n",
            "[CV] metric=euclidean, n_neighbors=5, weights=distance ...............\n",
            "[CV]  metric=euclidean, n_neighbors=5, weights=distance, total=   0.0s\n",
            "[CV] metric=euclidean, n_neighbors=5, weights=distance ...............\n",
            "[CV]  metric=euclidean, n_neighbors=5, weights=distance, total=   0.0s\n",
            "[CV] metric=euclidean, n_neighbors=5, weights=distance ...............\n",
            "[CV]  metric=euclidean, n_neighbors=5, weights=distance, total=   0.0s\n",
            "[CV] metric=euclidean, n_neighbors=10, weights=uniform ...............\n",
            "[CV]  metric=euclidean, n_neighbors=10, weights=uniform, total=   0.0s\n",
            "[CV] metric=euclidean, n_neighbors=10, weights=uniform ...............\n",
            "[CV]  metric=euclidean, n_neighbors=10, weights=uniform, total=   0.0s\n",
            "[CV] metric=euclidean, n_neighbors=10, weights=uniform ...............\n",
            "[CV]  metric=euclidean, n_neighbors=10, weights=uniform, total=   0.0s\n",
            "[CV] metric=euclidean, n_neighbors=10, weights=uniform ...............\n",
            "[CV]  metric=euclidean, n_neighbors=10, weights=uniform, total=   0.0s\n",
            "[CV] metric=euclidean, n_neighbors=10, weights=uniform ...............\n",
            "[CV]  metric=euclidean, n_neighbors=10, weights=uniform, total=   0.0s\n",
            "[CV] metric=euclidean, n_neighbors=10, weights=distance ..............\n",
            "[CV]  metric=euclidean, n_neighbors=10, weights=distance, total=   0.0s\n",
            "[CV] metric=euclidean, n_neighbors=10, weights=distance ..............\n",
            "[CV]  metric=euclidean, n_neighbors=10, weights=distance, total=   0.0s\n",
            "[CV] metric=euclidean, n_neighbors=10, weights=distance ..............\n",
            "[CV]  metric=euclidean, n_neighbors=10, weights=distance, total=   0.0s\n",
            "[CV] metric=euclidean, n_neighbors=10, weights=distance ..............\n",
            "[CV]  metric=euclidean, n_neighbors=10, weights=distance, total=   0.0s\n",
            "[CV] metric=euclidean, n_neighbors=10, weights=distance ..............\n",
            "[CV]  metric=euclidean, n_neighbors=10, weights=distance, total=   0.0s\n",
            "[CV] metric=euclidean, n_neighbors=15, weights=uniform ...............\n",
            "[CV]  metric=euclidean, n_neighbors=15, weights=uniform, total=   0.0s\n",
            "[CV] metric=euclidean, n_neighbors=15, weights=uniform ...............\n",
            "[CV]  metric=euclidean, n_neighbors=15, weights=uniform, total=   0.0s\n",
            "[CV] metric=euclidean, n_neighbors=15, weights=uniform ...............\n",
            "[CV]  metric=euclidean, n_neighbors=15, weights=uniform, total=   0.0s\n",
            "[CV] metric=euclidean, n_neighbors=15, weights=uniform ...............\n",
            "[CV]  metric=euclidean, n_neighbors=15, weights=uniform, total=   0.0s\n",
            "[CV] metric=euclidean, n_neighbors=15, weights=uniform ...............\n",
            "[CV]  metric=euclidean, n_neighbors=15, weights=uniform, total=   0.0s\n",
            "[CV] metric=euclidean, n_neighbors=15, weights=distance ..............\n",
            "[CV]  metric=euclidean, n_neighbors=15, weights=distance, total=   0.0s\n",
            "[CV] metric=euclidean, n_neighbors=15, weights=distance ..............\n",
            "[CV]  metric=euclidean, n_neighbors=15, weights=distance, total=   0.0s\n",
            "[CV] metric=euclidean, n_neighbors=15, weights=distance ..............\n",
            "[CV]  metric=euclidean, n_neighbors=15, weights=distance, total=   0.0s\n",
            "[CV] metric=euclidean, n_neighbors=15, weights=distance ..............\n",
            "[CV]  metric=euclidean, n_neighbors=15, weights=distance, total=   0.0s\n",
            "[CV] metric=euclidean, n_neighbors=15, weights=distance ..............\n",
            "[CV]  metric=euclidean, n_neighbors=15, weights=distance, total=   0.0s\n",
            "[CV] metric=manhattan, n_neighbors=1, weights=uniform ................\n",
            "[CV] . metric=manhattan, n_neighbors=1, weights=uniform, total=   0.0s\n",
            "[CV] metric=manhattan, n_neighbors=1, weights=uniform ................\n",
            "[CV] . metric=manhattan, n_neighbors=1, weights=uniform, total=   0.0s\n",
            "[CV] metric=manhattan, n_neighbors=1, weights=uniform ................\n",
            "[CV] . metric=manhattan, n_neighbors=1, weights=uniform, total=   0.0s\n",
            "[CV] metric=manhattan, n_neighbors=1, weights=uniform ................\n",
            "[CV] . metric=manhattan, n_neighbors=1, weights=uniform, total=   0.0s\n",
            "[CV] metric=manhattan, n_neighbors=1, weights=uniform ................\n",
            "[CV] . metric=manhattan, n_neighbors=1, weights=uniform, total=   0.0s\n",
            "[CV] metric=manhattan, n_neighbors=1, weights=distance ...............\n"
          ]
        },
        {
          "output_type": "stream",
          "name": "stderr",
          "text": [
            "[Parallel(n_jobs=1)]: Using backend SequentialBackend with 1 concurrent workers.\n",
            "[Parallel(n_jobs=1)]: Done   1 out of   1 | elapsed:    0.0s remaining:    0.0s\n"
          ]
        },
        {
          "output_type": "stream",
          "name": "stdout",
          "text": [
            "[CV]  metric=manhattan, n_neighbors=1, weights=distance, total=   0.0s\n",
            "[CV] metric=manhattan, n_neighbors=1, weights=distance ...............\n",
            "[CV]  metric=manhattan, n_neighbors=1, weights=distance, total=   0.0s\n",
            "[CV] metric=manhattan, n_neighbors=1, weights=distance ...............\n",
            "[CV]  metric=manhattan, n_neighbors=1, weights=distance, total=   0.0s\n",
            "[CV] metric=manhattan, n_neighbors=1, weights=distance ...............\n",
            "[CV]  metric=manhattan, n_neighbors=1, weights=distance, total=   0.0s\n",
            "[CV] metric=manhattan, n_neighbors=1, weights=distance ...............\n",
            "[CV]  metric=manhattan, n_neighbors=1, weights=distance, total=   0.0s\n",
            "[CV] metric=manhattan, n_neighbors=5, weights=uniform ................\n",
            "[CV] . metric=manhattan, n_neighbors=5, weights=uniform, total=   0.0s\n",
            "[CV] metric=manhattan, n_neighbors=5, weights=uniform ................\n",
            "[CV] . metric=manhattan, n_neighbors=5, weights=uniform, total=   0.0s\n",
            "[CV] metric=manhattan, n_neighbors=5, weights=uniform ................\n",
            "[CV] . metric=manhattan, n_neighbors=5, weights=uniform, total=   0.0s\n",
            "[CV] metric=manhattan, n_neighbors=5, weights=uniform ................\n",
            "[CV] . metric=manhattan, n_neighbors=5, weights=uniform, total=   0.0s\n",
            "[CV] metric=manhattan, n_neighbors=5, weights=uniform ................\n",
            "[CV] . metric=manhattan, n_neighbors=5, weights=uniform, total=   0.0s\n",
            "[CV] metric=manhattan, n_neighbors=5, weights=distance ...............\n",
            "[CV]  metric=manhattan, n_neighbors=5, weights=distance, total=   0.0s\n",
            "[CV] metric=manhattan, n_neighbors=5, weights=distance ...............\n",
            "[CV]  metric=manhattan, n_neighbors=5, weights=distance, total=   0.0s\n",
            "[CV] metric=manhattan, n_neighbors=5, weights=distance ...............\n",
            "[CV]  metric=manhattan, n_neighbors=5, weights=distance, total=   0.0s\n",
            "[CV] metric=manhattan, n_neighbors=5, weights=distance ...............\n",
            "[CV]  metric=manhattan, n_neighbors=5, weights=distance, total=   0.0s\n",
            "[CV] metric=manhattan, n_neighbors=5, weights=distance ...............\n",
            "[CV]  metric=manhattan, n_neighbors=5, weights=distance, total=   0.0s\n",
            "[CV] metric=manhattan, n_neighbors=10, weights=uniform ...............\n",
            "[CV]  metric=manhattan, n_neighbors=10, weights=uniform, total=   0.0s\n",
            "[CV] metric=manhattan, n_neighbors=10, weights=uniform ...............\n",
            "[CV]  metric=manhattan, n_neighbors=10, weights=uniform, total=   0.0s\n",
            "[CV] metric=manhattan, n_neighbors=10, weights=uniform ...............\n",
            "[CV]  metric=manhattan, n_neighbors=10, weights=uniform, total=   0.0s\n",
            "[CV] metric=manhattan, n_neighbors=10, weights=uniform ...............\n",
            "[CV]  metric=manhattan, n_neighbors=10, weights=uniform, total=   0.0s\n",
            "[CV] metric=manhattan, n_neighbors=10, weights=uniform ...............\n",
            "[CV]  metric=manhattan, n_neighbors=10, weights=uniform, total=   0.0s\n",
            "[CV] metric=manhattan, n_neighbors=10, weights=distance ..............\n",
            "[CV]  metric=manhattan, n_neighbors=10, weights=distance, total=   0.0s\n",
            "[CV] metric=manhattan, n_neighbors=10, weights=distance ..............\n",
            "[CV]  metric=manhattan, n_neighbors=10, weights=distance, total=   0.0s\n",
            "[CV] metric=manhattan, n_neighbors=10, weights=distance ..............\n",
            "[CV]  metric=manhattan, n_neighbors=10, weights=distance, total=   0.0s\n",
            "[CV] metric=manhattan, n_neighbors=10, weights=distance ..............\n",
            "[CV]  metric=manhattan, n_neighbors=10, weights=distance, total=   0.0s\n",
            "[CV] metric=manhattan, n_neighbors=10, weights=distance ..............\n",
            "[CV]  metric=manhattan, n_neighbors=10, weights=distance, total=   0.0s\n",
            "[CV] metric=manhattan, n_neighbors=15, weights=uniform ...............\n",
            "[CV]  metric=manhattan, n_neighbors=15, weights=uniform, total=   0.0s\n",
            "[CV] metric=manhattan, n_neighbors=15, weights=uniform ...............\n",
            "[CV]  metric=manhattan, n_neighbors=15, weights=uniform, total=   0.0s\n",
            "[CV] metric=manhattan, n_neighbors=15, weights=uniform ...............\n",
            "[CV]  metric=manhattan, n_neighbors=15, weights=uniform, total=   0.0s\n",
            "[CV] metric=manhattan, n_neighbors=15, weights=uniform ...............\n",
            "[CV]  metric=manhattan, n_neighbors=15, weights=uniform, total=   0.0s\n",
            "[CV] metric=manhattan, n_neighbors=15, weights=uniform ...............\n",
            "[CV]  metric=manhattan, n_neighbors=15, weights=uniform, total=   0.0s\n",
            "[CV] metric=manhattan, n_neighbors=15, weights=distance ..............\n",
            "[CV]  metric=manhattan, n_neighbors=15, weights=distance, total=   0.0s\n",
            "[CV] metric=manhattan, n_neighbors=15, weights=distance ..............\n",
            "[CV]  metric=manhattan, n_neighbors=15, weights=distance, total=   0.0s\n",
            "[CV] metric=manhattan, n_neighbors=15, weights=distance ..............\n",
            "[CV]  metric=manhattan, n_neighbors=15, weights=distance, total=   0.0s\n",
            "[CV] metric=manhattan, n_neighbors=15, weights=distance ..............\n",
            "[CV]  metric=manhattan, n_neighbors=15, weights=distance, total=   0.0s\n",
            "[CV] metric=manhattan, n_neighbors=15, weights=distance ..............\n",
            "[CV]  metric=manhattan, n_neighbors=15, weights=distance, total=   0.0s\n"
          ]
        },
        {
          "output_type": "stream",
          "name": "stderr",
          "text": [
            "[Parallel(n_jobs=1)]: Done  80 out of  80 | elapsed:    0.4s finished\n"
          ]
        },
        {
          "output_type": "execute_result",
          "data": {
            "text/plain": [
              "GridSearchCV(cv=5, error_score=nan,\n",
              "             estimator=KNeighborsClassifier(algorithm='auto', leaf_size=30,\n",
              "                                            metric='minkowski',\n",
              "                                            metric_params=None, n_jobs=None,\n",
              "                                            n_neighbors=5, p=2,\n",
              "                                            weights='uniform'),\n",
              "             iid='deprecated', n_jobs=None,\n",
              "             param_grid={'metric': ['euclidean', 'manhattan'],\n",
              "                         'n_neighbors': [1, 5, 10, 15],\n",
              "                         'weights': ['uniform', 'distance']},\n",
              "             pre_dispatch='2*n_jobs', refit=True, return_train_score=False,\n",
              "             scoring=None, verbose=2)"
            ]
          },
          "metadata": {},
          "execution_count": 9
        }
      ]
    },
    {
      "cell_type": "markdown",
      "metadata": {
        "id": "FkwK7VvxYFF5"
      },
      "source": [
        "### **Verbose3**"
      ]
    },
    {
      "cell_type": "code",
      "metadata": {
        "colab": {
          "base_uri": "https://localhost:8080/"
        },
        "id": "wqTFTQux9iSG",
        "outputId": "28b5c406-1105-4555-9f07-692fda09d2c5"
      },
      "source": [
        "classifier = neighbors.KNeighborsClassifier()\n",
        "\n",
        "param_grid = {'n_neighbors': [1,5,10,15], 'weights': ['uniform', 'distance'], 'metric': ['euclidean', 'manhattan']}\n",
        "\n",
        "clf = GridSearchCV(classifier, param_grid, cv=5, verbose=3  )\n",
        "clf.fit(X_train, y_train)"
      ],
      "execution_count": null,
      "outputs": [
        {
          "output_type": "stream",
          "name": "stdout",
          "text": [
            "Fitting 5 folds for each of 16 candidates, totalling 80 fits\n",
            "[CV] metric=euclidean, n_neighbors=1, weights=uniform ................\n",
            "[CV]  metric=euclidean, n_neighbors=1, weights=uniform, score=0.933, total=   0.0s\n",
            "[CV] metric=euclidean, n_neighbors=1, weights=uniform ................\n",
            "[CV]  metric=euclidean, n_neighbors=1, weights=uniform, score=1.000, total=   0.0s\n",
            "[CV] metric=euclidean, n_neighbors=1, weights=uniform ................\n",
            "[CV]  metric=euclidean, n_neighbors=1, weights=uniform, score=0.867, total=   0.0s\n",
            "[CV] metric=euclidean, n_neighbors=1, weights=uniform ................\n",
            "[CV]  metric=euclidean, n_neighbors=1, weights=uniform, score=0.933, total=   0.0s\n",
            "[CV] metric=euclidean, n_neighbors=1, weights=uniform ................\n",
            "[CV]  metric=euclidean, n_neighbors=1, weights=uniform, score=1.000, total=   0.0s\n",
            "[CV] metric=euclidean, n_neighbors=1, weights=distance ...............\n",
            "[CV]  metric=euclidean, n_neighbors=1, weights=distance, score=0.933, total=   0.0s\n",
            "[CV] metric=euclidean, n_neighbors=1, weights=distance ...............\n",
            "[CV]  metric=euclidean, n_neighbors=1, weights=distance, score=1.000, total=   0.0s\n",
            "[CV] metric=euclidean, n_neighbors=1, weights=distance ...............\n",
            "[CV]  metric=euclidean, n_neighbors=1, weights=distance, score=0.867, total=   0.0s\n",
            "[CV] metric=euclidean, n_neighbors=1, weights=distance ...............\n",
            "[CV]  metric=euclidean, n_neighbors=1, weights=distance, score=0.933, total=   0.0s\n",
            "[CV] metric=euclidean, n_neighbors=1, weights=distance ...............\n",
            "[CV]  metric=euclidean, n_neighbors=1, weights=distance, score=1.000, total=   0.0s\n",
            "[CV] metric=euclidean, n_neighbors=5, weights=uniform ................\n",
            "[CV]  metric=euclidean, n_neighbors=5, weights=uniform, score=0.867, total=   0.0s\n",
            "[CV] metric=euclidean, n_neighbors=5, weights=uniform ................\n",
            "[CV]  metric=euclidean, n_neighbors=5, weights=uniform, score=1.000, total=   0.0s\n",
            "[CV] metric=euclidean, n_neighbors=5, weights=uniform ................\n",
            "[CV]  metric=euclidean, n_neighbors=5, weights=uniform, score=1.000, total=   0.0s\n",
            "[CV] metric=euclidean, n_neighbors=5, weights=uniform ................\n",
            "[CV]  metric=euclidean, n_neighbors=5, weights=uniform, score=0.933, total=   0.0s\n",
            "[CV] metric=euclidean, n_neighbors=5, weights=uniform ................\n",
            "[CV]  metric=euclidean, n_neighbors=5, weights=uniform, score=1.000, total=   0.0s\n",
            "[CV] metric=euclidean, n_neighbors=5, weights=distance ...............\n",
            "[CV]  metric=euclidean, n_neighbors=5, weights=distance, score=0.933, total=   0.0s\n",
            "[CV] metric=euclidean, n_neighbors=5, weights=distance ...............\n",
            "[CV]  metric=euclidean, n_neighbors=5, weights=distance, score=1.000, total=   0.0s\n",
            "[CV] metric=euclidean, n_neighbors=5, weights=distance ...............\n",
            "[CV]  metric=euclidean, n_neighbors=5, weights=distance, score=0.933, total=   0.0s\n",
            "[CV] metric=euclidean, n_neighbors=5, weights=distance ...............\n",
            "[CV]  metric=euclidean, n_neighbors=5, weights=distance, score=0.933, total=   0.0s\n",
            "[CV] metric=euclidean, n_neighbors=5, weights=distance ...............\n",
            "[CV]  metric=euclidean, n_neighbors=5, weights=distance, score=1.000, total=   0.0s\n",
            "[CV] metric=euclidean, n_neighbors=10, weights=uniform ...............\n",
            "[CV]  metric=euclidean, n_neighbors=10, weights=uniform, score=0.867, total=   0.0s\n",
            "[CV] metric=euclidean, n_neighbors=10, weights=uniform ...............\n",
            "[CV]  metric=euclidean, n_neighbors=10, weights=uniform, score=1.000, total=   0.0s\n",
            "[CV] metric=euclidean, n_neighbors=10, weights=uniform ...............\n",
            "[CV]  metric=euclidean, n_neighbors=10, weights=uniform, score=0.933, total=   0.0s\n",
            "[CV] metric=euclidean, n_neighbors=10, weights=uniform ...............\n",
            "[CV]  metric=euclidean, n_neighbors=10, weights=uniform, score=0.933, total=   0.0s\n",
            "[CV] metric=euclidean, n_neighbors=10, weights=uniform ...............\n",
            "[CV]  metric=euclidean, n_neighbors=10, weights=uniform, score=1.000, total=   0.0s\n",
            "[CV] metric=euclidean, n_neighbors=10, weights=distance ..............\n",
            "[CV]  metric=euclidean, n_neighbors=10, weights=distance, score=0.933, total=   0.0s\n",
            "[CV] metric=euclidean, n_neighbors=10, weights=distance ..............\n",
            "[CV]  metric=euclidean, n_neighbors=10, weights=distance, score=1.000, total=   0.0s\n",
            "[CV] metric=euclidean, n_neighbors=10, weights=distance ..............\n",
            "[CV]  metric=euclidean, n_neighbors=10, weights=distance, score=0.933, total=   0.0s\n",
            "[CV] metric=euclidean, n_neighbors=10, weights=distance ..............\n",
            "[CV]  metric=euclidean, n_neighbors=10, weights=distance, score=0.933, total=   0.0s\n",
            "[CV] metric=euclidean, n_neighbors=10, weights=distance ..............\n",
            "[CV]  metric=euclidean, n_neighbors=10, weights=distance, score=1.000, total=   0.0s\n",
            "[CV] metric=euclidean, n_neighbors=15, weights=uniform ...............\n",
            "[CV]  metric=euclidean, n_neighbors=15, weights=uniform, score=0.800, total=   0.0s\n",
            "[CV] metric=euclidean, n_neighbors=15, weights=uniform ...............\n",
            "[CV]  metric=euclidean, n_neighbors=15, weights=uniform, score=1.000, total=   0.0s\n",
            "[CV] metric=euclidean, n_neighbors=15, weights=uniform ...............\n",
            "[CV]  metric=euclidean, n_neighbors=15, weights=uniform, score=0.933, total=   0.0s\n",
            "[CV] metric=euclidean, n_neighbors=15, weights=uniform ...............\n",
            "[CV]  metric=euclidean, n_neighbors=15, weights=uniform, score=0.933, total=   0.0s\n",
            "[CV] metric=euclidean, n_neighbors=15, weights=uniform ...............\n",
            "[CV]  metric=euclidean, n_neighbors=15, weights=uniform, score=1.000, total=   0.0s\n",
            "[CV] metric=euclidean, n_neighbors=15, weights=distance ..............\n",
            "[CV]  metric=euclidean, n_neighbors=15, weights=distance, score=0.933, total=   0.0s\n",
            "[CV] metric=euclidean, n_neighbors=15, weights=distance ..............\n",
            "[CV]  metric=euclidean, n_neighbors=15, weights=distance, score=1.000, total=   0.0s\n",
            "[CV] metric=euclidean, n_neighbors=15, weights=distance ..............\n",
            "[CV]  metric=euclidean, n_neighbors=15, weights=distance, score=0.933, total=   0.0s\n",
            "[CV] metric=euclidean, n_neighbors=15, weights=distance ..............\n",
            "[CV]  metric=euclidean, n_neighbors=15, weights=distance, score=0.933, total=   0.0s\n",
            "[CV] metric=euclidean, n_neighbors=15, weights=distance ..............\n",
            "[CV]  metric=euclidean, n_neighbors=15, weights=distance, score=1.000, total=   0.0s\n",
            "[CV] metric=manhattan, n_neighbors=1, weights=uniform ................\n",
            "[CV]  metric=manhattan, n_neighbors=1, weights=uniform, score=0.933, total=   0.0s\n",
            "[CV] metric=manhattan, n_neighbors=1, weights=uniform ................\n",
            "[CV]  metric=manhattan, n_neighbors=1, weights=uniform, score=1.000, total=   0.0s\n",
            "[CV] metric=manhattan, n_neighbors=1, weights=uniform ................\n",
            "[CV]  metric=manhattan, n_neighbors=1, weights=uniform, score=0.867, total=   0.0s\n",
            "[CV] metric=manhattan, n_neighbors=1, weights=uniform ................\n",
            "[CV]  metric=manhattan, n_neighbors=1, weights=uniform, score=0.867, total=   0.0s\n",
            "[CV] metric=manhattan, n_neighbors=1, weights=uniform ................\n",
            "[CV]  metric=manhattan, n_neighbors=1, weights=uniform, score=0.933, total=   0.0s\n",
            "[CV] metric=manhattan, n_neighbors=1, weights=distance ...............\n",
            "[CV]  metric=manhattan, n_neighbors=1, weights=distance, score=0.933, total=   0.0s\n",
            "[CV] metric=manhattan, n_neighbors=1, weights=distance ...............\n",
            "[CV]  metric=manhattan, n_neighbors=1, weights=distance, score=1.000, total=   0.0s\n",
            "[CV] metric=manhattan, n_neighbors=1, weights=distance ...............\n",
            "[CV]  metric=manhattan, n_neighbors=1, weights=distance, score=0.867, total=   0.0s\n",
            "[CV] metric=manhattan, n_neighbors=1, weights=distance ...............\n",
            "[CV]  metric=manhattan, n_neighbors=1, weights=distance, score=0.867, total=   0.0s\n",
            "[CV] metric=manhattan, n_neighbors=1, weights=distance ...............\n"
          ]
        },
        {
          "output_type": "stream",
          "name": "stderr",
          "text": [
            "[Parallel(n_jobs=1)]: Using backend SequentialBackend with 1 concurrent workers.\n",
            "[Parallel(n_jobs=1)]: Done   1 out of   1 | elapsed:    0.0s remaining:    0.0s\n",
            "[Parallel(n_jobs=1)]: Done   2 out of   2 | elapsed:    0.0s remaining:    0.0s\n"
          ]
        },
        {
          "output_type": "stream",
          "name": "stdout",
          "text": [
            "[CV]  metric=manhattan, n_neighbors=1, weights=distance, score=0.933, total=   0.0s\n",
            "[CV] metric=manhattan, n_neighbors=5, weights=uniform ................\n",
            "[CV]  metric=manhattan, n_neighbors=5, weights=uniform, score=0.933, total=   0.0s\n",
            "[CV] metric=manhattan, n_neighbors=5, weights=uniform ................\n",
            "[CV]  metric=manhattan, n_neighbors=5, weights=uniform, score=1.000, total=   0.0s\n",
            "[CV] metric=manhattan, n_neighbors=5, weights=uniform ................\n",
            "[CV]  metric=manhattan, n_neighbors=5, weights=uniform, score=0.933, total=   0.0s\n",
            "[CV] metric=manhattan, n_neighbors=5, weights=uniform ................\n",
            "[CV]  metric=manhattan, n_neighbors=5, weights=uniform, score=0.933, total=   0.0s\n",
            "[CV] metric=manhattan, n_neighbors=5, weights=uniform ................\n",
            "[CV]  metric=manhattan, n_neighbors=5, weights=uniform, score=1.000, total=   0.0s\n",
            "[CV] metric=manhattan, n_neighbors=5, weights=distance ...............\n",
            "[CV]  metric=manhattan, n_neighbors=5, weights=distance, score=0.933, total=   0.0s\n",
            "[CV] metric=manhattan, n_neighbors=5, weights=distance ...............\n",
            "[CV]  metric=manhattan, n_neighbors=5, weights=distance, score=1.000, total=   0.0s\n",
            "[CV] metric=manhattan, n_neighbors=5, weights=distance ...............\n",
            "[CV]  metric=manhattan, n_neighbors=5, weights=distance, score=0.933, total=   0.0s\n",
            "[CV] metric=manhattan, n_neighbors=5, weights=distance ...............\n",
            "[CV]  metric=manhattan, n_neighbors=5, weights=distance, score=0.933, total=   0.0s\n",
            "[CV] metric=manhattan, n_neighbors=5, weights=distance ...............\n",
            "[CV]  metric=manhattan, n_neighbors=5, weights=distance, score=1.000, total=   0.0s\n",
            "[CV] metric=manhattan, n_neighbors=10, weights=uniform ...............\n",
            "[CV]  metric=manhattan, n_neighbors=10, weights=uniform, score=0.933, total=   0.0s\n",
            "[CV] metric=manhattan, n_neighbors=10, weights=uniform ...............\n",
            "[CV]  metric=manhattan, n_neighbors=10, weights=uniform, score=1.000, total=   0.0s\n",
            "[CV] metric=manhattan, n_neighbors=10, weights=uniform ...............\n",
            "[CV]  metric=manhattan, n_neighbors=10, weights=uniform, score=0.867, total=   0.0s\n",
            "[CV] metric=manhattan, n_neighbors=10, weights=uniform ...............\n",
            "[CV]  metric=manhattan, n_neighbors=10, weights=uniform, score=0.933, total=   0.0s\n",
            "[CV] metric=manhattan, n_neighbors=10, weights=uniform ...............\n",
            "[CV]  metric=manhattan, n_neighbors=10, weights=uniform, score=1.000, total=   0.0s\n",
            "[CV] metric=manhattan, n_neighbors=10, weights=distance ..............\n",
            "[CV]  metric=manhattan, n_neighbors=10, weights=distance, score=0.933, total=   0.0s\n",
            "[CV] metric=manhattan, n_neighbors=10, weights=distance ..............\n",
            "[CV]  metric=manhattan, n_neighbors=10, weights=distance, score=1.000, total=   0.0s\n",
            "[CV] metric=manhattan, n_neighbors=10, weights=distance ..............\n",
            "[CV]  metric=manhattan, n_neighbors=10, weights=distance, score=0.933, total=   0.0s\n",
            "[CV] metric=manhattan, n_neighbors=10, weights=distance ..............\n",
            "[CV]  metric=manhattan, n_neighbors=10, weights=distance, score=0.933, total=   0.0s\n",
            "[CV] metric=manhattan, n_neighbors=10, weights=distance ..............\n",
            "[CV]  metric=manhattan, n_neighbors=10, weights=distance, score=1.000, total=   0.0s\n",
            "[CV] metric=manhattan, n_neighbors=15, weights=uniform ...............\n",
            "[CV]  metric=manhattan, n_neighbors=15, weights=uniform, score=0.867, total=   0.0s\n",
            "[CV] metric=manhattan, n_neighbors=15, weights=uniform ...............\n",
            "[CV]  metric=manhattan, n_neighbors=15, weights=uniform, score=1.000, total=   0.0s\n",
            "[CV] metric=manhattan, n_neighbors=15, weights=uniform ...............\n",
            "[CV]  metric=manhattan, n_neighbors=15, weights=uniform, score=1.000, total=   0.0s\n",
            "[CV] metric=manhattan, n_neighbors=15, weights=uniform ...............\n",
            "[CV]  metric=manhattan, n_neighbors=15, weights=uniform, score=0.933, total=   0.0s\n",
            "[CV] metric=manhattan, n_neighbors=15, weights=uniform ...............\n",
            "[CV]  metric=manhattan, n_neighbors=15, weights=uniform, score=1.000, total=   0.0s\n",
            "[CV] metric=manhattan, n_neighbors=15, weights=distance ..............\n",
            "[CV]  metric=manhattan, n_neighbors=15, weights=distance, score=0.933, total=   0.0s\n",
            "[CV] metric=manhattan, n_neighbors=15, weights=distance ..............\n",
            "[CV]  metric=manhattan, n_neighbors=15, weights=distance, score=1.000, total=   0.0s\n",
            "[CV] metric=manhattan, n_neighbors=15, weights=distance ..............\n",
            "[CV]  metric=manhattan, n_neighbors=15, weights=distance, score=0.933, total=   0.0s\n",
            "[CV] metric=manhattan, n_neighbors=15, weights=distance ..............\n",
            "[CV]  metric=manhattan, n_neighbors=15, weights=distance, score=0.933, total=   0.0s\n",
            "[CV] metric=manhattan, n_neighbors=15, weights=distance ..............\n",
            "[CV]  metric=manhattan, n_neighbors=15, weights=distance, score=1.000, total=   0.0s\n"
          ]
        },
        {
          "output_type": "stream",
          "name": "stderr",
          "text": [
            "[Parallel(n_jobs=1)]: Done  80 out of  80 | elapsed:    0.3s finished\n"
          ]
        },
        {
          "output_type": "execute_result",
          "data": {
            "text/plain": [
              "GridSearchCV(cv=5, error_score=nan,\n",
              "             estimator=KNeighborsClassifier(algorithm='auto', leaf_size=30,\n",
              "                                            metric='minkowski',\n",
              "                                            metric_params=None, n_jobs=None,\n",
              "                                            n_neighbors=5, p=2,\n",
              "                                            weights='uniform'),\n",
              "             iid='deprecated', n_jobs=None,\n",
              "             param_grid={'metric': ['euclidean', 'manhattan'],\n",
              "                         'n_neighbors': [1, 5, 10, 15],\n",
              "                         'weights': ['uniform', 'distance']},\n",
              "             pre_dispatch='2*n_jobs', refit=True, return_train_score=False,\n",
              "             scoring=None, verbose=3)"
            ]
          },
          "metadata": {},
          "execution_count": 10
        }
      ]
    },
    {
      "cell_type": "code",
      "metadata": {
        "colab": {
          "base_uri": "https://localhost:8080/"
        },
        "id": "RMgBJt_gzvg6",
        "outputId": "6071bf38-e7f5-48e7-8416-dc5738abe20a"
      },
      "source": [
        "clf.best_params_"
      ],
      "execution_count": null,
      "outputs": [
        {
          "output_type": "execute_result",
          "data": {
            "text/plain": [
              "{'metric': 'euclidean', 'n_neighbors': 5, 'weights': 'uniform'}"
            ]
          },
          "metadata": {},
          "execution_count": 5
        }
      ]
    },
    {
      "cell_type": "code",
      "metadata": {
        "colab": {
          "base_uri": "https://localhost:8080/"
        },
        "id": "2Gr2UUTbzvb-",
        "outputId": "9507d800-3ecf-4303-9da5-c1aa548dadfc"
      },
      "source": [
        "prediction = clf.predict(X_test)\n",
        "prediction"
      ],
      "execution_count": null,
      "outputs": [
        {
          "output_type": "execute_result",
          "data": {
            "text/plain": [
              "array([0, 0, 0, 0, 0, 0, 0, 0, 0, 0, 0, 0, 0, 0, 0, 0, 0, 0, 0, 0, 0, 0,\n",
              "       0, 0, 0, 1, 1, 1, 1, 1, 1, 1, 1, 1, 1, 1, 1, 1, 1, 1, 1, 2, 1, 1,\n",
              "       1, 1, 1, 1, 1, 1, 2, 2, 2, 2, 2, 2, 2, 2, 2, 2, 2, 2, 2, 2, 2, 2,\n",
              "       2, 2, 2, 2, 2, 2, 2, 2, 2])"
            ]
          },
          "metadata": {},
          "execution_count": 6
        }
      ]
    },
    {
      "cell_type": "code",
      "metadata": {
        "colab": {
          "base_uri": "https://localhost:8080/"
        },
        "id": "ck0_BQrCzvWf",
        "outputId": "f2e74709-9ed5-40b0-c851-a3718d0807f4"
      },
      "source": [
        "print(\"\\nAccuracy score :-\\n\", metrics.accuracy_score(y_test, prediction, normalize=True))\n",
        "print(\"\\nClassification report :-\\n\", metrics.classification_report(y_test, prediction))\n",
        "print(\"\\nConfusion Matrix :-\\n\", metrics.confusion_matrix(y_test, prediction))"
      ],
      "execution_count": null,
      "outputs": [
        {
          "output_type": "stream",
          "name": "stdout",
          "text": [
            "\n",
            "Accuracy score :-\n",
            " 0.9866666666666667\n",
            "\n",
            "Classification report :-\n",
            "               precision    recall  f1-score   support\n",
            "\n",
            "           0       1.00      1.00      1.00        25\n",
            "           1       1.00      0.96      0.98        25\n",
            "           2       0.96      1.00      0.98        25\n",
            "\n",
            "    accuracy                           0.99        75\n",
            "   macro avg       0.99      0.99      0.99        75\n",
            "weighted avg       0.99      0.99      0.99        75\n",
            "\n",
            "\n",
            "Confusion Matrix :-\n",
            " [[25  0  0]\n",
            " [ 0 24  1]\n",
            " [ 0  0 25]]\n"
          ]
        }
      ]
    },
    {
      "cell_type": "markdown",
      "metadata": {
        "id": "FhdRGzvbyzy7"
      },
      "source": [
        "### **Reference**"
      ]
    },
    {
      "cell_type": "markdown",
      "metadata": {
        "id": "byzURryky2Za"
      },
      "source": [
        "- https://www.youtube.com/watch?v=rFr5Z9pshVo&list=PLzx-_kRo3HZtP3tWaieUPwAh9K4I00_6p&index=65"
      ]
    },
    {
      "cell_type": "code",
      "metadata": {
        "id": "eyzcDpOKYin0"
      },
      "source": [
        "from sklearn import svm, datasets\n",
        "from sklearn.model_selection import GridSearchCV\n",
        "iris = datasets.load_iris()"
      ],
      "execution_count": null,
      "outputs": []
    },
    {
      "cell_type": "code",
      "metadata": {
        "colab": {
          "base_uri": "https://localhost:8080/"
        },
        "id": "1v6hC-FpYqI2",
        "outputId": "248cfd7d-5a24-4f7e-fff6-5ba0d0a77022"
      },
      "source": [
        "parameters = {'kernel':('linear', 'rbf'), 'C':[1, 10]}\n",
        "svc = svm.SVC()\n",
        "clf = GridSearchCV(svc, parameters)\n",
        "\n",
        "clf.fit(iris.data, iris.target)"
      ],
      "execution_count": null,
      "outputs": [
        {
          "output_type": "execute_result",
          "data": {
            "text/plain": [
              "GridSearchCV(cv=None, error_score=nan,\n",
              "             estimator=SVC(C=1.0, break_ties=False, cache_size=200,\n",
              "                           class_weight=None, coef0=0.0,\n",
              "                           decision_function_shape='ovr', degree=3,\n",
              "                           gamma='scale', kernel='rbf', max_iter=-1,\n",
              "                           probability=False, random_state=None, shrinking=True,\n",
              "                           tol=0.001, verbose=False),\n",
              "             iid='deprecated', n_jobs=None,\n",
              "             param_grid={'C': [1, 10], 'kernel': ('linear', 'rbf')},\n",
              "             pre_dispatch='2*n_jobs', refit=True, return_train_score=False,\n",
              "             scoring=None, verbose=0)"
            ]
          },
          "metadata": {},
          "execution_count": 12
        }
      ]
    }
  ]
}