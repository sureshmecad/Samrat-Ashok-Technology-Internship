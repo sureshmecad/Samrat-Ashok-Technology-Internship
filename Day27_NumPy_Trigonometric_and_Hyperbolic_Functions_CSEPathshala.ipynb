{
  "nbformat": 4,
  "nbformat_minor": 0,
  "metadata": {
    "colab": {
      "name": "Day27_NumPy Trigonometric and Hyperbolic Functions_CSEPathshala.ipynb",
      "provenance": [],
      "collapsed_sections": [],
      "authorship_tag": "ABX9TyMZRw+2352+RxKeZFYy7oAu",
      "include_colab_link": true
    },
    "kernelspec": {
      "name": "python3",
      "display_name": "Python 3"
    },
    "language_info": {
      "name": "python"
    }
  },
  "cells": [
    {
      "cell_type": "markdown",
      "metadata": {
        "id": "view-in-github",
        "colab_type": "text"
      },
      "source": [
        "<a href=\"https://colab.research.google.com/github/sureshmecad/Samrat-Ashok-Technology-Internship/blob/main/Day27_NumPy_Trigonometric_and_Hyperbolic_Functions_CSEPathshala.ipynb\" target=\"_parent\"><img src=\"https://colab.research.google.com/assets/colab-badge.svg\" alt=\"Open In Colab\"/></a>"
      ]
    },
    {
      "cell_type": "markdown",
      "metadata": {
        "id": "MxdTdBTWY3C4"
      },
      "source": [
        "#### **1) Trigonometric Functions**\n",
        "\n",
        "- NumPy provides the ufuncs **sin(), cos() and tan()** that take values in **radians** and produce the corresponding **sin, cos and tan values**."
      ]
    },
    {
      "cell_type": "code",
      "metadata": {
        "id": "axrej1AUa_YG"
      },
      "source": [
        "import numpy as np"
      ],
      "execution_count": 1,
      "outputs": []
    },
    {
      "cell_type": "code",
      "metadata": {
        "colab": {
          "base_uri": "https://localhost:8080/"
        },
        "id": "R55Rd57SYTvl",
        "outputId": "1cda950b-6413-4f79-b6da-f419e866fbab"
      },
      "source": [
        "# Find sine value of PI/2\n",
        "\n",
        "x = np.sin(np.pi/2)\n",
        "print(x)"
      ],
      "execution_count": 2,
      "outputs": [
        {
          "output_type": "stream",
          "name": "stdout",
          "text": [
            "1.0\n"
          ]
        }
      ]
    },
    {
      "cell_type": "code",
      "metadata": {
        "colab": {
          "base_uri": "https://localhost:8080/"
        },
        "id": "-LjfuAtxY2T4",
        "outputId": "ce16e1e7-649d-4138-8442-feea451e5660"
      },
      "source": [
        "# Find sine values for all of the values in arr\n",
        "\n",
        "arr = np.array([np.pi/2, np.pi/3, np.pi/4, np.pi/5])\n",
        "x = np.sin(arr)\n",
        "print(x)"
      ],
      "execution_count": 3,
      "outputs": [
        {
          "output_type": "stream",
          "name": "stdout",
          "text": [
            "[1.         0.8660254  0.70710678 0.58778525]\n"
          ]
        }
      ]
    },
    {
      "cell_type": "markdown",
      "metadata": {
        "id": "94shEEONkpzD"
      },
      "source": [
        "#### **a) Convert Degrees into Radians**\n",
        "\n",
        "- By default all of the **trigonometric** functions take **radians** as parameters but we can convert **radians to degree and vice versa** as well in NumPy\n",
        "\n",
        "- **Note** Radians values are **pi/180 * degree_values**"
      ]
    },
    {
      "cell_type": "code",
      "metadata": {
        "colab": {
          "base_uri": "https://localhost:8080/"
        },
        "id": "I8vMj2D2Y2OP",
        "outputId": "0c2f4af8-ab56-44ac-9722-3c53b9b85de1"
      },
      "source": [
        "# Convert all of the values in following array to radians\n",
        "\n",
        "arr = np.array([90, 180, 270, 360])\n",
        "x = np.deg2rad(arr)\n",
        "print(x)"
      ],
      "execution_count": 4,
      "outputs": [
        {
          "output_type": "stream",
          "name": "stdout",
          "text": [
            "[1.57079633 3.14159265 4.71238898 6.28318531]\n"
          ]
        }
      ]
    },
    {
      "cell_type": "markdown",
      "metadata": {
        "id": "qlToZSDHmKGl"
      },
      "source": [
        "#### **b) Radians to Degrees**"
      ]
    },
    {
      "cell_type": "code",
      "metadata": {
        "colab": {
          "base_uri": "https://localhost:8080/"
        },
        "id": "Y0o49C_DY1__",
        "outputId": "f9cf7299-62c6-45e3-b0de-695626f3da8c"
      },
      "source": [
        "# Convert all of the values in following array to degrees\n",
        "\n",
        "arr = np.array([np.pi/2, np.pi, 1.5*np.pi, 2*np.pi])\n",
        "x = np.rad2deg(arr)\n",
        "print(x)"
      ],
      "execution_count": 5,
      "outputs": [
        {
          "output_type": "stream",
          "name": "stdout",
          "text": [
            "[ 90. 180. 270. 360.]\n"
          ]
        }
      ]
    },
    {
      "cell_type": "markdown",
      "metadata": {
        "id": "aP3mzjxbm5Dm"
      },
      "source": [
        "#### **2) Finding Angles**\n",
        "\n",
        "- Finding **angles** from values of **sin, cos, tan**.\n",
        "\n",
        "- E.g. **sin, cos and tan inverse (arcsin, arccos, arctan)**\n",
        "\n",
        "- NumPy provides ufuncs **arcsin(), arccos() and arctan()** that produce **radian** values for corresponding **sin, cos and tan** values given"
      ]
    },
    {
      "cell_type": "code",
      "metadata": {
        "colab": {
          "base_uri": "https://localhost:8080/"
        },
        "id": "QEoNdx35Y14J",
        "outputId": "4b682a74-4aa6-4d1f-9f5d-2c8f7f04e0fa"
      },
      "source": [
        "# Find the angle of 1.0\n",
        "\n",
        "x = np.arcsin(1.0)\n",
        "print(x)"
      ],
      "execution_count": 6,
      "outputs": [
        {
          "output_type": "stream",
          "name": "stdout",
          "text": [
            "1.5707963267948966\n"
          ]
        }
      ]
    },
    {
      "cell_type": "markdown",
      "metadata": {
        "id": "FF6-ua2So_Qp"
      },
      "source": [
        "##### **a) Angles of Each Values in Arrays** "
      ]
    },
    {
      "cell_type": "code",
      "metadata": {
        "colab": {
          "base_uri": "https://localhost:8080/"
        },
        "id": "QzFVw4HcY13g",
        "outputId": "cf23b4cc-6b3c-417f-d083-f93ffe4ea8bb"
      },
      "source": [
        "# Find the angle for all of the sine values in the array\n",
        "\n",
        "arr = np.array([1, -1, 0.1])\n",
        "x = np.arcsin(arr)\n",
        "print(x)"
      ],
      "execution_count": 7,
      "outputs": [
        {
          "output_type": "stream",
          "name": "stdout",
          "text": [
            "[ 1.57079633 -1.57079633  0.10016742]\n"
          ]
        }
      ]
    },
    {
      "cell_type": "markdown",
      "metadata": {
        "id": "iC81RNLWppoy"
      },
      "source": [
        "##### **b) Hypotenuse**\n",
        "\n",
        "- Finding **hypotenuse** using **pythagoras theorem** in NumPy\n",
        "\n",
        "- NumPy provides the **hypot()** function that takes the base and perpendicular values and produces hypotenuse based based on Pythagoras theorem."
      ]
    },
    {
      "cell_type": "code",
      "metadata": {
        "colab": {
          "base_uri": "https://localhost:8080/"
        },
        "id": "UywH9TyFY1uv",
        "outputId": "c08093ab-418f-4cca-efa4-92418c4e95c0"
      },
      "source": [
        "# Find the hypotenuse for 4 base and 3 perpendicular\n",
        "\n",
        "base = 3\n",
        "perp = 4\n",
        "\n",
        "x = np.hypot(base, perp)\n",
        "print(x)"
      ],
      "execution_count": 8,
      "outputs": [
        {
          "output_type": "stream",
          "name": "stdout",
          "text": [
            "5.0\n"
          ]
        }
      ]
    },
    {
      "cell_type": "markdown",
      "metadata": {
        "id": "GGUWb5EqrTOw"
      },
      "source": [
        "##### **c) Hyperbolic Functions**\n",
        "\n",
        "- The hyperbolic functions are defined through the algebraic expressions that include the **exponential function (ex)** and its **inverse exponential functions (e-x)**, where **e** is the **Euler's constant**"
      ]
    },
    {
      "cell_type": "markdown",
      "metadata": {
        "id": "oa1tAb-dtH8D"
      },
      "source": [
        "![1.JPG](data:image/jpeg;base64,/9j/4AAQSkZJRgABAQEAYABgAAD/4REiRXhpZgAATU0AKgAAAAgABAE7AAIAAAAdAAAISodpAAQAAAABAAAIaJydAAEAAAA6AAAQ4OocAAcAAAgMAAAAPgAAAAAc6gAAAAgAAAAAAAAAAAAAAAAAAAAAAAAAAAAAAAAAAAAAAAAAAAAAAAAAAAAAAAAAAAAAAAAAAAAAAAAAAAAAAAAAAAAAAAAAAAAAAAAAAAAAAAAAAAAAAAAAAAAAAAAAAAAAAAAAAAAAAAAAAAAAAAAAAAAAAAAAAAAAAAAAAAAAAAAAAAAAAAAAAAAAAAAAAAAAAAAAAAAAAAAAAAAAAAAAAAAAAAAAAAAAAAAAAAAAAAAAAAAAAAAAAAAAAAAAAAAAAAAAAAAAAAAAAAAAAAAAAAAAAAAAAAAAAAAAAAAAAAAAAAAAAAAAAAAAAAAAAAAAAAAAAAAAAAAAAAAAAAAAAAAAAAAAAAAAAAAAAAAAAAAAAAAAAAAAAAAAAAAAAAAAAAAAAAAAAAAAAAAAAAAAAAAAAAAAAAAAAAAAAAAAAAAAAAAAAAAAAAAAAAAAAAAAAAAAAAAAAAAAAAAAAAAAAAAAAAAAAAAAAAAAAAAAAAAAAAAAAAAAAAAAAAAAAAAAAAAAAAAAAAAAAAAAAAAAAAAAAAAAAAAAAAAAAAAAAAAAAAAAAAAAAAAAAAAAAAAAAAAAAAAAAAAAAAAAAAAAAAAAAAAAAAAAAAAAAAAAAAAAAAAAAAAAAAAAAAAAAAAAAAAAAAAAAAAAAAAAAAAAAAAAAAAAAAAAAAAAAAAAAAAAAAAAAAAAAAAAAAAAAAAAAAAAAAAAAAAAAAAAAAAAAAAAAAAAAAAAAAAAAAAAAAAAAAAAAAAAAAAAAAAAAAAAAAAAAAAAAAAAAAAAAAAAAAAAAAAAAAAAAAAAAAAAAAAAAAAAAAAAAAAAAAAAAAAAAAAAAAAAAAAAAAAAAAAAAAAAAAAAAAAAAAAAAAAAAAAAAAAAAAAAAAAAAAAAAAAAAAAAAAAAAAAAAAAAAAAAAAAAAAAAAAAAAAAAAAAAAAAAAAAAAAAAAAAAAAAAAAAAAAAAAAAAAAAAAAAAAAAAAAAAAAAAAAAAAAAAAAAAAAAAAAAAAAAAAAAAAAAAAAAAAAAAAAAAAAAAAAAAAAAAAAAAAAAAAAAAAAAAAAAAAAAAAAAAAAAAAAAAAAAAAAAAAAAAAAAAAAAAAAAAAAAAAAAAAAAAAAAAAAAAAAAAAAAAAAAAAAAAAAAAAAAAAAAAAAAAAAAAAAAAAAAAAAAAAAAAAAAAAAAAAAAAAAAAAAAAAAAAAAAAAAAAAAAAAAAAAAAAAAAAAAAAAAAAAAAAAAAAAAAAAAAAAAAAAAAAAAAAAAAAAAAAAAAAAAAAAAAAAAAAAAAAAAAAAAAAAAAAAAAAAAAAAAAAAAAAAAAAAAAAAAAAAAAAAAAAAAAAAAAAAAAAAAAAAAAAAAAAAAAAAAAAAAAAAAAAAAAAAAAAAAAAAAAAAAAAAAAAAAAAAAAAAAAAAAAAAAAAAAAAAAAAAAAAAAAAAAAAAAAAAAAAAAAAAAAAAAAAAAAAAAAAAAAAAAAAAAAAAAAAAAAAAAAAAAAAAAAAAAAAAAAAAAAAAAAAAAAAAAAAAAAAAAAAAAAAAAAAAAAAAAAAAAAAAAAAAAAAAAAAAAAAAAAAAAAAAAAAAAAAAAAAAAAAAAAAAAAAAAAAAAAAAAAAAAAAAAAAAAAAAAAAAAAAAAAAAAAAAAAAAAAAAAAAAAAAAAAAAAAAAAAAAAAAAAAAAAAAAAAAAAAAAAAAAAAAAAAAAAAAAAAAAAAAAAAAAAAAAAAAAAAAAAAAAAAAAAAAAAAAAAAAAAAAAAAAAAAAAAAAAAAAAAAAAAAAAAAAAAAAAAAAAAAAAAAAAAAAAAAAAAAAAAAAAAAAAAAAAAAAAAAAAAAAAAAAAAAAAAAAAAAAAAAAAAAAAAAAAAAAAAAAAAAAAAAAAAAAAAAAAAAAAAAAAAAAAAAAAAAAAAAAAAAAAAAAAAAAAAAAAAAAAAAAAAAAAAAAAAAAAAAAAAAAAAAAAAAAAAAAAAAAAAAAAAAAAAAAAAAAAAAAAAAAAAAAAAAAAAAAAAAAAAAAAAAAAAAAAAAAAAAAAAAAAAAAAAAAAAAAAAAAAAAAAAAAAAAAAAAAAAAAAAAAAAAAAAAAAAAAAAAAAAAAAAAAAAAAAAAAAAAAAAAAAAAAAAAAAAAAAAAAAAAAAAAAAAAAAAAAAAAAAAAAAAAAAAAAAAAAAAAAAAAAAAAAAAAAAAAAAAAAAAAAAAAAAAAAAAAAAAAAAAAAAAAAAAAAAAAAAAAAAAAAAAAAAAAAAAAAAAAAAAAAAAAAAAAAAAAAAAAAAAAAAAAAAAAAAAAAAAAAAAAAAAAAAAAAAAAAAAAAAAAAAAAAAAAAAAAAAAAAAAAAAAAAAAAAAAAAAAAAAAAAAAAAAAAAAAAAAAAAAAAAAAAAAAAAAAAAAAAAAAAAAAAAAAAAAAAAAAAAAAAAAAAAAAAAAAAAAAAAAAAAAAAAAAAAAAAAAAAAAAAAAAAAAAAAAAAAAAAAAAAAAAAAAAAAAAAAAAAAAAAAAAAAAAAAAAAAAAAAAAAAAAAAAAAAAAAAAAAAAAAAAAAAAAAAAAAAAAAAAAAAAAAAAAAAAAAAAAAAAAAAAAAAAAAAAAAAAAAAAAAAAAAAAAAAAAAAAAAAAAAAAAAAAAAAAAAAAAAAAAAAAAAAAAAAAAAAAAAAAAAAAAAAAAAAAAAAAAAAAAAAAAAAAAAAAAAAAAAAAAAAAAAAAAAAAAAAAAAAAAAAAAAAAAAAAAAAAAAAAAAAAAAAAAAAAEFudWdhbnRpIFN1cmVzaCAoQ29uc3VsdGFudCkAAAAFkAMAAgAAABQAABC2kAQAAgAAABQAABDKkpEAAgAAAAMxOQAAkpIAAgAAAAMxOQAA6hwABwAACAwAAAiqAAAAABzqAAAACAAAAAAAAAAAAAAAAAAAAAAAAAAAAAAAAAAAAAAAAAAAAAAAAAAAAAAAAAAAAAAAAAAAAAAAAAAAAAAAAAAAAAAAAAAAAAAAAAAAAAAAAAAAAAAAAAAAAAAAAAAAAAAAAAAAAAAAAAAAAAAAAAAAAAAAAAAAAAAAAAAAAAAAAAAAAAAAAAAAAAAAAAAAAAAAAAAAAAAAAAAAAAAAAAAAAAAAAAAAAAAAAAAAAAAAAAAAAAAAAAAAAAAAAAAAAAAAAAAAAAAAAAAAAAAAAAAAAAAAAAAAAAAAAAAAAAAAAAAAAAAAAAAAAAAAAAAAAAAAAAAAAAAAAAAAAAAAAAAAAAAAAAAAAAAAAAAAAAAAAAAAAAAAAAAAAAAAAAAAAAAAAAAAAAAAAAAAAAAAAAAAAAAAAAAAAAAAAAAAAAAAAAAAAAAAAAAAAAAAAAAAAAAAAAAAAAAAAAAAAAAAAAAAAAAAAAAAAAAAAAAAAAAAAAAAAAAAAAAAAAAAAAAAAAAAAAAAAAAAAAAAAAAAAAAAAAAAAAAAAAAAAAAAAAAAAAAAAAAAAAAAAAAAAAAAAAAAAAAAAAAAAAAAAAAAAAAAAAAAAAAAAAAAAAAAAAAAAAAAAAAAAAAAAAAAAAAAAAAAAAAAAAAAAAAAAAAAAAAAAAAAAAAAAAAAAAAAAAAAAAAAAAAAAAAAAAAAAAAAAAAAAAAAAAAAAAAAAAAAAAAAAAAAAAAAAAAAAAAAAAAAAAAAAAAAAAAAAAAAAAAAAAAAAAAAAAAAAAAAAAAAAAAAAAAAAAAAAAAAAAAAAAAAAAAAAAAAAAAAAAAAAAAAAAAAAAAAAAAAAAAAAAAAAAAAAAAAAAAAAAAAAAAAAAAAAAAAAAAAAAAAAAAAAAAAAAAAAAAAAAAAAAAAAAAAAAAAAAAAAAAAAAAAAAAAAAAAAAAAAAAAAAAAAAAAAAAAAAAAAAAAAAAAAAAAAAAAAAAAAAAAAAAAAAAAAAAAAAAAAAAAAAAAAAAAAAAAAAAAAAAAAAAAAAAAAAAAAAAAAAAAAAAAAAAAAAAAAAAAAAAAAAAAAAAAAAAAAAAAAAAAAAAAAAAAAAAAAAAAAAAAAAAAAAAAAAAAAAAAAAAAAAAAAAAAAAAAAAAAAAAAAAAAAAAAAAAAAAAAAAAAAAAAAAAAAAAAAAAAAAAAAAAAAAAAAAAAAAAAAAAAAAAAAAAAAAAAAAAAAAAAAAAAAAAAAAAAAAAAAAAAAAAAAAAAAAAAAAAAAAAAAAAAAAAAAAAAAAAAAAAAAAAAAAAAAAAAAAAAAAAAAAAAAAAAAAAAAAAAAAAAAAAAAAAAAAAAAAAAAAAAAAAAAAAAAAAAAAAAAAAAAAAAAAAAAAAAAAAAAAAAAAAAAAAAAAAAAAAAAAAAAAAAAAAAAAAAAAAAAAAAAAAAAAAAAAAAAAAAAAAAAAAAAAAAAAAAAAAAAAAAAAAAAAAAAAAAAAAAAAAAAAAAAAAAAAAAAAAAAAAAAAAAAAAAAAAAAAAAAAAAAAAAAAAAAAAAAAAAAAAAAAAAAAAAAAAAAAAAAAAAAAAAAAAAAAAAAAAAAAAAAAAAAAAAAAAAAAAAAAAAAAAAAAAAAAAAAAAAAAAAAAAAAAAAAAAAAAAAAAAAAAAAAAAAAAAAAAAAAAAAAAAAAAAAAAAAAAAAAAAAAAAAAAAAAAAAAAAAAAAAAAAAAAAAAAAAAAAAAAAAAAAAAAAAAAAAAAAAAAAAAAAAAAAAAAAAAAAAAAAAAAAAAAAAAAAAAAAAAAAAAAAAAAAAAAAAAAAAAAAAAAAAAAAAAAAAAAAAAAAAAAAAAAAAAAAAAAAAAAAAAAAAAAAAAAAAAAAAAAAAAAAAAAAAAAAAAAAAAAAAAAAAAAAAAAAAAAAAAAAAAAAAAAAAAAAAAAAAAAAAAAAAAAAAAAAAAAAAAAAAAAAAAAAAAAAAAAAAAAAAAAAAAAAAAAAAAAAAAAAAAAAAAAAAAAAAAAAAAAAAAAAAAAAAAAAAAAAAAAAAAAAAAAAAAAAAAAAAAAAAAAAAAAAAAAAAAAAAAAAAAAAAAAAAAAAAAAAAAAAAAAAAAAAAAAAAAAAAAAAAAAAAAAAAAAAAAAAAAAAAAAAAAAAAAAAAAAAAAAAAAAAAAAAAAAAAAAAAAAAAAAAAAAAAAAAAAAAAAAAAAAAAAAAAAAAAAAAAAAAAAAAAAAAAAAAAAAAAAAAAAAAAAAAAAAAAAAAAAAAAAAAAAAAAAAAAAAAAAAAAAAAAAAAAAAAAAAAAAAAAAAAAAAAAAAAAAAAAAAAAAAAAAAAAAAAAAAAAAAAAAAAAAAAAAAAAAAAAAAAAAAAAAAAAAAAAAAAAAAAAAAAAAAAAAAAAAAAAAAAAAAAAAAAAAAAAAAAAAAAAAAAAAAAAAAAAAAAAAAAAAAAAAAAAAAAAAAAAAAAAAAAAAAAAAAAAAAAAAAAAAAAAAAAAAAAAAAAAAAAAAAAAAAAAAAAAAAAAAAAAAAAAAAAAAAAAAAAAAAAAAAAAAAAAAAAAAAAAAAAAAAAAAAAAAAAAAAAAAAAAAAAAAAAAAAAAAAAAAAAAAAAAAAAAAAAAAAAAAAAAAAAAAAAAAAAAAAAAAAAAAAAAAAAAAAAAAAAAAAAAAAAAAAAAAAAAAAAAAAAAAAAAAAAAAAAAAAAAAAAAAAAAAAAAAAAAAAAAAAAAAAAAAAAAAAAAAAAAAAAAAAAAAAAAAAAAAAAAMjAyMToxMDoxNSAyMTozNjoyMQAyMDIxOjEwOjE1IDIxOjM2OjIxAAAAQQBuAHUAZwBhAG4AdABpACAAUwB1AHIAZQBzAGgAIAAoAEMAbwBuAHMAdQBsAHQAYQBuAHQAKQAAAP/hCy9odHRwOi8vbnMuYWRvYmUuY29tL3hhcC8xLjAvADw/eHBhY2tldCBiZWdpbj0n77u/JyBpZD0nVzVNME1wQ2VoaUh6cmVTek5UY3prYzlkJz8+DQo8eDp4bXBtZXRhIHhtbG5zOng9ImFkb2JlOm5zOm1ldGEvIj48cmRmOlJERiB4bWxuczpyZGY9Imh0dHA6Ly93d3cudzMub3JnLzE5OTkvMDIvMjItcmRmLXN5bnRheC1ucyMiPjxyZGY6RGVzY3JpcHRpb24gcmRmOmFib3V0PSJ1dWlkOmZhZjViZGQ1LWJhM2QtMTFkYS1hZDMxLWQzM2Q3NTE4MmYxYiIgeG1sbnM6ZGM9Imh0dHA6Ly9wdXJsLm9yZy9kYy9lbGVtZW50cy8xLjEvIi8+PHJkZjpEZXNjcmlwdGlvbiByZGY6YWJvdXQ9InV1aWQ6ZmFmNWJkZDUtYmEzZC0xMWRhLWFkMzEtZDMzZDc1MTgyZjFiIiB4bWxuczp4bXA9Imh0dHA6Ly9ucy5hZG9iZS5jb20veGFwLzEuMC8iPjx4bXA6Q3JlYXRlRGF0ZT4yMDIxLTEwLTE1VDIxOjM2OjIxLjE4OTwveG1wOkNyZWF0ZURhdGU+PC9yZGY6RGVzY3JpcHRpb24+PHJkZjpEZXNjcmlwdGlvbiByZGY6YWJvdXQ9InV1aWQ6ZmFmNWJkZDUtYmEzZC0xMWRhLWFkMzEtZDMzZDc1MTgyZjFiIiB4bWxuczpkYz0iaHR0cDovL3B1cmwub3JnL2RjL2VsZW1lbnRzLzEuMS8iPjxkYzpjcmVhdG9yPjxyZGY6U2VxIHhtbG5zOnJkZj0iaHR0cDovL3d3dy53My5vcmcvMTk5OS8wMi8yMi1yZGYtc3ludGF4LW5zIyI+PHJkZjpsaT5BbnVnYW50aSBTdXJlc2ggKENvbnN1bHRhbnQpPC9yZGY6bGk+PC9yZGY6U2VxPg0KCQkJPC9kYzpjcmVhdG9yPjwvcmRmOkRlc2NyaXB0aW9uPjwvcmRmOlJERj48L3g6eG1wbWV0YT4NCiAgICAgICAgICAgICAgICAgICAgICAgICAgICAgICAgICAgICAgICAgICAgICAgICAgICAgICAgICAgICAgICAgICAgICAgICAgICAgICAgICAgICAgICAgICAgICAgICAgICAKICAgICAgICAgICAgICAgICAgICAgICAgICAgICAgICAgICAgICAgICAgICAgICAgICAgICAgICAgICAgICAgICAgICAgICAgICAgICAgICAgICAgICAgICAgICAgICAgICAgIAogICAgICAgICAgICAgICAgICAgICAgICAgICAgICAgICAgICAgICAgICAgICAgICAgICAgICAgICAgICAgICAgICAgICAgICAgICAgICAgICAgICAgICAgICAgICAgICAgICAgCiAgICAgICAgICAgICAgICAgICAgICAgICAgICAgICAgICAgICAgICAgICAgICAgICAgICAgICAgICAgICAgICAgICAgICAgICAgICAgICAgICAgICAgICAgICAgICAgICAgICAKICAgICAgICAgICAgICAgICAgICAgICAgICAgICAgICAgICAgICAgICAgICAgICAgICAgICAgICAgICAgICAgICAgICAgICAgICAgICAgICAgICAgICAgICAgICAgICAgICAgIAogICAgICAgICAgICAgICAgICAgICAgICAgICAgICAgICAgICAgICAgICAgICAgICAgICAgICAgICAgICAgICAgICAgICAgICAgICAgICAgICAgICAgICAgICAgICAgICAgICAgCiAgICAgICAgICAgICAgICAgICAgICAgICAgICAgICAgICAgICAgICAgICAgICAgICAgICAgICAgICAgICAgICAgICAgICAgICAgICAgICAgICAgICAgICAgICAgICAgICAgICAKICAgICAgICAgICAgICAgICAgICAgICAgICAgICAgICAgICAgICAgICAgICAgICAgICAgICAgICAgICAgICAgICAgICAgICAgICAgICAgICAgICAgICAgICAgICAgICAgICAgIAogICAgICAgICAgICAgICAgICAgICAgICAgICAgICAgICAgICAgICAgICAgICAgICAgICAgICAgICAgICAgICAgICAgICAgICAgICAgICAgICAgICAgICAgICAgICAgICAgICAgCiAgICAgICAgICAgICAgICAgICAgICAgICAgICAgICAgICAgICAgICAgICAgICAgICAgICAgICAgICAgICAgICAgICAgICAgICAgICAgICAgICAgICAgICAgICAgICAgICAgICAKICAgICAgICAgICAgICAgICAgICAgICAgICAgICAgICAgICAgICAgICAgICAgICAgICAgICAgICAgICAgICAgICAgICAgICAgICAgICAgICAgICAgICAgICAgICAgICAgICAgIAogICAgICAgICAgICAgICAgICAgICAgICAgICAgICAgICAgICAgICAgICAgICAgICAgICAgICAgICAgICAgICAgICAgICAgICAgICAgICAgICAgICAgICAgICAgICAgICAgICAgCiAgICAgICAgICAgICAgICAgICAgICAgICAgICAgICAgICAgICAgICAgICAgICAgICAgICAgICAgICAgICAgICAgICAgICAgICAgICAgICAgICAgICAgICAgICAgICAgICAgICAKICAgICAgICAgICAgICAgICAgICAgICAgICAgICAgICAgICAgICAgICAgICAgICAgICAgICAgICAgICAgICAgICAgICAgICAgICAgICAgICAgICAgICAgICAgICAgICAgICAgIAogICAgICAgICAgICAgICAgICAgICAgICAgICAgICAgICAgICAgICAgICAgICAgICAgICAgICAgICAgICAgICAgICAgICAgICAgICAgICAgICAgICAgICAgICAgICAgICAgICAgCiAgICAgICAgICAgICAgICAgICAgICAgICAgICAgICAgICAgICAgICAgICAgICAgICAgICAgICAgICAgICAgICAgICAgICAgICAgICAgICAgICAgICAgICAgICAgICAgICAgICAKICAgICAgICAgICAgICAgICAgICAgICAgICAgICAgICAgICAgICAgICAgICAgICAgICAgICAgICAgICAgICAgICAgICAgICAgICAgICAgICAgICAgICAgICAgICAgICAgICAgIAogICAgICAgICAgICAgICAgICAgICAgICAgICAgICAgICAgICAgICAgICAgICAgICAgICAgICAgICAgICAgICAgICAgICAgICAgICAgICAgICAgICAgICAgICAgICAgICAgICAgCiAgICAgICAgICAgICAgICAgICAgICAgICAgICAgICAgICAgICAgICAgICAgICAgICAgICAgICAgICAgICAgICAgICAgICAgICAgICAgICAgICAgICAgICAgICAgICAgICAgICAKICAgICAgICAgICAgICAgICAgICAgICAgICAgICAgICAgICAgICAgICAgICAgICAgICAgICAgICAgICAgICAgICAgICAgICAgICAgICAgICAgICAgICAgICAgICAgICAgICAgIAogICAgICAgICAgICAgICAgICAgICAgICAgICAgPD94cGFja2V0IGVuZD0ndyc/Pv/bAEMABwUFBgUEBwYFBggHBwgKEQsKCQkKFQ8QDBEYFRoZGBUYFxseJyEbHSUdFxgiLiIlKCkrLCsaIC8zLyoyJyorKv/bAEMBBwgICgkKFAsLFCocGBwqKioqKioqKioqKioqKioqKioqKioqKioqKioqKioqKioqKioqKioqKioqKioqKioqKv/AABEIACUBFAMBIgACEQEDEQH/xAAfAAABBQEBAQEBAQAAAAAAAAAAAQIDBAUGBwgJCgv/xAC1EAACAQMDAgQDBQUEBAAAAX0BAgMABBEFEiExQQYTUWEHInEUMoGRoQgjQrHBFVLR8CQzYnKCCQoWFxgZGiUmJygpKjQ1Njc4OTpDREVGR0hJSlNUVVZXWFlaY2RlZmdoaWpzdHV2d3h5eoOEhYaHiImKkpOUlZaXmJmaoqOkpaanqKmqsrO0tba3uLm6wsPExcbHyMnK0tPU1dbX2Nna4eLj5OXm5+jp6vHy8/T19vf4+fr/xAAfAQADAQEBAQEBAQEBAAAAAAAAAQIDBAUGBwgJCgv/xAC1EQACAQIEBAMEBwUEBAABAncAAQIDEQQFITEGEkFRB2FxEyIygQgUQpGhscEJIzNS8BVictEKFiQ04SXxFxgZGiYnKCkqNTY3ODk6Q0RFRkdISUpTVFVWV1hZWmNkZWZnaGlqc3R1dnd4eXqCg4SFhoeIiYqSk5SVlpeYmZqio6Slpqeoqaqys7S1tre4ubrCw8TFxsfIycrS09TV1tfY2dri4+Tl5ufo6ery8/T19vf4+fr/2gAMAwEAAhEDEQA/APpCiiobu7t7Czlu7yVYYIVLySOcBQO5oAmorFtvFmm3DRAechmhaeHfER5sYGSw/Crmjaxaa9pMOo6azvbzZ2F0KHg46HmgC9RWRrnifSvDc1hHq9wYG1CcW9v8pO+Q9B7Vr0AFFFFABRRWXb+IdPufEdzoUErPf2kayzJt4VW6HNAGpRVDWtb0/wAP6a+oavcLbWsZAeVgSFzwM4qza3UN7ax3Ns++GVdyNjG4etAE1FFI7pGuZGVB0yxxQAtFYa+M9DkTUjDe+adL3fbFRCTDjrnirH/CR6Z/Y1pqouM2l5s8h8ff3dKANSiuY0X4h+G9f8SXOg6bes2o26ljC8ZTeoOCVz1FdPQAUUUUAFFZOt+JtK8OS2CavcGA6hOLe3O0ndIei03X9ck0NYpf7PkuoZGEZeNwNrk4UYPqe9AGxRUds8kttG88JgkZQWjLbtp9MjrUlABRRWXa+IrC88RXmiQSM19ZIklwm3hFblefegDUoqhrGtafoGnG/wBXuVtrVWCtKwOAScDOOlWra5iu7ZLi3bfFIu5Wx1FAEtFRx3EM0kiRSI7xEB1VslSfWpKACiqGr65puhafLe6rdpb28IBkdudoJxkgc4qofFeknUdNsluCZdURntCFO2UKMnB+nNAG1RXP6/420Tw1Hctqlw4+yqrSLFGXYbumAOtXvD/iDTPFGiw6tod0t1ZzZ2uvqOoI7EUAaVFFFABWN4vh0658H6nBrbMuny27JOU6hTxkVs0yWJJ4mjlRXjYYZWGQR6UAeG6CvinwHrcfhy61ddf8P3VhPLp99jM1kFTIyew6CqFh4v1u/wDD/wAOFbX7qN9UubmK+eJgrSqudoPHFe8x6VYQlvKs4U3rsYKgGV9PpTF0TS0WJU061UQnMYEK/J6444oA+d7vWbvxJ4K8GtrGoyzTp4qktxcM37wIpIHPqB3r1D4Pa7e6vpuu2+oXsl9/Z+rTW8Usxy3ljGAT3ruf7F0vaqjTrXajF0XyVwrf3gMcH3qW2sbSy3/YraKDzG3P5aBdx9TjqaAPJfEfiG88O/Gmxsb3X7lvD2sFYyivxaXC8hM9g3GRXe+MrLW723t18PvOrqxMnk3Qh4x3JHNbMukadOxaext5WL7yZIwfm9ee/vVygDj/AAbpviOyv7l/EEt00TRgRia9Ewzn0A4rj9Z1G+0fxt8QtS0mMyX1tosbwgDJ3DPOPbr+Fev4rn7LwpHZ+N9T8RfaWc6hbpA9sVG1QvfPvQBxnguxvvGfhy5Oq+IIb7SdX0+IPbxPvlhlx85JI+XJ7etdTbR6/wCG7G30nSdKOq2lrEI47q5vVR2A6AjHbpXQ2WmWOmK66dZwWqu25hCgUE+vFWqAOV8Vazrem/DPVdVisBDq0Fq7xwJIJNrDoQR1x1rmfh9bXPi3SI73XNVtdY0u9tIpltfNLvFOPvMSMY57V6g6q6FXUMp4IIyDVWx0ux0xGTTrOG1VzuYQxhQT+FAHGeJfCNtpOmeKdegurhpb3S5IpoCR5ZCqdpxjqBxms/waw1Kx8JWUuPs2maQl7PuHG5l2qD+GTXfa7pf9t+H77TDKYReQNCZAMlQwxmoNA0GDQfD9ppikT/Z7dbdpnQBpVUYG6gDzXRvE3g3XvjFNrkOqwCfT7SSztbaKM5ZRlpJW46dhXo1j4msdf8Jy634anS+hMMjQMoPzuoPGDz1GKtW+g6TaSGS00yzgkIILxwKpIPXkCnaTpFnolgLTT4lii3s5CgAFick4FAHjnh/xJrl/8NL/AMZ2OuXNxrMNhOlzpLruCTK/Dbeq7R045qCw8R+KLuebTNF1dnFz4aivGurmTKwXZI7/AMO7OMV7Zb6Tp1pPNNbWUEUlxnzWSMDzM+vrSQ6Pp1vDJFBY28aS48xVjADfWjoB88az4guvE2g+G7bXFu7LUrXxTDa3CyPv8tgnJjf0PX2rrPB2uXmreEtbg1K/lvv7P8Ri3hknOWCCQYBPevWxo+m+WqNYWxRG3qDEDtb1HHX3qCfwzotwwaXTLfIyflTbknqTjqfekB5le+JL3QfjlHpepa7czaBqzA2+JMrb3IH+pyOin0Nd340sNcv7W2Hh6SdHVyZPJuhDke5IOa1Y/D+kxQRwpp1tsjO5MxglW9QTzn3rRGcdqYHIeDtN8R2V7O3iCS4eIx4TzrwTDOfQAYrjdV1K+0Xxv8StT0ePzL230m2eFcZ+YKf5da9hrnrHwolj421bxCLppDqkMUUluyDagQYGD796AOM8F6deeNvCs7apr6X+kaxZRM0Eb75Y5f8Alpkn7oJ7dsV6BY6TcaV4Zh0uwvneW3iEUVzdDzGOOm4cZ4q1ZaZY6arrp1nBaq7bmEKBQT+FW6APPvCeneI4fF3iCS51G3MRu4jJ/oZXzhs/hOeP1rO+JniTU7Lxx4d0C3vBptlqcU2bt32L5wHyKW7euO9eo1WvtMsdThWPUbOG6RG3Ks0YbafUZ6UAc7beEIdT8ObdckjudSu7P7NeX0H/AC2XvjPFcpqmkp4c+IHw40mO5muYbVbuNJZzl9ojyAT7DivVVVUUKgCqBgADpWBrHhRdX8XaJrkl48f9k+bttwgKymRdpyfpQBytz4m0rw34N1LxbrXlLLqdw4thKud/8MYx6d/pWh8ILbRbDwDDaeHb5dQhjlZp7mNSEeZjuYLnsM4/CuuuNJ067hjhu7K3nij+5HJGGVfoDU1raW9jbiCyt4reEEkRxIFUZ9hQBNRRRQAUUUUAFFFFABRRRQAUUUUAFFFFABRRRQAUUUUAFFFFABRRRQAUUUUAFFFFABRRRQAUUUUAFFFFABRRRQAUUUUAFFFFABRRRQB//9k=)"
      ]
    },
    {
      "cell_type": "markdown",
      "metadata": {
        "id": "ucyIvoUetK0S"
      },
      "source": [
        "- **NumPy** provides the ufuncs **sinh(), cosh() and tanh()** that take values in **radians** and produce the corresponding **sinh, cosh and tanh values**"
      ]
    },
    {
      "cell_type": "code",
      "metadata": {
        "colab": {
          "base_uri": "https://localhost:8080/"
        },
        "id": "JMzX12BzY1rw",
        "outputId": "f6986e3f-e809-4f51-d977-62a04a5ac149"
      },
      "source": [
        "# Find sinh value of PI/2\n",
        "\n",
        "x = np.sinh(np.pi/2)\n",
        "print(x)"
      ],
      "execution_count": 9,
      "outputs": [
        {
          "output_type": "stream",
          "name": "stdout",
          "text": [
            "2.3012989023072947\n"
          ]
        }
      ]
    },
    {
      "cell_type": "code",
      "metadata": {
        "colab": {
          "base_uri": "https://localhost:8080/"
        },
        "id": "p481N8B8uAJL",
        "outputId": "2ab4d82b-a981-44bd-fc41-9920fdd50500"
      },
      "source": [
        "# Find cosh values for all of the values in arr\n",
        "\n",
        "arr = np.array([np.pi/2, np.pi/3, np.pi/4, np.pi/5])\n",
        "x = np.cosh(arr)\n",
        "print(x)"
      ],
      "execution_count": 10,
      "outputs": [
        {
          "output_type": "stream",
          "name": "stdout",
          "text": [
            "[2.50917848 1.60028686 1.32460909 1.20397209]\n"
          ]
        }
      ]
    },
    {
      "cell_type": "markdown",
      "metadata": {
        "id": "nbrF3QMWu5_E"
      },
      "source": [
        "##### **Finding Angles**\n",
        "\n",
        "- Finding angles from the value of **hyperbolic sin, cos and tan**.\n",
        "\n",
        "- E.g. **sinh, cosh and tanh inverse (arcsinh, arccosh and arctanh)**\n",
        "\n",
        "- NumPy provides ufuncs **arcsinh(), arccosh() and arctanh()** that produce radian values for corresponding **sinh, cosh and tanh** values given."
      ]
    },
    {
      "cell_type": "code",
      "metadata": {
        "colab": {
          "base_uri": "https://localhost:8080/"
        },
        "id": "7c1qa3OMv_gb",
        "outputId": "d145f35d-f2fe-42a8-ce9b-5abae3f833f1"
      },
      "source": [
        "# Find the angle of 1.0\n",
        "\n",
        "x = np.arcsinh(1.0)\n",
        "print(x)"
      ],
      "execution_count": 11,
      "outputs": [
        {
          "output_type": "stream",
          "name": "stdout",
          "text": [
            "0.881373587019543\n"
          ]
        }
      ]
    },
    {
      "cell_type": "markdown",
      "metadata": {
        "id": "pxa4HIPLwOTb"
      },
      "source": [
        "##### **Angles of Each Value in Arrays**"
      ]
    },
    {
      "cell_type": "code",
      "metadata": {
        "colab": {
          "base_uri": "https://localhost:8080/"
        },
        "id": "P8rwDi5GwY2r",
        "outputId": "13c01a49-5ef9-4a38-b5b0-a9587734967a"
      },
      "source": [
        "# Find the angle for all of the tanh values in array\n",
        "\n",
        "arr = np.array([0.1, 0.5, 0.2])\n",
        "x = np.arctanh(x)\n",
        "print(x)"
      ],
      "execution_count": 12,
      "outputs": [
        {
          "output_type": "stream",
          "name": "stdout",
          "text": [
            "1.3818891261280046\n"
          ]
        }
      ]
    },
    {
      "cell_type": "markdown",
      "metadata": {
        "id": "QEpajpU1YwdQ"
      },
      "source": [
        "#### **Reference**\n",
        "\n",
        "- https://www.youtube.com/watch?v=fShzTxiTO7Y&list=PLzx-_kRo3HZtP3tWaieUPwAh9K4I00_6p&index=28"
      ]
    }
  ]
}