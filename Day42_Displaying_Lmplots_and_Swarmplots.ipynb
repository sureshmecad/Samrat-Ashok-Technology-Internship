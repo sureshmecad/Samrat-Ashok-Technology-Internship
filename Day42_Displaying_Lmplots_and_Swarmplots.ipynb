{
  "nbformat": 4,
  "nbformat_minor": 0,
  "metadata": {
    "colab": {
      "name": "Day42_Displaying Lmplots and Swarmplots.ipynb",
      "provenance": [],
      "collapsed_sections": [],
      "authorship_tag": "ABX9TyM1JiiRBRSZSu6kVaSXqunY",
      "include_colab_link": true
    },
    "kernelspec": {
      "name": "python3",
      "display_name": "Python 3"
    },
    "language_info": {
      "name": "python"
    }
  },
  "cells": [
    {
      "cell_type": "markdown",
      "metadata": {
        "id": "view-in-github",
        "colab_type": "text"
      },
      "source": [
        "<a href=\"https://colab.research.google.com/github/sureshmecad/Samrat-Ashok-Technology-Internship/blob/main/Day42_Displaying_Lmplots_and_Swarmplots.ipynb\" target=\"_parent\"><img src=\"https://colab.research.google.com/assets/colab-badge.svg\" alt=\"Open In Colab\"/></a>"
      ]
    },
    {
      "cell_type": "markdown",
      "metadata": {
        "id": "wAZCqE-JlEDr"
      },
      "source": [
        "#### **Displaying Lmplots**\n",
        "- Another plot that is popular in seaborn is the **Lmplot**\n",
        "\n",
        "- An **Lmplot is a scatter plot**\n",
        "\n",
        "- Using another built-in dataset from seaborn, you can plot the relationships b/n the **petal width petal length** of an **iris plant** and use it to determine the type of iris plants: **setosa, versicolor and virginica.**\n",
        "\n",
        "- The **iris flower dataset** or **Fishers iris dataset** is a multivariate dataset.\n",
        "\n",
        "- The dataset consists of **50 samples** from each of three species of iris (**iris setosa, iris versicolor and iris virginica**)"
      ]
    },
    {
      "cell_type": "code",
      "metadata": {
        "id": "mPknFBn5k4Le"
      },
      "source": [
        "import pandas as pd\n",
        "\n",
        "import matplotlib.pyplot as plt\n",
        "import seaborn as sns"
      ],
      "execution_count": 5,
      "outputs": []
    },
    {
      "cell_type": "code",
      "metadata": {
        "colab": {
          "base_uri": "https://localhost:8080/",
          "height": 439
        },
        "id": "e0uOWeIZnXft",
        "outputId": "b05f0bc1-3036-4c0d-ef85-dbd0efad0b65"
      },
      "source": [
        "iris = sns.load_dataset(\"iris\")\n",
        "sns.lmplot(\"petal_width\", \"petal_length\", data=iris, hue=\"species\", palette='Set1', fit_reg=False, scatter_kws={\"s\":70})\n",
        "\n",
        "ax = plt.gca()\n",
        "ax.set_title(\"Plotting using the Iris dataset\")\n",
        "plt.show()"
      ],
      "execution_count": 2,
      "outputs": [
        {
          "output_type": "stream",
          "name": "stderr",
          "text": [
            "/usr/local/lib/python3.7/dist-packages/seaborn/_decorators.py:43: FutureWarning: Pass the following variables as keyword args: x, y. From version 0.12, the only valid positional argument will be `data`, and passing other arguments without an explicit keyword will result in an error or misinterpretation.\n",
            "  FutureWarning\n"
          ]
        },
        {
          "output_type": "display_data",
          "data": {
            "image/png": "[encoded data removed]",
            "text/plain": [
              "<Figure size 444.75x360 with 1 Axes>"
            ]
          },
          "metadata": {
            "needs_background": "light"
          }
        }
      ]
    },
    {
      "cell_type": "markdown",
      "metadata": {
        "id": "5RNNTY6jo7IJ"
      },
      "source": [
        "- **Palette; palette name, list or dict:** Colors to use for the different levels of the hue variable. Should be something that can be interpreted by **color_palette** or a dictionary mapping hue levels to matplotlib colors.\n",
        "\n",
        "- **fig_reg; bool, optional:** If True, estimate and plot a regression model relating the x and y variables.\n",
        "\n",
        "- **{scatter, line}_kws dictionaries:** Additional keyword arguments to pass to **plt.scatter and plt.show**\n",
        "\n",
        "- **gca() function** in pyplot module of matplotlib library is used to get the current Axes instance on the current figure matching the given keyword args or create one."
      ]
    },
    {
      "cell_type": "markdown",
      "metadata": {
        "id": "rFFbuBf0rj9c"
      },
      "source": [
        "#### **Displaying Swarmplots**\n",
        "\n",
        "- A swarmplot is a categorical scatterplot with nonoverlapping points.\n",
        "\n",
        "- It is useful for discovering the distribution of data points in a dataset.\n",
        "\n",
        "- Want to show the distribution of salaries of men and women."
      ]
    },
    {
      "cell_type": "code",
      "metadata": {
        "colab": {
          "base_uri": "https://localhost:8080/",
          "height": 204
        },
        "id": "ZIWPdh7XtJk4",
        "outputId": "5277981a-aa1a-4ef2-c4dd-a90c5810efa6"
      },
      "source": [
        "data = pd.DataFrame({\"Gender\": [\"Men\", \"Men\", \"Men\", \"Men\", \"Men\", \"Women\", \"Women\", \"Women\", \"Women\", \"Women\"],\n",
        "                     \"Salary\": [12000, 10000, 15000, 20000, 25000, 30000, 17000, 8000, 12500, 11000]})\n",
        "\n",
        "data.head()"
      ],
      "execution_count": 7,
      "outputs": [
        {
          "output_type": "execute_result",
          "data": {
            "text/html": [
              "<div>\n",
              "<style scoped>\n",
              "    .dataframe tbody tr th:only-of-type {\n",
              "        vertical-align: middle;\n",
              "    }\n",
              "\n",
              "    .dataframe tbody tr th {\n",
              "        vertical-align: top;\n",
              "    }\n",
              "\n",
              "    .dataframe thead th {\n",
              "        text-align: right;\n",
              "    }\n",
              "</style>\n",
              "<table border=\"1\" class=\"dataframe\">\n",
              "  <thead>\n",
              "    <tr style=\"text-align: right;\">\n",
              "      <th></th>\n",
              "      <th>Gender</th>\n",
              "      <th>Salary</th>\n",
              "    </tr>\n",
              "  </thead>\n",
              "  <tbody>\n",
              "    <tr>\n",
              "      <th>0</th>\n",
              "      <td>Men</td>\n",
              "      <td>12000</td>\n",
              "    </tr>\n",
              "    <tr>\n",
              "      <th>1</th>\n",
              "      <td>Men</td>\n",
              "      <td>10000</td>\n",
              "    </tr>\n",
              "    <tr>\n",
              "      <th>2</th>\n",
              "      <td>Men</td>\n",
              "      <td>15000</td>\n",
              "    </tr>\n",
              "    <tr>\n",
              "      <th>3</th>\n",
              "      <td>Men</td>\n",
              "      <td>20000</td>\n",
              "    </tr>\n",
              "    <tr>\n",
              "      <th>4</th>\n",
              "      <td>Men</td>\n",
              "      <td>25000</td>\n",
              "    </tr>\n",
              "  </tbody>\n",
              "</table>\n",
              "</div>"
            ],
            "text/plain": [
              "  Gender  Salary\n",
              "0    Men   12000\n",
              "1    Men   10000\n",
              "2    Men   15000\n",
              "3    Men   20000\n",
              "4    Men   25000"
            ]
          },
          "metadata": {},
          "execution_count": 7
        }
      ]
    },
    {
      "cell_type": "code",
      "metadata": {
        "colab": {
          "base_uri": "https://localhost:8080/",
          "height": 295
        },
        "id": "Qn3C9RTKrcqs",
        "outputId": "cdbc9a9c-2909-4e9a-e850-ee686a523b46"
      },
      "source": [
        "sns.set_style(\"whitegrid\")\n",
        "\n",
        "sns.swarmplot(x=\"Gender\", y=\"Salary\", data=data)\n",
        "ax = plt.gca()\n",
        "ax.set_title(\"Salary Distribution\")\n",
        "plt.show()"
      ],
      "execution_count": 9,
      "outputs": [
        {
          "output_type": "display_data",
          "data": {
            "image/png": "[encoded data removed]",
            "text/plain": [
              "<Figure size 432x288 with 1 Axes>"
            ]
          },
          "metadata": {}
        }
      ]
    },
    {
      "cell_type": "markdown",
      "metadata": {
        "id": "gb-aST8puu6U"
      },
      "source": [
        "#### **Reference**\n",
        "\n",
        "- https://www.youtube.com/watch?v=gJVikK0Wb9A"
      ]
    }
  ]
}