{
  "nbformat": 4,
  "nbformat_minor": 0,
  "metadata": {
    "colab": {
      "name": "Day13_NumPy Array Splitting_CSEPathshala.ipynb",
      "provenance": [],
      "collapsed_sections": [],
      "authorship_tag": "ABX9TyOaBKt6j0T6vFVRewbE2B/Y",
      "include_colab_link": true
    },
    "kernelspec": {
      "name": "python3",
      "display_name": "Python 3"
    },
    "language_info": {
      "name": "python"
    }
  },
  "cells": [
    {
      "cell_type": "markdown",
      "metadata": {
        "id": "view-in-github",
        "colab_type": "text"
      },
      "source": [
        "<a href=\"https://colab.research.google.com/github/sureshmecad/Samrat-Ashok-Technology-Internship/blob/main/Day13_NumPy_Array_Splitting_CSEPathshala.ipynb\" target=\"_parent\"><img src=\"https://colab.research.google.com/assets/colab-badge.svg\" alt=\"Open In Colab\"/></a>"
      ]
    },
    {
      "cell_type": "markdown",
      "metadata": {
        "id": "bN2Uetsw6v0W"
      },
      "source": [
        "- np.array_split\n",
        "\n",
        "- np.hsplit\n",
        "\n",
        "- np.vsplit\n",
        "\n",
        "- np.dsplit\n"
      ]
    },
    {
      "cell_type": "markdown",
      "metadata": {
        "id": "wDq8K6fQ7LlN"
      },
      "source": [
        "-----------------"
      ]
    },
    {
      "cell_type": "markdown",
      "metadata": {
        "id": "D8WJN_XyeR66"
      },
      "source": [
        "#### **Splitting NumPy Arrays**"
      ]
    },
    {
      "cell_type": "markdown",
      "metadata": {
        "id": "lkMxyliTejFr"
      },
      "source": [
        "- **Splitting** is **reverse** operation of **joining**.\n",
        "\n",
        "- **Joining merges multiple arrays** into **one** and **Splitting breaks one array into multiple.**\n",
        "\n",
        "- We use **array_split()** for splitting arrays, we pass it the array we want to split and the number of splits."
      ]
    },
    {
      "cell_type": "markdown",
      "metadata": {
        "id": "XOE3be4ifeH9"
      },
      "source": [
        "#### **Split the array in 3 parts**"
      ]
    },
    {
      "cell_type": "code",
      "metadata": {
        "id": "19PTqW1UaqIe"
      },
      "source": [
        "import numpy as np"
      ],
      "execution_count": 1,
      "outputs": []
    },
    {
      "cell_type": "code",
      "metadata": {
        "colab": {
          "base_uri": "https://localhost:8080/"
        },
        "id": "ZWQkD1b8gSY5",
        "outputId": "69858a01-b7a7-40af-b2b1-5ec4ce210199"
      },
      "source": [
        "arr = np.array([1,2,3,4,5,6])\n",
        "print(\"The original array is:\")\n",
        "print(arr)\n",
        "\n",
        "newarr = np.array_split(arr, 3)\n",
        "print(\"The splitted array is:\")\n",
        "print(newarr)"
      ],
      "execution_count": 2,
      "outputs": [
        {
          "output_type": "stream",
          "name": "stdout",
          "text": [
            "The original array is:\n",
            "[1 2 3 4 5 6]\n",
            "The splitted array is:\n",
            "[array([1, 2]), array([3, 4]), array([5, 6])]\n"
          ]
        }
      ]
    },
    {
      "cell_type": "markdown",
      "metadata": {
        "id": "OIYDHQskhJza"
      },
      "source": [
        "- The return value is an array containing **three arrays**. If the arrays has **less elements** than required, it will **adjust from the end** accordingly."
      ]
    },
    {
      "cell_type": "markdown",
      "metadata": {
        "id": "Y7cKp8LTh2Ti"
      },
      "source": [
        "#### **Split the array in 4 parts**"
      ]
    },
    {
      "cell_type": "code",
      "metadata": {
        "colab": {
          "base_uri": "https://localhost:8080/"
        },
        "id": "MKHWOdQjgSYQ",
        "outputId": "ae13bdb4-4490-4021-ca21-b02beb87faaa"
      },
      "source": [
        "arr = np.array([1,2,3,4,5,6])\n",
        "print(\"The original array is:\")\n",
        "print(arr)\n",
        "\n",
        "newarr = np.array_split(arr, 4)\n",
        "print(\"The splitted array is:\")\n",
        "print(newarr)"
      ],
      "execution_count": 3,
      "outputs": [
        {
          "output_type": "stream",
          "name": "stdout",
          "text": [
            "The original array is:\n",
            "[1 2 3 4 5 6]\n",
            "The splitted array is:\n",
            "[array([1, 2]), array([3, 4]), array([5]), array([6])]\n"
          ]
        }
      ]
    },
    {
      "cell_type": "markdown",
      "metadata": {
        "id": "o_vB0zWCiwtC"
      },
      "source": [
        "- We also have the method **split()** available but it **will not adjust** the elements when **elements are less** in source array for splitting like in example above, **array_split** worked properly but **split() would fail.**"
      ]
    },
    {
      "cell_type": "markdown",
      "metadata": {
        "id": "JbjcbeFzj4dz"
      },
      "source": [
        "#### **Splitting 1-D arrays**\n",
        "\n",
        "- The return value of the **array_split** method is an array containing each of the split as an array.\n",
        "\n",
        "- If we split an array into 3 arrays, we can access them from the result just like any array element."
      ]
    },
    {
      "cell_type": "markdown",
      "metadata": {
        "id": "cKzuAty9ktLh"
      },
      "source": [
        "**Access the splitted arrays**"
      ]
    },
    {
      "cell_type": "code",
      "metadata": {
        "colab": {
          "base_uri": "https://localhost:8080/"
        },
        "id": "SJujUGcPgSXL",
        "outputId": "b3aeea3f-2377-4201-bbd6-2c6ab263cfa6"
      },
      "source": [
        "arr = np.array([1,2,3,4,5,6])\n",
        "newarr = np.array_split(arr, 3)\n",
        "print(newarr[0])\n",
        "print(newarr[1])\n",
        "print(newarr[2])"
      ],
      "execution_count": 4,
      "outputs": [
        {
          "output_type": "stream",
          "name": "stdout",
          "text": [
            "[1 2]\n",
            "[3 4]\n",
            "[5 6]\n"
          ]
        }
      ]
    },
    {
      "cell_type": "markdown",
      "metadata": {
        "id": "3u854S85lx2I"
      },
      "source": [
        "#### **Splitting 2-D Arrays**\n"
      ]
    },
    {
      "cell_type": "markdown",
      "metadata": {
        "id": "0r2Ee10_l5-g"
      },
      "source": [
        "- Use the same syntax when splitting 2-D arrays. Use the **array_split** method, pass in the array you want to split and the number of splits we want to do. "
      ]
    },
    {
      "cell_type": "code",
      "metadata": {
        "colab": {
          "base_uri": "https://localhost:8080/"
        },
        "id": "fsLFAKRwgSVH",
        "outputId": "8962d1a5-70ee-4a38-e312-7bccf0c8cbe0"
      },
      "source": [
        "# split the 2-D array into three 2-D arrays\n",
        "\n",
        "arr = np.array([[1,2],[3,4],[5,6],[7,8],[9,10],[11,12]])\n",
        "newarr = np.array_split(arr, 3)\n",
        "print(newarr)"
      ],
      "execution_count": 5,
      "outputs": [
        {
          "output_type": "stream",
          "name": "stdout",
          "text": [
            "[array([[1, 2],\n",
            "       [3, 4]]), array([[5, 6],\n",
            "       [7, 8]]), array([[ 9, 10],\n",
            "       [11, 12]])]\n"
          ]
        }
      ]
    },
    {
      "cell_type": "code",
      "metadata": {
        "colab": {
          "base_uri": "https://localhost:8080/"
        },
        "id": "r6BC17eGgSF3",
        "outputId": "0f55ccc2-62ed-4588-dfc4-343aabcc3c59"
      },
      "source": [
        "# split the 2-D array into three 2-D arrays\n",
        "\n",
        "arr = np.array([[1,2,3],[4,5,6],[7,8,9],[10,11,12],[13,14,15],[16,17,18]])\n",
        "newarr = np.array_split(arr, 3)\n",
        "print(newarr)"
      ],
      "execution_count": 6,
      "outputs": [
        {
          "output_type": "stream",
          "name": "stdout",
          "text": [
            "[array([[1, 2, 3],\n",
            "       [4, 5, 6]]), array([[ 7,  8,  9],\n",
            "       [10, 11, 12]]), array([[13, 14, 15],\n",
            "       [16, 17, 18]])]\n"
          ]
        }
      ]
    },
    {
      "cell_type": "markdown",
      "metadata": {
        "id": "8auxBwxAo4tq"
      },
      "source": [
        "- The example below also returns three 2-D arrays, but they are split along the **row (axis=1)**"
      ]
    },
    {
      "cell_type": "code",
      "metadata": {
        "colab": {
          "base_uri": "https://localhost:8080/"
        },
        "id": "-3tMKveQgSBt",
        "outputId": "ec87b5d2-678c-46e4-b0e4-061cb6ddee19"
      },
      "source": [
        "# split the 2-D array into three 2-D arrays along rows\n",
        "\n",
        "arr = np.array([[1,2,3],[4,5,6],[7,8,9],[10,11,12],[13,14,15],[16,17,18]])\n",
        "newarr = np.array_split(arr, 3, axis=1)\n",
        "print(newarr)"
      ],
      "execution_count": 7,
      "outputs": [
        {
          "output_type": "stream",
          "name": "stdout",
          "text": [
            "[array([[ 1],\n",
            "       [ 4],\n",
            "       [ 7],\n",
            "       [10],\n",
            "       [13],\n",
            "       [16]]), array([[ 2],\n",
            "       [ 5],\n",
            "       [ 8],\n",
            "       [11],\n",
            "       [14],\n",
            "       [17]]), array([[ 3],\n",
            "       [ 6],\n",
            "       [ 9],\n",
            "       [12],\n",
            "       [15],\n",
            "       [18]])]\n"
          ]
        }
      ]
    },
    {
      "cell_type": "markdown",
      "metadata": {
        "id": "NCMXbOx-qH-m"
      },
      "source": [
        "##### **An alternate solution is using hsplit() opposite of hstack()**\n",
        "\n",
        "- Use the **hsplit()** method to spli the 2-D array into three 2-D arrays along rows."
      ]
    },
    {
      "cell_type": "code",
      "metadata": {
        "colab": {
          "base_uri": "https://localhost:8080/"
        },
        "id": "KDEsd2f_gSAh",
        "outputId": "e9b4e3d1-9475-43d7-e321-b4e5ffc832ad"
      },
      "source": [
        "arr = np.array([[1,2,3],[4,5,6],[7,8,9],[10,11,12],[13,14,15],[16,17,18]])\n",
        "newarr = np.hsplit(arr, 3)\n",
        "print(newarr)"
      ],
      "execution_count": 8,
      "outputs": [
        {
          "output_type": "stream",
          "name": "stdout",
          "text": [
            "[array([[ 1],\n",
            "       [ 4],\n",
            "       [ 7],\n",
            "       [10],\n",
            "       [13],\n",
            "       [16]]), array([[ 2],\n",
            "       [ 5],\n",
            "       [ 8],\n",
            "       [11],\n",
            "       [14],\n",
            "       [17]]), array([[ 3],\n",
            "       [ 6],\n",
            "       [ 9],\n",
            "       [12],\n",
            "       [15],\n",
            "       [18]])]\n"
          ]
        }
      ]
    },
    {
      "cell_type": "markdown",
      "metadata": {
        "id": "9F8kTe3s2kZp"
      },
      "source": [
        "**both gives same output**\n",
        "\n",
        "       newarr = np.hsplit(arr, 3)\n",
        "\n",
        "       newarr = np.array_split(arr, 3, axis=1)"
      ]
    },
    {
      "cell_type": "markdown",
      "metadata": {
        "id": "0gZP820s3HBn"
      },
      "source": [
        "##### Similar alternates to **vstack() and dstack()** are available as **vsplit() and dsplit()** "
      ]
    },
    {
      "cell_type": "code",
      "metadata": {
        "colab": {
          "base_uri": "https://localhost:8080/"
        },
        "id": "NhB9Hdv7gR9o",
        "outputId": "a546731b-c502-4dea-c865-6858bd80c585"
      },
      "source": [
        "arr = np.array([[1,2,3],[4,5,6],[7,8,9],[10,11,12],[13,14,15],[16,17,18]])\n",
        "newarr = np.vsplit(arr, 3)\n",
        "print(newarr)"
      ],
      "execution_count": 9,
      "outputs": [
        {
          "output_type": "stream",
          "name": "stdout",
          "text": [
            "[array([[1, 2, 3],\n",
            "       [4, 5, 6]]), array([[ 7,  8,  9],\n",
            "       [10, 11, 12]]), array([[13, 14, 15],\n",
            "       [16, 17, 18]])]\n"
          ]
        }
      ]
    },
    {
      "cell_type": "markdown",
      "metadata": {
        "id": "GjXW8vbN4Qnq"
      },
      "source": [
        "**both gives same output**\n",
        "\n",
        "     newarr = np.vsplit(arr, 3)\n",
        "\n",
        "     newarr = np.array_split(arr, 3)\n"
      ]
    },
    {
      "cell_type": "code",
      "metadata": {
        "colab": {
          "base_uri": "https://localhost:8080/"
        },
        "id": "llLmOdGXgR8Z",
        "outputId": "bb87c675-21be-4653-c79c-efaf9cc176ef"
      },
      "source": [
        "# dsplit works for 3 or more dimensions\n",
        "\n",
        "arr = np.array([[[1,2,3],[4,5,6],[7,8,9],[10,11,12],[13,14,15],[16,17,18]]])\n",
        "newarr = np.dsplit(arr, 3)\n",
        "print(newarr)"
      ],
      "execution_count": 11,
      "outputs": [
        {
          "output_type": "stream",
          "name": "stdout",
          "text": [
            "[array([[[ 1],\n",
            "        [ 4],\n",
            "        [ 7],\n",
            "        [10],\n",
            "        [13],\n",
            "        [16]]]), array([[[ 2],\n",
            "        [ 5],\n",
            "        [ 8],\n",
            "        [11],\n",
            "        [14],\n",
            "        [17]]]), array([[[ 3],\n",
            "        [ 6],\n",
            "        [ 9],\n",
            "        [12],\n",
            "        [15],\n",
            "        [18]]])]\n"
          ]
        }
      ]
    },
    {
      "cell_type": "markdown",
      "metadata": {
        "id": "zdiRy75rd8mC"
      },
      "source": [
        "### **Reference**\n",
        "\n",
        "- https://www.youtube.com/watch?v=Q6KypFXoF6s&list=PLzx-_kRo3HZtP3tWaieUPwAh9K4I00_6p&index=13"
      ]
    }
  ]
}