{
  "nbformat": 4,
  "nbformat_minor": 0,
  "metadata": {
    "colab": {
      "name": "Day47_Introduction to Pandas_CSEPthshala.ipynb",
      "provenance": [],
      "collapsed_sections": [],
      "authorship_tag": "ABX9TyNcXqTx1VcKGV/eivhwd5aO",
      "include_colab_link": true
    },
    "kernelspec": {
      "name": "python3",
      "display_name": "Python 3"
    },
    "language_info": {
      "name": "python"
    }
  },
  "cells": [
    {
      "cell_type": "markdown",
      "metadata": {
        "id": "view-in-github",
        "colab_type": "text"
      },
      "source": [
        "<a href=\"https://colab.research.google.com/github/sureshmecad/Samrat-Ashok-Technology-Internship/blob/main/Day47_Introduction_to_Pandas_CSEPthshala.ipynb\" target=\"_parent\"><img src=\"https://colab.research.google.com/assets/colab-badge.svg\" alt=\"Open In Colab\"/></a>"
      ]
    },
    {
      "cell_type": "markdown",
      "metadata": {
        "id": "wxDDurB1d6qR"
      },
      "source": [
        "**What is Pandas?**\n",
        "\n",
        "- While Numpy arrays are much improved N-dimensional array object version over Python's list, it is insufficient to meet the needs of data science.\n",
        "\n",
        "- In the real world, data are often presented in the table formats.\n",
        "\n",
        "- To be able to deal with data stored as tables, you need a new data type that is more suited to deal with PANDAS.\n",
        "\n",
        "- While python supports lists and dictionaries for manipulating structured data, it is not well suited manipulating numerical tables, such as the one stored in the csv file.\n",
        "\n",
        "- Pandas is a python package providing fast, flexible and expensive data structures designed to make working with \"relational\" or \"labelled\" data both easy and intituitive."
      ]
    },
    {
      "cell_type": "markdown",
      "metadata": {
        "id": "f9CSov1Pi1zH"
      },
      "source": [
        "**PANDAS** stands for **Panel Data Analysis**\n",
        "\n",
        " - Pandas supports two key data structures: Series and DataFrame\n"
      ]
    },
    {
      "cell_type": "markdown",
      "metadata": {
        "id": "pURmyZL2j5sY"
      },
      "source": [
        "**1) Pandas Series**\n",
        "\n",
        "-  A Pandas series is a one-dimensional Numpy-like array, with each element having an index (0,1,2....by default); a series bahaves very much like a dictionary that includes an index.\n",
        "\n",
        "- To create a series we first need to import the pandas library and then use the series class.\n",
        "\n",
        "- By default the index of series starts from 0."
      ]
    },
    {
      "cell_type": "code",
      "metadata": {
        "id": "SV5XQIsdciVV"
      },
      "source": [
        "import pandas as pd"
      ],
      "execution_count": 1,
      "outputs": []
    },
    {
      "cell_type": "code",
      "metadata": {
        "colab": {
          "base_uri": "https://localhost:8080/"
        },
        "id": "-pPalztQd6M6",
        "outputId": "609eed9e-a954-4172-dca2-9160db29add7"
      },
      "source": [
        "series = pd.Series([1, 2, 3, 4, 5])\n",
        "series"
      ],
      "execution_count": 2,
      "outputs": [
        {
          "output_type": "execute_result",
          "data": {
            "text/plain": [
              "0    1\n",
              "1    2\n",
              "2    3\n",
              "3    4\n",
              "4    5\n",
              "dtype: int64"
            ]
          },
          "metadata": {},
          "execution_count": 2
        }
      ]
    },
    {
      "cell_type": "markdown",
      "metadata": {
        "id": "AZOZQvOpmloG"
      },
      "source": [
        "**2) Creating a series using a Specified Index**\n",
        "\n",
        " - we can specify an optional index for a Series using the index parameter.\n",
        "\n",
        " - It is worth noting that the index of a Series need not be unique."
      ]
    },
    {
      "cell_type": "code",
      "metadata": {
        "colab": {
          "base_uri": "https://localhost:8080/"
        },
        "id": "Ngvw0CTjd6I4",
        "outputId": "c9d33b7f-e88d-40b0-a371-96da576af3b3"
      },
      "source": [
        "series = pd.Series([1, 2, 3, 4, 5], index=[\"a\", \"b\", \"c\", \"d\", \"e\"])\n",
        "series"
      ],
      "execution_count": 3,
      "outputs": [
        {
          "output_type": "execute_result",
          "data": {
            "text/plain": [
              "a    1\n",
              "b    2\n",
              "c    3\n",
              "d    4\n",
              "e    5\n",
              "dtype: int64"
            ]
          },
          "metadata": {},
          "execution_count": 3
        }
      ]
    },
    {
      "cell_type": "markdown",
      "metadata": {
        "id": "ylfLlbtxns25"
      },
      "source": [
        "#### **3) Accessing Elements in a Series**\n",
        "\n",
        "- Accessing an element in a Series is similar to accessing an element in an array"
      ]
    },
    {
      "cell_type": "code",
      "metadata": {
        "colab": {
          "base_uri": "https://localhost:8080/"
        },
        "id": "ekoeiLf1d6FI",
        "outputId": "c8d1f727-7556-4623-c855-f63b11fe3fad"
      },
      "source": [
        "series = pd.Series([1, 2, 3, 4, 5])\n",
        "\n",
        "print(series[2])\n",
        "\n",
        "print(series.iloc[2])"
      ],
      "execution_count": 4,
      "outputs": [
        {
          "output_type": "stream",
          "name": "stdout",
          "text": [
            "3\n",
            "3\n"
          ]
        }
      ]
    },
    {
      "cell_type": "code",
      "metadata": {
        "colab": {
          "base_uri": "https://localhost:8080/"
        },
        "id": "lPeoiN6soseY",
        "outputId": "7e519ec6-c73f-4db2-9723-244f7dc4369f"
      },
      "source": [
        "series = pd.Series([1, 2, 3, 4, 5], index=[\"a\", \"b\", \"c\", \"d\", \"e\"])\n",
        "\n",
        "print(series[\"d\"])\n",
        "\n",
        "print(series.loc[\"d\"])"
      ],
      "execution_count": 7,
      "outputs": [
        {
          "output_type": "stream",
          "name": "stdout",
          "text": [
            "4\n",
            "4\n"
          ]
        }
      ]
    },
    {
      "cell_type": "code",
      "metadata": {
        "colab": {
          "base_uri": "https://localhost:8080/"
        },
        "id": "lx8u0h3wprRu",
        "outputId": "f6362c53-e1f1-4f93-ed57-d7c0a80e78d3"
      },
      "source": [
        "series = pd.Series([1, 2, 3, 4, 5], index=[\"a\", \"b\", \"c\", \"d\", \"c\"])\n",
        "\n",
        "print(series[\"c\"])\n",
        "\n",
        "print(series.loc[\"c\"])"
      ],
      "execution_count": 8,
      "outputs": [
        {
          "output_type": "stream",
          "name": "stdout",
          "text": [
            "c    3\n",
            "c    5\n",
            "dtype: int64\n",
            "c    3\n",
            "c    5\n",
            "dtype: int64\n"
          ]
        }
      ]
    },
    {
      "cell_type": "markdown",
      "metadata": {
        "id": "g304_4JLqWR9"
      },
      "source": [
        "#### **we can also perform slicing on a series**"
      ]
    },
    {
      "cell_type": "code",
      "metadata": {
        "colab": {
          "base_uri": "https://localhost:8080/"
        },
        "id": "K4xGZAgFqdA7",
        "outputId": "78527d72-d229-4360-9d9a-9b32e941bf70"
      },
      "source": [
        "series = pd.Series([1, 2, 3, 4, 5])\n",
        "\n",
        "print(series[2:])\n",
        "\n",
        "print(series.iloc[2:])"
      ],
      "execution_count": 9,
      "outputs": [
        {
          "output_type": "stream",
          "name": "stdout",
          "text": [
            "2    3\n",
            "3    4\n",
            "4    5\n",
            "dtype: int64\n",
            "2    3\n",
            "3    4\n",
            "4    5\n",
            "dtype: int64\n"
          ]
        }
      ]
    },
    {
      "cell_type": "markdown",
      "metadata": {
        "id": "F09KjrhHd01Y"
      },
      "source": [
        "#### **Reference**\n",
        "\n",
        "- https://www.youtube.com/watch?v=BCg3NUl4YUY&list=PLzx-_kRo3HZtP3tWaieUPwAh9K4I00_6p&index=29"
      ]
    }
  ]
}