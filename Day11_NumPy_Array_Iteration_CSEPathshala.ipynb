{
  "nbformat": 4,
  "nbformat_minor": 0,
  "metadata": {
    "colab": {
      "name": "Day11_NumPy Array Iteration_CSEPathshala.ipynb",
      "provenance": [],
      "collapsed_sections": [],
      "authorship_tag": "ABX9TyOL7VV0sVGjxmfknKpmHZ0W",
      "include_colab_link": true
    },
    "kernelspec": {
      "name": "python3",
      "display_name": "Python 3"
    },
    "language_info": {
      "name": "python"
    }
  },
  "cells": [
    {
      "cell_type": "markdown",
      "metadata": {
        "id": "view-in-github",
        "colab_type": "text"
      },
      "source": [
        "<a href=\"https://colab.research.google.com/github/sureshmecad/Samrat-Ashok-Technology-Internship/blob/main/Day11_NumPy_Array_Iteration_CSEPathshala.ipynb\" target=\"_parent\"><img src=\"https://colab.research.google.com/assets/colab-badge.svg\" alt=\"Open In Colab\"/></a>"
      ]
    },
    {
      "cell_type": "code",
      "metadata": {
        "id": "0P6G82PcaGSL"
      },
      "source": [
        "import numpy as np"
      ],
      "execution_count": 1,
      "outputs": []
    },
    {
      "cell_type": "markdown",
      "metadata": {
        "id": "sBvUIk9eWpBz"
      },
      "source": [
        "- Iteration means going through elements one by one. As we deal with multidimensional arrays in numpy, we can do this using basic for loop of python. If we iterate on a 1-D array it will go through each element one by one."
      ]
    },
    {
      "cell_type": "markdown",
      "metadata": {
        "id": "a9wkUEgSX5cH"
      },
      "source": [
        "##### **Iterate on the elements of the 1-D array**"
      ]
    },
    {
      "cell_type": "code",
      "metadata": {
        "colab": {
          "base_uri": "https://localhost:8080/"
        },
        "id": "wgz5cqWUVOxx",
        "outputId": "b1dff0b9-605b-45c5-909e-bf6474fd8d8a"
      },
      "source": [
        "arr = np.array([1,2,3])\n",
        "\n",
        "for x in arr:\n",
        "  print(x)"
      ],
      "execution_count": 2,
      "outputs": [
        {
          "output_type": "stream",
          "name": "stdout",
          "text": [
            "1\n",
            "2\n",
            "3\n"
          ]
        }
      ]
    },
    {
      "cell_type": "markdown",
      "metadata": {
        "id": "TSKJYd1_YnC6"
      },
      "source": [
        "##### **Iterating 2-D array**\n",
        "\n",
        "- In a 2-D array, it will go through all the rows\n",
        "\n",
        "- Iterate on the elements of the 2-D array"
      ]
    },
    {
      "cell_type": "code",
      "metadata": {
        "colab": {
          "base_uri": "https://localhost:8080/"
        },
        "id": "XF1d22pEZ1-D",
        "outputId": "22b3d1a2-0804-4a09-957f-e5ec6c42a6fe"
      },
      "source": [
        "arr = np.array([[1,2,3],[4,5,6]])\n",
        "\n",
        "for x in arr:\n",
        "  print(x)"
      ],
      "execution_count": 3,
      "outputs": [
        {
          "output_type": "stream",
          "name": "stdout",
          "text": [
            "[1 2 3]\n",
            "[4 5 6]\n"
          ]
        }
      ]
    },
    {
      "cell_type": "markdown",
      "metadata": {
        "id": "WpUNqilXa1NZ"
      },
      "source": [
        "##### **Iterating n-D array**\n",
        "\n",
        "- If we iterate on a n-D array it will go through n-1th dimension one by one. To return the actual values, the scalers, we have to iterate the arrays in each dimesion."
      ]
    },
    {
      "cell_type": "code",
      "metadata": {
        "colab": {
          "base_uri": "https://localhost:8080/"
        },
        "id": "xcaSrEH6blYO",
        "outputId": "5d0bfad7-5522-4765-c7db-2c825b678bfd"
      },
      "source": [
        "arr = np.array([[1,2,3],[4,5,6]])\n",
        "\n",
        "for x in arr:\n",
        "  for y in x:\n",
        "    print(y)"
      ],
      "execution_count": 5,
      "outputs": [
        {
          "output_type": "stream",
          "name": "stdout",
          "text": [
            "1\n",
            "2\n",
            "3\n",
            "4\n",
            "5\n",
            "6\n"
          ]
        }
      ]
    },
    {
      "cell_type": "markdown",
      "metadata": {
        "id": "6gWGBu8feA4f"
      },
      "source": [
        "##### **Iterating 3-D array**\n",
        "\n",
        "- In a 3-D array it will go through all the 2-D arrays\n",
        "\n",
        "- Iterate on the elements of the 3-D array"
      ]
    },
    {
      "cell_type": "code",
      "metadata": {
        "colab": {
          "base_uri": "https://localhost:8080/"
        },
        "id": "JwgRoTO-eGvK",
        "outputId": "5fb35378-32de-4935-ab70-5fdfaee2347f"
      },
      "source": [
        "arr = np.array([[[1,2,3],[4,5,6]],[[7,8,9],[10,11,12]]])\n",
        "\n",
        "for x in arr:\n",
        "  print(x)"
      ],
      "execution_count": 6,
      "outputs": [
        {
          "output_type": "stream",
          "name": "stdout",
          "text": [
            "[[1 2 3]\n",
            " [4 5 6]]\n",
            "[[ 7  8  9]\n",
            " [10 11 12]]\n"
          ]
        }
      ]
    },
    {
      "cell_type": "markdown",
      "metadata": {
        "id": "B-TM2iEnfNSm"
      },
      "source": [
        "- To return the actual values, the scalars, we have to iterate the arrays in each dimension."
      ]
    },
    {
      "cell_type": "code",
      "metadata": {
        "colab": {
          "base_uri": "https://localhost:8080/"
        },
        "id": "aZxwZMVhf9zB",
        "outputId": "b5ca1c00-0817-459b-bdbd-50d80eef1c70"
      },
      "source": [
        "arr = np.array([[[1,2,3],[4,5,6]],[[7,8,9],[10,11,12]]])\n",
        "\n",
        "for x in arr:\n",
        "  for y in x:\n",
        "    for z in y:\n",
        "      print(z)"
      ],
      "execution_count": 7,
      "outputs": [
        {
          "output_type": "stream",
          "name": "stdout",
          "text": [
            "1\n",
            "2\n",
            "3\n",
            "4\n",
            "5\n",
            "6\n",
            "7\n",
            "8\n",
            "9\n",
            "10\n",
            "11\n",
            "12\n"
          ]
        }
      ]
    },
    {
      "cell_type": "markdown",
      "metadata": {
        "id": "hlJ7Dq2ygP24"
      },
      "source": [
        "### **Iterating Arrays Using nditer()**\n",
        "\n",
        "- The function nditer() is a helping function that can be used from very basic to very advanced iterations. It solves some basic issues which we face in iteration.\n",
        "\n",
        "##### **Iterating on each scalar element**\n",
        "\n",
        "- In basic for loops, iterating through each scalar of an array we need to use n for loopswhich can be difficult to write for arrays with very high dimensionality."
      ]
    },
    {
      "cell_type": "code",
      "metadata": {
        "colab": {
          "base_uri": "https://localhost:8080/"
        },
        "id": "9600_zHni3PJ",
        "outputId": "516b5a23-ae59-4e38-9261-7d1f6fb704fb"
      },
      "source": [
        "arr = np.array([[[1,2],[3,4]],[[5,6],[7,8]]])\n",
        "\n",
        "for x in np.nditer(arr):\n",
        "  print(x)"
      ],
      "execution_count": 9,
      "outputs": [
        {
          "output_type": "stream",
          "name": "stdout",
          "text": [
            "1\n",
            "2\n",
            "3\n",
            "4\n",
            "5\n",
            "6\n",
            "7\n",
            "8\n"
          ]
        }
      ]
    },
    {
      "cell_type": "markdown",
      "metadata": {
        "id": "-sEH89MXk_eZ"
      },
      "source": [
        "### **Iterating Array with Different Data Types**\n",
        "\n",
        "- we can use **op_dtypes** argument and pass it the expected data type to **change** the data type of elements while iterating.\n",
        "\n",
        "- NumPy does not change the data type of the element in-place (where the element is in array) so it needs some other space to perform this action, that extra space is called buffer, and in order to enable it in **nditer()** we pass **flags=[\"buffered\"]**."
      ]
    },
    {
      "cell_type": "code",
      "metadata": {
        "colab": {
          "base_uri": "https://localhost:8080/"
        },
        "id": "UFkVTa2Zn2so",
        "outputId": "2bea1861-7f22-45ec-9dc4-2d15163f3195"
      },
      "source": [
        "arr = np.array([1,2,3])\n",
        "\n",
        "for x in np.nditer(arr, flags=[\"buffered\"], op_dtypes=['S']):\n",
        "  print(x)"
      ],
      "execution_count": 10,
      "outputs": [
        {
          "output_type": "stream",
          "name": "stdout",
          "text": [
            "b'1'\n",
            "b'2'\n",
            "b'3'\n"
          ]
        }
      ]
    },
    {
      "cell_type": "markdown",
      "metadata": {
        "id": "1IxYCqRGpzqy"
      },
      "source": [
        "##### **Iterating with Different Step Size**\n",
        "\n",
        "- Iterate through every scalar element of the 2D array skipping 1 element"
      ]
    },
    {
      "cell_type": "code",
      "metadata": {
        "colab": {
          "base_uri": "https://localhost:8080/"
        },
        "id": "-FpBOT50qPhm",
        "outputId": "7d7395d0-6aec-49bf-a8b8-e7d92392af78"
      },
      "source": [
        "arr = np.array([[1,2,3,4],[5,6,7,8]])\n",
        "\n",
        "for x in np.nditer(arr[:, ::1]):\n",
        "  print(x)"
      ],
      "execution_count": 11,
      "outputs": [
        {
          "output_type": "stream",
          "name": "stdout",
          "text": [
            "1\n",
            "2\n",
            "3\n",
            "4\n",
            "5\n",
            "6\n",
            "7\n",
            "8\n"
          ]
        }
      ]
    },
    {
      "cell_type": "code",
      "metadata": {
        "colab": {
          "base_uri": "https://localhost:8080/"
        },
        "id": "lv3tUIvHrb4a",
        "outputId": "98586180-e818-4a88-9f6c-b7ad8fc1413c"
      },
      "source": [
        "arr = np.array([[1,2,3,4],[5,6,7,8]])\n",
        "\n",
        "for x in np.nditer(arr[:, ::2]):\n",
        "  print(x)"
      ],
      "execution_count": 13,
      "outputs": [
        {
          "output_type": "stream",
          "name": "stdout",
          "text": [
            "1\n",
            "3\n",
            "5\n",
            "7\n"
          ]
        }
      ]
    },
    {
      "cell_type": "code",
      "metadata": {
        "colab": {
          "base_uri": "https://localhost:8080/"
        },
        "id": "11JICLmmrM_k",
        "outputId": "7235b24c-51e9-4a68-fdfa-288fb76410f8"
      },
      "source": [
        "arr = np.array([[1,2,3,4],[5,6,7,8]])\n",
        "\n",
        "for x in np.nditer(arr[:, ::3]):\n",
        "  print(x)"
      ],
      "execution_count": 12,
      "outputs": [
        {
          "output_type": "stream",
          "name": "stdout",
          "text": [
            "1\n",
            "4\n",
            "5\n",
            "8\n"
          ]
        }
      ]
    },
    {
      "cell_type": "code",
      "metadata": {
        "colab": {
          "base_uri": "https://localhost:8080/"
        },
        "id": "-MNExVHfrM2N",
        "outputId": "d7fae761-4b19-4916-b580-e156baee4729"
      },
      "source": [
        "arr = np.array([[1,2,3,4],[5,6,7,8]])\n",
        "\n",
        "for x in np.nditer(arr[1:, ::2]):\n",
        "  print(x)"
      ],
      "execution_count": 14,
      "outputs": [
        {
          "output_type": "stream",
          "name": "stdout",
          "text": [
            "5\n",
            "7\n"
          ]
        }
      ]
    },
    {
      "cell_type": "markdown",
      "metadata": {
        "id": "LEAk7A-drw05"
      },
      "source": [
        "#### **Enumerated iteration Using ndenumerate()**\n",
        "\n",
        "- Enumeration means mentioning sequence number of somethings one by one\n",
        "\n",
        "- Sometimes we require cooresponding index of the element while iterating, the ndenumerate() method can be used for those use cases."
      ]
    },
    {
      "cell_type": "markdown",
      "metadata": {
        "id": "n-ZsB7-AsrXU"
      },
      "source": [
        "##### **Enumerate 1-D arrays**"
      ]
    },
    {
      "cell_type": "code",
      "metadata": {
        "colab": {
          "base_uri": "https://localhost:8080/"
        },
        "id": "w7LchXBUrb3m",
        "outputId": "d84f29e6-4ccc-4aeb-ff4b-8e1f4daba575"
      },
      "source": [
        "arr = np.array([1,2,3])\n",
        "\n",
        "for idx, x in np.ndenumerate(arr):\n",
        "  print(idx, x)"
      ],
      "execution_count": 15,
      "outputs": [
        {
          "output_type": "stream",
          "name": "stdout",
          "text": [
            "(0,) 1\n",
            "(1,) 2\n",
            "(2,) 3\n"
          ]
        }
      ]
    },
    {
      "cell_type": "markdown",
      "metadata": {
        "id": "WVhfDCBRuBvi"
      },
      "source": [
        "##### **Enumerate 2-D arrays**"
      ]
    },
    {
      "cell_type": "code",
      "metadata": {
        "colab": {
          "base_uri": "https://localhost:8080/"
        },
        "id": "j75jaAxmuGxo",
        "outputId": "8e806a69-12e7-46dc-f7c0-058d528d4a73"
      },
      "source": [
        "arr = np.array([[1,2,3,4],[5,6,7,8]])\n",
        "\n",
        "for idx, x in np.ndenumerate(arr):\n",
        "  print(idx, x)"
      ],
      "execution_count": 16,
      "outputs": [
        {
          "output_type": "stream",
          "name": "stdout",
          "text": [
            "(0, 0) 1\n",
            "(0, 1) 2\n",
            "(0, 2) 3\n",
            "(0, 3) 4\n",
            "(1, 0) 5\n",
            "(1, 1) 6\n",
            "(1, 2) 7\n",
            "(1, 3) 8\n"
          ]
        }
      ]
    },
    {
      "cell_type": "code",
      "metadata": {
        "colab": {
          "base_uri": "https://localhost:8080/"
        },
        "id": "WMoHaL92urfU",
        "outputId": "cc17ff02-24fc-464b-eefb-4319f5217cdc"
      },
      "source": [
        "arr = np.array([[[1,2,3]]])\n",
        "\n",
        "for idx, x in np.ndenumerate(arr):\n",
        "  print(idx, x)"
      ],
      "execution_count": 18,
      "outputs": [
        {
          "output_type": "stream",
          "name": "stdout",
          "text": [
            "(0, 0, 0) 1\n",
            "(0, 0, 1) 2\n",
            "(0, 0, 2) 3\n"
          ]
        }
      ]
    },
    {
      "cell_type": "markdown",
      "metadata": {
        "id": "k4rOG5epvT_T"
      },
      "source": [
        "### **Reference**"
      ]
    },
    {
      "cell_type": "markdown",
      "metadata": {
        "id": "pJuEpmWxvYUW"
      },
      "source": [
        "- https://www.youtube.com/watch?v=183p6xeSShA&list=PLzx-_kRo3HZtP3tWaieUPwAh9K4I00_6p&index=12"
      ]
    }
  ]
}