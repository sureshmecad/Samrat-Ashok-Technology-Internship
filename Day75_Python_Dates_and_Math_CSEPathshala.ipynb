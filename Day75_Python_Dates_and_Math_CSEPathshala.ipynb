{
  "nbformat": 4,
  "nbformat_minor": 0,
  "metadata": {
    "colab": {
      "name": "Day75_Python Dates and Math_CSEPathshala.ipynb",
      "provenance": [],
      "collapsed_sections": [],
      "authorship_tag": "ABX9TyNxQLUSmOKna7DOArhfpUDv",
      "include_colab_link": true
    },
    "kernelspec": {
      "name": "python3",
      "display_name": "Python 3"
    },
    "language_info": {
      "name": "python"
    }
  },
  "cells": [
    {
      "cell_type": "markdown",
      "metadata": {
        "id": "view-in-github",
        "colab_type": "text"
      },
      "source": [
        "<a href=\"https://colab.research.google.com/github/sureshmecad/Samrat-Ashok-Technology-Internship/blob/main/Day75_Python_Dates_and_Math_CSEPathshala.ipynb\" target=\"_parent\"><img src=\"https://colab.research.google.com/assets/colab-badge.svg\" alt=\"Open In Colab\"/></a>"
      ]
    },
    {
      "cell_type": "markdown",
      "metadata": {
        "id": "JL1yKwBV4MkF"
      },
      "source": [
        "#### **Python Dates**\n",
        "\n",
        "- A date in python is not a data type of its own, but we can import a module named datetime to work with dates as date objects.\n",
        "\n",
        "- import the datetime module and display the current date."
      ]
    },
    {
      "cell_type": "code",
      "metadata": {
        "id": "7H51580tU47J",
        "colab": {
          "base_uri": "https://localhost:8080/"
        },
        "outputId": "8d15a713-4831-41c4-a5d1-1cf1313b7368"
      },
      "source": [
        "import datetime\n",
        "\n",
        "x = datetime.datetime.now()\n",
        "print(x)\n",
        "\n",
        "# The date contains year, month, day, hour, minite, second and microsecond"
      ],
      "execution_count": 1,
      "outputs": [
        {
          "output_type": "stream",
          "name": "stdout",
          "text": [
            "2021-11-20 17:35:37.109971\n"
          ]
        }
      ]
    },
    {
      "cell_type": "code",
      "metadata": {
        "colab": {
          "base_uri": "https://localhost:8080/"
        },
        "id": "G-1t53dn5pld",
        "outputId": "8a245c41-73c6-47b0-dd9c-814a18fcd8e5"
      },
      "source": [
        "# Return the year and name of weekday\n",
        "\n",
        "x = datetime.datetime.now()\n",
        "print(x.year)\n",
        "print(x.strftime('%A'))"
      ],
      "execution_count": 2,
      "outputs": [
        {
          "output_type": "stream",
          "name": "stdout",
          "text": [
            "2021\n",
            "Saturday\n"
          ]
        }
      ]
    },
    {
      "cell_type": "markdown",
      "metadata": {
        "id": "csupJ8Cs7Sh7"
      },
      "source": [
        "#### **Creating Date Objects**\n",
        "\n",
        "- To create a date, we can use the datetime() class(constructure) of the datetime module.\n",
        "\n",
        "- The datetime() class requires three parameters to create a date, year, month, day."
      ]
    },
    {
      "cell_type": "code",
      "metadata": {
        "colab": {
          "base_uri": "https://localhost:8080/"
        },
        "id": "B1kGiR0n7QUE",
        "outputId": "212f4479-7836-4c0b-92ab-2ae87426ddcd"
      },
      "source": [
        "x = datetime.datetime(2021, 5, 17)\n",
        "print(x)"
      ],
      "execution_count": 3,
      "outputs": [
        {
          "output_type": "stream",
          "name": "stdout",
          "text": [
            "2021-05-17 00:00:00\n"
          ]
        }
      ]
    },
    {
      "cell_type": "markdown",
      "metadata": {
        "id": "iOKC4iox8Veg"
      },
      "source": [
        "#### **The strftime() method**\n",
        "\n",
        "- The datetime object has a method for formatting date objects into readble strings.\n",
        "\n",
        "- This method is called strftime(), and takes one parameter, format to specify the format of the returned string."
      ]
    },
    {
      "cell_type": "code",
      "metadata": {
        "colab": {
          "base_uri": "https://localhost:8080/"
        },
        "id": "W8xTQQBe8S95",
        "outputId": "97a327b3-b505-4e27-874b-5891a4b7c4c8"
      },
      "source": [
        "x = datetime.datetime(2019, 7, 1)\n",
        "print(x.strftime('%b'))\n",
        "\n",
        "# %a   = weekday; short version      wed\n",
        "# %p   = AM/PM                       PM\n",
        "# %b   = Month name, short version   wed "
      ],
      "execution_count": 4,
      "outputs": [
        {
          "output_type": "stream",
          "name": "stdout",
          "text": [
            "Jul\n"
          ]
        }
      ]
    },
    {
      "cell_type": "markdown",
      "metadata": {
        "id": "ktq98hbC-Hje"
      },
      "source": [
        "#### **Python Math**\n",
        "\n",
        "- Python has a set of built-in math functions, including an extensive math module, that allows you to perform mathematical tasks on numbers.\n",
        "\n",
        "- built-in math functions\n",
        "\n",
        "- The min() and max() functions can be used to find the lowest or higher value in an iterable"
      ]
    },
    {
      "cell_type": "code",
      "metadata": {
        "colab": {
          "base_uri": "https://localhost:8080/"
        },
        "id": "6Sz7edY7_DMb",
        "outputId": "ebde4eed-a27c-4c3c-ab5c-406bc57ffd6e"
      },
      "source": [
        "x = min(15, 10, 25, 67)\n",
        "y = max(15, 10, 25, 67)\n",
        "\n",
        "print(x)\n",
        "print(y)"
      ],
      "execution_count": 5,
      "outputs": [
        {
          "output_type": "stream",
          "name": "stdout",
          "text": [
            "10\n",
            "67\n"
          ]
        }
      ]
    },
    {
      "cell_type": "code",
      "metadata": {
        "colab": {
          "base_uri": "https://localhost:8080/"
        },
        "id": "nPmhVdWn_VMj",
        "outputId": "3b13207e-1f7c-4e78-d052-0658ef849b2f"
      },
      "source": [
        "# The abs() function returns the absolute (positive) value of the specified number\n",
        "x = abs(-18.25)\n",
        "print(x)"
      ],
      "execution_count": 6,
      "outputs": [
        {
          "output_type": "stream",
          "name": "stdout",
          "text": [
            "18.25\n"
          ]
        }
      ]
    },
    {
      "cell_type": "code",
      "metadata": {
        "colab": {
          "base_uri": "https://localhost:8080/"
        },
        "id": "81hDYuzN_rsB",
        "outputId": "c8301faf-6783-45d3-9eb5-00d09ee464b9"
      },
      "source": [
        "# The pow(x,y) function returns the value of x to the power of y (xy)\n",
        "x = pow(5, 3)\n",
        "print(x)"
      ],
      "execution_count": 7,
      "outputs": [
        {
          "output_type": "stream",
          "name": "stdout",
          "text": [
            "125\n"
          ]
        }
      ]
    },
    {
      "cell_type": "markdown",
      "metadata": {
        "id": "BDB11-QdbJcd"
      },
      "source": [
        "#### **The Math Module**\n",
        "\n",
        "- Python has also a **built-in** moduled called **math** which extends the list of mathematical functions.\n",
        "\n",
        "- To use it you must import the math module.\n",
        "\n",
        "- When you have imported the math module, you can start using methods and constants of the module.\n",
        "\n",
        "- The **math.sqrt()** method, for example returns the suare root of a number."
      ]
    },
    {
      "cell_type": "code",
      "metadata": {
        "colab": {
          "base_uri": "https://localhost:8080/"
        },
        "id": "4W8ajmTwAKJB",
        "outputId": "46a1a5da-522a-4c19-f27d-3e8761cd1d65"
      },
      "source": [
        "import math\n",
        "\n",
        "x = math.sqrt(81)\n",
        "print(x)"
      ],
      "execution_count": 8,
      "outputs": [
        {
          "output_type": "stream",
          "name": "stdout",
          "text": [
            "9.0\n"
          ]
        }
      ]
    },
    {
      "cell_type": "markdown",
      "metadata": {
        "id": "NARv4W8rct2D"
      },
      "source": [
        "- The **math.cell()** method rounds a number upwards to its nearest integer and the **math.floor()** method rounds a number downward to its nearest integer and returns the result."
      ]
    },
    {
      "cell_type": "code",
      "metadata": {
        "colab": {
          "base_uri": "https://localhost:8080/"
        },
        "id": "Tb-zI01HAJ-n",
        "outputId": "7cb06489-af6f-46f7-b948-56c6303bd3aa"
      },
      "source": [
        "x = math.ceil(1.4)\n",
        "y = math.floor(1.4)\n",
        "\n",
        "print(x) # returns 2\n",
        "print(y) # returns 1"
      ],
      "execution_count": 10,
      "outputs": [
        {
          "output_type": "stream",
          "name": "stdout",
          "text": [
            "2\n",
            "1\n"
          ]
        }
      ]
    },
    {
      "cell_type": "code",
      "metadata": {
        "colab": {
          "base_uri": "https://localhost:8080/"
        },
        "id": "CmkFkZEAeDfR",
        "outputId": "3fa00422-e771-4974-af4f-c68a0935ac1f"
      },
      "source": [
        "# The math.pi constant, returns the value of PI (3.14)\n",
        "x = math.pi\n",
        "print(x)"
      ],
      "execution_count": 11,
      "outputs": [
        {
          "output_type": "stream",
          "name": "stdout",
          "text": [
            "3.141592653589793\n"
          ]
        }
      ]
    },
    {
      "cell_type": "markdown",
      "metadata": {
        "id": "dXabqisnVLZB"
      },
      "source": [
        "#### **Reference**\n",
        "\n",
        "- https://www.youtube.com/watch?v=PYg-7yts2Mg"
      ]
    }
  ]
}