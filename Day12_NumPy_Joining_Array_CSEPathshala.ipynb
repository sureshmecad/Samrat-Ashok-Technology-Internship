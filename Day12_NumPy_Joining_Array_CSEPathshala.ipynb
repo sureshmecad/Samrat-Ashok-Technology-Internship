{
  "nbformat": 4,
  "nbformat_minor": 0,
  "metadata": {
    "colab": {
      "name": "Day12_NumPy Joining Array_CSEPathshala.ipynb",
      "provenance": [],
      "collapsed_sections": [],
      "authorship_tag": "ABX9TyPpLVDoego0YYnBWBu7oDpq",
      "include_colab_link": true
    },
    "kernelspec": {
      "name": "python3",
      "display_name": "Python 3"
    },
    "language_info": {
      "name": "python"
    }
  },
  "cells": [
    {
      "cell_type": "markdown",
      "metadata": {
        "id": "view-in-github",
        "colab_type": "text"
      },
      "source": [
        "<a href=\"https://colab.research.google.com/github/sureshmecad/Samrat-Ashok-Technology-Internship/blob/main/Day12_NumPy_Joining_Array_CSEPathshala.ipynb\" target=\"_parent\"><img src=\"https://colab.research.google.com/assets/colab-badge.svg\" alt=\"Open In Colab\"/></a>"
      ]
    },
    {
      "cell_type": "markdown",
      "metadata": {
        "id": "z30Yk6YkYJYg"
      },
      "source": [
        "- np.concatenate\n",
        "\n",
        "- np.stack\n",
        "\n",
        "- np.hstack\n",
        "\n",
        "- np.vstack\n",
        "\n",
        "- np.dstack"
      ]
    },
    {
      "cell_type": "markdown",
      "metadata": {
        "id": "FbrUXw7JYY2W"
      },
      "source": [
        "-----------------"
      ]
    },
    {
      "cell_type": "markdown",
      "metadata": {
        "id": "T3yKtZ0yByua"
      },
      "source": [
        "### **Joining Numpy Arrays**"
      ]
    },
    {
      "cell_type": "markdown",
      "metadata": {
        "id": "Msptp72OB4Mq"
      },
      "source": [
        "- Joining means putting contents of two or more arrays in a single array. In SQL we join tables based on a key, wheres in NumPy we join arrays by axes. We pass a sequence of arrays that we want to join to the concatenate() function, along with the axis. If axis is not explicitly passed, it is taken as 0."
      ]
    },
    {
      "cell_type": "markdown",
      "metadata": {
        "id": "pd-mWZGYDDBh"
      },
      "source": [
        "#### **Join two arrays**"
      ]
    },
    {
      "cell_type": "code",
      "metadata": {
        "id": "1p54hzLL_PKH"
      },
      "source": [
        "import numpy as np"
      ],
      "execution_count": 1,
      "outputs": []
    },
    {
      "cell_type": "code",
      "metadata": {
        "colab": {
          "base_uri": "https://localhost:8080/"
        },
        "id": "RbX5IwcjDrLp",
        "outputId": "73a9f3a4-5b5c-4092-d8b9-1eef21a3919f"
      },
      "source": [
        "arr1 = np.array([1,2,3])\n",
        "arr2 = np.array([4,5,6])\n",
        "\n",
        "arr = np.concatenate((arr1, arr2))\n",
        "print('The concatenated array is:', arr)"
      ],
      "execution_count": 2,
      "outputs": [
        {
          "output_type": "stream",
          "name": "stdout",
          "text": [
            "The concatenated array is: [1 2 3 4 5 6]\n"
          ]
        }
      ]
    },
    {
      "cell_type": "markdown",
      "metadata": {
        "id": "RUPkwSY0EQsP"
      },
      "source": [
        "#### **Join 2-D arrays along rows (axis=1)**"
      ]
    },
    {
      "cell_type": "code",
      "metadata": {
        "colab": {
          "base_uri": "https://localhost:8080/"
        },
        "id": "LQwW_7n0O1SE",
        "outputId": "429d2b52-69ae-49bb-a9cf-1a4ead329615"
      },
      "source": [
        "arr1 = np.array([[1,2],[3,4]])\n",
        "print(arr1)\n",
        "arr2 = np.array([[5,6],[7,8]])\n",
        "print(arr2)\n",
        "arr = np.concatenate((arr1, arr2), axis=0)\n",
        "print('The concatenated array along rows is:')\n",
        "print(arr)"
      ],
      "execution_count": 6,
      "outputs": [
        {
          "output_type": "stream",
          "name": "stdout",
          "text": [
            "[[1 2]\n",
            " [3 4]]\n",
            "[[5 6]\n",
            " [7 8]]\n",
            "The concatenated array along rows is:\n",
            "[[1 2]\n",
            " [3 4]\n",
            " [5 6]\n",
            " [7 8]]\n"
          ]
        }
      ]
    },
    {
      "cell_type": "code",
      "metadata": {
        "colab": {
          "base_uri": "https://localhost:8080/"
        },
        "id": "lFLVMwRxDrHt",
        "outputId": "933d53e2-6299-4cbc-c351-9f5fa5f895cd"
      },
      "source": [
        "arr1 = np.array([[1,2],[3,4]])\n",
        "print(arr1)\n",
        "arr2 = np.array([[5,6],[7,8]])\n",
        "print(arr2)\n",
        "arr = np.concatenate((arr1, arr2), axis=1)\n",
        "print('The concatenated array along rows is:')\n",
        "print(arr)"
      ],
      "execution_count": 7,
      "outputs": [
        {
          "output_type": "stream",
          "name": "stdout",
          "text": [
            "[[1 2]\n",
            " [3 4]]\n",
            "[[5 6]\n",
            " [7 8]]\n",
            "The concatenated array along rows is:\n",
            "[[1 2 5 6]\n",
            " [3 4 7 8]]\n"
          ]
        }
      ]
    },
    {
      "cell_type": "markdown",
      "metadata": {
        "id": "8IURYl9XFjeN"
      },
      "source": [
        "#### **Joining Arrays Using Stack Function** "
      ]
    },
    {
      "cell_type": "markdown",
      "metadata": {
        "id": "z-PeldjMFylF"
      },
      "source": [
        "- **Stacking is same as concatenation:** the only difference is that **stacking is done along a new axis.**\n",
        "\n",
        "- We can concatenate **two 1-D arrays** along the **second axis** which would result in putting them one over the other, that is stacking.\n",
        "\n",
        "- We pass a sequence of arrays that we want to join to the **stack()** method along with the axis. If axis is not explicitly passed it is taken as 0."
      ]
    },
    {
      "cell_type": "code",
      "metadata": {
        "colab": {
          "base_uri": "https://localhost:8080/"
        },
        "id": "PX-GiReyPLRq",
        "outputId": "57f64c63-74d0-4371-d58c-2c309218d2aa"
      },
      "source": [
        "arr1 = np.array([1,2,3])\n",
        "arr2 = np.array([4,5,6])\n",
        "\n",
        "arr = np.stack((arr1, arr2), axis=0)\n",
        "print('The stacked array is:')\n",
        "print(arr)"
      ],
      "execution_count": 8,
      "outputs": [
        {
          "output_type": "stream",
          "name": "stdout",
          "text": [
            "The stacked array is:\n",
            "[[1 2 3]\n",
            " [4 5 6]]\n"
          ]
        }
      ]
    },
    {
      "cell_type": "code",
      "metadata": {
        "colab": {
          "base_uri": "https://localhost:8080/"
        },
        "id": "_d4knbotDrG5",
        "outputId": "25799ba3-c4ad-4460-8e69-cbb587c1d26b"
      },
      "source": [
        "arr1 = np.array([1,2,3])\n",
        "arr2 = np.array([4,5,6])\n",
        "\n",
        "arr = np.stack((arr1, arr2), axis=1)\n",
        "print('The stacked array is:')\n",
        "print(arr)"
      ],
      "execution_count": 9,
      "outputs": [
        {
          "output_type": "stream",
          "name": "stdout",
          "text": [
            "The stacked array is:\n",
            "[[1 4]\n",
            " [2 5]\n",
            " [3 6]]\n"
          ]
        }
      ]
    },
    {
      "cell_type": "markdown",
      "metadata": {
        "id": "UuEtCcLcU6SD"
      },
      "source": [
        "##### **Stacking along rows**\n",
        "\n",
        "- NumPy provides a helper function **hstack()** to stack along **rows**"
      ]
    },
    {
      "cell_type": "code",
      "metadata": {
        "colab": {
          "base_uri": "https://localhost:8080/"
        },
        "id": "cZI9q3KnDrDR",
        "outputId": "25857c4b-5734-41c9-eb3c-fd1672766392"
      },
      "source": [
        "arr1 = np.array([1,2,3])\n",
        "arr2 = np.array([4,5,6])\n",
        "\n",
        "arr = np.hstack((arr1, arr2))\n",
        "print('The stacked array along row is:')\n",
        "print(arr)"
      ],
      "execution_count": 10,
      "outputs": [
        {
          "output_type": "stream",
          "name": "stdout",
          "text": [
            "The stacked array along row is:\n",
            "[1 2 3 4 5 6]\n"
          ]
        }
      ]
    },
    {
      "cell_type": "markdown",
      "metadata": {
        "id": "xvKVlSL_VSEJ"
      },
      "source": [
        "##### **Stacking Along Columns**\n",
        "\n",
        "- NumPy provides a helper function **vstack()** to stack along **columns**"
      ]
    },
    {
      "cell_type": "code",
      "metadata": {
        "colab": {
          "base_uri": "https://localhost:8080/"
        },
        "id": "1nCxyaj3Dq_C",
        "outputId": "1948cf98-c2bc-4c7d-a473-403c86005f3a"
      },
      "source": [
        "arr1 = np.array([1,2,3])\n",
        "arr2 = np.array([4,5,6])\n",
        "\n",
        "arr = np.vstack((arr1, arr2))\n",
        "print('The stacked array along column is:')\n",
        "print(arr)"
      ],
      "execution_count": 11,
      "outputs": [
        {
          "output_type": "stream",
          "name": "stdout",
          "text": [
            "The stacked array along column is:\n",
            "[[1 2 3]\n",
            " [4 5 6]]\n"
          ]
        }
      ]
    },
    {
      "cell_type": "markdown",
      "metadata": {
        "id": "v1AuHCbzWS0D"
      },
      "source": [
        "##### **Stacking Along Height (Depth)**\n",
        "\n",
        "- NumPy provides a helper function **dstack()** to stack along **height**, which is same as depth."
      ]
    },
    {
      "cell_type": "code",
      "metadata": {
        "colab": {
          "base_uri": "https://localhost:8080/"
        },
        "id": "7LtHZSgoDq-Z",
        "outputId": "58d7e582-afe0-40e3-d533-2f4ed9611d5c"
      },
      "source": [
        "arr1 = np.array([1,2,3])\n",
        "arr2 = np.array([4,5,6])\n",
        "\n",
        "arr = np.dstack((arr1, arr2))\n",
        "print('The stacked array along height is:')\n",
        "print(arr)"
      ],
      "execution_count": 12,
      "outputs": [
        {
          "output_type": "stream",
          "name": "stdout",
          "text": [
            "The stacked array along height is:\n",
            "[[[1 4]\n",
            "  [2 5]\n",
            "  [3 6]]]\n"
          ]
        }
      ]
    },
    {
      "cell_type": "markdown",
      "metadata": {
        "id": "RI0EZ6st_YNT"
      },
      "source": [
        "### **Reference**\n",
        "\n",
        "- https://www.youtube.com/watch?v=LDM7QxVa_WE&list=PLzx-_kRo3HZtP3tWaieUPwAh9K4I00_6p&index=12"
      ]
    }
  ]
}