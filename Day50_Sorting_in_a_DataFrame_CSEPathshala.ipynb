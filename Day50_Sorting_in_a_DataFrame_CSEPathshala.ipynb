{
  "nbformat": 4,
  "nbformat_minor": 0,
  "metadata": {
    "colab": {
      "name": "Day50_Sorting in a DataFrame_CSEPathshala.ipynb",
      "provenance": [],
      "collapsed_sections": [],
      "authorship_tag": "ABX9TyO1y/LLlSSjaKqse/32qtEL",
      "include_colab_link": true
    },
    "kernelspec": {
      "name": "python3",
      "display_name": "Python 3"
    },
    "language_info": {
      "name": "python"
    }
  },
  "cells": [
    {
      "cell_type": "markdown",
      "metadata": {
        "id": "view-in-github",
        "colab_type": "text"
      },
      "source": [
        "<a href=\"https://colab.research.google.com/github/sureshmecad/Samrat-Ashok-Technology-Internship/blob/main/Day50_Sorting_in_a_DataFrame_CSEPathshala.ipynb\" target=\"_parent\"><img src=\"https://colab.research.google.com/assets/colab-badge.svg\" alt=\"Open In Colab\"/></a>"
      ]
    },
    {
      "cell_type": "markdown",
      "metadata": {
        "id": "YZY8ILicxSrH"
      },
      "source": [
        "#### **Sorting Data in a DataFrame**\n",
        "\n",
        "- **There are two ways** that you can **sort** the data in a **DataFrame.**\n",
        "\n",
        "- Sort by value using the **sort_values()** function."
      ]
    },
    {
      "cell_type": "markdown",
      "metadata": {
        "id": "quk5AyCtyB_6"
      },
      "source": [
        "#### **1) Sorting by Index**\n",
        "\n",
        "- To sort using the axis, we need to specify if we want to sort by **index or column.**\n",
        "\n",
        "- Setting the axis parameter to **0** indicates that we want to sort by **index**"
      ]
    },
    {
      "cell_type": "code",
      "metadata": {
        "id": "rFQBvPU9w0Iw"
      },
      "source": [
        "import pandas as pd\n",
        "import numpy as np"
      ],
      "execution_count": 5,
      "outputs": []
    },
    {
      "cell_type": "code",
      "metadata": {
        "colab": {
          "base_uri": "https://localhost:8080/"
        },
        "id": "MGaDVpqYzMcI",
        "outputId": "3e486cae-2380-4321-f217-2c08d4486477"
      },
      "source": [
        "df = pd.DataFrame(np.random.randn(10,4), columns=list('ABCD'))\n",
        "print(df)\n",
        "print(df.sort_index(axis=0, ascending=False))  # axis=0 means sort by index"
      ],
      "execution_count": 6,
      "outputs": [
        {
          "output_type": "stream",
          "name": "stdout",
          "text": [
            "          A         B         C         D\n",
            "0  0.379300  0.825827  0.464706  1.206361\n",
            "1  0.798921  1.026495  2.228731 -0.303166\n",
            "2 -0.017989  1.251794 -0.961850  0.163904\n",
            "3  0.431691 -0.772269  0.391178  1.028685\n",
            "4  0.038134 -0.098139 -0.342948 -0.324783\n",
            "5 -0.918551 -0.245106 -0.229817  2.078016\n",
            "6 -0.821986  0.617603 -0.026694  1.026492\n",
            "7  1.362477  0.829617 -0.029381  0.131488\n",
            "8  0.534476  0.183595  0.261098 -0.636788\n",
            "9  0.512445 -1.449025 -1.234225 -1.690842\n",
            "          A         B         C         D\n",
            "9  0.512445 -1.449025 -1.234225 -1.690842\n",
            "8  0.534476  0.183595  0.261098 -0.636788\n",
            "7  1.362477  0.829617 -0.029381  0.131488\n",
            "6 -0.821986  0.617603 -0.026694  1.026492\n",
            "5 -0.918551 -0.245106 -0.229817  2.078016\n",
            "4  0.038134 -0.098139 -0.342948 -0.324783\n",
            "3  0.431691 -0.772269  0.391178  1.028685\n",
            "2 -0.017989  1.251794 -0.961850  0.163904\n",
            "1  0.798921  1.026495  2.228731 -0.303166\n",
            "0  0.379300  0.825827  0.464706  1.206361\n"
          ]
        }
      ]
    },
    {
      "cell_type": "markdown",
      "metadata": {
        "id": "IhwWKwlA1BH0"
      },
      "source": [
        "- Based on the preceding statement, the dataframe is now sorted according to the index in descending order.\n",
        "\n",
        "- The **sort_index** function returns the sorted dataframe. The original dataframe is not affected. If we want the original dataframe to be sorted use the **inplace** parameter and set it to **True.**\n",
        "\n",
        "- In general most operations involving dataframes do not alter the original dataframe. So **inplace** is by **default** set to **False**. When **inplace** is set to **True**, the function returns **None** as the result.\n",
        "\n",
        "- Setting the **axis** parameter to **1** indicates that you want to sort by **column** label."
      ]
    },
    {
      "cell_type": "code",
      "metadata": {
        "colab": {
          "base_uri": "https://localhost:8080/"
        },
        "id": "GiEASf633MUg",
        "outputId": "8453999c-b22c-423d-c3a4-fdc99002c914"
      },
      "source": [
        "df = pd.DataFrame(np.random.randn(10,4), columns=list('ABCD'))\n",
        "print(df)\n",
        "print(df.sort_index(axis=1, ascending=False))  # axis=1 means sort by column"
      ],
      "execution_count": 7,
      "outputs": [
        {
          "output_type": "stream",
          "name": "stdout",
          "text": [
            "          A         B         C         D\n",
            "0  0.347200 -0.167150 -2.910876  0.076659\n",
            "1 -1.037443 -1.589671 -0.277197 -0.956129\n",
            "2 -0.157581  0.780422 -0.229202  0.522032\n",
            "3 -1.807824  2.151283  1.337809  0.593446\n",
            "4  0.082931 -0.468669 -0.248014  0.908545\n",
            "5  0.302990 -0.569638  0.654685  1.419615\n",
            "6 -1.813272 -0.362619 -1.553133  0.408559\n",
            "7 -0.035857 -2.342950 -0.605405 -1.500891\n",
            "8 -1.635819 -0.252314  0.547226 -0.765175\n",
            "9 -0.558957 -1.006835 -0.471143  0.348218\n",
            "          D         C         B         A\n",
            "0  0.076659 -2.910876 -0.167150  0.347200\n",
            "1 -0.956129 -0.277197 -1.589671 -1.037443\n",
            "2  0.522032 -0.229202  0.780422 -0.157581\n",
            "3  0.593446  1.337809  2.151283 -1.807824\n",
            "4  0.908545 -0.248014 -0.468669  0.082931\n",
            "5  1.419615  0.654685 -0.569638  0.302990\n",
            "6  0.408559 -1.553133 -0.362619 -1.813272\n",
            "7 -1.500891 -0.605405 -2.342950 -0.035857\n",
            "8 -0.765175  0.547226 -0.252314 -1.635819\n",
            "9  0.348218 -0.471143 -1.006835 -0.558957\n"
          ]
        }
      ]
    },
    {
      "cell_type": "markdown",
      "metadata": {
        "id": "YO0hBapM3_LW"
      },
      "source": [
        "#### **2) Sorting by Value**\n",
        "\n",
        "- To sort by value, use the **sort_values()** function.\n",
        "\n",
        "- The following statement sorts the DataFrame based on the values in column \"A\"."
      ]
    },
    {
      "cell_type": "code",
      "metadata": {
        "colab": {
          "base_uri": "https://localhost:8080/"
        },
        "id": "BXUPZnMs4klj",
        "outputId": "479aaca4-c154-42c9-ecbc-904aa93b59d8"
      },
      "source": [
        "df = pd.DataFrame(np.random.randn(10,4), columns=list('ABCD'))\n",
        "print(df)\n",
        "print(df.sort_values(\"A\", axis=0))"
      ],
      "execution_count": 8,
      "outputs": [
        {
          "output_type": "stream",
          "name": "stdout",
          "text": [
            "          A         B         C         D\n",
            "0  0.092930 -1.070243  0.261447 -0.441417\n",
            "1 -0.312798  0.178144  0.116842  0.887428\n",
            "2 -1.018614 -0.328508  0.789236  0.740248\n",
            "3  1.610135  1.088881 -0.426725 -0.524813\n",
            "4 -0.852217 -0.321224 -1.096955 -0.060202\n",
            "5  0.795340 -1.351367  0.091033 -0.362455\n",
            "6 -1.524086  0.667767 -0.325972 -0.751060\n",
            "7 -0.834760  0.924177  0.104611  0.186119\n",
            "8  1.101537  0.372787  0.343459  0.688600\n",
            "9 -0.120989 -1.249542 -1.534022 -1.028145\n",
            "          A         B         C         D\n",
            "6 -1.524086  0.667767 -0.325972 -0.751060\n",
            "2 -1.018614 -0.328508  0.789236  0.740248\n",
            "4 -0.852217 -0.321224 -1.096955 -0.060202\n",
            "7 -0.834760  0.924177  0.104611  0.186119\n",
            "1 -0.312798  0.178144  0.116842  0.887428\n",
            "9 -0.120989 -1.249542 -1.534022 -1.028145\n",
            "0  0.092930 -1.070243  0.261447 -0.441417\n",
            "5  0.795340 -1.351367  0.091033 -0.362455\n",
            "8  1.101537  0.372787  0.343459  0.688600\n",
            "3  1.610135  1.088881 -0.426725 -0.524813\n"
          ]
        }
      ]
    },
    {
      "cell_type": "markdown",
      "metadata": {
        "id": "uVf7b0h95Xk1"
      },
      "source": [
        "- The output is now sorted (in ascending order) based on the value of coumn \"A\"\n",
        "\n",
        "- Notice that the index is now jumbled up."
      ]
    },
    {
      "cell_type": "markdown",
      "metadata": {
        "id": "I2CBXbM16Ftw"
      },
      "source": [
        "#### **To sort based on a particular index**\n",
        "\n",
        "- set the axis parameter to 1."
      ]
    },
    {
      "cell_type": "code",
      "metadata": {
        "colab": {
          "base_uri": "https://localhost:8080/"
        },
        "id": "JTFZyiji6BEw",
        "outputId": "3c333570-ee04-4b5e-9aff-6d0520c45acd"
      },
      "source": [
        "df = pd.DataFrame(np.random.randn(10,4), columns=list('ABCD'))\n",
        "days = pd.date_range('20190601', periods=10)\n",
        "df.index = days\n",
        "print(df)\n",
        "print(df.sort_values(\"20190601\", axis=1))"
      ],
      "execution_count": 9,
      "outputs": [
        {
          "output_type": "stream",
          "name": "stdout",
          "text": [
            "                   A         B         C         D\n",
            "2019-06-01 -0.281690 -1.831061 -0.058424 -1.962728\n",
            "2019-06-02  0.128035  1.002824  0.770917  1.501281\n",
            "2019-06-03  0.494022  1.264621  0.679310 -1.161345\n",
            "2019-06-04 -0.363065 -0.864861 -0.211405 -0.393419\n",
            "2019-06-05 -0.809498 -0.546654  0.004297 -0.273502\n",
            "2019-06-06 -1.105035  1.850070 -0.707610  1.405404\n",
            "2019-06-07 -0.076656 -0.943662 -1.502873  0.139695\n",
            "2019-06-08 -0.291609 -0.809308 -1.456150  0.946186\n",
            "2019-06-09 -0.003356  1.574351  0.123806 -0.736319\n",
            "2019-06-10  1.306652  0.414375  0.046648  0.291142\n",
            "                   D         B         A         C\n",
            "2019-06-01 -1.962728 -1.831061 -0.281690 -0.058424\n",
            "2019-06-02  1.501281  1.002824  0.128035  0.770917\n",
            "2019-06-03 -1.161345  1.264621  0.494022  0.679310\n",
            "2019-06-04 -0.393419 -0.864861 -0.363065 -0.211405\n",
            "2019-06-05 -0.273502 -0.546654 -0.809498  0.004297\n",
            "2019-06-06  1.405404  1.850070 -1.105035 -0.707610\n",
            "2019-06-07  0.139695 -0.943662 -0.076656 -1.502873\n",
            "2019-06-08  0.946186 -0.809308 -0.291609 -1.456150\n",
            "2019-06-09 -0.736319  1.574351 -0.003356  0.123806\n",
            "2019-06-10  0.291142  0.414375  1.306652  0.046648\n"
          ]
        }
      ]
    },
    {
      "cell_type": "markdown",
      "metadata": {
        "id": "7Bg6c0dwxNOe"
      },
      "source": [
        "#### **Reference**\n",
        "\n",
        "- https://www.youtube.com/watch?v=7-gHD_FZGz4&list=PLzx-_kRo3HZtP3tWaieUPwAh9K4I00_6p&index=37"
      ]
    }
  ]
}