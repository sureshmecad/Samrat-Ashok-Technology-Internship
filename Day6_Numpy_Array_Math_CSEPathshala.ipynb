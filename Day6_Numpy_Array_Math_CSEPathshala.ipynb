{
  "nbformat": 4,
  "nbformat_minor": 0,
  "metadata": {
    "colab": {
      "name": "Day6_Numpy Array Math_CSEPathshala.ipynb",
      "provenance": [],
      "collapsed_sections": [],
      "authorship_tag": "ABX9TyPvOAQIDgKcFzepdl0YZfxQ",
      "include_colab_link": true
    },
    "kernelspec": {
      "name": "python3",
      "display_name": "Python 3"
    },
    "language_info": {
      "name": "python"
    }
  },
  "cells": [
    {
      "cell_type": "markdown",
      "metadata": {
        "id": "view-in-github",
        "colab_type": "text"
      },
      "source": [
        "<a href=\"https://colab.research.google.com/github/sureshmecad/Samrat-Ashok-Technology-Internship/blob/main/Day6_Numpy_Array_Math_CSEPathshala.ipynb\" target=\"_parent\"><img src=\"https://colab.research.google.com/assets/colab-badge.svg\" alt=\"Open In Colab\"/></a>"
      ]
    },
    {
      "cell_type": "code",
      "metadata": {
        "id": "XlESzGk1w5pe"
      },
      "source": [
        "import numpy as np"
      ],
      "execution_count": 1,
      "outputs": []
    },
    {
      "cell_type": "markdown",
      "metadata": {
        "id": "gBhSVmYeDObL"
      },
      "source": [
        "- Array math or arithmatic can be performed very easily on NumPy arrays. For example, addition of two rank 2 arrays can be done as:"
      ]
    },
    {
      "cell_type": "markdown",
      "metadata": {
        "id": "gYdiEEiJJ2iG"
      },
      "source": [
        "#### **Addition**"
      ]
    },
    {
      "cell_type": "code",
      "metadata": {
        "colab": {
          "base_uri": "https://localhost:8080/"
        },
        "id": "BVgivgw3yi2L",
        "outputId": "adc70ef5-4949-4397-d8de-59b0900c1f43"
      },
      "source": [
        "# Add two NumPy arrays using \"+\" operator\n",
        "A = np.array([[1,2,3],[4,5,6]])\n",
        "B = np.array([[7,8,9],[10,11,12]])\n",
        "print(\"Addition of A and B is :\")\n",
        "print(A+B)"
      ],
      "execution_count": 5,
      "outputs": [
        {
          "output_type": "stream",
          "name": "stdout",
          "text": [
            "Addition of A and B is :\n",
            "[[ 8 10 12]\n",
            " [14 16 18]]\n"
          ]
        }
      ]
    },
    {
      "cell_type": "code",
      "metadata": {
        "colab": {
          "base_uri": "https://localhost:8080/"
        },
        "id": "mSt3gZ4cyiyz",
        "outputId": "a2951ce7-246d-4e39-ccd2-0151a860583c"
      },
      "source": [
        "# Add two numpy arrays and plot the resultant graph\n",
        "X = np.array([2,3])\n",
        "Y = np.array([4,2])\n",
        "print(\"Addition of A and B is :\")\n",
        "print(X+Y)"
      ],
      "execution_count": 7,
      "outputs": [
        {
          "output_type": "stream",
          "name": "stdout",
          "text": [
            "Addition of A and B is :\n",
            "[6 5]\n"
          ]
        }
      ]
    },
    {
      "cell_type": "markdown",
      "metadata": {
        "id": "UsVb-ROdHwqC"
      },
      "source": [
        "- Besides using **'+' operator**, we can also use the **np.add()** function to add two arrays."
      ]
    },
    {
      "cell_type": "code",
      "metadata": {
        "colab": {
          "base_uri": "https://localhost:8080/"
        },
        "id": "OTQg37wmyixp",
        "outputId": "1aecc17e-58fc-4fe8-b9d5-44ee9d5fec5a"
      },
      "source": [
        "# Add two numpy arrays using the np.add() function\n",
        "# Add two NumPy arrays using \"+\" operator\n",
        "A = np.array([[1,2,3],[4,5,6]])\n",
        "B = np.array([[7,8,9],[10,11,12]])\n",
        "print(\"Addition of A and B is :\")\n",
        "print(np.add(A, B))"
      ],
      "execution_count": 8,
      "outputs": [
        {
          "output_type": "stream",
          "name": "stdout",
          "text": [
            "Addition of A and B is :\n",
            "[[ 8 10 12]\n",
            " [14 16 18]]\n"
          ]
        }
      ]
    },
    {
      "cell_type": "markdown",
      "metadata": {
        "id": "HaGVQXmCKI62"
      },
      "source": [
        "#### **Subtraction**"
      ]
    },
    {
      "cell_type": "code",
      "metadata": {
        "colab": {
          "base_uri": "https://localhost:8080/"
        },
        "id": "0D_Iyx3myiu8",
        "outputId": "79d273b0-d274-492f-e1b9-0f8abf265ee4"
      },
      "source": [
        "# subtract two numpy arrays using \"-\" operator\n",
        "A = np.array([[1,2,3],[4,5,6]])\n",
        "B = np.array([[7,8,9],[10,11,12]])\n",
        "print(\"Subtraction of A and B is :\")  # same as np.subtract(A,B)\n",
        "print(A-B)"
      ],
      "execution_count": 9,
      "outputs": [
        {
          "output_type": "stream",
          "name": "stdout",
          "text": [
            "Subtraction of A and B is :\n",
            "[[-6 -6 -6]\n",
            " [-6 -6 -6]]\n"
          ]
        }
      ]
    },
    {
      "cell_type": "markdown",
      "metadata": {
        "id": "qHGHA181KrOY"
      },
      "source": [
        "#### **Multiplication**"
      ]
    },
    {
      "cell_type": "code",
      "metadata": {
        "colab": {
          "base_uri": "https://localhost:8080/"
        },
        "id": "RicFEsYQyits",
        "outputId": "62354666-7b2f-4921-f58f-8b1cb5e1ca55"
      },
      "source": [
        "# Multiply two numpy arrays using \"*\" operator\n",
        "A = np.array([[1,2,3],[4,5,6]])\n",
        "B = np.array([[7,8,9],[10,11,12]])\n",
        "print(\"Multiplication of A and B is :\")  # same as np.multiply(A,B)\n",
        "print(A*B)"
      ],
      "execution_count": 10,
      "outputs": [
        {
          "output_type": "stream",
          "name": "stdout",
          "text": [
            "Multiplication of A and B is :\n",
            "[[ 7 16 27]\n",
            " [40 55 72]]\n"
          ]
        }
      ]
    },
    {
      "cell_type": "markdown",
      "metadata": {
        "id": "dpozjjYuLd3h"
      },
      "source": [
        "#### **Divide**"
      ]
    },
    {
      "cell_type": "code",
      "metadata": {
        "colab": {
          "base_uri": "https://localhost:8080/"
        },
        "id": "pFL1njq0yirH",
        "outputId": "2aebca78-9891-4e93-bb62-7cbe5b2eb839"
      },
      "source": [
        "# Devide two numpy arrays using \"/\" operator\n",
        "A = np.array([[1,2,3],[4,5,6]])\n",
        "B = np.array([[7,8,9],[10,11,12]])\n",
        "print(\"Division of A and B is :\")  # same as np.divide(A,B)\n",
        "print(A/B)"
      ],
      "execution_count": 11,
      "outputs": [
        {
          "output_type": "stream",
          "name": "stdout",
          "text": [
            "Division of A and B is :\n",
            "[[0.14285714 0.25       0.33333333]\n",
            " [0.4        0.45454545 0.5       ]]\n"
          ]
        }
      ]
    },
    {
      "cell_type": "markdown",
      "metadata": {
        "id": "WhF7EBkAaEol"
      },
      "source": [
        "- What’s a practical use of the ability to multiply or divide two arrays?\n",
        "\n",
        "- Let’s suppose we have three arrays; one containing the names of a group of people, other the corresponding heights of these individuals and the last one corresponding weights of the individuals in the group. We want to calculate the BMI of this group of people.\n",
        "\n",
        "- The formula to calculate BMI is as follows:\n",
        "\n",
        " - Divide the weight in kilograms(kg) by the height in meters (m)\n",
        "\n",
        " - Divide the answer by the height again\n",
        "\n",
        "- **Using the BMI, you can classify a person as healthy, overweight, or underweight using the following categories:**\n",
        "\n",
        "  - Underweight if BMI<18.5\n",
        "\n",
        "  - Overweight if BMI>25\n",
        "\n",
        "  - Normal weight if 18.5 <=BMI <=25\n",
        "\n",
        "- Using array division, we could simply calculate BMI.\n"
      ]
    },
    {
      "cell_type": "code",
      "metadata": {
        "colab": {
          "base_uri": "https://localhost:8080/"
        },
        "id": "lh92enUNyiqQ",
        "outputId": "b224ddd7-89f8-4769-b2fc-ec378abb0332"
      },
      "source": [
        "names = np.array(['nirmal', 'priyanka', 'reshma'])\n",
        "heights = np.array([1.5, 1.78, 1.6])\n",
        "weights = np.array([65, 45, 59])\n",
        "bmi = weights/heights **2  # calculate the BMI\n",
        "print(\"The Body Mass Index (BMI) of nirmal, priyanka, reshma is: \", bmi)\n",
        "print(\"overweight: \", names[bmi>25])\n",
        "print(\"underweight: \", names[bmi<18.5])\n",
        "print(\"healthy: \", names[(bmi>=18.5) & (bmi<=25)])"
      ],
      "execution_count": 13,
      "outputs": [
        {
          "output_type": "stream",
          "name": "stdout",
          "text": [
            "The Body Mass Index (BMI) of nirmal, priyanka, reshma is:  [28.88888889 14.20275218 23.046875  ]\n",
            "overweight:  ['nirmal']\n",
            "underweight:  ['priyanka']\n",
            "healthy:  ['reshma']\n"
          ]
        }
      ]
    },
    {
      "cell_type": "markdown",
      "metadata": {
        "id": "9q99ffrrTjZ9"
      },
      "source": [
        "- when we multiply two arrays, it actually means multiplying each of there corresponding elements. Very often, we want to perform a scalar or dot product. **The dot product is an algebraic operation that takes two coordinate vectors of equal size and returns a single number.** The dot product of two vectors is calculated by multiplying corresponding entries in each vector and adding up all of those products"
      ]
    },
    {
      "cell_type": "code",
      "metadata": {
        "colab": {
          "base_uri": "https://localhost:8080/"
        },
        "id": "k6mQqXYIyinU",
        "outputId": "237071a1-e66a-4deb-da0d-72d82f537150"
      },
      "source": [
        "x = np.array([2,3])\n",
        "y = np.array([4,2])\n",
        "print(\"The dot product of x and y is: \", np.dot(x,y))"
      ],
      "execution_count": 14,
      "outputs": [
        {
          "output_type": "stream",
          "name": "stdout",
          "text": [
            "The dot product of x and y is:  14\n"
          ]
        }
      ]
    },
    {
      "cell_type": "markdown",
      "metadata": {
        "id": "huo9Zh0VXkJe"
      },
      "source": [
        "- Dot products also work on rank 2 arrays. If we perform a dot product of two rank 2 arrays, it is equivalant to the matrix multiplication."
      ]
    },
    {
      "cell_type": "code",
      "metadata": {
        "colab": {
          "base_uri": "https://localhost:8080/"
        },
        "id": "bSe7R_Q1YSBn",
        "outputId": "2a2ef557-b158-4ec8-a702-0af8a54a994c"
      },
      "source": [
        "x = np.array([[1,2,3],[4,5,6]])  # 2 * 3\n",
        "y = np.array([[7,8],[9,10],[11,12]])  # 3* 2\n",
        "print(\"The dot product of x and y is:\")\n",
        "print(np.dot(x,y))"
      ],
      "execution_count": 15,
      "outputs": [
        {
          "output_type": "stream",
          "name": "stdout",
          "text": [
            "The dot product of x and y is:\n",
            "[[ 58  64]\n",
            " [139 154]]\n"
          ]
        }
      ]
    },
    {
      "cell_type": "markdown",
      "metadata": {
        "id": "fHrbPsZWycm8"
      },
      "source": [
        "### **Reference**"
      ]
    },
    {
      "cell_type": "markdown",
      "metadata": {
        "id": "tULifDGoyfbT"
      },
      "source": [
        "- https://www.youtube.com/watch?v=AO1RthUL3es&list=PLzx-_kRo3HZtP3tWaieUPwAh9K4I00_6p&index=6"
      ]
    }
  ]
}