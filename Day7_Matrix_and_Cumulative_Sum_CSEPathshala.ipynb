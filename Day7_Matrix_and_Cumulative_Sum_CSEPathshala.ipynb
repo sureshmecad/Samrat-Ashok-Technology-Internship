{
  "nbformat": 4,
  "nbformat_minor": 0,
  "metadata": {
    "colab": {
      "name": "Day7_Matrix and Cumulative Sum_CSEPathshala.ipynb",
      "provenance": [],
      "collapsed_sections": [],
      "authorship_tag": "ABX9TyO2BrR8013PeXboRax3OtTQ",
      "include_colab_link": true
    },
    "kernelspec": {
      "name": "python3",
      "display_name": "Python 3"
    },
    "language_info": {
      "name": "python"
    }
  },
  "cells": [
    {
      "cell_type": "markdown",
      "metadata": {
        "id": "view-in-github",
        "colab_type": "text"
      },
      "source": [
        "<a href=\"https://colab.research.google.com/github/sureshmecad/Samrat-Ashok-Technology-Internship/blob/main/Day7_Matrix_and_Cumulative_Sum_CSEPathshala.ipynb\" target=\"_parent\"><img src=\"https://colab.research.google.com/assets/colab-badge.svg\" alt=\"Open In Colab\"/></a>"
      ]
    },
    {
      "cell_type": "code",
      "metadata": {
        "id": "mcjs5I00AKJA"
      },
      "source": [
        "import numpy as np"
      ],
      "execution_count": 1,
      "outputs": []
    },
    {
      "cell_type": "markdown",
      "metadata": {
        "id": "zeSQkpd-JxU0"
      },
      "source": [
        "#### **Matrix and Cumulative sum in NumPy Array**"
      ]
    },
    {
      "cell_type": "markdown",
      "metadata": {
        "id": "wmpwD8m0OJnZ"
      },
      "source": [
        "- NumPy provides another class in addition to arrays(ndarray). The matrix class is a subclass of the ndarray, and it is basically identical to the ndarray with one notable exception. A matrix is strictly two-dimensional, while an ndarray cab be multidimensional. Creating a matrix object is similar creating numpy array."
      ]
    },
    {
      "cell_type": "code",
      "metadata": {
        "colab": {
          "base_uri": "https://localhost:8080/"
        },
        "id": "JphP4yjmEYkN",
        "outputId": "b2bb0696-56b1-42c0-d023-70b5d4903088"
      },
      "source": [
        "a = np.matrix([[1,2],[4,5]])\n",
        "b = np.matrix([[7,8],[2,3]])\n",
        "print(\"The matrix a is:\")\n",
        "print(a)\n",
        "print(\"The matrix b is:\")\n",
        "print(b)"
      ],
      "execution_count": 2,
      "outputs": [
        {
          "output_type": "stream",
          "name": "stdout",
          "text": [
            "The matrix a is:\n",
            "[[1 2]\n",
            " [4 5]]\n",
            "The matrix b is:\n",
            "[[7 8]\n",
            " [2 3]]\n"
          ]
        }
      ]
    },
    {
      "cell_type": "markdown",
      "metadata": {
        "id": "_KRTTjo6SZjt"
      },
      "source": [
        "#### **we can also convert a NumPy array to a matrix using the asmatrix() function**"
      ]
    },
    {
      "cell_type": "code",
      "metadata": {
        "colab": {
          "base_uri": "https://localhost:8080/"
        },
        "id": "PvMN951YEYft",
        "outputId": "bed6ec37-fe91-4e17-82ec-fd230210ec4f"
      },
      "source": [
        "a = np.matrix([[1,2],[4,5]])\n",
        "b = np.matrix([[7,8],[2,3]])\n",
        "\n",
        "c = np.asmatrix(a)\n",
        "d = np.asmatrix(b)\n",
        "\n",
        "print(\"The matrix c is:\")\n",
        "print(c)\n",
        "print(\"The matrix d is:\")\n",
        "print(d)"
      ],
      "execution_count": 3,
      "outputs": [
        {
          "output_type": "stream",
          "name": "stdout",
          "text": [
            "The matrix c is:\n",
            "[[1 2]\n",
            " [4 5]]\n",
            "The matrix d is:\n",
            "[[7 8]\n",
            " [2 3]]\n"
          ]
        }
      ]
    },
    {
      "cell_type": "markdown",
      "metadata": {
        "id": "DLHUiL4wTkLc"
      },
      "source": [
        "- Another importance **difference** between an **ndarray and a matrix** occurs when we perform **multiplications** on them.\n",
        "\n",
        "- When **multiplying two ndarray objects**, the result is the **element by element multiplication**.\n",
        "\n",
        "- On the other hand when **multiplying two matrix objects**, the result is the **dot product** (equivalent to the **np.dot()** function."
      ]
    },
    {
      "cell_type": "code",
      "metadata": {
        "colab": {
          "base_uri": "https://localhost:8080/"
        },
        "id": "wZzT5hnqEYcB",
        "outputId": "38d2fdf5-7ec6-4bba-f8a0-7b4b6ec8c134"
      },
      "source": [
        "x1 = np.array([[1,2],[4,5]])\n",
        "y1 = np.array([[7,8],[2,3]])\n",
        "print(\"The product of x1 and y1 is:\")  # element by element multiplication\n",
        "print(x1 * y1)\n",
        "\n",
        "x2 = np.matrix([[1,2],[4,5]])\n",
        "y2 = np.matrix([[7,8],[2,3]])\n",
        "print(\"The product of x2 and y2 is:\")  # dot product; same as np.dot()\n",
        "print(x2 * y2)"
      ],
      "execution_count": 5,
      "outputs": [
        {
          "output_type": "stream",
          "name": "stdout",
          "text": [
            "The product of x1 and y1 is:\n",
            "[[ 7 16]\n",
            " [ 8 15]]\n",
            "The product of x2 and y2 is:\n",
            "[[11 14]\n",
            " [38 47]]\n"
          ]
        }
      ]
    },
    {
      "cell_type": "markdown",
      "metadata": {
        "id": "CsUXDtciXQQ3"
      },
      "source": [
        "- Very often, **when dealing with numerical data**, there is a need to find the **cumulative sum** of numbers in numpy array.\n",
        "\n",
        "- We can call the **cumsum()** function to get the cumulative sum of the array elements."
      ]
    },
    {
      "cell_type": "code",
      "metadata": {
        "colab": {
          "base_uri": "https://localhost:8080/"
        },
        "id": "4iJnFsd4EYbO",
        "outputId": "0a8339b2-d2ba-4080-d4e2-7c88a2508e7e"
      },
      "source": [
        "A = np.array([(1,2,3),(4,5,6),(7,8,9)])\n",
        "print(\"The value of array A is:\")\n",
        "print(A)\n",
        "print(\"The cumulative sum of all the elements in the array is:\")\n",
        "print(A.cumsum())"
      ],
      "execution_count": 6,
      "outputs": [
        {
          "output_type": "stream",
          "name": "stdout",
          "text": [
            "The value of array A is:\n",
            "[[1 2 3]\n",
            " [4 5 6]\n",
            " [7 8 9]]\n",
            "The cumulative sum of all the elements in the array is:\n",
            "[ 1  3  6 10 15 21 28 36 45]\n"
          ]
        }
      ]
    },
    {
      "cell_type": "markdown",
      "metadata": {
        "id": "M-4HKCDaaDuG"
      },
      "source": [
        "- In this case, **cumsum()** function returns a **rank 1 array** containing the cumulative sum of all of the elements in the A array.\n",
        "\n",
        "- The **cumsum()** function also takes in an **optional argument** as axis. Specifying an **axis of o** indicates that we want to get the **cumulative sum of each column**."
      ]
    },
    {
      "cell_type": "code",
      "metadata": {
        "colab": {
          "base_uri": "https://localhost:8080/"
        },
        "id": "vp9RsgPeEYX9",
        "outputId": "382d3355-2943-4998-81b7-1335cd808bf5"
      },
      "source": [
        "A = np.array([(1,2,3),(4,5,6),(7,8,9)])\n",
        "print(\"The value of array A is:\")\n",
        "print(A)\n",
        "print(\"The cumulative sum of all the elements in the array is:\")\n",
        "print(A.cumsum(axis=0))"
      ],
      "execution_count": 8,
      "outputs": [
        {
          "output_type": "stream",
          "name": "stdout",
          "text": [
            "The value of array A is:\n",
            "[[1 2 3]\n",
            " [4 5 6]\n",
            " [7 8 9]]\n",
            "The cumulative sum of all the elements in the array is:\n",
            "[[ 1  2  3]\n",
            " [ 5  7  9]\n",
            " [12 15 18]]\n"
          ]
        }
      ]
    },
    {
      "cell_type": "markdown",
      "metadata": {
        "id": "9LAEMAy3cmid"
      },
      "source": [
        "- Specifying an **axis of 1** indicates that we want to get the **cumulative sum of each row**"
      ]
    },
    {
      "cell_type": "code",
      "metadata": {
        "colab": {
          "base_uri": "https://localhost:8080/"
        },
        "id": "lPWidhT8EYSt",
        "outputId": "21314101-400b-41ef-f384-ee69f3ceeeee"
      },
      "source": [
        "A = np.array([(1,2,3),(4,5,6),(7,8,9)])\n",
        "print(\"The value of array A is:\")\n",
        "print(A)\n",
        "print(\"The cumulative sum of all the elements in the array is:\")\n",
        "print(A.cumsum(axis=1))"
      ],
      "execution_count": 9,
      "outputs": [
        {
          "output_type": "stream",
          "name": "stdout",
          "text": [
            "The value of array A is:\n",
            "[[1 2 3]\n",
            " [4 5 6]\n",
            " [7 8 9]]\n",
            "The cumulative sum of all the elements in the array is:\n",
            "[[ 1  3  6]\n",
            " [ 4  9 15]\n",
            " [ 7 15 24]]\n"
          ]
        }
      ]
    },
    {
      "cell_type": "markdown",
      "metadata": {
        "id": "2nPLk9LLEOBN"
      },
      "source": [
        "#### **Reference**"
      ]
    },
    {
      "cell_type": "markdown",
      "metadata": {
        "id": "ovXMYc4EEQ0O"
      },
      "source": [
        "- https://www.youtube.com/watch?v=kq3bngOTeRk&list=PLzx-_kRo3HZtP3tWaieUPwAh9K4I00_6p&index=7"
      ]
    }
  ]
}