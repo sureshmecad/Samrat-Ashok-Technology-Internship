{
  "nbformat": 4,
  "nbformat_minor": 0,
  "metadata": {
    "colab": {
      "name": "Day70_Preprocessing using Scikit Learn_CSEPathshala.ipynb",
      "provenance": [],
      "collapsed_sections": [],
      "authorship_tag": "ABX9TyPGXs0yWBk6OCvOK9zWvtm6",
      "include_colab_link": true
    },
    "kernelspec": {
      "name": "python3",
      "display_name": "Python 3"
    },
    "language_info": {
      "name": "python"
    }
  },
  "cells": [
    {
      "cell_type": "markdown",
      "metadata": {
        "id": "view-in-github",
        "colab_type": "text"
      },
      "source": [
        "<a href=\"https://colab.research.google.com/github/sureshmecad/Samrat-Ashok-Technology-Internship/blob/main/Day70_Preprocessing_using_Scikit_Learn_CSEPathshala.ipynb\" target=\"_parent\"><img src=\"https://colab.research.google.com/assets/colab-badge.svg\" alt=\"Open In Colab\"/></a>"
      ]
    },
    {
      "cell_type": "code",
      "metadata": {
        "id": "gvRnhvZ3wmt_"
      },
      "source": [
        "import numpy as np\n",
        "from sklearn import preprocessing \n",
        "\n",
        "\n",
        "input_data = np.array([[ 1., -1.,  2.],\n",
        "                        [ 2.,  0.,  0.],\n",
        "                        [ 0.,  1., -1.]])\n",
        "\n",
        "x = [['male', 'from US', 'uses Safari'], ['female', 'from Europe', 'uses Firefox']]"
      ],
      "execution_count": 1,
      "outputs": []
    },
    {
      "cell_type": "code",
      "metadata": {
        "colab": {
          "base_uri": "https://localhost:8080/"
        },
        "id": "wGylVyV2wyr5",
        "outputId": "37181ca2-52e9-4d40-e2d0-33fa86faa9e4"
      },
      "source": [
        "d1 = preprocessing.Binarizer(threshold=0.5).transform(input_data)\n",
        "d1"
      ],
      "execution_count": 2,
      "outputs": [
        {
          "output_type": "execute_result",
          "data": {
            "text/plain": [
              "array([[1., 0., 1.],\n",
              "       [1., 0., 0.],\n",
              "       [0., 1., 0.]])"
            ]
          },
          "metadata": {},
          "execution_count": 2
        }
      ]
    },
    {
      "cell_type": "code",
      "metadata": {
        "colab": {
          "base_uri": "https://localhost:8080/"
        },
        "id": "uW16Fu_vwyoN",
        "outputId": "a2cad83b-9472-4cf8-d3a6-0cb99f29df21"
      },
      "source": [
        "input_data.mean(axis=0)"
      ],
      "execution_count": 3,
      "outputs": [
        {
          "output_type": "execute_result",
          "data": {
            "text/plain": [
              "array([1.        , 0.        , 0.33333333])"
            ]
          },
          "metadata": {},
          "execution_count": 3
        }
      ]
    },
    {
      "cell_type": "code",
      "metadata": {
        "colab": {
          "base_uri": "https://localhost:8080/"
        },
        "id": "LTPJCv_0wykn",
        "outputId": "d8a3e5d0-5355-4e59-d2bb-63536c61fc70"
      },
      "source": [
        "input_data.std(axis=0)"
      ],
      "execution_count": 4,
      "outputs": [
        {
          "output_type": "execute_result",
          "data": {
            "text/plain": [
              "array([0.81649658, 0.81649658, 1.24721913])"
            ]
          },
          "metadata": {},
          "execution_count": 4
        }
      ]
    },
    {
      "cell_type": "code",
      "metadata": {
        "colab": {
          "base_uri": "https://localhost:8080/"
        },
        "id": "NAHS28uawyhR",
        "outputId": "d1e56517-f1b8-4da9-c70e-6feff5b758cf"
      },
      "source": [
        "d2 = preprocessing.scale(input_data)\n",
        "d2"
      ],
      "execution_count": 5,
      "outputs": [
        {
          "output_type": "execute_result",
          "data": {
            "text/plain": [
              "array([[ 0.        , -1.22474487,  1.33630621],\n",
              "       [ 1.22474487,  0.        , -0.26726124],\n",
              "       [-1.22474487,  1.22474487, -1.06904497]])"
            ]
          },
          "metadata": {},
          "execution_count": 5
        }
      ]
    },
    {
      "cell_type": "code",
      "metadata": {
        "colab": {
          "base_uri": "https://localhost:8080/"
        },
        "id": "Ob2KZj0MwydR",
        "outputId": "21b67263-ffad-42cd-845b-108cfd34f86f"
      },
      "source": [
        "#z = (x-u)/s\n",
        "d3 = preprocessing.StandardScaler().fit(input_data)\n",
        "d3"
      ],
      "execution_count": 6,
      "outputs": [
        {
          "output_type": "execute_result",
          "data": {
            "text/plain": [
              "StandardScaler(copy=True, with_mean=True, with_std=True)"
            ]
          },
          "metadata": {},
          "execution_count": 6
        }
      ]
    },
    {
      "cell_type": "code",
      "metadata": {
        "colab": {
          "base_uri": "https://localhost:8080/"
        },
        "id": "5-aryVSuwyZU",
        "outputId": "0e061228-323f-4a25-89c0-0bbe3e0dd112"
      },
      "source": [
        "d3.mean_"
      ],
      "execution_count": 7,
      "outputs": [
        {
          "output_type": "execute_result",
          "data": {
            "text/plain": [
              "array([1.        , 0.        , 0.33333333])"
            ]
          },
          "metadata": {},
          "execution_count": 7
        }
      ]
    },
    {
      "cell_type": "code",
      "metadata": {
        "colab": {
          "base_uri": "https://localhost:8080/"
        },
        "id": "z4ZgyHMtwyVc",
        "outputId": "47304404-11c2-4155-8928-2e80bd973ed0"
      },
      "source": [
        "print(d3.transform(input_data))"
      ],
      "execution_count": 8,
      "outputs": [
        {
          "output_type": "stream",
          "name": "stdout",
          "text": [
            "[[ 0.         -1.22474487  1.33630621]\n",
            " [ 1.22474487  0.         -0.26726124]\n",
            " [-1.22474487  1.22474487 -1.06904497]]\n"
          ]
        }
      ]
    },
    {
      "cell_type": "code",
      "metadata": {
        "colab": {
          "base_uri": "https://localhost:8080/"
        },
        "id": "PmrgB7lRxEk6",
        "outputId": "136c8c79-91ed-4045-c3c5-2fad432a0038"
      },
      "source": [
        "#x' = ((x-min)/(max-min))*(new_max - new_min) + new_min\n",
        "\n",
        "d4 = preprocessing.MinMaxScaler(feature_range=(0,1)).fit_transform(input_data)\n",
        "d4"
      ],
      "execution_count": 9,
      "outputs": [
        {
          "output_type": "execute_result",
          "data": {
            "text/plain": [
              "array([[0.5       , 0.        , 1.        ],\n",
              "       [1.        , 0.5       , 0.33333333],\n",
              "       [0.        , 1.        , 0.        ]])"
            ]
          },
          "metadata": {},
          "execution_count": 9
        }
      ]
    },
    {
      "cell_type": "code",
      "metadata": {
        "colab": {
          "base_uri": "https://localhost:8080/"
        },
        "id": "b6i03NdNxEhi",
        "outputId": "5b875ab0-8b60-4d4b-ed7a-fb705ecc9071"
      },
      "source": [
        "#L1\n",
        "\n",
        "d5 = preprocessing.normalize(input_data, norm='l1')\n",
        "d5"
      ],
      "execution_count": 10,
      "outputs": [
        {
          "output_type": "execute_result",
          "data": {
            "text/plain": [
              "array([[ 0.25, -0.25,  0.5 ],\n",
              "       [ 1.  ,  0.  ,  0.  ],\n",
              "       [ 0.  ,  0.5 , -0.5 ]])"
            ]
          },
          "metadata": {},
          "execution_count": 10
        }
      ]
    },
    {
      "cell_type": "code",
      "metadata": {
        "colab": {
          "base_uri": "https://localhost:8080/"
        },
        "id": "-OdjitPdxEdU",
        "outputId": "c465338d-983f-4c95-ae5f-99353f85d43e"
      },
      "source": [
        "0.25+ -0.25+ 0.5"
      ],
      "execution_count": 11,
      "outputs": [
        {
          "output_type": "execute_result",
          "data": {
            "text/plain": [
              "0.5"
            ]
          },
          "metadata": {},
          "execution_count": 11
        }
      ]
    },
    {
      "cell_type": "code",
      "metadata": {
        "colab": {
          "base_uri": "https://localhost:8080/"
        },
        "id": "Uf3xK0zrxEZz",
        "outputId": "acc0aa46-c958-4d03-f401-3a8e17f6f13e"
      },
      "source": [
        "1.  +  0.  +  0."
      ],
      "execution_count": 12,
      "outputs": [
        {
          "output_type": "execute_result",
          "data": {
            "text/plain": [
              "1.0"
            ]
          },
          "metadata": {},
          "execution_count": 12
        }
      ]
    },
    {
      "cell_type": "code",
      "metadata": {
        "colab": {
          "base_uri": "https://localhost:8080/"
        },
        "id": "DAiIN5ObxOb8",
        "outputId": "38b6d7e8-92f4-49ab-cd71-1deac9b3d9fc"
      },
      "source": [
        "#L2\n",
        "d6 = preprocessing.normalize(input_data, norm='l2')\n",
        "d6"
      ],
      "execution_count": 13,
      "outputs": [
        {
          "output_type": "execute_result",
          "data": {
            "text/plain": [
              "array([[ 0.40824829, -0.40824829,  0.81649658],\n",
              "       [ 1.        ,  0.        ,  0.        ],\n",
              "       [ 0.        ,  0.70710678, -0.70710678]])"
            ]
          },
          "metadata": {},
          "execution_count": 13
        }
      ]
    },
    {
      "cell_type": "code",
      "metadata": {
        "colab": {
          "base_uri": "https://localhost:8080/"
        },
        "id": "UD_Yn0CbxOYD",
        "outputId": "96fa26e1-58f6-4c50-dc0c-fa8ca12dfddc"
      },
      "source": [
        "np.sqrt(0.40824829**2 + -0.40824829**2 +0.81649658**2)"
      ],
      "execution_count": 14,
      "outputs": [
        {
          "output_type": "execute_result",
          "data": {
            "text/plain": [
              "0.81649658"
            ]
          },
          "metadata": {},
          "execution_count": 14
        }
      ]
    },
    {
      "cell_type": "code",
      "metadata": {
        "colab": {
          "base_uri": "https://localhost:8080/"
        },
        "id": "-kzsu1buxOUa",
        "outputId": "8c685abf-b2b1-471f-87a2-78eab37e5168"
      },
      "source": [
        "#n_categories\n",
        "\n",
        "x = [['male', 'from US', 'uses Safari'], ['female', 'from Europe', 'uses Firefox']]\n",
        "\n",
        "d7 = preprocessing.OneHotEncoder().fit(x)\n",
        "d7 = d7.transform([['female','from US','uses Safari'],['male','from Europe', 'uses Safari']]).toarray()\n",
        "d7"
      ],
      "execution_count": 15,
      "outputs": [
        {
          "output_type": "execute_result",
          "data": {
            "text/plain": [
              "array([[1., 0., 0., 1., 0., 1.],\n",
              "       [0., 1., 1., 0., 0., 1.]])"
            ]
          },
          "metadata": {},
          "execution_count": 15
        }
      ]
    },
    {
      "cell_type": "code",
      "metadata": {
        "colab": {
          "base_uri": "https://localhost:8080/"
        },
        "id": "Z1QnGogMxVaK",
        "outputId": "b335c876-e2fc-4841-96ce-3c2f20ec16eb"
      },
      "source": [
        "d8 = preprocessing.LabelEncoder()\n",
        "d8.fit([\"paris\",\"paris\",\"tokyo\",\"india\"])\n",
        "d8.classes_"
      ],
      "execution_count": 16,
      "outputs": [
        {
          "output_type": "execute_result",
          "data": {
            "text/plain": [
              "array(['india', 'paris', 'tokyo'], dtype='<U5')"
            ]
          },
          "metadata": {},
          "execution_count": 16
        }
      ]
    },
    {
      "cell_type": "code",
      "metadata": {
        "colab": {
          "base_uri": "https://localhost:8080/"
        },
        "id": "zibwQ5SIxVWL",
        "outputId": "b24ca1b6-e988-42c0-d249-2847d52f61b6"
      },
      "source": [
        "d8.transform([\"tokyo\",\"tokyo\",\"paris\"])"
      ],
      "execution_count": 17,
      "outputs": [
        {
          "output_type": "execute_result",
          "data": {
            "text/plain": [
              "array([2, 2, 1])"
            ]
          },
          "metadata": {},
          "execution_count": 17
        }
      ]
    },
    {
      "cell_type": "markdown",
      "metadata": {
        "id": "vn1nJauRwuIe"
      },
      "source": [
        "#### **Reference**\n",
        "\n",
        "- https://www.youtube.com/watch?v=bHkiDjkXBXg&list=PLzx-_kRo3HZtP3tWaieUPwAh9K4I00_6p&index=60"
      ]
    }
  ]
}