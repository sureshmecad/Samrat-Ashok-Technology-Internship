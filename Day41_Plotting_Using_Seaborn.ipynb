{
  "nbformat": 4,
  "nbformat_minor": 0,
  "metadata": {
    "colab": {
      "name": "Day41_Plotting-Using-Seaborn.ipynb",
      "provenance": [],
      "collapsed_sections": [],
      "authorship_tag": "ABX9TyOH12MTphMHjae4ZL/7Wq8N",
      "include_colab_link": true
    },
    "kernelspec": {
      "name": "python3",
      "display_name": "Python 3"
    },
    "language_info": {
      "name": "python"
    }
  },
  "cells": [
    {
      "cell_type": "markdown",
      "metadata": {
        "id": "view-in-github",
        "colab_type": "text"
      },
      "source": [
        "<a href=\"https://colab.research.google.com/github/sureshmecad/Samrat-Ashok-Technology-Internship/blob/main/Day41_Plotting_Using_Seaborn.ipynb\" target=\"_parent\"><img src=\"https://colab.research.google.com/assets/colab-badge.svg\" alt=\"Open In Colab\"/></a>"
      ]
    },
    {
      "cell_type": "markdown",
      "metadata": {
        "id": "CcuJsapLPiw1"
      },
      "source": [
        "- While matplotlib allows us to plot a lot of interesting charts, it takes a bit of effort to get the chart that we want.\n",
        "\n",
        "- This is especially true if we are dealing with a large amount of data and would like to examine the relationships b/n multiple variables.\n",
        "\n",
        "- Introducing seaborn, a complementary plotting library that is based on the Matplotlib visualization library.\n",
        "\n",
        "- Seaborns strength lies in its ability to make statistical graphics in python, and it is closely integrated with the pandas data structure.\n",
        "\n",
        "- Seaborn provides high level abstractions to allow us to build complex visualizations for our data easily.\n",
        "\n",
        "- In short we write less code with seaborn than with Matplotlib, while at the same time we get more sophisticated charts."
      ]
    },
    {
      "cell_type": "markdown",
      "metadata": {
        "id": "cOo-rGSOS17E"
      },
      "source": [
        "#### **Displaying Categorical Plots**\n",
        "\n",
        "- It is useful in cases when we want to plot the distribution of a certain group of data.\n",
        "\n",
        "- The csv file shows the **distribution of men and women** in **two groups A and B** with **1** indicating that the person has a **driving license** and **o** indicating **no driver's license.**\n",
        "\n",
        "- If we are tasked with plotting a chart to show the proportion of men and women in each group that has driver's license"
      ]
    },
    {
      "cell_type": "code",
      "metadata": {
        "id": "_JiT6goW4T59"
      },
      "source": [
        "import pandas as pd\n",
        "\n",
        "import matplotlib.pyplot as plt\n",
        "import seaborn as sns"
      ],
      "execution_count": 1,
      "outputs": []
    },
    {
      "cell_type": "code",
      "metadata": {
        "colab": {
          "base_uri": "https://localhost:8080/",
          "height": 204
        },
        "id": "jiA_aPHkVjTv",
        "outputId": "c76c3635-7e4b-410a-8e22-a69ed64aa5bd"
      },
      "source": [
        "df = pd.DataFrame({\"gender\": [\"Male\", \"Male\", \"Male\", \"Male\", \"Woman\", \"Woman\", \"Woman\", \"Woman\", \"Male\", \"Woman\"],\n",
        "                   \"license\": [1, 0, 0, 1, 0, 1, 1, 0, 1, 0],\n",
        "                   \"class\": [\"A\", \"B\", \"A\", \"B\", \"A\", \"A\", \"B\", \"B\", \"A\", \"B\"]\n",
        "                   })\n",
        "\n",
        "df.head()"
      ],
      "execution_count": 3,
      "outputs": [
        {
          "output_type": "execute_result",
          "data": {
            "text/html": [
              "<div>\n",
              "<style scoped>\n",
              "    .dataframe tbody tr th:only-of-type {\n",
              "        vertical-align: middle;\n",
              "    }\n",
              "\n",
              "    .dataframe tbody tr th {\n",
              "        vertical-align: top;\n",
              "    }\n",
              "\n",
              "    .dataframe thead th {\n",
              "        text-align: right;\n",
              "    }\n",
              "</style>\n",
              "<table border=\"1\" class=\"dataframe\">\n",
              "  <thead>\n",
              "    <tr style=\"text-align: right;\">\n",
              "      <th></th>\n",
              "      <th>gender</th>\n",
              "      <th>license</th>\n",
              "      <th>class</th>\n",
              "    </tr>\n",
              "  </thead>\n",
              "  <tbody>\n",
              "    <tr>\n",
              "      <th>0</th>\n",
              "      <td>Male</td>\n",
              "      <td>1</td>\n",
              "      <td>A</td>\n",
              "    </tr>\n",
              "    <tr>\n",
              "      <th>1</th>\n",
              "      <td>Male</td>\n",
              "      <td>0</td>\n",
              "      <td>B</td>\n",
              "    </tr>\n",
              "    <tr>\n",
              "      <th>2</th>\n",
              "      <td>Male</td>\n",
              "      <td>0</td>\n",
              "      <td>A</td>\n",
              "    </tr>\n",
              "    <tr>\n",
              "      <th>3</th>\n",
              "      <td>Male</td>\n",
              "      <td>1</td>\n",
              "      <td>B</td>\n",
              "    </tr>\n",
              "    <tr>\n",
              "      <th>4</th>\n",
              "      <td>Woman</td>\n",
              "      <td>0</td>\n",
              "      <td>A</td>\n",
              "    </tr>\n",
              "  </tbody>\n",
              "</table>\n",
              "</div>"
            ],
            "text/plain": [
              "  gender  license class\n",
              "0   Male        1     A\n",
              "1   Male        0     B\n",
              "2   Male        0     A\n",
              "3   Male        1     B\n",
              "4  Woman        0     A"
            ]
          },
          "metadata": {},
          "execution_count": 3
        }
      ]
    },
    {
      "cell_type": "code",
      "metadata": {
        "colab": {
          "base_uri": "https://localhost:8080/",
          "height": 369
        },
        "id": "qG8drnD4PiUb",
        "outputId": "c84b9ffa-0e55-4ea6-fce6-a884434fea65"
      },
      "source": [
        "# plot a factorplot\n",
        "\n",
        "g = sns.catplot(x=\"gender\", y=\"license\", col=\"class\", data=df, kind=\"bar\", ci=None, aspect=1)"
      ],
      "execution_count": 4,
      "outputs": [
        {
          "output_type": "display_data",
          "data": {
            "image/png": "[encoded data removed]",
            "text/plain": [
              "<Figure size 720x360 with 2 Axes>"
            ]
          },
          "metadata": {
            "needs_background": "light"
          }
        }
      ]
    },
    {
      "cell_type": "markdown",
      "metadata": {
        "id": "qbcbAitSYfLY"
      },
      "source": [
        "- **ci(float):** size of confidence intervals to draw around estimated values.\n",
        "\n",
        "- **kindstr optional:** The kind of plot to draw, corresopnds to the name of a categorical axes level plotting function.\n",
        "\n",
        " - options are **\"strip\", \"swarm\", \"box\", \"violin\", \"boxen\", \"point\", \"bar\" or \"count\"**\n",
        "\n",
        "- **aspect; scalar** Aspect ratio of each facet so that **aspect *height** gives the width of each facet in inches."
      ]
    },
    {
      "cell_type": "code",
      "metadata": {
        "colab": {
          "base_uri": "https://localhost:8080/",
          "height": 369
        },
        "id": "soewXCZiPiNh",
        "outputId": "7a1354aa-7960-4672-ded7-1156aaa9a070"
      },
      "source": [
        "g = sns.catplot(x=\"gender\", y=\"license\", col=\"class\", data=df, kind=\"bar\", ci=None, aspect=1)\n",
        "\n",
        "g.set_axis_labels(\" \", \"Proportion with Driving license\")\n",
        "g.set_xticklabels([\"Men\", \"Women\"])\n",
        "g.set_titles(\"{col_var} {col_name}\")\n",
        "plt.show()"
      ],
      "execution_count": 6,
      "outputs": [
        {
          "output_type": "display_data",
          "data": {
            "image/png": "[encoded data removed]",
            "text/plain": [
              "<Figure size 720x360 with 2 Axes>"
            ]
          },
          "metadata": {
            "needs_background": "light"
          }
        }
      ]
    },
    {
      "cell_type": "markdown",
      "metadata": {
        "id": "nd01abyIcuXu"
      },
      "source": [
        "- Seaborn has a built-in dataset that you can load directly using the **load_dataset** function.\n",
        "\n",
        "- To see the names of dataset that you can load use the sns **get_dataset_names()** function.\n",
        "\n",
        "- Alternatively, if we want to download the **dataset for offline use**, check out **https://github.com/mwaskom/seaborn-data**\n",
        "\n",
        "- Note that we would need to have internet connection, as the load_dataset function loads the specified dataset from the online repository. "
      ]
    },
    {
      "cell_type": "code",
      "metadata": {
        "colab": {
          "base_uri": "https://localhost:8080/",
          "height": 369
        },
        "id": "d6nIdGY8PiJX",
        "outputId": "3e237d12-417c-4dbc-b328-6ac420008783"
      },
      "source": [
        "titanic = sns.load_dataset(\"titanic\")\n",
        "\n",
        "g = sns.catplot(x=\"who\", y=\"survived\", col=\"class\", data=titanic, kind=\"bar\", ci=None, aspect=1)\n",
        "\n",
        "g.set_axis_labels(\" \", \"Survival Rate\")\n",
        "g.set_xticklabels([\"Men\", \"Women\", \"Children\"])\n",
        "g.set_titles(\"{col_var} {col_name}\")\n",
        "plt.show()"
      ],
      "execution_count": 7,
      "outputs": [
        {
          "output_type": "display_data",
          "data": {
            "image/png": "[encoded data removed]",
            "text/plain": [
              "<Figure size 1080x360 with 3 Axes>"
            ]
          },
          "metadata": {
            "needs_background": "light"
          }
        }
      ]
    },
    {
      "cell_type": "markdown",
      "metadata": {
        "id": "ej7cfXSTPdXH"
      },
      "source": [
        "#### **Reference**\n",
        "\n",
        "- https://www.youtube.com/watch?v=MAxGE6-O3Co&list=PLzx-_kRo3HZtP3tWaieUPwAh9K4I00_6p&index=52"
      ]
    }
  ]
}