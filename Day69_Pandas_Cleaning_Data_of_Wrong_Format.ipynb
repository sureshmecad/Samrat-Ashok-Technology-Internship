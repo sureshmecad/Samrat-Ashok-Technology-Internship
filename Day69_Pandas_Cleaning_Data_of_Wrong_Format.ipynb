{
  "nbformat": 4,
  "nbformat_minor": 0,
  "metadata": {
    "colab": {
      "name": "Day69_Pandas-Cleaning-Data-of-Wrong-Format.ipynb",
      "provenance": [],
      "collapsed_sections": [],
      "authorship_tag": "ABX9TyN3DtIz91p6+cAnDS6clfOO",
      "include_colab_link": true
    },
    "kernelspec": {
      "name": "python3",
      "display_name": "Python 3"
    },
    "language_info": {
      "name": "python"
    }
  },
  "cells": [
    {
      "cell_type": "markdown",
      "metadata": {
        "id": "view-in-github",
        "colab_type": "text"
      },
      "source": [
        "<a href=\"https://colab.research.google.com/github/sureshmecad/Samrat-Ashok-Technology-Internship/blob/main/Day69_Pandas_Cleaning_Data_of_Wrong_Format.ipynb\" target=\"_parent\"><img src=\"https://colab.research.google.com/assets/colab-badge.svg\" alt=\"Open In Colab\"/></a>"
      ]
    },
    {
      "cell_type": "markdown",
      "metadata": {
        "id": "jBVjiZd2k1v9"
      },
      "source": [
        "#### **PANDAS-Cleaning Data of wrong format**\n",
        "\n",
        "- Cells with data of wrong format can make it difficult or even impossible to analyze data.\n",
        "\n",
        "- To fix it, we have two options: removes the rows or convert all cells in the columns into the same format.\n",
        "\n",
        "- Convert into a correct format: In our dataframe, we have two cells with the wrong format check out row 3 & 4, the 'Date' column should be a string that represents a date.\n",
        "\n",
        "- Lets try to convert all cells in the **'Date'** column into dates. Pandas has a **to_datetime()** method for this."
      ]
    },
    {
      "cell_type": "code",
      "metadata": {
        "id": "DzBIbwqwpifs"
      },
      "source": [
        "import pandas as pd\n",
        "import numpy as np"
      ],
      "execution_count": 5,
      "outputs": []
    },
    {
      "cell_type": "code",
      "metadata": {
        "colab": {
          "base_uri": "https://localhost:8080/",
          "height": 173
        },
        "id": "F0MB3UTmjWSV",
        "outputId": "b386c822-9199-4395-9636-05681b79d058"
      },
      "source": [
        "# convert to date\n",
        "df = pd.DataFrame({'Name': ['Nirmal', 'Priyanka', 'Resham', 'Jalaj'],\n",
        "                   'Date': ['2021/07/31', '2021/08/01', np.nan, '20210802'],\n",
        "                   'Age': [35, 33, 3, 400]})\n",
        "\n",
        "df"
      ],
      "execution_count": 6,
      "outputs": [
        {
          "output_type": "execute_result",
          "data": {
            "text/html": [
              "<div>\n",
              "<style scoped>\n",
              "    .dataframe tbody tr th:only-of-type {\n",
              "        vertical-align: middle;\n",
              "    }\n",
              "\n",
              "    .dataframe tbody tr th {\n",
              "        vertical-align: top;\n",
              "    }\n",
              "\n",
              "    .dataframe thead th {\n",
              "        text-align: right;\n",
              "    }\n",
              "</style>\n",
              "<table border=\"1\" class=\"dataframe\">\n",
              "  <thead>\n",
              "    <tr style=\"text-align: right;\">\n",
              "      <th></th>\n",
              "      <th>Name</th>\n",
              "      <th>Date</th>\n",
              "      <th>Age</th>\n",
              "    </tr>\n",
              "  </thead>\n",
              "  <tbody>\n",
              "    <tr>\n",
              "      <th>0</th>\n",
              "      <td>Nirmal</td>\n",
              "      <td>2021/07/31</td>\n",
              "      <td>35</td>\n",
              "    </tr>\n",
              "    <tr>\n",
              "      <th>1</th>\n",
              "      <td>Priyanka</td>\n",
              "      <td>2021/08/01</td>\n",
              "      <td>33</td>\n",
              "    </tr>\n",
              "    <tr>\n",
              "      <th>2</th>\n",
              "      <td>Resham</td>\n",
              "      <td>NaN</td>\n",
              "      <td>3</td>\n",
              "    </tr>\n",
              "    <tr>\n",
              "      <th>3</th>\n",
              "      <td>Jalaj</td>\n",
              "      <td>20210802</td>\n",
              "      <td>400</td>\n",
              "    </tr>\n",
              "  </tbody>\n",
              "</table>\n",
              "</div>"
            ],
            "text/plain": [
              "       Name        Date  Age\n",
              "0    Nirmal  2021/07/31   35\n",
              "1  Priyanka  2021/08/01   33\n",
              "2    Resham         NaN    3\n",
              "3     Jalaj    20210802  400"
            ]
          },
          "metadata": {},
          "execution_count": 6
        }
      ]
    },
    {
      "cell_type": "code",
      "metadata": {
        "colab": {
          "base_uri": "https://localhost:8080/"
        },
        "id": "PqVIbm6ek2X7",
        "outputId": "d10bad10-6fdb-4e5b-8528-ebb0ee25288b"
      },
      "source": [
        "df['Date'] = pd.to_datetime(df['Date'])\n",
        "print(df.to_string())"
      ],
      "execution_count": 7,
      "outputs": [
        {
          "output_type": "stream",
          "name": "stdout",
          "text": [
            "       Name       Date  Age\n",
            "0    Nirmal 2021-07-31   35\n",
            "1  Priyanka 2021-08-01   33\n",
            "2    Resham        NaT    3\n",
            "3     Jalaj 2021-08-02  400\n"
          ]
        }
      ]
    },
    {
      "cell_type": "markdown",
      "metadata": {
        "id": "YsLKtglfuBvu"
      },
      "source": [
        "- As we can see from the result, the date in row 4 where fixed, but empty date in row 3 got a **NaT(Not a time)** value, in other words an empty value. One way to deal with empty values is simply removing the entire row."
      ]
    },
    {
      "cell_type": "markdown",
      "metadata": {
        "id": "Lko2sMzWu8NQ"
      },
      "source": [
        "#### **Removing Rows:**\n",
        "\n",
        "- The result from the converting in the example above gave us a **NaT value**, which can be handled as a **NULL** value, and we can remove the row by using the **dropna()** method.\n",
        "\n",
        "- The **df.dropna(subset=['Date'], inplace=True)**"
      ]
    },
    {
      "cell_type": "code",
      "metadata": {
        "colab": {
          "base_uri": "https://localhost:8080/"
        },
        "id": "rTXGeQW2k2Qi",
        "outputId": "37faea4c-59e4-4c57-c95a-41b9d11d7e9e"
      },
      "source": [
        "# remove rows with a NULL value in the 'Date' column\n",
        "df['Date'] = pd.to_datetime(df['Date'])\n",
        "df.dropna(subset=['Date'], inplace=True)\n",
        "print(df.to_string())"
      ],
      "execution_count": 8,
      "outputs": [
        {
          "output_type": "stream",
          "name": "stdout",
          "text": [
            "       Name       Date  Age\n",
            "0    Nirmal 2021-07-31   35\n",
            "1  Priyanka 2021-08-01   33\n",
            "3     Jalaj 2021-08-02  400\n"
          ]
        }
      ]
    },
    {
      "cell_type": "markdown",
      "metadata": {
        "id": "Mw2I6fhpwSIO"
      },
      "source": [
        "#### **Fixing Wrong data**\n",
        "\n",
        "- **\"Wrong data\"** does not have to be **\"empty cells\" or \"wrong format\"**, it can just be wrong, like if someone **registered \"199\" instead of \"1.99\".**\n",
        "\n",
        "- sometimes we can spot wrong data by looking at the dataset, because you have an expectation of what it should be.\n",
        "\n",
        "- If we take a look at our dataset, you can see that in **row 4, the age is 400**.\n",
        "\n",
        "- How can we fix wrong values, like the one for \"Age\" in row 4?"
      ]
    },
    {
      "cell_type": "markdown",
      "metadata": {
        "id": "L9gM-xZDx5oz"
      },
      "source": [
        "#### **Replacing Values**\n",
        "\n",
        "- One way to **fix wrong values** is to **replace them with something else**.\n",
        "\n",
        "- In our example, it is most likely a **typo**, and the value should be **\"4\" instead of \"400\"**, and we could just **insert \"4\" in row 4.**\n",
        "\n",
        "set **\"Age\" = 4 in row 4**\n",
        "\n",
        "**df.loc[4, 'Age'] = 4**"
      ]
    },
    {
      "cell_type": "code",
      "metadata": {
        "colab": {
          "base_uri": "https://localhost:8080/"
        },
        "id": "jQuLjYh1k2Mj",
        "outputId": "30067654-3890-4e6b-b7eb-f25bc56d27d1"
      },
      "source": [
        "df['Date'] = pd.to_datetime(df['Date'])\n",
        "df.dropna(subset=['Date'], inplace=True)\n",
        "df.loc[3, 'Age'] = 4\n",
        "print(df.to_string())"
      ],
      "execution_count": 9,
      "outputs": [
        {
          "output_type": "stream",
          "name": "stdout",
          "text": [
            "       Name       Date  Age\n",
            "0    Nirmal 2021-07-31   35\n",
            "1  Priyanka 2021-08-01   33\n",
            "3     Jalaj 2021-08-02    4\n"
          ]
        }
      ]
    },
    {
      "cell_type": "markdown",
      "metadata": {
        "id": "Ol4lFAv_zs7P"
      },
      "source": [
        "- For small datasets we might be able to replace the wrong data one by one, but not for big datasets.\n",
        "\n",
        "- To replace wrong data for larger datasets you can create some rules e.g. set some boundaries for legal values, and replace any values that are outside of the boundaries."
      ]
    },
    {
      "cell_type": "code",
      "metadata": {
        "colab": {
          "base_uri": "https://localhost:8080/"
        },
        "id": "s-wYAnE-0gHL",
        "outputId": "7621310e-503f-48f6-fc92-8a2ba60061cc"
      },
      "source": [
        "# Loop through all values in the 'Duration' column\n",
        "# if the value is higher than 100, set it to 4:\n",
        "\n",
        "df['Date'] = pd.to_datetime(df['Date'])\n",
        "df.dropna(subset=['Date'], inplace=True)\n",
        "\n",
        "for x in df.index:\n",
        "  if df.loc[x, \"Age\"] > 100:\n",
        "    df.loc[x, \"Age\"] = 4\n",
        "\n",
        "print(df.to_string())"
      ],
      "execution_count": 10,
      "outputs": [
        {
          "output_type": "stream",
          "name": "stdout",
          "text": [
            "       Name       Date  Age\n",
            "0    Nirmal 2021-07-31   35\n",
            "1  Priyanka 2021-08-01   33\n",
            "3     Jalaj 2021-08-02    4\n"
          ]
        }
      ]
    },
    {
      "cell_type": "markdown",
      "metadata": {
        "id": "XBe_rwc_1gvb"
      },
      "source": [
        "#### **Removing rows**\n",
        "\n",
        "- Another way of handling wrong data is to remove the row that contains wrong data.\n",
        "\n",
        "- This way we do not have to find out what to replace them with and there is a good chance you do not need them to do your analyses."
      ]
    },
    {
      "cell_type": "code",
      "metadata": {
        "colab": {
          "base_uri": "https://localhost:8080/"
        },
        "id": "u8S3XfmS2Q0y",
        "outputId": "edc5de92-1758-4e80-c8ce-563342a89bae"
      },
      "source": [
        "# Delete rows where \"Age\" is higher than 100\n",
        "df['Date'] = pd.to_datetime(df['Date'])\n",
        "df.dropna(subset=['Date'], inplace=True)\n",
        "\n",
        "for x in df.index:\n",
        "  if df.loc[x, \"Age\"] > 100:\n",
        "    df.drop(x, inplace=True)\n",
        "\n",
        "print(df.to_string())"
      ],
      "execution_count": 11,
      "outputs": [
        {
          "output_type": "stream",
          "name": "stdout",
          "text": [
            "       Name       Date  Age\n",
            "0    Nirmal 2021-07-31   35\n",
            "1  Priyanka 2021-08-01   33\n",
            "3     Jalaj 2021-08-02    4\n"
          ]
        }
      ]
    },
    {
      "cell_type": "markdown",
      "metadata": {
        "id": "iCPyAi4OkvXs"
      },
      "source": [
        "#### **Reference**\n",
        "\n",
        "- https://www.youtube.com/watch?v=TOp-0xfqgeA&list=PLzx-_kRo3HZtP3tWaieUPwAh9K4I00_6p&index=43"
      ]
    }
  ]
}