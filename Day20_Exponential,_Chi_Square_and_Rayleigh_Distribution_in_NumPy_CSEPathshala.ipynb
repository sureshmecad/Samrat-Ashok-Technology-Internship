{
  "nbformat": 4,
  "nbformat_minor": 0,
  "metadata": {
    "colab": {
      "name": "Day20_Exponential, Chi Square and Rayleigh Distribution in NumPy_CSEPathshala.ipynb",
      "provenance": [],
      "collapsed_sections": [],
      "authorship_tag": "ABX9TyOCwm2qwvE8pMVyu2eGwjhc",
      "include_colab_link": true
    },
    "kernelspec": {
      "name": "python3",
      "display_name": "Python 3"
    },
    "language_info": {
      "name": "python"
    }
  },
  "cells": [
    {
      "cell_type": "markdown",
      "metadata": {
        "id": "view-in-github",
        "colab_type": "text"
      },
      "source": [
        "<a href=\"https://colab.research.google.com/github/sureshmecad/Samrat-Ashok-Technology-Internship/blob/main/Day20_Exponential%2C_Chi_Square_and_Rayleigh_Distribution_in_NumPy_CSEPathshala.ipynb\" target=\"_parent\"><img src=\"https://colab.research.google.com/assets/colab-badge.svg\" alt=\"Open In Colab\"/></a>"
      ]
    },
    {
      "cell_type": "markdown",
      "metadata": {
        "id": "2EHvYCbMswdr"
      },
      "source": [
        "#### **1) Exponential Distribution**\n",
        "\n",
        "- **Exponential Distribution** is used for describing **time till next event e.g. failure / success etc.**\n",
        "\n",
        "- It has two parameters:\n",
        "\n",
        " - **scale** - inverse of rate, defaults to 1.0\n",
        "\n",
        " - **size** - The shape of the returned array"
      ]
    },
    {
      "cell_type": "code",
      "metadata": {
        "id": "GUoTDSIy0LBG"
      },
      "source": [
        "import numpy as np\n",
        "from numpy import random"
      ],
      "execution_count": 1,
      "outputs": []
    },
    {
      "cell_type": "code",
      "metadata": {
        "colab": {
          "base_uri": "https://localhost:8080/"
        },
        "id": "ttfkTNAbbiUp",
        "outputId": "c16ac84d-58d4-46aa-c351-af0b9e572e34"
      },
      "source": [
        "# Draw out a sample for exponential distribution with 2.0 scale with 2x3 size\n",
        "\n",
        "x = random.exponential(scale=2, size=(2,3))\n",
        "print(x)"
      ],
      "execution_count": 2,
      "outputs": [
        {
          "output_type": "stream",
          "name": "stdout",
          "text": [
            "[[0.07273214 0.01647523 0.10136918]\n",
            " [3.26827895 0.11099713 1.80340111]]\n"
          ]
        }
      ]
    },
    {
      "cell_type": "code",
      "metadata": {
        "id": "duk7IBCI1R98"
      },
      "source": [
        "import matplotlib.pyplot as plt\n",
        "import seaborn as sns"
      ],
      "execution_count": 3,
      "outputs": []
    },
    {
      "cell_type": "code",
      "metadata": {
        "colab": {
          "base_uri": "https://localhost:8080/",
          "height": 320
        },
        "id": "a-8q1g6Kd925",
        "outputId": "deaa5920-9048-4f38-9676-97e71865cd6d"
      },
      "source": [
        "# Visualisation of Exponential Distribution\n",
        "\n",
        "sns.distplot(random.exponential(size=1000), hist=False)\n",
        "plt.show()"
      ],
      "execution_count": 4,
      "outputs": [
        {
          "output_type": "stream",
          "name": "stderr",
          "text": [
            "/usr/local/lib/python3.7/dist-packages/seaborn/distributions.py:2619: FutureWarning: `distplot` is a deprecated function and will be removed in a future version. Please adapt your code to use either `displot` (a figure-level function with similar flexibility) or `kdeplot` (an axes-level function for kernel density plots).\n",
            "  warnings.warn(msg, FutureWarning)\n"
          ]
        },
        {
          "output_type": "display_data",
          "data": {
            "image/png": "[encoded data removed]",
            "text/plain": [
              "<Figure size 432x288 with 1 Axes>"
            ]
          },
          "metadata": {
            "needs_background": "light"
          }
        }
      ]
    },
    {
      "cell_type": "markdown",
      "metadata": {
        "id": "tjjisEmb2FBL"
      },
      "source": [
        "#### **Relation between Poisson and Exponential Distribution**\n",
        "\n",
        "- **Poisson distribution** deals with **number of occurrences** of an event in a **time period** whereas **exponential distribution** deals with the **time between these events**."
      ]
    },
    {
      "cell_type": "markdown",
      "metadata": {
        "id": "CKGsNQCt3INj"
      },
      "source": [
        "#### **2) Chi Square Distribution**\n",
        "\n",
        "- **Chi square distribution** is used as a basis to verify the **hypothesis**. It has two parameters:\n",
        "\n",
        " - **df** - (degree of freedom)\n",
        "\n",
        " - **size** - The shape of the returned array "
      ]
    },
    {
      "cell_type": "code",
      "metadata": {
        "colab": {
          "base_uri": "https://localhost:8080/"
        },
        "id": "J-OjUvA7d9py",
        "outputId": "54dc6bf3-074f-4215-f047-dd5f326e92e2"
      },
      "source": [
        "x = random.chisquare(df=2, size=(2,3))\n",
        "print(x)"
      ],
      "execution_count": 5,
      "outputs": [
        {
          "output_type": "stream",
          "name": "stdout",
          "text": [
            "[[ 0.97343978  0.46620985  5.0548244 ]\n",
            " [ 0.10389453  2.73895101 10.39690922]]\n"
          ]
        }
      ]
    },
    {
      "cell_type": "code",
      "metadata": {
        "colab": {
          "base_uri": "https://localhost:8080/",
          "height": 320
        },
        "id": "nTNdF5k3d9gx",
        "outputId": "0233882b-fcd1-453b-f50d-3611f62e5382"
      },
      "source": [
        "# Visualisation of Chi Square Distribution\n",
        "\n",
        "sns.distplot(random.chisquare(df=1, size=1000), hist=False)\n",
        "plt.show()"
      ],
      "execution_count": 6,
      "outputs": [
        {
          "output_type": "stream",
          "name": "stderr",
          "text": [
            "/usr/local/lib/python3.7/dist-packages/seaborn/distributions.py:2619: FutureWarning: `distplot` is a deprecated function and will be removed in a future version. Please adapt your code to use either `displot` (a figure-level function with similar flexibility) or `kdeplot` (an axes-level function for kernel density plots).\n",
            "  warnings.warn(msg, FutureWarning)\n"
          ]
        },
        {
          "output_type": "display_data",
          "data": {
            "image/png": "[encoded data removed]",
            "text/plain": [
              "<Figure size 432x288 with 1 Axes>"
            ]
          },
          "metadata": {
            "needs_background": "light"
          }
        }
      ]
    },
    {
      "cell_type": "markdown",
      "metadata": {
        "id": "QVsWmAzj770W"
      },
      "source": [
        "#### **3) Rayliegh Distribution**\n",
        "\n",
        "- Rayliegh distribution is used in signal processing. It has two parameters:\n",
        "\n",
        " - **scale** - (Standard Deviation) decides how flat the distribution will be Default 1.0)\n",
        "\n",
        " - **size** - The shape of the returned array "
      ]
    },
    {
      "cell_type": "code",
      "metadata": {
        "colab": {
          "base_uri": "https://localhost:8080/"
        },
        "id": "lzRNXdnZd9bx",
        "outputId": "75793c3c-a595-4a7c-e25b-297126d74c4a"
      },
      "source": [
        "# Draw out a sample for rayliegh distribution with scale of 2 with size 2x3\n",
        "\n",
        "x = random.rayleigh(scale=2, size=(2,3))\n",
        "print(x)"
      ],
      "execution_count": 7,
      "outputs": [
        {
          "output_type": "stream",
          "name": "stdout",
          "text": [
            "[[2.40312126 1.9429937  1.14044396]\n",
            " [2.24795755 2.29585684 2.89357571]]\n"
          ]
        }
      ]
    },
    {
      "cell_type": "code",
      "metadata": {
        "colab": {
          "base_uri": "https://localhost:8080/",
          "height": 320
        },
        "id": "CJyroeWwd9XR",
        "outputId": "d3715b48-ab44-432f-df51-194165d79160"
      },
      "source": [
        "# Visualisation of Rayliegh Distribution\n",
        "\n",
        "sns.distplot(random.rayleigh(size=1000), hist=False)\n",
        "plt.show()"
      ],
      "execution_count": 8,
      "outputs": [
        {
          "output_type": "stream",
          "name": "stderr",
          "text": [
            "/usr/local/lib/python3.7/dist-packages/seaborn/distributions.py:2619: FutureWarning: `distplot` is a deprecated function and will be removed in a future version. Please adapt your code to use either `displot` (a figure-level function with similar flexibility) or `kdeplot` (an axes-level function for kernel density plots).\n",
            "  warnings.warn(msg, FutureWarning)\n"
          ]
        },
        {
          "output_type": "display_data",
          "data": {
            "image/png": "[encoded data removed]",
            "text/plain": [
              "<Figure size 432x288 with 1 Axes>"
            ]
          },
          "metadata": {
            "needs_background": "light"
          }
        }
      ]
    },
    {
      "cell_type": "markdown",
      "metadata": {
        "id": "ZYpGG-9h_BWh"
      },
      "source": [
        "- Similarity between Rayliegh and Chi Square Distribution\n",
        "\n",
        "- At unit standard deviation and 2 degrees of freedom Rayliegh and Chi Square represent the same distribution."
      ]
    },
    {
      "cell_type": "code",
      "metadata": {
        "colab": {
          "base_uri": "https://localhost:8080/",
          "height": 355
        },
        "id": "BtP78G1Gd9Ua",
        "outputId": "a212d21c-fc50-4436-c927-5b4dda0ed492"
      },
      "source": [
        "sns.distplot(random.rayleigh(scale=1, size=(2,3)), hist=False)\n",
        "sns.distplot(random.chisquare(df=2, size=(2,3)), hist=False)\n",
        "plt.show()"
      ],
      "execution_count": 9,
      "outputs": [
        {
          "output_type": "stream",
          "name": "stderr",
          "text": [
            "/usr/local/lib/python3.7/dist-packages/seaborn/distributions.py:2619: FutureWarning: `distplot` is a deprecated function and will be removed in a future version. Please adapt your code to use either `displot` (a figure-level function with similar flexibility) or `kdeplot` (an axes-level function for kernel density plots).\n",
            "  warnings.warn(msg, FutureWarning)\n",
            "/usr/local/lib/python3.7/dist-packages/seaborn/distributions.py:2619: FutureWarning: `distplot` is a deprecated function and will be removed in a future version. Please adapt your code to use either `displot` (a figure-level function with similar flexibility) or `kdeplot` (an axes-level function for kernel density plots).\n",
            "  warnings.warn(msg, FutureWarning)\n"
          ]
        },
        {
          "output_type": "display_data",
          "data": {
            "image/png": "[encoded data removed]",
            "text/plain": [
              "<Figure size 432x288 with 1 Axes>"
            ]
          },
          "metadata": {
            "needs_background": "light"
          }
        }
      ]
    },
    {
      "cell_type": "markdown",
      "metadata": {
        "id": "VCC5yXW4d2Yr"
      },
      "source": [
        "### **Reference**\n",
        "\n",
        "- https://www.youtube.com/watch?v=NLoMOrrpsZ8&list=PLzx-_kRo3HZtP3tWaieUPwAh9K4I00_6p&index=20"
      ]
    }
  ]
}