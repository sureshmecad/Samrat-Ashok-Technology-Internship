{
  "nbformat": 4,
  "nbformat_minor": 0,
  "metadata": {
    "colab": {
      "name": "Day18_Binomial and Poisson Distribution in NumPy_CSEPathshala.ipynb",
      "provenance": [],
      "collapsed_sections": [],
      "authorship_tag": "ABX9TyNXYXEcFbfrHu2BIMxzBCth",
      "include_colab_link": true
    },
    "kernelspec": {
      "name": "python3",
      "display_name": "Python 3"
    },
    "language_info": {
      "name": "python"
    }
  },
  "cells": [
    {
      "cell_type": "markdown",
      "metadata": {
        "id": "view-in-github",
        "colab_type": "text"
      },
      "source": [
        "<a href=\"https://colab.research.google.com/github/sureshmecad/Samrat-Ashok-Technology-Internship/blob/main/Day18_Binomial_and_Poisson_Distribution_in_NumPy_CSEPathshala.ipynb\" target=\"_parent\"><img src=\"https://colab.research.google.com/assets/colab-badge.svg\" alt=\"Open In Colab\"/></a>"
      ]
    },
    {
      "cell_type": "markdown",
      "metadata": {
        "id": "BgI-G6zGz-0V"
      },
      "source": [
        "#### **Binomial Distribution**\n",
        "\n",
        "- **Binomial Distribution** is a **Discrete** distribution.\n",
        "\n",
        "- It describes the outcome of **binary** scenarios, e.g. **toss of a coin**, it will either be a head or tail. It has three parameters:\n",
        "\n",
        "  - n - Number of trials\n",
        "\n",
        "  - p - Probability of occurrence of each trial\n",
        "\n",
        "  - Size - The shape of the returned array"
      ]
    },
    {
      "cell_type": "markdown",
      "metadata": {
        "id": "1d9SJU4t4_NZ"
      },
      "source": [
        "##### **Discrete Distribution**\n",
        "\n",
        "- The distribution is defined at seperate set of events, e.g. a **coin** tosses result is **discrete** as it can be only **head or tails** whereas **height** \n",
        "of people is **continuous** as it can be **170, 170.1, 170.11** and so on"
      ]
    },
    {
      "cell_type": "code",
      "metadata": {
        "id": "6EI3Ghbs66YK"
      },
      "source": [
        "import numpy as np\n",
        "from numpy import random"
      ],
      "execution_count": 1,
      "outputs": []
    },
    {
      "cell_type": "code",
      "metadata": {
        "id": "0UCEP181Qf4N"
      },
      "source": [
        ""
      ],
      "execution_count": null,
      "outputs": []
    },
    {
      "cell_type": "code",
      "metadata": {
        "id": "U2Ujp59maJYI",
        "colab": {
          "base_uri": "https://localhost:8080/"
        },
        "outputId": "a272c1c0-cbbf-48ec-d21d-2443895b127c"
      },
      "source": [
        "# Given 10 trials for coin toss generate 10 data points\n",
        "\n",
        "x = random.binomial(n=10, p=0.5, size=10)\n",
        "print(x)"
      ],
      "execution_count": 2,
      "outputs": [
        {
          "output_type": "stream",
          "name": "stdout",
          "text": [
            "[1 3 6 5 5 2 4 7 5 4]\n"
          ]
        }
      ]
    },
    {
      "cell_type": "markdown",
      "metadata": {
        "id": "NG_ThJxd7wui"
      },
      "source": [
        "#### **Visualization of Binomial Distribution**"
      ]
    },
    {
      "cell_type": "code",
      "metadata": {
        "id": "dpZ5PD1ezcbc"
      },
      "source": [
        "import matplotlib.pyplot as plt\n",
        "import seaborn as sns"
      ],
      "execution_count": 3,
      "outputs": []
    },
    {
      "cell_type": "code",
      "metadata": {
        "colab": {
          "base_uri": "https://localhost:8080/",
          "height": 320
        },
        "id": "7Gtiu6gWzcMk",
        "outputId": "498a4165-4a1e-469e-9bf7-a1beb033014a"
      },
      "source": [
        "sns.distplot(random.binomial(n=10, p=0.5, size=1000), hist=True, kde=False)\n",
        "plt.show()"
      ],
      "execution_count": 4,
      "outputs": [
        {
          "output_type": "stream",
          "name": "stderr",
          "text": [
            "/usr/local/lib/python3.7/dist-packages/seaborn/distributions.py:2619: FutureWarning: `distplot` is a deprecated function and will be removed in a future version. Please adapt your code to use either `displot` (a figure-level function with similar flexibility) or `histplot` (an axes-level function for histograms).\n",
            "  warnings.warn(msg, FutureWarning)\n"
          ]
        },
        {
          "output_type": "display_data",
          "data": {
            "image/png": "[encoded data removed]",
            "text/plain": [
              "<Figure size 432x288 with 1 Axes>"
            ]
          },
          "metadata": {
            "needs_background": "light"
          }
        }
      ]
    },
    {
      "cell_type": "markdown",
      "metadata": {
        "id": "1rh8RKuOGDIp"
      },
      "source": [
        "- **kde:** Whether to plot a gaussian kernal density estimate."
      ]
    },
    {
      "cell_type": "markdown",
      "metadata": {
        "id": "N3smsoTLGdcF"
      },
      "source": [
        "#### **Difference b/n Normal and Binomial Distribution**"
      ]
    },
    {
      "cell_type": "markdown",
      "metadata": {
        "id": "8ZOK5nwzGwPs"
      },
      "source": [
        "- The main difference is that **normal distribution** is **continous** whereas **binomial** is **discrete**, but if there are enough data points it will be quite similar to normal distribution with certain loc and scale."
      ]
    },
    {
      "cell_type": "code",
      "metadata": {
        "colab": {
          "base_uri": "https://localhost:8080/",
          "height": 355
        },
        "id": "zdjS2O3pzcLl",
        "outputId": "041e8ec1-a69a-4af7-e8f7-2ac153605797"
      },
      "source": [
        "sns.distplot(random.normal(loc=50, scale=5, size=1000), hist=False, label='normal')\n",
        "sns.distplot(random.binomial(n=100, p=0.5, size=1000), hist=False, label='binomial')\n",
        "plt.show()"
      ],
      "execution_count": 5,
      "outputs": [
        {
          "output_type": "stream",
          "name": "stderr",
          "text": [
            "/usr/local/lib/python3.7/dist-packages/seaborn/distributions.py:2619: FutureWarning: `distplot` is a deprecated function and will be removed in a future version. Please adapt your code to use either `displot` (a figure-level function with similar flexibility) or `kdeplot` (an axes-level function for kernel density plots).\n",
            "  warnings.warn(msg, FutureWarning)\n",
            "/usr/local/lib/python3.7/dist-packages/seaborn/distributions.py:2619: FutureWarning: `distplot` is a deprecated function and will be removed in a future version. Please adapt your code to use either `displot` (a figure-level function with similar flexibility) or `kdeplot` (an axes-level function for kernel density plots).\n",
            "  warnings.warn(msg, FutureWarning)\n"
          ]
        },
        {
          "output_type": "display_data",
          "data": {
            "image/png": "[encoded data removed]",
            "text/plain": [
              "<Figure size 432x288 with 1 Axes>"
            ]
          },
          "metadata": {
            "needs_background": "light"
          }
        }
      ]
    },
    {
      "cell_type": "markdown",
      "metadata": {
        "id": "ovJT8jHKJWBY"
      },
      "source": [
        "#### **Poisson Distribution**\n",
        "\n",
        "- **Poisson Distribution** is a **Discrete distribution.** It estimates how many times an event can happen in a specified time. e.g. if someone eats twice a day what is probability he will eat thrice? It has two parameters:\n",
        "\n",
        " - **lam** - rate or known number of occurences\n",
        "\n",
        " - **size** - The shape of the returned array"
      ]
    },
    {
      "cell_type": "code",
      "metadata": {
        "colab": {
          "base_uri": "https://localhost:8080/"
        },
        "id": "UG4UdFo5zcIF",
        "outputId": "8fceab0e-25e4-4709-9983-1b937606b97b"
      },
      "source": [
        "# Generate a random 1x10 distribution for occurrence 2\n",
        "\n",
        "x = random.poisson(lam=2, size=10)\n",
        "print(x)"
      ],
      "execution_count": 6,
      "outputs": [
        {
          "output_type": "stream",
          "name": "stdout",
          "text": [
            "[5 2 1 3 0 2 3 2 2 1]\n"
          ]
        }
      ]
    },
    {
      "cell_type": "code",
      "metadata": {
        "colab": {
          "base_uri": "https://localhost:8080/",
          "height": 337
        },
        "id": "JLjyYbATzcHN",
        "outputId": "2360eec5-c134-4c70-d564-6ee29026d58a"
      },
      "source": [
        "# Visualization of Poisson Distribution\n",
        "\n",
        "sns.distplot(random.poisson(lam=2, size=1000), kde=False)\n",
        "print(x)"
      ],
      "execution_count": 7,
      "outputs": [
        {
          "output_type": "stream",
          "name": "stderr",
          "text": [
            "/usr/local/lib/python3.7/dist-packages/seaborn/distributions.py:2619: FutureWarning: `distplot` is a deprecated function and will be removed in a future version. Please adapt your code to use either `displot` (a figure-level function with similar flexibility) or `histplot` (an axes-level function for histograms).\n",
            "  warnings.warn(msg, FutureWarning)\n"
          ]
        },
        {
          "output_type": "stream",
          "name": "stdout",
          "text": [
            "[5 2 1 3 0 2 3 2 2 1]\n"
          ]
        },
        {
          "output_type": "display_data",
          "data": {
            "image/png": "[encoded data removed]",
            "text/plain": [
              "<Figure size 432x288 with 1 Axes>"
            ]
          },
          "metadata": {
            "needs_background": "light"
          }
        }
      ]
    },
    {
      "cell_type": "markdown",
      "metadata": {
        "id": "qdcNL_CAMTeb"
      },
      "source": [
        "#### **Difference b/n Normal and Poisson Distribution**\n",
        "\n",
        "- **Normal distribution** is **continous** whereas **Poisson** is **Discrete**\n",
        "\n",
        "- But we can see that similar to **binomial** for a **large enough Poisson distribution** it will become **similar to normal distribution** with certain **standard deviation and mean**."
      ]
    },
    {
      "cell_type": "code",
      "metadata": {
        "colab": {
          "base_uri": "https://localhost:8080/",
          "height": 355
        },
        "id": "WJH8HD-ZzcDP",
        "outputId": "ae80fe1a-ef52-4a80-8037-ad09d93cd926"
      },
      "source": [
        "sns.distplot(random.normal(loc=50, scale=7, size=1000), hist=False, label='normal')\n",
        "sns.distplot(random.poisson(lam=50, size=1000), hist=False, label='poisson')\n",
        "plt.show()"
      ],
      "execution_count": 9,
      "outputs": [
        {
          "output_type": "stream",
          "name": "stderr",
          "text": [
            "/usr/local/lib/python3.7/dist-packages/seaborn/distributions.py:2619: FutureWarning: `distplot` is a deprecated function and will be removed in a future version. Please adapt your code to use either `displot` (a figure-level function with similar flexibility) or `kdeplot` (an axes-level function for kernel density plots).\n",
            "  warnings.warn(msg, FutureWarning)\n",
            "/usr/local/lib/python3.7/dist-packages/seaborn/distributions.py:2619: FutureWarning: `distplot` is a deprecated function and will be removed in a future version. Please adapt your code to use either `displot` (a figure-level function with similar flexibility) or `kdeplot` (an axes-level function for kernel density plots).\n",
            "  warnings.warn(msg, FutureWarning)\n"
          ]
        },
        {
          "output_type": "display_data",
          "data": {
            "image/png": "[encoded data removed]",
            "text/plain": [
              "<Figure size 432x288 with 1 Axes>"
            ]
          },
          "metadata": {
            "needs_background": "light"
          }
        }
      ]
    },
    {
      "cell_type": "markdown",
      "metadata": {
        "id": "JoCEqQGbOTn8"
      },
      "source": [
        "#### **Difference b/n Poisson and Binomial Distribution**\n",
        "\n",
        "- The difference is very subtle it is that, **binomial distribution** is for **discrete** trials, whereas **poisson distribution** is for **continous** trials. But for **very large n and near-zero p binomial distribution** is near identical to **poisson distribution** such that **n*p** is nearly equal to **lam**. "
      ]
    },
    {
      "cell_type": "code",
      "metadata": {
        "colab": {
          "base_uri": "https://localhost:8080/",
          "height": 355
        },
        "id": "y4CPvvD8zcCc",
        "outputId": "1687d7d5-6016-489a-d76a-01e6c051ecc4"
      },
      "source": [
        "sns.distplot(random.binomial(n=1000, p=0.01, size=1000), hist=False, label='binomial')\n",
        "sns.distplot(random.poisson(lam=10, size=1000), hist=False, label='poisson')\n",
        "plt.show()"
      ],
      "execution_count": 10,
      "outputs": [
        {
          "output_type": "stream",
          "name": "stderr",
          "text": [
            "/usr/local/lib/python3.7/dist-packages/seaborn/distributions.py:2619: FutureWarning: `distplot` is a deprecated function and will be removed in a future version. Please adapt your code to use either `displot` (a figure-level function with similar flexibility) or `kdeplot` (an axes-level function for kernel density plots).\n",
            "  warnings.warn(msg, FutureWarning)\n",
            "/usr/local/lib/python3.7/dist-packages/seaborn/distributions.py:2619: FutureWarning: `distplot` is a deprecated function and will be removed in a future version. Please adapt your code to use either `displot` (a figure-level function with similar flexibility) or `kdeplot` (an axes-level function for kernel density plots).\n",
            "  warnings.warn(msg, FutureWarning)\n"
          ]
        },
        {
          "output_type": "display_data",
          "data": {
            "image/png": "[encoded data removed]",
            "text/plain": [
              "<Figure size 432x288 with 1 Axes>"
            ]
          },
          "metadata": {
            "needs_background": "light"
          }
        }
      ]
    },
    {
      "cell_type": "markdown",
      "metadata": {
        "id": "iDV-nx1izUKm"
      },
      "source": [
        "### **Reference**\n",
        "\n",
        "- https://www.youtube.com/watch?v=A7DO-pBmzJk&list=PLzx-_kRo3HZtP3tWaieUPwAh9K4I00_6p&index=18"
      ]
    }
  ]
}