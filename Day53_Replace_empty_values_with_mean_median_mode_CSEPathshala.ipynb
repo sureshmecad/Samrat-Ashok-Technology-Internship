{
  "nbformat": 4,
  "nbformat_minor": 0,
  "metadata": {
    "colab": {
      "name": "Day53_Replace-empty-values-with-mean-median-mode_CSEPathshala.ipynb",
      "provenance": [],
      "collapsed_sections": [],
      "authorship_tag": "ABX9TyMWZEFQ5nK3mxqWUJ/wIvU/",
      "include_colab_link": true
    },
    "kernelspec": {
      "name": "python3",
      "display_name": "Python 3"
    },
    "language_info": {
      "name": "python"
    }
  },
  "cells": [
    {
      "cell_type": "markdown",
      "metadata": {
        "id": "view-in-github",
        "colab_type": "text"
      },
      "source": [
        "<a href=\"https://colab.research.google.com/github/sureshmecad/Samrat-Ashok-Technology-Internship/blob/main/Day53_Replace_empty_values_with_mean_median_mode_CSEPathshala.ipynb\" target=\"_parent\"><img src=\"https://colab.research.google.com/assets/colab-badge.svg\" alt=\"Open In Colab\"/></a>"
      ]
    },
    {
      "cell_type": "markdown",
      "metadata": {
        "id": "EUCIMIg56t0t"
      },
      "source": [
        "**Replace Empty Values**\n",
        "\n",
        "- Another way of dealing with empty cells is to insert a new value instead.\n",
        "\n",
        "- This way we do not have to delete entire rows just because of some empty cells.\n",
        "\n",
        "- The **fillna()** method allows us to replace empty cells with a value."
      ]
    },
    {
      "cell_type": "code",
      "metadata": {
        "id": "9iSsH77b_ApV"
      },
      "source": [
        "import numpy as np\n",
        "import pandas as pd"
      ],
      "execution_count": 1,
      "outputs": []
    },
    {
      "cell_type": "code",
      "metadata": {
        "id": "M413OK1j4d5Q"
      },
      "source": [
        "# Replace null values with the \"Goud\"\n",
        "\n",
        "df = pd.DataFrame({'First Name': [\"Nirmal\", \"Priyanka\", \"Resham\", \"Jalj\", \"Pinky\", \"Result\"],\n",
        "                   'Last Name': ['Gaud', 'Gaud', 'Gaud', np.nan, np.nan, np.nan],\n",
        "                   'School Name': [201, 202, 203, 204, 205, np.nan]})\n",
        "\n",
        "df\n",
        "df1 = df.copy()"
      ],
      "execution_count": 2,
      "outputs": []
    },
    {
      "cell_type": "code",
      "metadata": {
        "colab": {
          "base_uri": "https://localhost:8080/",
          "height": 235
        },
        "id": "JbxIt1Bj_cDu",
        "outputId": "0a9c511e-35cb-4a3f-891e-1d0fb2a3f876"
      },
      "source": [
        "df.fillna('Gaud', inplace=True)\n",
        "df"
      ],
      "execution_count": 3,
      "outputs": [
        {
          "output_type": "execute_result",
          "data": {
            "text/html": [
              "<div>\n",
              "<style scoped>\n",
              "    .dataframe tbody tr th:only-of-type {\n",
              "        vertical-align: middle;\n",
              "    }\n",
              "\n",
              "    .dataframe tbody tr th {\n",
              "        vertical-align: top;\n",
              "    }\n",
              "\n",
              "    .dataframe thead th {\n",
              "        text-align: right;\n",
              "    }\n",
              "</style>\n",
              "<table border=\"1\" class=\"dataframe\">\n",
              "  <thead>\n",
              "    <tr style=\"text-align: right;\">\n",
              "      <th></th>\n",
              "      <th>First Name</th>\n",
              "      <th>Last Name</th>\n",
              "      <th>School Name</th>\n",
              "    </tr>\n",
              "  </thead>\n",
              "  <tbody>\n",
              "    <tr>\n",
              "      <th>0</th>\n",
              "      <td>Nirmal</td>\n",
              "      <td>Gaud</td>\n",
              "      <td>201</td>\n",
              "    </tr>\n",
              "    <tr>\n",
              "      <th>1</th>\n",
              "      <td>Priyanka</td>\n",
              "      <td>Gaud</td>\n",
              "      <td>202</td>\n",
              "    </tr>\n",
              "    <tr>\n",
              "      <th>2</th>\n",
              "      <td>Resham</td>\n",
              "      <td>Gaud</td>\n",
              "      <td>203</td>\n",
              "    </tr>\n",
              "    <tr>\n",
              "      <th>3</th>\n",
              "      <td>Jalj</td>\n",
              "      <td>Gaud</td>\n",
              "      <td>204</td>\n",
              "    </tr>\n",
              "    <tr>\n",
              "      <th>4</th>\n",
              "      <td>Pinky</td>\n",
              "      <td>Gaud</td>\n",
              "      <td>205</td>\n",
              "    </tr>\n",
              "    <tr>\n",
              "      <th>5</th>\n",
              "      <td>Result</td>\n",
              "      <td>Gaud</td>\n",
              "      <td>Gaud</td>\n",
              "    </tr>\n",
              "  </tbody>\n",
              "</table>\n",
              "</div>"
            ],
            "text/plain": [
              "  First Name Last Name School Name\n",
              "0     Nirmal      Gaud         201\n",
              "1   Priyanka      Gaud         202\n",
              "2     Resham      Gaud         203\n",
              "3       Jalj      Gaud         204\n",
              "4      Pinky      Gaud         205\n",
              "5     Result      Gaud        Gaud"
            ]
          },
          "metadata": {},
          "execution_count": 3
        }
      ]
    },
    {
      "cell_type": "markdown",
      "metadata": {
        "id": "Y4eYxGQjD90x"
      },
      "source": [
        "**Replace only for a Specified Columns**\n",
        "\n",
        "- The example above replaces all empty cells in the whole DataFrame.\n",
        "\n",
        "- To only replace empty values for one column, specify the column name for the dataframe."
      ]
    },
    {
      "cell_type": "markdown",
      "metadata": {
        "id": "YtOs_klfEwMJ"
      },
      "source": [
        "**Replace NULL values in the \"Last Name\" column with the number 130**"
      ]
    },
    {
      "cell_type": "code",
      "metadata": {
        "colab": {
          "base_uri": "https://localhost:8080/",
          "height": 235
        },
        "id": "cinIRhqIEtHg",
        "outputId": "c034e17f-c569-4014-ea0e-c92ae4f46e67"
      },
      "source": [
        "df['Last Name'].fillna('Gaud', inplace=True)\n",
        "df"
      ],
      "execution_count": 4,
      "outputs": [
        {
          "output_type": "execute_result",
          "data": {
            "text/html": [
              "<div>\n",
              "<style scoped>\n",
              "    .dataframe tbody tr th:only-of-type {\n",
              "        vertical-align: middle;\n",
              "    }\n",
              "\n",
              "    .dataframe tbody tr th {\n",
              "        vertical-align: top;\n",
              "    }\n",
              "\n",
              "    .dataframe thead th {\n",
              "        text-align: right;\n",
              "    }\n",
              "</style>\n",
              "<table border=\"1\" class=\"dataframe\">\n",
              "  <thead>\n",
              "    <tr style=\"text-align: right;\">\n",
              "      <th></th>\n",
              "      <th>First Name</th>\n",
              "      <th>Last Name</th>\n",
              "      <th>School Name</th>\n",
              "    </tr>\n",
              "  </thead>\n",
              "  <tbody>\n",
              "    <tr>\n",
              "      <th>0</th>\n",
              "      <td>Nirmal</td>\n",
              "      <td>Gaud</td>\n",
              "      <td>201</td>\n",
              "    </tr>\n",
              "    <tr>\n",
              "      <th>1</th>\n",
              "      <td>Priyanka</td>\n",
              "      <td>Gaud</td>\n",
              "      <td>202</td>\n",
              "    </tr>\n",
              "    <tr>\n",
              "      <th>2</th>\n",
              "      <td>Resham</td>\n",
              "      <td>Gaud</td>\n",
              "      <td>203</td>\n",
              "    </tr>\n",
              "    <tr>\n",
              "      <th>3</th>\n",
              "      <td>Jalj</td>\n",
              "      <td>Gaud</td>\n",
              "      <td>204</td>\n",
              "    </tr>\n",
              "    <tr>\n",
              "      <th>4</th>\n",
              "      <td>Pinky</td>\n",
              "      <td>Gaud</td>\n",
              "      <td>205</td>\n",
              "    </tr>\n",
              "    <tr>\n",
              "      <th>5</th>\n",
              "      <td>Result</td>\n",
              "      <td>Gaud</td>\n",
              "      <td>Gaud</td>\n",
              "    </tr>\n",
              "  </tbody>\n",
              "</table>\n",
              "</div>"
            ],
            "text/plain": [
              "  First Name Last Name School Name\n",
              "0     Nirmal      Gaud         201\n",
              "1   Priyanka      Gaud         202\n",
              "2     Resham      Gaud         203\n",
              "3       Jalj      Gaud         204\n",
              "4      Pinky      Gaud         205\n",
              "5     Result      Gaud        Gaud"
            ]
          },
          "metadata": {},
          "execution_count": 4
        }
      ]
    },
    {
      "cell_type": "markdown",
      "metadata": {
        "id": "tyBRtZsXFVge"
      },
      "source": [
        "**Replace using Mean, Median, Mode**\n",
        "\n",
        "- A common way to **replace empty cells**, is to calculate the **mean, median or mode** value for the column.\n",
        "\n",
        "- Pandas uses the **mean() median() and mode()** methods to calculate respective values for a specified column."
      ]
    },
    {
      "cell_type": "markdown",
      "metadata": {
        "id": "6vqNGN9BIIdP"
      },
      "source": [
        "**Mean: The average value (the sum of all values divided by number values**"
      ]
    },
    {
      "cell_type": "code",
      "metadata": {
        "colab": {
          "base_uri": "https://localhost:8080/",
          "height": 235
        },
        "id": "EE966dqNFcK9",
        "outputId": "04a25f28-dc83-48f5-9f21-24ae94c87bbd"
      },
      "source": [
        "# calculate the MEAN, and replace any empty values with it\n",
        "x = df1['School Name'].mean()\n",
        "df1['School Name'].fillna(x, inplace=True)\n",
        "df1"
      ],
      "execution_count": 8,
      "outputs": [
        {
          "output_type": "execute_result",
          "data": {
            "text/html": [
              "<div>\n",
              "<style scoped>\n",
              "    .dataframe tbody tr th:only-of-type {\n",
              "        vertical-align: middle;\n",
              "    }\n",
              "\n",
              "    .dataframe tbody tr th {\n",
              "        vertical-align: top;\n",
              "    }\n",
              "\n",
              "    .dataframe thead th {\n",
              "        text-align: right;\n",
              "    }\n",
              "</style>\n",
              "<table border=\"1\" class=\"dataframe\">\n",
              "  <thead>\n",
              "    <tr style=\"text-align: right;\">\n",
              "      <th></th>\n",
              "      <th>First Name</th>\n",
              "      <th>Last Name</th>\n",
              "      <th>School Name</th>\n",
              "    </tr>\n",
              "  </thead>\n",
              "  <tbody>\n",
              "    <tr>\n",
              "      <th>0</th>\n",
              "      <td>Nirmal</td>\n",
              "      <td>Gaud</td>\n",
              "      <td>201.0</td>\n",
              "    </tr>\n",
              "    <tr>\n",
              "      <th>1</th>\n",
              "      <td>Priyanka</td>\n",
              "      <td>Gaud</td>\n",
              "      <td>202.0</td>\n",
              "    </tr>\n",
              "    <tr>\n",
              "      <th>2</th>\n",
              "      <td>Resham</td>\n",
              "      <td>Gaud</td>\n",
              "      <td>203.0</td>\n",
              "    </tr>\n",
              "    <tr>\n",
              "      <th>3</th>\n",
              "      <td>Jalj</td>\n",
              "      <td>NaN</td>\n",
              "      <td>204.0</td>\n",
              "    </tr>\n",
              "    <tr>\n",
              "      <th>4</th>\n",
              "      <td>Pinky</td>\n",
              "      <td>NaN</td>\n",
              "      <td>205.0</td>\n",
              "    </tr>\n",
              "    <tr>\n",
              "      <th>5</th>\n",
              "      <td>Result</td>\n",
              "      <td>NaN</td>\n",
              "      <td>203.0</td>\n",
              "    </tr>\n",
              "  </tbody>\n",
              "</table>\n",
              "</div>"
            ],
            "text/plain": [
              "  First Name Last Name  School Name\n",
              "0     Nirmal      Gaud        201.0\n",
              "1   Priyanka      Gaud        202.0\n",
              "2     Resham      Gaud        203.0\n",
              "3       Jalj       NaN        204.0\n",
              "4      Pinky       NaN        205.0\n",
              "5     Result       NaN        203.0"
            ]
          },
          "metadata": {},
          "execution_count": 8
        }
      ]
    },
    {
      "cell_type": "markdown",
      "metadata": {
        "id": "KjjSa7j6Hoz4"
      },
      "source": [
        "**Median: the value in the middle, after you have sorted all values ascending**"
      ]
    },
    {
      "cell_type": "code",
      "metadata": {
        "colab": {
          "base_uri": "https://localhost:8080/",
          "height": 235
        },
        "id": "yE1fGIRlH7H4",
        "outputId": "eb394fed-5d63-43b5-9750-37559ef3405f"
      },
      "source": [
        "# calculate the MEDIAN, and replace any empty values with it\n",
        "x = df1['School Name'].median()\n",
        "df1['School Name'].fillna(x, inplace=True)\n",
        "df1"
      ],
      "execution_count": 9,
      "outputs": [
        {
          "output_type": "execute_result",
          "data": {
            "text/html": [
              "<div>\n",
              "<style scoped>\n",
              "    .dataframe tbody tr th:only-of-type {\n",
              "        vertical-align: middle;\n",
              "    }\n",
              "\n",
              "    .dataframe tbody tr th {\n",
              "        vertical-align: top;\n",
              "    }\n",
              "\n",
              "    .dataframe thead th {\n",
              "        text-align: right;\n",
              "    }\n",
              "</style>\n",
              "<table border=\"1\" class=\"dataframe\">\n",
              "  <thead>\n",
              "    <tr style=\"text-align: right;\">\n",
              "      <th></th>\n",
              "      <th>First Name</th>\n",
              "      <th>Last Name</th>\n",
              "      <th>School Name</th>\n",
              "    </tr>\n",
              "  </thead>\n",
              "  <tbody>\n",
              "    <tr>\n",
              "      <th>0</th>\n",
              "      <td>Nirmal</td>\n",
              "      <td>Gaud</td>\n",
              "      <td>201.0</td>\n",
              "    </tr>\n",
              "    <tr>\n",
              "      <th>1</th>\n",
              "      <td>Priyanka</td>\n",
              "      <td>Gaud</td>\n",
              "      <td>202.0</td>\n",
              "    </tr>\n",
              "    <tr>\n",
              "      <th>2</th>\n",
              "      <td>Resham</td>\n",
              "      <td>Gaud</td>\n",
              "      <td>203.0</td>\n",
              "    </tr>\n",
              "    <tr>\n",
              "      <th>3</th>\n",
              "      <td>Jalj</td>\n",
              "      <td>NaN</td>\n",
              "      <td>204.0</td>\n",
              "    </tr>\n",
              "    <tr>\n",
              "      <th>4</th>\n",
              "      <td>Pinky</td>\n",
              "      <td>NaN</td>\n",
              "      <td>205.0</td>\n",
              "    </tr>\n",
              "    <tr>\n",
              "      <th>5</th>\n",
              "      <td>Result</td>\n",
              "      <td>NaN</td>\n",
              "      <td>203.0</td>\n",
              "    </tr>\n",
              "  </tbody>\n",
              "</table>\n",
              "</div>"
            ],
            "text/plain": [
              "  First Name Last Name  School Name\n",
              "0     Nirmal      Gaud        201.0\n",
              "1   Priyanka      Gaud        202.0\n",
              "2     Resham      Gaud        203.0\n",
              "3       Jalj       NaN        204.0\n",
              "4      Pinky       NaN        205.0\n",
              "5     Result       NaN        203.0"
            ]
          },
          "metadata": {},
          "execution_count": 9
        }
      ]
    },
    {
      "cell_type": "markdown",
      "metadata": {
        "id": "rhA3Pd2EIeNw"
      },
      "source": [
        "**Mode: the value that appears most frequently**"
      ]
    },
    {
      "cell_type": "code",
      "metadata": {
        "colab": {
          "base_uri": "https://localhost:8080/",
          "height": 235
        },
        "id": "-lSEwANtIpBn",
        "outputId": "0aad1e5d-e7db-4511-a8e1-22cde0c9d7f0"
      },
      "source": [
        "# calculate the MODE, and replace any empty values with it\n",
        "x = df1['School Name'].mode()\n",
        "df1['School Name'].fillna(x, inplace=True)\n",
        "df1"
      ],
      "execution_count": 10,
      "outputs": [
        {
          "output_type": "execute_result",
          "data": {
            "text/html": [
              "<div>\n",
              "<style scoped>\n",
              "    .dataframe tbody tr th:only-of-type {\n",
              "        vertical-align: middle;\n",
              "    }\n",
              "\n",
              "    .dataframe tbody tr th {\n",
              "        vertical-align: top;\n",
              "    }\n",
              "\n",
              "    .dataframe thead th {\n",
              "        text-align: right;\n",
              "    }\n",
              "</style>\n",
              "<table border=\"1\" class=\"dataframe\">\n",
              "  <thead>\n",
              "    <tr style=\"text-align: right;\">\n",
              "      <th></th>\n",
              "      <th>First Name</th>\n",
              "      <th>Last Name</th>\n",
              "      <th>School Name</th>\n",
              "    </tr>\n",
              "  </thead>\n",
              "  <tbody>\n",
              "    <tr>\n",
              "      <th>0</th>\n",
              "      <td>Nirmal</td>\n",
              "      <td>Gaud</td>\n",
              "      <td>201.0</td>\n",
              "    </tr>\n",
              "    <tr>\n",
              "      <th>1</th>\n",
              "      <td>Priyanka</td>\n",
              "      <td>Gaud</td>\n",
              "      <td>202.0</td>\n",
              "    </tr>\n",
              "    <tr>\n",
              "      <th>2</th>\n",
              "      <td>Resham</td>\n",
              "      <td>Gaud</td>\n",
              "      <td>203.0</td>\n",
              "    </tr>\n",
              "    <tr>\n",
              "      <th>3</th>\n",
              "      <td>Jalj</td>\n",
              "      <td>NaN</td>\n",
              "      <td>204.0</td>\n",
              "    </tr>\n",
              "    <tr>\n",
              "      <th>4</th>\n",
              "      <td>Pinky</td>\n",
              "      <td>NaN</td>\n",
              "      <td>205.0</td>\n",
              "    </tr>\n",
              "    <tr>\n",
              "      <th>5</th>\n",
              "      <td>Result</td>\n",
              "      <td>NaN</td>\n",
              "      <td>203.0</td>\n",
              "    </tr>\n",
              "  </tbody>\n",
              "</table>\n",
              "</div>"
            ],
            "text/plain": [
              "  First Name Last Name  School Name\n",
              "0     Nirmal      Gaud        201.0\n",
              "1   Priyanka      Gaud        202.0\n",
              "2     Resham      Gaud        203.0\n",
              "3       Jalj       NaN        204.0\n",
              "4      Pinky       NaN        205.0\n",
              "5     Result       NaN        203.0"
            ]
          },
          "metadata": {},
          "execution_count": 10
        }
      ]
    },
    {
      "cell_type": "markdown",
      "metadata": {
        "id": "P_Bga9Cv415X"
      },
      "source": [
        "#### **Reference**\n",
        "\n",
        "- https://www.youtube.com/watch?v=dQJBhAuMu3g&list=PLzx-_kRo3HZtP3tWaieUPwAh9K4I00_6p&index=42"
      ]
    }
  ]
}