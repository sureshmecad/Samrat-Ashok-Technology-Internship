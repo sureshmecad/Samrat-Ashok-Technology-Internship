{
  "nbformat": 4,
  "nbformat_minor": 0,
  "metadata": {
    "colab": {
      "name": "Day5_Numpy data Types_CSEPathshala.ipynb",
      "provenance": [],
      "collapsed_sections": [],
      "authorship_tag": "ABX9TyM2l8uhfiz5AJmlixt7sA8z",
      "include_colab_link": true
    },
    "kernelspec": {
      "name": "python3",
      "display_name": "Python 3"
    },
    "language_info": {
      "name": "python"
    }
  },
  "cells": [
    {
      "cell_type": "markdown",
      "metadata": {
        "id": "view-in-github",
        "colab_type": "text"
      },
      "source": [
        "<a href=\"https://colab.research.google.com/github/sureshmecad/Samrat-Ashok-Technology-Internship/blob/main/Day5_Numpy_data_Types_CSEPathshala.ipynb\" target=\"_parent\"><img src=\"https://colab.research.google.com/assets/colab-badge.svg\" alt=\"Open In Colab\"/></a>"
      ]
    },
    {
      "cell_type": "code",
      "metadata": {
        "id": "_sfSgRMi6UVD"
      },
      "source": [
        "import numpy as np"
      ],
      "execution_count": null,
      "outputs": []
    },
    {
      "cell_type": "markdown",
      "metadata": {
        "id": "kaMb0HCj7Pg-"
      },
      "source": [
        "#### **NumPy Array reshape**"
      ]
    },
    {
      "cell_type": "markdown",
      "metadata": {
        "id": "S-gzCPOH7XII"
      },
      "source": [
        "- we can reshape an array to another dimension using the reshape() function\n",
        "\n",
        "- Let's consider a program in which 'arr' is a rank 1 array and after reshape its converted to a rank 2 array 'arr1'"
      ]
    },
    {
      "cell_type": "code",
      "metadata": {
        "colab": {
          "base_uri": "https://localhost:8080/"
        },
        "id": "PRlq5v2n6mCg",
        "outputId": "ca635a2b-9cbd-45a4-9f78-7afc8f0b75b3"
      },
      "source": [
        "list = [1,2,3,4,5]\n",
        "arr = np.array(list)\n",
        "print(\"The Numpy array is:\", arr)\n",
        "print(arr.shape)\n",
        "\n",
        "arr1 = arr.reshape(1,-1)\n",
        "print(\"The Reshape NumPy array is:\", arr1)\n",
        "print(arr1.shape)\n",
        "\n",
        "arr2 = arr.reshape(1,1,-1)\n",
        "print(arr2)\n",
        "print(arr2.shape)"
      ],
      "execution_count": null,
      "outputs": [
        {
          "output_type": "stream",
          "name": "stdout",
          "text": [
            "The Numpy array is: [1 2 3 4 5]\n",
            "(5,)\n",
            "The Reshape NumPy array is: [[1 2 3 4 5]]\n",
            "(1, 5)\n",
            "[[[1 2 3 4 5]]]\n",
            "(1, 1, 5)\n"
          ]
        }
      ]
    },
    {
      "cell_type": "markdown",
      "metadata": {
        "id": "t2LS2p8gJfwo"
      },
      "source": [
        "- we call the reshape() function with two arguments.\n",
        "\n",
        "- The first one indicates that we want to convert it into rank 2 array with 1 row, and the -1 indicates that we will leave it to the reshape() function to create the correct number of columns."
      ]
    },
    {
      "cell_type": "markdown",
      "metadata": {
        "id": "e9rg1rbUC1Fc"
      },
      "source": [
        "#### **Reshape**"
      ]
    },
    {
      "cell_type": "code",
      "metadata": {
        "colab": {
          "base_uri": "https://localhost:8080/"
        },
        "id": "2Z4HM_dL6l-w",
        "outputId": "bc071f2c-2789-43eb-f46a-1d0a2e32dc76"
      },
      "source": [
        "list = [1,2,3,4,5]\n",
        "arr1 = np.array([list])\n",
        "print(\"The NumPy Array is:\", arr1)\n",
        "arr = arr1.reshape(-1,)\n",
        "print(\"The reshape NumPy array is:\", arr)"
      ],
      "execution_count": null,
      "outputs": [
        {
          "output_type": "stream",
          "name": "stdout",
          "text": [
            "The NumPy Array is: [[1 2 3 4 5]]\n",
            "The reshape NumPy array is: [1 2 3 4 5]\n"
          ]
        }
      ]
    },
    {
      "cell_type": "markdown",
      "metadata": {
        "id": "4nVZpD-4C4gk"
      },
      "source": [
        "#### **Flatten**\n",
        "\n",
        " - To **convert** a **rank 2 array to a rank 1 array**, we can also use the **flatten() or ravel()** functions."
      ]
    },
    {
      "cell_type": "code",
      "metadata": {
        "colab": {
          "base_uri": "https://localhost:8080/"
        },
        "id": "lAPIrCE-6l64",
        "outputId": "75131481-34f1-4aee-84c0-9cd9ca1c8f2d"
      },
      "source": [
        "list = [1,2,3,4,5]\n",
        "arr1 = np.array([list])\n",
        "print(\"The NumPy Array is:\", arr1)\n",
        "arr = arr1.flatten()\n",
        "print(\"The reshape NumPy array is:\", arr)"
      ],
      "execution_count": null,
      "outputs": [
        {
          "output_type": "stream",
          "name": "stdout",
          "text": [
            "The NumPy Array is: [[1 2 3 4 5]]\n",
            "The reshape NumPy array is: [1 2 3 4 5]\n"
          ]
        }
      ]
    },
    {
      "cell_type": "markdown",
      "metadata": {
        "id": "AhmusUVUC8b7"
      },
      "source": [
        "#### **Ravel**"
      ]
    },
    {
      "cell_type": "code",
      "metadata": {
        "colab": {
          "base_uri": "https://localhost:8080/"
        },
        "id": "q9SuFwQJ6l24",
        "outputId": "24dc5700-e79d-481b-ec67-e1b93ffef7ff"
      },
      "source": [
        "list = [1,2,3,4,5]\n",
        "arr1 = np.array([list])\n",
        "print(\"The NumPy Array is:\", arr1)\n",
        "arr = arr1.ravel()\n",
        "print(\"The reshape NumPy array is:\", arr)"
      ],
      "execution_count": null,
      "outputs": [
        {
          "output_type": "stream",
          "name": "stdout",
          "text": [
            "The NumPy Array is: [[1 2 3 4 5]]\n",
            "The reshape NumPy array is: [1 2 3 4 5]\n"
          ]
        }
      ]
    },
    {
      "cell_type": "markdown",
      "metadata": {
        "id": "Tq-DZppSDiYI"
      },
      "source": [
        "#### **Data types in Python**\n",
        "\n",
        "  **1) strings:** used to represent text data under quote marks like \"ABCD\"\n",
        "\n",
        "  **2) integer:** used to represent integer numbers like 1,2,3,-1,-2,-3\n",
        "\n",
        "  **3) float:** used to represent real numbers like 1.2, 42.42\n",
        "\n",
        "  **4) boolean:** used to represent True or False\n",
        "\n",
        "  **5) complex:** used to represent complex numbers like 1.0+2.0j, 1.5+2.5j"
      ]
    },
    {
      "cell_type": "markdown",
      "metadata": {
        "id": "hGF9euIXGCSW"
      },
      "source": [
        "#### **Data types in NumPy**\n",
        "\n",
        " - NumPy has some extra data types and refers them with one character, like i for integers, u for unsigned integers etc. List of all data types in NumPy and the characters used to represent them is as follows."
      ]
    },
    {
      "cell_type": "markdown",
      "metadata": {
        "id": "tiL5dtzcHUuO"
      },
      "source": [
        "|Character           |Datatype             |\n",
        "|--------------------|---------------------|\n",
        "|i                   |integer              |\n",
        "|b                   |boolean              |\n",
        "|u                   |Unsigned integer     |\n",
        "|f                   |float                |\n",
        "|c                   |complex float        |\n",
        "|m                   |time delta           |\n",
        "|M                   |datetime             |\n",
        "|O                   |Object               |\n",
        "|S                   |string               |\n",
        "|U                   |Unicode String       |"
      ]
    },
    {
      "cell_type": "markdown",
      "metadata": {
        "id": "KWM26do9IvzY"
      },
      "source": [
        "#### **Checking the Data Type of an Array**\n",
        "\n",
        "- The NumPy array object has a property called dtype that returns the data type of the array."
      ]
    },
    {
      "cell_type": "code",
      "metadata": {
        "colab": {
          "base_uri": "https://localhost:8080/"
        },
        "id": "MCmVWJuO6lzA",
        "outputId": "23625492-9679-4e69-e947-61eff52df29e"
      },
      "source": [
        "arr = np.array([1,2,3,4])\n",
        "print(\"The DataType of array is:\", arr.dtype)"
      ],
      "execution_count": null,
      "outputs": [
        {
          "output_type": "stream",
          "name": "stdout",
          "text": [
            "The DataType of array is: int64\n"
          ]
        }
      ]
    },
    {
      "cell_type": "code",
      "metadata": {
        "colab": {
          "base_uri": "https://localhost:8080/"
        },
        "id": "7AF9Z8bKNEoC",
        "outputId": "057b6751-21f3-4c0e-e018-c5dc462d42bc"
      },
      "source": [
        "arr = np.array(['apple', 'banana', 'cherry'])\n",
        "print(\"The DataType of array is:\", arr.dtype)"
      ],
      "execution_count": null,
      "outputs": [
        {
          "output_type": "stream",
          "name": "stdout",
          "text": [
            "The DataType of array is: <U6\n"
          ]
        }
      ]
    },
    {
      "cell_type": "markdown",
      "metadata": {
        "id": "Usuyh_tsNl6h"
      },
      "source": [
        "#### **Creating arrays with a defined data type**\n",
        "\n",
        "- we use the array() function to create arrays, this function can take an optional argument: dtype that allows us to define the expected data type of the array elements. "
      ]
    },
    {
      "cell_type": "code",
      "metadata": {
        "colab": {
          "base_uri": "https://localhost:8080/"
        },
        "id": "E4expMF9NW8i",
        "outputId": "6a0a48f6-b703-4c7f-b866-7fe94ba2542b"
      },
      "source": [
        "arr = np.array([1,2,3,4], dtype='S')\n",
        "print(\"The value of array is:\", arr)\n",
        "print(\"The data type of array is:\", arr.dtype)"
      ],
      "execution_count": null,
      "outputs": [
        {
          "output_type": "stream",
          "name": "stdout",
          "text": [
            "The value of array is: [b'1' b'2' b'3' b'4']\n",
            "The data type of array is: |S1\n"
          ]
        }
      ]
    },
    {
      "cell_type": "markdown",
      "metadata": {
        "id": "q8wYjU2KR_B8"
      },
      "source": [
        "- For i,u,f,S and U we can define size as well"
      ]
    },
    {
      "cell_type": "code",
      "metadata": {
        "colab": {
          "base_uri": "https://localhost:8080/"
        },
        "id": "dwCn_lLnSUjl",
        "outputId": "f5e91281-e836-44bd-a3a8-779c7f8c9702"
      },
      "source": [
        "# create an array with data type 4 bytes integer\n",
        "arr = np.array([1,2,3,4], dtype='i4')\n",
        "print(\"The value of array is:\", arr)\n",
        "print(\"The data type of array is:\", arr.dtype)"
      ],
      "execution_count": null,
      "outputs": [
        {
          "output_type": "stream",
          "name": "stdout",
          "text": [
            "The value of array is: [1 2 3 4]\n",
            "The data type of array is: int32\n"
          ]
        }
      ]
    },
    {
      "cell_type": "code",
      "metadata": {
        "colab": {
          "base_uri": "https://localhost:8080/"
        },
        "id": "Rp6ZQtRSTNM2",
        "outputId": "9f720d6e-aff5-4603-9ace-7efae74b17e0"
      },
      "source": [
        "# create an array with data type 4 bytes integer\n",
        "arr = np.array([1,2,3,4], dtype='i8')\n",
        "print(\"The value of array is:\", arr)\n",
        "print(\"The data type of array is:\", arr.dtype)"
      ],
      "execution_count": null,
      "outputs": [
        {
          "output_type": "stream",
          "name": "stdout",
          "text": [
            "The value of array is: [1 2 3 4]\n",
            "The data type of array is: int64\n"
          ]
        }
      ]
    },
    {
      "cell_type": "markdown",
      "metadata": {
        "id": "wTMV0yF4VN8P"
      },
      "source": [
        "#### **What if a value Can Not Be Converted**\n",
        "\n",
        "- If a type is given in which elements can't be casted then NumPy will raise a ValueError\n",
        "\n",
        "- In python value error is raised when the type of passed argument to a function is unexpected/incorrect.\n"
      ]
    },
    {
      "cell_type": "code",
      "metadata": {
        "colab": {
          "base_uri": "https://localhost:8080/",
          "height": 208
        },
        "id": "z4om6Co_X4AZ",
        "outputId": "abcc11cb-356e-4fc7-e8dc-44dd59097f0b"
      },
      "source": [
        "# A non integer string like 'a' cannot be converted to integer (will raise an error)\n",
        "arr = np.array(['a', '2', '3'], dtype='i')\n",
        "print(\"The value of array is:\", arr)"
      ],
      "execution_count": null,
      "outputs": [
        {
          "output_type": "error",
          "ename": "ValueError",
          "evalue": "ignored",
          "traceback": [
            "\u001b[0;31m---------------------------------------------------------------------------\u001b[0m",
            "\u001b[0;31mValueError\u001b[0m                                Traceback (most recent call last)",
            "\u001b[0;32m<ipython-input-12-464ccf8797eb>\u001b[0m in \u001b[0;36m<module>\u001b[0;34m()\u001b[0m\n\u001b[1;32m      1\u001b[0m \u001b[0;31m# A non integer string like 'a' cannot be converted to integer (will raise an error)\u001b[0m\u001b[0;34m\u001b[0m\u001b[0;34m\u001b[0m\u001b[0;34m\u001b[0m\u001b[0m\n\u001b[0;32m----> 2\u001b[0;31m \u001b[0marr\u001b[0m \u001b[0;34m=\u001b[0m \u001b[0mnp\u001b[0m\u001b[0;34m.\u001b[0m\u001b[0marray\u001b[0m\u001b[0;34m(\u001b[0m\u001b[0;34m[\u001b[0m\u001b[0;34m'a'\u001b[0m\u001b[0;34m,\u001b[0m \u001b[0;34m'2'\u001b[0m\u001b[0;34m,\u001b[0m \u001b[0;34m'3'\u001b[0m\u001b[0;34m]\u001b[0m\u001b[0;34m,\u001b[0m \u001b[0mdtype\u001b[0m\u001b[0;34m=\u001b[0m\u001b[0;34m'i'\u001b[0m\u001b[0;34m)\u001b[0m\u001b[0;34m\u001b[0m\u001b[0;34m\u001b[0m\u001b[0m\n\u001b[0m\u001b[1;32m      3\u001b[0m \u001b[0mprint\u001b[0m\u001b[0;34m(\u001b[0m\u001b[0;34m\"The value of array is:\"\u001b[0m\u001b[0;34m,\u001b[0m \u001b[0marr\u001b[0m\u001b[0;34m)\u001b[0m\u001b[0;34m\u001b[0m\u001b[0;34m\u001b[0m\u001b[0m\n",
            "\u001b[0;31mValueError\u001b[0m: invalid literal for int() with base 10: 'a'"
          ]
        }
      ]
    },
    {
      "cell_type": "markdown",
      "metadata": {
        "id": "tfOLvsWgVfiv"
      },
      "source": [
        "#### **Converting Data Type on Existing Array**\n",
        "\n",
        "- The best way to change the data type of an existing array, is to make a copy of the array with the astype() method.\n",
        "\n",
        "- The astype() function creates the copy of array, and allows us to specify the data type as a parameter.\n",
        "\n",
        "- The datatype can be specified using a string, like 'f' for float, 'i' for integer etc or we can use the data type directly like float for float and int for integer."
      ]
    },
    {
      "cell_type": "code",
      "metadata": {
        "colab": {
          "base_uri": "https://localhost:8080/"
        },
        "id": "_6jyQCIAahf2",
        "outputId": "224d4119-334f-40bc-c303-db70fe01f740"
      },
      "source": [
        "# change data type from float to integer by using 'i' as parameter value\n",
        "arr = np.array([1.1, 2.1, 3.1])\n",
        "print(arr.dtype)\n",
        "newarr = arr.astype('i')\n",
        "print(\"The value of newarr is:\", newarr)\n",
        "print(\"The data type of newarr is:\", newarr.dtype)"
      ],
      "execution_count": null,
      "outputs": [
        {
          "output_type": "stream",
          "name": "stdout",
          "text": [
            "float64\n",
            "The value of newarr is: [1 2 3]\n",
            "The data type of newarr is: int32\n"
          ]
        }
      ]
    },
    {
      "cell_type": "code",
      "metadata": {
        "colab": {
          "base_uri": "https://localhost:8080/"
        },
        "id": "9batsXj4bK20",
        "outputId": "a323ee41-728b-4204-d496-63156ebb6b6e"
      },
      "source": [
        "# change the data type from float to integer by using int as parameter value\n",
        "arr = np.array([1.1, 2.1, 3.1])\n",
        "print(arr.dtype)\n",
        "newarr = arr.astype(int)\n",
        "print(\"The value of newarr is:\", newarr)\n",
        "print(\"The data type of newarr is:\", newarr.dtype)"
      ],
      "execution_count": null,
      "outputs": [
        {
          "output_type": "stream",
          "name": "stdout",
          "text": [
            "float64\n",
            "The value of newarr is: [1 2 3]\n",
            "The data type of newarr is: int64\n"
          ]
        }
      ]
    },
    {
      "cell_type": "code",
      "metadata": {
        "colab": {
          "base_uri": "https://localhost:8080/"
        },
        "id": "3_etqs9abKud",
        "outputId": "8eb17583-c5a4-4641-f3c8-98188403dea8"
      },
      "source": [
        "# change data type from integer to bolean\n",
        "arr = np.array([1, 0, 3])\n",
        "print(arr.dtype)\n",
        "newarr = arr.astype(bool)\n",
        "print(\"The value of newarr is:\", newarr)\n",
        "print(\"The data type of newarr is:\", newarr.dtype)"
      ],
      "execution_count": null,
      "outputs": [
        {
          "output_type": "stream",
          "name": "stdout",
          "text": [
            "int64\n",
            "The value of newarr is: [ True False  True]\n",
            "The data type of newarr is: bool\n"
          ]
        }
      ]
    },
    {
      "cell_type": "markdown",
      "metadata": {
        "id": "-2E_5VRe6gHI"
      },
      "source": [
        "### **Reference**"
      ]
    },
    {
      "cell_type": "markdown",
      "metadata": {
        "id": "kA6v6XRU6izY"
      },
      "source": [
        "- https://www.youtube.com/watch?v=0P_Y7K0uqB0&list=PLzx-_kRo3HZtP3tWaieUPwAh9K4I00_6p&index=5"
      ]
    }
  ]
}