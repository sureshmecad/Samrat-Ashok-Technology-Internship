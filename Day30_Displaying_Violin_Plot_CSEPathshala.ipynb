{
  "nbformat": 4,
  "nbformat_minor": 0,
  "metadata": {
    "colab": {
      "name": "Day30_Displaying Violin Plot_CSEPathshala.ipynb",
      "provenance": [],
      "collapsed_sections": [],
      "authorship_tag": "ABX9TyNugT1/xOpv00bbkCsrnJWo",
      "include_colab_link": true
    },
    "kernelspec": {
      "name": "python3",
      "display_name": "Python 3"
    },
    "language_info": {
      "name": "python"
    }
  },
  "cells": [
    {
      "cell_type": "markdown",
      "metadata": {
        "id": "view-in-github",
        "colab_type": "text"
      },
      "source": [
        "<a href=\"https://colab.research.google.com/github/sureshmecad/Samrat-Ashok-Technology-Internship/blob/main/Day30_Displaying_Violin_Plot_CSEPathshala.ipynb\" target=\"_parent\"><img src=\"https://colab.research.google.com/assets/colab-badge.svg\" alt=\"Open In Colab\"/></a>"
      ]
    },
    {
      "cell_type": "markdown",
      "metadata": {
        "id": "3GqFnhXKRZHq"
      },
      "source": [
        "- Violin plots are similar to boxplots, except that they also show the probability density of the data at different values.\n",
        "\n",
        "- These plots include a marker for the median of the data and a box indicating a interquartile range, as in the standard box plots.\n",
        "\n",
        "- Overlaid on this boxplot is kernal density estimation.\n",
        "\n",
        "- Like box plots, violin plots are used to represent comparision of a variable distribution (or sample distribution) across different \"categories\".\n",
        "\n",
        "- A violin plot is more informative than a plain box plot.\n",
        "\n",
        "- In fact while a boxplot only shows summary statistics such as mean/median and interquartile ranges, the violin plot shows the full distribution of data."
      ]
    },
    {
      "cell_type": "code",
      "metadata": {
        "id": "cmPGVApuRNZd"
      },
      "source": [
        "import numpy as np\n",
        "import matplotlib.pyplot as plt"
      ],
      "execution_count": 1,
      "outputs": []
    },
    {
      "cell_type": "code",
      "metadata": {
        "colab": {
          "base_uri": "https://localhost:8080/",
          "height": 335
        },
        "id": "hPrwVHwwRYki",
        "outputId": "932cd6ad-3a02-4844-b3da-fbac77300edf"
      },
      "source": [
        "np.random.seed(10)  # NumPy random seed is for pseudo-random number in python\n",
        "\n",
        "collection_1 = np.random.normal(100, 10, 200)  # mean, standard deviation, value\n",
        "collection_2 = np.random.normal(80, 30, 200)\n",
        "collection_3 = np.random.normal(90, 20, 200)\n",
        "collection_4 = np.random.normal(70, 25, 200)\n",
        "\n",
        "# combine these different collections into a list\n",
        "data_to_plot = [collection_1, collection_2, collection_3, collection_4]\n",
        "\n",
        "# create an axes instance\n",
        "fig = plt.figure()\n",
        "\n",
        "# create an axes instance\n",
        "ax = fig.add_axes([0, 0, 1, 1])  # create the boxplot (Left, bottom, width and height)\n",
        "\n",
        "# create the violinplot\n",
        "bp = ax.violinplot(data_to_plot)\n",
        "fig.savefig('fig1.png', bbox_inches='tight')\n",
        "plt.show()"
      ],
      "execution_count": 2,
      "outputs": [
        {
          "output_type": "display_data",
          "data": {
            "image/png": "[encoded data removed]",
            "text/plain": [
              "<Figure size 432x288 with 1 Axes>"
            ]
          },
          "metadata": {
            "needs_background": "light"
          }
        }
      ]
    },
    {
      "cell_type": "markdown",
      "metadata": {
        "id": "H4Q_2lQHRTuS"
      },
      "source": [
        "#### **Reference**\n",
        "\n",
        "- https://www.youtube.com/watch?v=d_SVA5Lgn98&list=PLzx-_kRo3HZtP3tWaieUPwAh9K4I00_6p&index=56"
      ]
    }
  ]
}