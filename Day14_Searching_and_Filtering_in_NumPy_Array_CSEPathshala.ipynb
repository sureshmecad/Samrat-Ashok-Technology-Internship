{
  "nbformat": 4,
  "nbformat_minor": 0,
  "metadata": {
    "colab": {
      "name": "Day14_Searching and Filtering in NumPy Array_CSEPathshala.ipynb",
      "provenance": [],
      "collapsed_sections": [],
      "authorship_tag": "ABX9TyNDRYUx6fxIUJDyX23Vhhgt",
      "include_colab_link": true
    },
    "kernelspec": {
      "name": "python3",
      "display_name": "Python 3"
    },
    "language_info": {
      "name": "python"
    }
  },
  "cells": [
    {
      "cell_type": "markdown",
      "metadata": {
        "id": "view-in-github",
        "colab_type": "text"
      },
      "source": [
        "<a href=\"https://colab.research.google.com/github/sureshmecad/Samrat-Ashok-Technology-Internship/blob/main/Day14_Searching_and_Filtering_in_NumPy_Array_CSEPathshala.ipynb\" target=\"_parent\"><img src=\"https://colab.research.google.com/assets/colab-badge.svg\" alt=\"Open In Colab\"/></a>"
      ]
    },
    {
      "cell_type": "markdown",
      "metadata": {
        "id": "SzZbkLu81wrg"
      },
      "source": [
        "#### **1) Searching Arrays**\n",
        "\n",
        "- We can search an array for a certain value, and return the indexes that get a match. To search an array, use the **where()** method."
      ]
    },
    {
      "cell_type": "markdown",
      "metadata": {
        "id": "mKFhTtAh22vo"
      },
      "source": [
        "##### **Find the indexes where value is 4**"
      ]
    },
    {
      "cell_type": "code",
      "metadata": {
        "id": "tXTXbHNL0gQE"
      },
      "source": [
        "import numpy as np"
      ],
      "execution_count": 1,
      "outputs": []
    },
    {
      "cell_type": "code",
      "metadata": {
        "colab": {
          "base_uri": "https://localhost:8080/"
        },
        "id": "aM14lPmv1b2S",
        "outputId": "dbb0bab1-d126-465d-deb9-bca5c87318e8"
      },
      "source": [
        "arr = np.array([1,2,3,4,5,4,4])\n",
        "\n",
        "x = np.where(arr == 4)\n",
        "print(x)"
      ],
      "execution_count": 2,
      "outputs": [
        {
          "output_type": "stream",
          "name": "stdout",
          "text": [
            "(array([3, 5, 6]),)\n"
          ]
        }
      ]
    },
    {
      "cell_type": "markdown",
      "metadata": {
        "id": "2MZpW_1w4CzB"
      },
      "source": [
        "##### **Find the indexes where values are even**"
      ]
    },
    {
      "cell_type": "code",
      "metadata": {
        "colab": {
          "base_uri": "https://localhost:8080/"
        },
        "id": "SeldfwqL1bwK",
        "outputId": "a41c5587-6239-42f2-b9f8-7629294ea36d"
      },
      "source": [
        "arr = np.array([1,2,3,4,5,6,7,8])\n",
        "\n",
        "x = np.where(arr%2 == 0)\n",
        "print(x)"
      ],
      "execution_count": 3,
      "outputs": [
        {
          "output_type": "stream",
          "name": "stdout",
          "text": [
            "(array([1, 3, 5, 7]),)\n"
          ]
        }
      ]
    },
    {
      "cell_type": "markdown",
      "metadata": {
        "id": "gFPVYgbD4u9R"
      },
      "source": [
        "##### **Find the indexes where values are odd**"
      ]
    },
    {
      "cell_type": "code",
      "metadata": {
        "colab": {
          "base_uri": "https://localhost:8080/"
        },
        "id": "DCSe82xX1brU",
        "outputId": "25c375af-b0ba-4e7e-955d-bf3c108500c0"
      },
      "source": [
        "arr = np.array([1,2,3,4,5,6,7,8])\n",
        "\n",
        "x = np.where(arr%2 == 1)\n",
        "print(x)"
      ],
      "execution_count": 4,
      "outputs": [
        {
          "output_type": "stream",
          "name": "stdout",
          "text": [
            "(array([0, 2, 4, 6]),)\n"
          ]
        }
      ]
    },
    {
      "cell_type": "markdown",
      "metadata": {
        "id": "9TUSU6Uh5HQO"
      },
      "source": [
        "### **2) Search Sorted**"
      ]
    },
    {
      "cell_type": "markdown",
      "metadata": {
        "id": "hnZeUlwh5KvK"
      },
      "source": [
        "- There is a method called **searchsorted()** which performs a binary search in the array, and returns the index where the specified value would be inserted to maintain the search order. The **searchsorted()** method is assumed to be used on sorted arrays."
      ]
    },
    {
      "cell_type": "markdown",
      "metadata": {
        "id": "JM0qrmeb5_BB"
      },
      "source": [
        "##### **Find the indexes where the value 7 should be inserted**"
      ]
    },
    {
      "cell_type": "code",
      "metadata": {
        "colab": {
          "base_uri": "https://localhost:8080/"
        },
        "id": "yqMLEv5n1bqq",
        "outputId": "fe27b7d1-39d7-4a78-e64a-05b314add091"
      },
      "source": [
        "arr = np.array([6,7,8,9])\n",
        "\n",
        "x = np.searchsorted(arr, 7)\n",
        "print(x)"
      ],
      "execution_count": 5,
      "outputs": [
        {
          "output_type": "stream",
          "name": "stdout",
          "text": [
            "1\n"
          ]
        }
      ]
    },
    {
      "cell_type": "markdown",
      "metadata": {
        "id": "XOih3MwS7PfG"
      },
      "source": [
        "#### **2.1) Search from the Right Side**"
      ]
    },
    {
      "cell_type": "markdown",
      "metadata": {
        "id": "Qf4Tp6-k7WT4"
      },
      "source": [
        "- By default the left most index is returned, but we can give side='right' to return the right most index instead."
      ]
    },
    {
      "cell_type": "markdown",
      "metadata": {
        "id": "5b02cso771RA"
      },
      "source": [
        "##### **Find the indexes where the value 7 should be inserted, starting from right**"
      ]
    },
    {
      "cell_type": "code",
      "metadata": {
        "colab": {
          "base_uri": "https://localhost:8080/"
        },
        "id": "r3kWsat_1bnA",
        "outputId": "1cff8ff0-da3c-4b37-f2c3-7c8505ea74cd"
      },
      "source": [
        "arr = np.array([6,7,8,9])\n",
        "\n",
        "x = np.searchsorted(arr, 7, side='right')\n",
        "print(x)"
      ],
      "execution_count": 6,
      "outputs": [
        {
          "output_type": "stream",
          "name": "stdout",
          "text": [
            "2\n"
          ]
        }
      ]
    },
    {
      "cell_type": "markdown",
      "metadata": {
        "id": "nAlgKTUd8oRi"
      },
      "source": [
        "#### **2.2) Multiple Values**\n",
        "\n",
        "- To search for more than one value, use an array with the specified values."
      ]
    },
    {
      "cell_type": "markdown",
      "metadata": {
        "id": "-elkGNCW88eW"
      },
      "source": [
        "##### **Find the indexes where the values 2,4 and 6 should be inserted**"
      ]
    },
    {
      "cell_type": "code",
      "metadata": {
        "colab": {
          "base_uri": "https://localhost:8080/"
        },
        "id": "_IeLuw5d8gFk",
        "outputId": "e3ac003c-dec2-44cc-c608-61846721e517"
      },
      "source": [
        "arr = np.array([1,3,5,7])\n",
        "\n",
        "x = np.searchsorted(arr, [2,4,6])\n",
        "print(x)"
      ],
      "execution_count": 7,
      "outputs": [
        {
          "output_type": "stream",
          "name": "stdout",
          "text": [
            "[1 2 3]\n"
          ]
        }
      ]
    },
    {
      "cell_type": "markdown",
      "metadata": {
        "id": "dwAhrqQ4-2S2"
      },
      "source": [
        "- The return value is an array [1,2,3] containing the three indexes where 2,4,6 would be inserted in the original array to maintain the order."
      ]
    },
    {
      "cell_type": "markdown",
      "metadata": {
        "id": "4wFFra93_PXt"
      },
      "source": [
        "### **3) NumPy Filter Array**"
      ]
    },
    {
      "cell_type": "markdown",
      "metadata": {
        "id": "3tJVvEiB_Wnl"
      },
      "source": [
        "- Getting some elements out of an existing array and creating a new array out of them is called filtering. In NumPy, we filter an array a boolean index list.\n",
        "\n",
        "- A boolean index list is a list of booleans corresponding to indexes in the array.\n",
        "\n",
        "- If the value at an index is True that element is contained in the filtered array.\n",
        "\n",
        "- If the value at that index is False that element is excluded from the filtered copy."
      ]
    },
    {
      "cell_type": "markdown",
      "metadata": {
        "id": "s2KuFzhRAl2v"
      },
      "source": [
        "**create an array from the elements on index 0 and 2**"
      ]
    },
    {
      "cell_type": "code",
      "metadata": {
        "colab": {
          "base_uri": "https://localhost:8080/"
        },
        "id": "aRryeZkP8fmU",
        "outputId": "4d774d54-9b73-43d8-b661-e4f833b9da3d"
      },
      "source": [
        "arr = np.array([41,42,43,44])\n",
        "\n",
        "x = [True, False, True, False]\n",
        "newarr = arr[x]\n",
        "print(newarr)"
      ],
      "execution_count": 8,
      "outputs": [
        {
          "output_type": "stream",
          "name": "stdout",
          "text": [
            "[41 43]\n"
          ]
        }
      ]
    },
    {
      "cell_type": "markdown",
      "metadata": {
        "id": "RkdmNJXxB457"
      },
      "source": [
        "#### **Creating the Filter Array**\n",
        "\n",
        "- In the example above we hard-coded the True and False values, but the common use is to create a filter array based on conditions."
      ]
    },
    {
      "cell_type": "markdown",
      "metadata": {
        "id": "73ZnHta2Cghz"
      },
      "source": [
        "##### **Create a filter array that will return only values higher than 42** "
      ]
    },
    {
      "cell_type": "code",
      "metadata": {
        "colab": {
          "base_uri": "https://localhost:8080/"
        },
        "id": "U6JXFVhU8fgT",
        "outputId": "c5ed72e8-649b-4e46-b1b1-e0f89ff638b5"
      },
      "source": [
        "arr = np.array([41,42,43,44])\n",
        "\n",
        "filter_arr = []\n",
        "\n",
        "for element in arr:\n",
        "  if element > 42:\n",
        "    filter_arr.append(True)\n",
        "  else:\n",
        "    filter_arr.append(False)\n",
        "\n",
        "newarr = arr[filter_arr]\n",
        "\n",
        "print(filter_arr)\n",
        "print(newarr)"
      ],
      "execution_count": 9,
      "outputs": [
        {
          "output_type": "stream",
          "name": "stdout",
          "text": [
            "[False, False, True, True]\n",
            "[43 44]\n"
          ]
        }
      ]
    },
    {
      "cell_type": "markdown",
      "metadata": {
        "id": "3X45rcE4EivR"
      },
      "source": [
        "##### **Create a filter array that will return only even elements from the original array**"
      ]
    },
    {
      "cell_type": "code",
      "metadata": {
        "colab": {
          "base_uri": "https://localhost:8080/"
        },
        "id": "-3tNkAvQ8fb3",
        "outputId": "ed20fe44-6eed-40e2-fee9-16d203747d40"
      },
      "source": [
        "arr = np.array([1,2,3,4,5,6,7])\n",
        "\n",
        "filter_arr = []\n",
        "\n",
        "for element in arr:\n",
        "  if element %2 == 0:\n",
        "    filter_arr.append(True)\n",
        "  else:\n",
        "    filter_arr.append(False)\n",
        "\n",
        "newarr = arr[filter_arr]\n",
        "\n",
        "print(filter_arr)\n",
        "print(newarr)"
      ],
      "execution_count": 10,
      "outputs": [
        {
          "output_type": "stream",
          "name": "stdout",
          "text": [
            "[False, True, False, True, False, True, False]\n",
            "[2 4 6]\n"
          ]
        }
      ]
    },
    {
      "cell_type": "markdown",
      "metadata": {
        "id": "A_DXFSX2FmOQ"
      },
      "source": [
        "#### **Creating Filter Directly From Array**\n",
        "\n",
        "- The above example is a quite common task in NumPy and NumPy provides a nice way to tackle it. We can directly substitute the array instead of the iterable variable in our condition and it will work just as we expect it to."
      ]
    },
    {
      "cell_type": "markdown",
      "metadata": {
        "id": "rEVRp-yqGV9B"
      },
      "source": [
        "##### **Create a filter array that will return only values higher than 42**"
      ]
    },
    {
      "cell_type": "code",
      "metadata": {
        "colab": {
          "base_uri": "https://localhost:8080/"
        },
        "id": "T-2e4bNu8fbE",
        "outputId": "a60192cf-bf64-4275-eb68-c5204c43abe5"
      },
      "source": [
        "arr = np.array([41,42,43,44])\n",
        "\n",
        "filter_arr = arr > 42\n",
        "newarr = arr[filter_arr]\n",
        "\n",
        "print(filter_arr)\n",
        "print(newarr)"
      ],
      "execution_count": 11,
      "outputs": [
        {
          "output_type": "stream",
          "name": "stdout",
          "text": [
            "[False False  True  True]\n",
            "[43 44]\n"
          ]
        }
      ]
    },
    {
      "cell_type": "markdown",
      "metadata": {
        "id": "_3SeqdpRHOUt"
      },
      "source": [
        "##### **Create a filter array that will return only even elements from the original array**"
      ]
    },
    {
      "cell_type": "code",
      "metadata": {
        "colab": {
          "base_uri": "https://localhost:8080/"
        },
        "id": "wp6t5GHxHcYt",
        "outputId": "af787781-70de-42ed-c5c1-efeb38e1e763"
      },
      "source": [
        "arr = np.array([1,2,3,4,5,6,7])\n",
        "\n",
        "filter_arr = arr %2 == 0\n",
        "newarr = arr[filter_arr]\n",
        "\n",
        "print(filter_arr)\n",
        "print(newarr)"
      ],
      "execution_count": 12,
      "outputs": [
        {
          "output_type": "stream",
          "name": "stdout",
          "text": [
            "[False  True False  True False  True False]\n",
            "[2 4 6]\n"
          ]
        }
      ]
    },
    {
      "cell_type": "markdown",
      "metadata": {
        "id": "4qdSvGzm0ozS"
      },
      "source": [
        "### **Reference**\n",
        "\n",
        "- https://www.youtube.com/watch?v=FWhWg_NF-q4&list=PLzx-_kRo3HZtP3tWaieUPwAh9K4I00_6p&index=14"
      ]
    }
  ]
}