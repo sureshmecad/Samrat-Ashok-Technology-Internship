{
  "nbformat": 4,
  "nbformat_minor": 0,
  "metadata": {
    "colab": {
      "name": "Day33_Classes and Objects_CSEPathshala.ipynb",
      "provenance": [],
      "collapsed_sections": [],
      "authorship_tag": "ABX9TyNr5lvm6QOfrYoOZqHw5hsw",
      "include_colab_link": true
    },
    "kernelspec": {
      "name": "python3",
      "display_name": "Python 3"
    },
    "language_info": {
      "name": "python"
    }
  },
  "cells": [
    {
      "cell_type": "markdown",
      "metadata": {
        "id": "view-in-github",
        "colab_type": "text"
      },
      "source": [
        "<a href=\"https://colab.research.google.com/github/sureshmecad/Samrat-Ashok-Technology-Internship/blob/main/Day33_Classes_and_Objects_CSEPathshala.ipynb\" target=\"_parent\"><img src=\"https://colab.research.google.com/assets/colab-badge.svg\" alt=\"Open In Colab\"/></a>"
      ]
    },
    {
      "cell_type": "code",
      "metadata": {
        "colab": {
          "base_uri": "https://localhost:8080/"
        },
        "id": "W35G33ijfGYc",
        "outputId": "61d02567-4bbc-4a2a-b0b8-a6fb62684154"
      },
      "source": [
        "class college:\n",
        "  def __init__(self, id, branch):\n",
        "    self.stuid = id\n",
        "    self.branch = branch\n",
        "\n",
        "student1 = college('stu101', 'computer science')\n",
        "\n",
        "print(student1.stuid)\n",
        "print(student1.branch)"
      ],
      "execution_count": 2,
      "outputs": [
        {
          "output_type": "stream",
          "name": "stdout",
          "text": [
            "stu101\n",
            "computer science\n"
          ]
        }
      ]
    },
    {
      "cell_type": "code",
      "metadata": {
        "colab": {
          "base_uri": "https://localhost:8080/"
        },
        "id": "P3F0O0rxvCM_",
        "outputId": "355a864c-6576-4e43-ee0d-4ac4ef75ea56"
      },
      "source": [
        "class student:\n",
        "  def __init__(self, first_name, last_name):\n",
        "    self.fname = first_name\n",
        "    self.lname = last_name\n",
        "\n",
        "s1 = student('Shreya', 'Roy')\n",
        "\n",
        "print(s1.fname)\n",
        "print(s1.lname)"
      ],
      "execution_count": 3,
      "outputs": [
        {
          "output_type": "stream",
          "name": "stdout",
          "text": [
            "Shreya\n",
            "Roy\n"
          ]
        }
      ]
    },
    {
      "cell_type": "code",
      "metadata": {
        "colab": {
          "base_uri": "https://localhost:8080/"
        },
        "id": "usIFUjHCwhXE",
        "outputId": "a786b7bd-1d9c-44bf-f63b-e3392dbe5a57"
      },
      "source": [
        "# changing the attribute\n",
        "s1.fname = 'kriti'\n",
        "print(s1.fname)"
      ],
      "execution_count": 4,
      "outputs": [
        {
          "output_type": "stream",
          "name": "stdout",
          "text": [
            "kriti\n"
          ]
        }
      ]
    },
    {
      "cell_type": "code",
      "metadata": {
        "colab": {
          "base_uri": "https://localhost:8080/"
        },
        "id": "XOu9-o-cw1bJ",
        "outputId": "76d39e9e-1f5d-4abe-eaa6-089ddae23089"
      },
      "source": [
        "s1.fname = 'Rohit'\n",
        "s1.lname = 'sen'\n",
        "\n",
        "print(s1.fname)\n",
        "print(s1.lname)"
      ],
      "execution_count": 5,
      "outputs": [
        {
          "output_type": "stream",
          "name": "stdout",
          "text": [
            "Rohit\n",
            "sen\n"
          ]
        }
      ]
    },
    {
      "cell_type": "code",
      "metadata": {
        "id": "xGzPZwbNxYpo"
      },
      "source": [
        "del s1.fname"
      ],
      "execution_count": 6,
      "outputs": []
    },
    {
      "cell_type": "code",
      "metadata": {
        "colab": {
          "base_uri": "https://localhost:8080/",
          "height": 163
        },
        "id": "MkiktzWaxYlS",
        "outputId": "a4052dd6-8fef-403d-98eb-9f0393463a4e"
      },
      "source": [
        "print(s1.fname)"
      ],
      "execution_count": 7,
      "outputs": [
        {
          "output_type": "error",
          "ename": "AttributeError",
          "evalue": "ignored",
          "traceback": [
            "\u001b[0;31m---------------------------------------------------------------------------\u001b[0m",
            "\u001b[0;31mAttributeError\u001b[0m                            Traceback (most recent call last)",
            "\u001b[0;32m<ipython-input-7-b5000f387d9e>\u001b[0m in \u001b[0;36m<module>\u001b[0;34m()\u001b[0m\n\u001b[0;32m----> 1\u001b[0;31m \u001b[0mprint\u001b[0m\u001b[0;34m(\u001b[0m\u001b[0ms1\u001b[0m\u001b[0;34m.\u001b[0m\u001b[0mfname\u001b[0m\u001b[0;34m)\u001b[0m\u001b[0;34m\u001b[0m\u001b[0;34m\u001b[0m\u001b[0m\n\u001b[0m",
            "\u001b[0;31mAttributeError\u001b[0m: 'student' object has no attribute 'fname'"
          ]
        }
      ]
    },
    {
      "cell_type": "code",
      "metadata": {
        "colab": {
          "base_uri": "https://localhost:8080/"
        },
        "id": "tmSGCAKFxYg5",
        "outputId": "06c63380-27ea-4a8d-8eae-7acd2d399f8d"
      },
      "source": [
        "print(s1.lname)"
      ],
      "execution_count": 8,
      "outputs": [
        {
          "output_type": "stream",
          "name": "stdout",
          "text": [
            "sen\n"
          ]
        }
      ]
    },
    {
      "cell_type": "code",
      "metadata": {
        "id": "1urZ5SgPxpdl"
      },
      "source": [
        "del s1"
      ],
      "execution_count": 9,
      "outputs": []
    },
    {
      "cell_type": "code",
      "metadata": {
        "colab": {
          "base_uri": "https://localhost:8080/",
          "height": 163
        },
        "id": "mXzgrvq_xpYy",
        "outputId": "88349e22-6c25-4e32-84a9-46f17c4709fe"
      },
      "source": [
        "print(s1.fname)"
      ],
      "execution_count": 10,
      "outputs": [
        {
          "output_type": "error",
          "ename": "NameError",
          "evalue": "ignored",
          "traceback": [
            "\u001b[0;31m---------------------------------------------------------------------------\u001b[0m",
            "\u001b[0;31mNameError\u001b[0m                                 Traceback (most recent call last)",
            "\u001b[0;32m<ipython-input-10-b5000f387d9e>\u001b[0m in \u001b[0;36m<module>\u001b[0;34m()\u001b[0m\n\u001b[0;32m----> 1\u001b[0;31m \u001b[0mprint\u001b[0m\u001b[0;34m(\u001b[0m\u001b[0ms1\u001b[0m\u001b[0;34m.\u001b[0m\u001b[0mfname\u001b[0m\u001b[0;34m)\u001b[0m\u001b[0;34m\u001b[0m\u001b[0;34m\u001b[0m\u001b[0m\n\u001b[0m",
            "\u001b[0;31mNameError\u001b[0m: name 's1' is not defined"
          ]
        }
      ]
    },
    {
      "cell_type": "code",
      "metadata": {
        "id": "bvnnb4KjyDl_"
      },
      "source": [
        "class Circle(object):\n",
        "  pi = 3.14159\n",
        "\n",
        "  def __init__(self, radius):\n",
        "    self.radius = radius\n",
        "\n",
        "  def area(self):\n",
        "    return Circle.pi * self.radius * self.radius"
      ],
      "execution_count": 11,
      "outputs": []
    },
    {
      "cell_type": "code",
      "metadata": {
        "colab": {
          "base_uri": "https://localhost:8080/"
        },
        "id": "TXVih7cJyE6o",
        "outputId": "cc3e933e-ac13-4d94-ad72-8004b61d73d1"
      },
      "source": [
        "c = Circle(10)\n",
        "c.pi"
      ],
      "execution_count": 12,
      "outputs": [
        {
          "output_type": "execute_result",
          "data": {
            "text/plain": [
              "3.14159"
            ]
          },
          "metadata": {},
          "execution_count": 12
        }
      ]
    },
    {
      "cell_type": "code",
      "metadata": {
        "colab": {
          "base_uri": "https://localhost:8080/"
        },
        "id": "36h6fcWGyEyG",
        "outputId": "73f6f482-f4ac-424c-ccfc-0001349579c5"
      },
      "source": [
        "c.area()"
      ],
      "execution_count": 13,
      "outputs": [
        {
          "output_type": "execute_result",
          "data": {
            "text/plain": [
              "314.159"
            ]
          },
          "metadata": {},
          "execution_count": 13
        }
      ]
    },
    {
      "cell_type": "code",
      "metadata": {
        "id": "K65yKDbG1OSB"
      },
      "source": [
        "# class definitions cannot be empty, but if you for some reason have a class definition with no content, put in the pass statement to avoid getting an error\n",
        "# for example\n",
        "\n",
        "class student:\n",
        "  pass\n",
        "\n",
        "# so to avoid compilation errors, you can use the pass statement"
      ],
      "execution_count": 14,
      "outputs": []
    },
    {
      "cell_type": "code",
      "metadata": {
        "id": "pycGz7zs1OHZ"
      },
      "source": [
        "def addition(num1, num2):\n",
        "  # implementation will go here\n",
        "  pass # pass statement\n",
        "\n",
        "addition(2, 2)"
      ],
      "execution_count": 15,
      "outputs": []
    },
    {
      "cell_type": "markdown",
      "metadata": {
        "id": "wRh6U32e3_9D"
      },
      "source": [
        "----------------------------"
      ]
    },
    {
      "cell_type": "markdown",
      "metadata": {
        "id": "KZ9EG5lv6Sil"
      },
      "source": [
        " #### Both gives same output\n",
        " \n",
        "     class person:\n",
        "       def __init__(self, name):\n",
        "         self.name = name\n",
        "\n",
        "       def display(self):\n",
        "         print(\"hello\", self.name)\n",
        "\n",
        "     person1 = person(\"amul\")\n",
        "     person1.display()\n",
        "\n",
        "-------------------------------------------------\n",
        "\n",
        "     class person:\n",
        "       def __init__(self, name):\n",
        "         self.name = name\n",
        "\n",
        "       def display(self):\n",
        "         print(\"hello\", self.name)\n",
        "\n",
        "     person(\"amul\").display()\n"
      ]
    },
    {
      "cell_type": "code",
      "metadata": {
        "colab": {
          "base_uri": "https://localhost:8080/"
        },
        "id": "O_b2rZEi4A7h",
        "outputId": "a949c8e0-1f81-4ebe-d7c2-6dbdd2d0ece7"
      },
      "source": [
        "class person:\n",
        "  def __init__(self, name):\n",
        "    self.name = name\n",
        "\n",
        "  def display(self):\n",
        "    print(\"hello\", self.name)\n",
        "\n",
        "person1 = person(\"amul\")\n",
        "person1.display()"
      ],
      "execution_count": 16,
      "outputs": [
        {
          "output_type": "stream",
          "name": "stdout",
          "text": [
            "hello amul\n"
          ]
        }
      ]
    },
    {
      "cell_type": "code",
      "metadata": {
        "colab": {
          "base_uri": "https://localhost:8080/"
        },
        "id": "m_CS6oeQ5yzu",
        "outputId": "f7e7ef5d-8906-43c0-bc84-74b1450d1730"
      },
      "source": [
        "class person:\n",
        "  def __init__(self, name):\n",
        "    self.name = name\n",
        "\n",
        "  def display(self):\n",
        "    print(\"hello\", self.name)\n",
        "\n",
        "person(\"amul\").display()"
      ],
      "execution_count": 18,
      "outputs": [
        {
          "output_type": "stream",
          "name": "stdout",
          "text": [
            "hello amul\n"
          ]
        }
      ]
    },
    {
      "cell_type": "code",
      "metadata": {
        "colab": {
          "base_uri": "https://localhost:8080/"
        },
        "id": "6gVooZY_5Ti3",
        "outputId": "e55fba2b-2cb5-4863-bf05-10861228eb8a"
      },
      "source": [
        "class person:\n",
        "  def __init__(self, name):\n",
        "    self.name = name\n",
        "    name = \"john\"\n",
        "    print(name)\n",
        "\n",
        "  def display(self):\n",
        "    print(\"hello\", self.name)\n",
        "\n",
        "person1 = person(\"amul\")\n",
        "person1.display()"
      ],
      "execution_count": 17,
      "outputs": [
        {
          "output_type": "stream",
          "name": "stdout",
          "text": [
            "john\n",
            "hello amul\n"
          ]
        }
      ]
    },
    {
      "cell_type": "markdown",
      "metadata": {
        "id": "PbTOCINf5iT2"
      },
      "source": [
        "#### **Reference**\n",
        "\n",
        "- https://www.youtube.com/watch?v=4LUUW5-_oHA\n",
        "\n",
        "- https://www.youtube.com/watch?v=yCH9CUiXrP0"
      ]
    }
  ]
}