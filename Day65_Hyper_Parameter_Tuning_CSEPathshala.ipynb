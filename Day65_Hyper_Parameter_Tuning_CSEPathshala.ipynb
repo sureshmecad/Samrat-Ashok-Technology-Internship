{
  "nbformat": 4,
  "nbformat_minor": 0,
  "metadata": {
    "colab": {
      "name": "Day65_Hyper Parameter Tuning_CSEPathshala.ipynb",
      "provenance": [],
      "collapsed_sections": [],
      "authorship_tag": "ABX9TyMZeKmGo6EGZx0ctOSU++2l",
      "include_colab_link": true
    },
    "kernelspec": {
      "name": "python3",
      "display_name": "Python 3"
    },
    "language_info": {
      "name": "python"
    }
  },
  "cells": [
    {
      "cell_type": "markdown",
      "metadata": {
        "id": "view-in-github",
        "colab_type": "text"
      },
      "source": [
        "<a href=\"https://colab.research.google.com/github/sureshmecad/Samrat-Ashok-Technology-Internship/blob/main/Day65_Hyper_Parameter_Tuning_CSEPathshala.ipynb\" target=\"_parent\"><img src=\"https://colab.research.google.com/assets/colab-badge.svg\" alt=\"Open In Colab\"/></a>"
      ]
    },
    {
      "cell_type": "markdown",
      "metadata": {
        "id": "oGPZZrRv3QUt"
      },
      "source": [
        "### **Hyper Parameter Tuning**"
      ]
    },
    {
      "cell_type": "markdown",
      "metadata": {
        "id": "pp61hv2z4Yvm"
      },
      "source": [
        "- **Grid Search** is a tuning technique that attempts compute the optimum values of hyperparameter.\n",
        "\n",
        "- It is an exhaustive search that is performed on the specific parameter values of a model. The model is also known as estimator.\n",
        "\n",
        "- Grid search is great for spot-checking combinations that are known to perform well generally."
      ]
    },
    {
      "cell_type": "code",
      "metadata": {
        "id": "vrM6gC-Lyl0a"
      },
      "source": [
        "from sklearn import neighbors, datasets, metrics\n",
        "from sklearn.model_selection import GridSearchCV"
      ],
      "execution_count": 1,
      "outputs": []
    },
    {
      "cell_type": "code",
      "metadata": {
        "id": "tq14Oje6zv6u"
      },
      "source": [
        "X,y = datasets.load_iris(return_X_y=True)"
      ],
      "execution_count": 2,
      "outputs": []
    },
    {
      "cell_type": "code",
      "metadata": {
        "id": "V-weItpvzvzf"
      },
      "source": [
        "X_train = X[range(0,150,2), :]\n",
        "y_train = y[range(0,150,2)]\n",
        "\n",
        "X_test = X[range(1,150,2), :]\n",
        "y_test = y[range(1,150,2)]"
      ],
      "execution_count": 3,
      "outputs": []
    },
    {
      "cell_type": "code",
      "metadata": {
        "colab": {
          "base_uri": "https://localhost:8080/"
        },
        "id": "krmvz-p3zvlG",
        "outputId": "ba148987-595f-4c73-f2b3-a78a83f041d2"
      },
      "source": [
        "classifier = neighbors.KNeighborsClassifier()\n",
        "\n",
        "param_grid = {'n_neighbors': [1,5,10,15], 'weights': ['uniform', 'distance'], 'metric': ['euclidean', 'manhattan']}\n",
        "\n",
        "clf = GridSearchCV(classifier, param_grid, cv=5)\n",
        "clf.fit(X_train, y_train)"
      ],
      "execution_count": 4,
      "outputs": [
        {
          "output_type": "execute_result",
          "data": {
            "text/plain": [
              "GridSearchCV(cv=5, error_score=nan,\n",
              "             estimator=KNeighborsClassifier(algorithm='auto', leaf_size=30,\n",
              "                                            metric='minkowski',\n",
              "                                            metric_params=None, n_jobs=None,\n",
              "                                            n_neighbors=5, p=2,\n",
              "                                            weights='uniform'),\n",
              "             iid='deprecated', n_jobs=None,\n",
              "             param_grid={'metric': ['euclidean', 'manhattan'],\n",
              "                         'n_neighbors': [1, 5, 10, 15],\n",
              "                         'weights': ['uniform', 'distance']},\n",
              "             pre_dispatch='2*n_jobs', refit=True, return_train_score=False,\n",
              "             scoring=None, verbose=0)"
            ]
          },
          "metadata": {},
          "execution_count": 4
        }
      ]
    },
    {
      "cell_type": "code",
      "metadata": {
        "colab": {
          "base_uri": "https://localhost:8080/"
        },
        "id": "RMgBJt_gzvg6",
        "outputId": "6071bf38-e7f5-48e7-8416-dc5738abe20a"
      },
      "source": [
        "clf.best_params_"
      ],
      "execution_count": 5,
      "outputs": [
        {
          "output_type": "execute_result",
          "data": {
            "text/plain": [
              "{'metric': 'euclidean', 'n_neighbors': 5, 'weights': 'uniform'}"
            ]
          },
          "metadata": {},
          "execution_count": 5
        }
      ]
    },
    {
      "cell_type": "code",
      "metadata": {
        "colab": {
          "base_uri": "https://localhost:8080/"
        },
        "id": "2Gr2UUTbzvb-",
        "outputId": "9507d800-3ecf-4303-9da5-c1aa548dadfc"
      },
      "source": [
        "prediction = clf.predict(X_test)\n",
        "prediction"
      ],
      "execution_count": 6,
      "outputs": [
        {
          "output_type": "execute_result",
          "data": {
            "text/plain": [
              "array([0, 0, 0, 0, 0, 0, 0, 0, 0, 0, 0, 0, 0, 0, 0, 0, 0, 0, 0, 0, 0, 0,\n",
              "       0, 0, 0, 1, 1, 1, 1, 1, 1, 1, 1, 1, 1, 1, 1, 1, 1, 1, 1, 2, 1, 1,\n",
              "       1, 1, 1, 1, 1, 1, 2, 2, 2, 2, 2, 2, 2, 2, 2, 2, 2, 2, 2, 2, 2, 2,\n",
              "       2, 2, 2, 2, 2, 2, 2, 2, 2])"
            ]
          },
          "metadata": {},
          "execution_count": 6
        }
      ]
    },
    {
      "cell_type": "code",
      "metadata": {
        "colab": {
          "base_uri": "https://localhost:8080/"
        },
        "id": "ck0_BQrCzvWf",
        "outputId": "f2e74709-9ed5-40b0-c851-a3718d0807f4"
      },
      "source": [
        "print(\"\\nAccuracy score :-\\n\", metrics.accuracy_score(y_test, prediction, normalize=True))\n",
        "print(\"\\nClassification report :-\\n\", metrics.classification_report(y_test, prediction))\n",
        "print(\"\\nConfusion Matrix :-\\n\", metrics.confusion_matrix(y_test, prediction))"
      ],
      "execution_count": 7,
      "outputs": [
        {
          "output_type": "stream",
          "name": "stdout",
          "text": [
            "\n",
            "Accuracy score :-\n",
            " 0.9866666666666667\n",
            "\n",
            "Classification report :-\n",
            "               precision    recall  f1-score   support\n",
            "\n",
            "           0       1.00      1.00      1.00        25\n",
            "           1       1.00      0.96      0.98        25\n",
            "           2       0.96      1.00      0.98        25\n",
            "\n",
            "    accuracy                           0.99        75\n",
            "   macro avg       0.99      0.99      0.99        75\n",
            "weighted avg       0.99      0.99      0.99        75\n",
            "\n",
            "\n",
            "Confusion Matrix :-\n",
            " [[25  0  0]\n",
            " [ 0 24  1]\n",
            " [ 0  0 25]]\n"
          ]
        }
      ]
    },
    {
      "cell_type": "markdown",
      "metadata": {
        "id": "FhdRGzvbyzy7"
      },
      "source": [
        "### **Reference**"
      ]
    },
    {
      "cell_type": "markdown",
      "metadata": {
        "id": "byzURryky2Za"
      },
      "source": [
        "- https://www.youtube.com/watch?v=rFr5Z9pshVo&list=PLzx-_kRo3HZtP3tWaieUPwAh9K4I00_6p&index=65"
      ]
    }
  ]
}