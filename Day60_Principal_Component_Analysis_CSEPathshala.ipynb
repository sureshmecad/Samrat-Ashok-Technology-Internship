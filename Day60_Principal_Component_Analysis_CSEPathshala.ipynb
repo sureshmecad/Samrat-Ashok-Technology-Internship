{
  "nbformat": 4,
  "nbformat_minor": 0,
  "metadata": {
    "colab": {
      "name": "Day60_Principal Component Analysis_CSEPathshala.ipynb",
      "provenance": [],
      "collapsed_sections": [],
      "authorship_tag": "ABX9TyN1H6z6NcYQq+gYjkniUxeW",
      "include_colab_link": true
    },
    "kernelspec": {
      "name": "python3",
      "display_name": "Python 3"
    },
    "language_info": {
      "name": "python"
    }
  },
  "cells": [
    {
      "cell_type": "markdown",
      "metadata": {
        "id": "view-in-github",
        "colab_type": "text"
      },
      "source": [
        "<a href=\"https://colab.research.google.com/github/sureshmecad/Samrat-Ashok-Technology-Internship/blob/main/Day60_Principal_Component_Analysis_CSEPathshala.ipynb\" target=\"_parent\"><img src=\"https://colab.research.google.com/assets/colab-badge.svg\" alt=\"Open In Colab\"/></a>"
      ]
    },
    {
      "cell_type": "code",
      "metadata": {
        "id": "PFNzoSvWecSz"
      },
      "source": [
        "import numpy as np\n",
        "import pandas as pd"
      ],
      "execution_count": 1,
      "outputs": []
    },
    {
      "cell_type": "code",
      "metadata": {
        "id": "szQ9KQnie8gr"
      },
      "source": [
        "A = np.matrix([[1,2,3,4],\n",
        "               [5,5,6,7],\n",
        "               [1,4,2,3],\n",
        "               [5,3,2,3],\n",
        "               [8,1,2,2]])"
      ],
      "execution_count": 2,
      "outputs": []
    },
    {
      "cell_type": "code",
      "metadata": {
        "colab": {
          "base_uri": "https://localhost:8080/",
          "height": 204
        },
        "id": "DRKnTCbqe8cy",
        "outputId": "4ecb3d47-7fd9-40c1-af9e-fda8e255d3a4"
      },
      "source": [
        "df = pd.DataFrame(A, columns=['f1', 'f2', 'f3', 'f4'])\n",
        "df"
      ],
      "execution_count": 3,
      "outputs": [
        {
          "output_type": "execute_result",
          "data": {
            "text/html": [
              "<div>\n",
              "<style scoped>\n",
              "    .dataframe tbody tr th:only-of-type {\n",
              "        vertical-align: middle;\n",
              "    }\n",
              "\n",
              "    .dataframe tbody tr th {\n",
              "        vertical-align: top;\n",
              "    }\n",
              "\n",
              "    .dataframe thead th {\n",
              "        text-align: right;\n",
              "    }\n",
              "</style>\n",
              "<table border=\"1\" class=\"dataframe\">\n",
              "  <thead>\n",
              "    <tr style=\"text-align: right;\">\n",
              "      <th></th>\n",
              "      <th>f1</th>\n",
              "      <th>f2</th>\n",
              "      <th>f3</th>\n",
              "      <th>f4</th>\n",
              "    </tr>\n",
              "  </thead>\n",
              "  <tbody>\n",
              "    <tr>\n",
              "      <th>0</th>\n",
              "      <td>1</td>\n",
              "      <td>2</td>\n",
              "      <td>3</td>\n",
              "      <td>4</td>\n",
              "    </tr>\n",
              "    <tr>\n",
              "      <th>1</th>\n",
              "      <td>5</td>\n",
              "      <td>5</td>\n",
              "      <td>6</td>\n",
              "      <td>7</td>\n",
              "    </tr>\n",
              "    <tr>\n",
              "      <th>2</th>\n",
              "      <td>1</td>\n",
              "      <td>4</td>\n",
              "      <td>2</td>\n",
              "      <td>3</td>\n",
              "    </tr>\n",
              "    <tr>\n",
              "      <th>3</th>\n",
              "      <td>5</td>\n",
              "      <td>3</td>\n",
              "      <td>2</td>\n",
              "      <td>3</td>\n",
              "    </tr>\n",
              "    <tr>\n",
              "      <th>4</th>\n",
              "      <td>8</td>\n",
              "      <td>1</td>\n",
              "      <td>2</td>\n",
              "      <td>2</td>\n",
              "    </tr>\n",
              "  </tbody>\n",
              "</table>\n",
              "</div>"
            ],
            "text/plain": [
              "   f1  f2  f3  f4\n",
              "0   1   2   3   4\n",
              "1   5   5   6   7\n",
              "2   1   4   2   3\n",
              "3   5   3   2   3\n",
              "4   8   1   2   2"
            ]
          },
          "metadata": {},
          "execution_count": 3
        }
      ]
    },
    {
      "cell_type": "code",
      "metadata": {
        "colab": {
          "base_uri": "https://localhost:8080/",
          "height": 204
        },
        "id": "ANFPkVote8WV",
        "outputId": "f3f5e124-007a-405c-b2b8-7a78c08082b5"
      },
      "source": [
        "df_std = (df-df.mean()) / (df.std())\n",
        "df_std"
      ],
      "execution_count": 4,
      "outputs": [
        {
          "output_type": "execute_result",
          "data": {
            "text/html": [
              "<div>\n",
              "<style scoped>\n",
              "    .dataframe tbody tr th:only-of-type {\n",
              "        vertical-align: middle;\n",
              "    }\n",
              "\n",
              "    .dataframe tbody tr th {\n",
              "        vertical-align: top;\n",
              "    }\n",
              "\n",
              "    .dataframe thead th {\n",
              "        text-align: right;\n",
              "    }\n",
              "</style>\n",
              "<table border=\"1\" class=\"dataframe\">\n",
              "  <thead>\n",
              "    <tr style=\"text-align: right;\">\n",
              "      <th></th>\n",
              "      <th>f1</th>\n",
              "      <th>f2</th>\n",
              "      <th>f3</th>\n",
              "      <th>f4</th>\n",
              "    </tr>\n",
              "  </thead>\n",
              "  <tbody>\n",
              "    <tr>\n",
              "      <th>0</th>\n",
              "      <td>-1.000000</td>\n",
              "      <td>-0.632456</td>\n",
              "      <td>0.000000</td>\n",
              "      <td>0.103975</td>\n",
              "    </tr>\n",
              "    <tr>\n",
              "      <th>1</th>\n",
              "      <td>0.333333</td>\n",
              "      <td>1.264911</td>\n",
              "      <td>1.732051</td>\n",
              "      <td>1.663601</td>\n",
              "    </tr>\n",
              "    <tr>\n",
              "      <th>2</th>\n",
              "      <td>-1.000000</td>\n",
              "      <td>0.632456</td>\n",
              "      <td>-0.577350</td>\n",
              "      <td>-0.415900</td>\n",
              "    </tr>\n",
              "    <tr>\n",
              "      <th>3</th>\n",
              "      <td>0.333333</td>\n",
              "      <td>0.000000</td>\n",
              "      <td>-0.577350</td>\n",
              "      <td>-0.415900</td>\n",
              "    </tr>\n",
              "    <tr>\n",
              "      <th>4</th>\n",
              "      <td>1.333333</td>\n",
              "      <td>-1.264911</td>\n",
              "      <td>-0.577350</td>\n",
              "      <td>-0.935775</td>\n",
              "    </tr>\n",
              "  </tbody>\n",
              "</table>\n",
              "</div>"
            ],
            "text/plain": [
              "         f1        f2        f3        f4\n",
              "0 -1.000000 -0.632456  0.000000  0.103975\n",
              "1  0.333333  1.264911  1.732051  1.663601\n",
              "2 -1.000000  0.632456 -0.577350 -0.415900\n",
              "3  0.333333  0.000000 -0.577350 -0.415900\n",
              "4  1.333333 -1.264911 -0.577350 -0.935775"
            ]
          },
          "metadata": {},
          "execution_count": 4
        }
      ]
    },
    {
      "cell_type": "markdown",
      "metadata": {
        "id": "ijcZSAKPnpRY"
      },
      "source": [
        "### **Without Sklearn**"
      ]
    },
    {
      "cell_type": "code",
      "metadata": {
        "colab": {
          "base_uri": "https://localhost:8080/"
        },
        "id": "jtBFFtdye8SD",
        "outputId": "6dfc4189-a19a-41bc-83d8-93201cf231fa"
      },
      "source": [
        "df_cov = np.cov(df_std.T, bias=1)\n",
        "df_cov"
      ],
      "execution_count": 5,
      "outputs": [
        {
          "output_type": "execute_result",
          "data": {
            "text/plain": [
              "array([[ 0.8       , -0.25298221,  0.03849002, -0.10397505],\n",
              "       [-0.25298221,  0.8       ,  0.51120772,  0.59183635],\n",
              "       [ 0.03849002,  0.51120772,  0.8       ,  0.78039029],\n",
              "       [-0.10397505,  0.59183635,  0.78039029,  0.8       ]])"
            ]
          },
          "metadata": {},
          "execution_count": 5
        }
      ]
    },
    {
      "cell_type": "code",
      "metadata": {
        "colab": {
          "base_uri": "https://localhost:8080/"
        },
        "id": "XIEy92Hhe8Oc",
        "outputId": "fe3544e5-9886-4c5c-9392-be71a0568914"
      },
      "source": [
        "cov_mat = np.cov(df_std.T, bias=0)\n",
        "cov_mat"
      ],
      "execution_count": 7,
      "outputs": [
        {
          "output_type": "execute_result",
          "data": {
            "text/plain": [
              "array([[ 1.        , -0.31622777,  0.04811252, -0.12996881],\n",
              "       [-0.31622777,  1.        ,  0.63900965,  0.73979544],\n",
              "       [ 0.04811252,  0.63900965,  1.        ,  0.97548787],\n",
              "       [-0.12996881,  0.73979544,  0.97548787,  1.        ]])"
            ]
          },
          "metadata": {},
          "execution_count": 7
        }
      ]
    },
    {
      "cell_type": "code",
      "metadata": {
        "id": "WIn6J0nVgg8X"
      },
      "source": [
        "eigen_val, eigen_vectors = np.linalg.eig(cov_mat)"
      ],
      "execution_count": 8,
      "outputs": []
    },
    {
      "cell_type": "code",
      "metadata": {
        "colab": {
          "base_uri": "https://localhost:8080/"
        },
        "id": "p-Un4XBTgg1Y",
        "outputId": "fab70540-9ad9-4e6d-8a67-2a294e460b04"
      },
      "source": [
        "print(eigen_val)"
      ],
      "execution_count": 9,
      "outputs": [
        {
          "output_type": "stream",
          "name": "stdout",
          "text": [
            "[2.6084326  1.07278136 0.31307298 0.00571305]\n"
          ]
        }
      ]
    },
    {
      "cell_type": "code",
      "metadata": {
        "colab": {
          "base_uri": "https://localhost:8080/"
        },
        "id": "YfD30s4HggxD",
        "outputId": "2a6bd433-c45d-45d4-d900-947f533b92eb"
      },
      "source": [
        "print(eigen_vectors)"
      ],
      "execution_count": 10,
      "outputs": [
        {
          "output_type": "stream",
          "name": "stdout",
          "text": [
            "[[ 0.13660209 -0.92307013 -0.34467808  0.10236418]\n",
            " [-0.53356824  0.2159777  -0.81375057 -0.08042742]\n",
            " [-0.57488176 -0.29558368  0.36472893 -0.67015973]\n",
            " [-0.60510806 -0.11800617  0.29322317  0.73071126]]\n"
          ]
        }
      ]
    },
    {
      "cell_type": "code",
      "metadata": {
        "id": "OwW6Mnpiggs6"
      },
      "source": [
        "n_components = 3"
      ],
      "execution_count": 11,
      "outputs": []
    },
    {
      "cell_type": "code",
      "metadata": {
        "id": "Q-FcldnAhta9"
      },
      "source": [
        "top_eigen_vectors = eigen_vectors[:, :n_components]"
      ],
      "execution_count": 12,
      "outputs": []
    },
    {
      "cell_type": "code",
      "metadata": {
        "id": "acMlcB8VhtXa"
      },
      "source": [
        "transformed_data = np.matmul(np.array(df_std), top_eigen_vectors)"
      ],
      "execution_count": 13,
      "outputs": []
    },
    {
      "cell_type": "code",
      "metadata": {
        "colab": {
          "base_uri": "https://localhost:8080/",
          "height": 204
        },
        "id": "qvCkUgn4htTO",
        "outputId": "204d96ea-ba17-4d97-d5c7-581ff29e7d7f"
      },
      "source": [
        "pd.DataFrame(data=transformed_data, columns=['principal component ' + str(i+1) for i in range(n_components)])"
      ],
      "execution_count": 14,
      "outputs": [
        {
          "output_type": "execute_result",
          "data": {
            "text/html": [
              "<div>\n",
              "<style scoped>\n",
              "    .dataframe tbody tr th:only-of-type {\n",
              "        vertical-align: middle;\n",
              "    }\n",
              "\n",
              "    .dataframe tbody tr th {\n",
              "        vertical-align: top;\n",
              "    }\n",
              "\n",
              "    .dataframe thead th {\n",
              "        text-align: right;\n",
              "    }\n",
              "</style>\n",
              "<table border=\"1\" class=\"dataframe\">\n",
              "  <thead>\n",
              "    <tr style=\"text-align: right;\">\n",
              "      <th></th>\n",
              "      <th>principal component 1</th>\n",
              "      <th>principal component 2</th>\n",
              "      <th>principal component 3</th>\n",
              "    </tr>\n",
              "  </thead>\n",
              "  <tbody>\n",
              "    <tr>\n",
              "      <th>0</th>\n",
              "      <td>0.137940</td>\n",
              "      <td>0.774204</td>\n",
              "      <td>0.889827</td>\n",
              "    </tr>\n",
              "    <tr>\n",
              "      <th>1</th>\n",
              "      <td>-2.631765</td>\n",
              "      <td>-0.742779</td>\n",
              "      <td>-0.024679</td>\n",
              "    </tr>\n",
              "    <tr>\n",
              "      <th>2</th>\n",
              "      <td>0.109512</td>\n",
              "      <td>1.279401</td>\n",
              "      <td>-0.502511</td>\n",
              "    </tr>\n",
              "    <tr>\n",
              "      <th>3</th>\n",
              "      <td>0.629107</td>\n",
              "      <td>-0.087956</td>\n",
              "      <td>-0.447421</td>\n",
              "    </tr>\n",
              "    <tr>\n",
              "      <th>4</th>\n",
              "      <td>1.755206</td>\n",
              "      <td>-1.222870</td>\n",
              "      <td>0.084784</td>\n",
              "    </tr>\n",
              "  </tbody>\n",
              "</table>\n",
              "</div>"
            ],
            "text/plain": [
              "   principal component 1  principal component 2  principal component 3\n",
              "0               0.137940               0.774204               0.889827\n",
              "1              -2.631765              -0.742779              -0.024679\n",
              "2               0.109512               1.279401              -0.502511\n",
              "3               0.629107              -0.087956              -0.447421\n",
              "4               1.755206              -1.222870               0.084784"
            ]
          },
          "metadata": {},
          "execution_count": 14
        }
      ]
    },
    {
      "cell_type": "markdown",
      "metadata": {
        "id": "HPaGSinZnPBC"
      },
      "source": [
        "-----------------------"
      ]
    },
    {
      "cell_type": "markdown",
      "metadata": {
        "id": "SQ3Nb3v7nhmx"
      },
      "source": [
        "### **Sklearn**"
      ]
    },
    {
      "cell_type": "code",
      "metadata": {
        "colab": {
          "base_uri": "https://localhost:8080/",
          "height": 204
        },
        "id": "VEaTUfzohtPO",
        "outputId": "457b0cad-5eca-4701-93e7-3ab94deb553c"
      },
      "source": [
        "from sklearn.decomposition import PCA\n",
        "\n",
        "pca = PCA(n_components = n_components)\n",
        "principalcomponents = pca.fit_transform(df_std)\n",
        "principaldf = pd.DataFrame(data=principalcomponents, columns=['principal component ' + str(i+1) for i in range(n_components)])\n",
        "principaldf"
      ],
      "execution_count": 19,
      "outputs": [
        {
          "output_type": "execute_result",
          "data": {
            "text/html": [
              "<div>\n",
              "<style scoped>\n",
              "    .dataframe tbody tr th:only-of-type {\n",
              "        vertical-align: middle;\n",
              "    }\n",
              "\n",
              "    .dataframe tbody tr th {\n",
              "        vertical-align: top;\n",
              "    }\n",
              "\n",
              "    .dataframe thead th {\n",
              "        text-align: right;\n",
              "    }\n",
              "</style>\n",
              "<table border=\"1\" class=\"dataframe\">\n",
              "  <thead>\n",
              "    <tr style=\"text-align: right;\">\n",
              "      <th></th>\n",
              "      <th>principal component 1</th>\n",
              "      <th>principal component 2</th>\n",
              "      <th>principal component 3</th>\n",
              "    </tr>\n",
              "  </thead>\n",
              "  <tbody>\n",
              "    <tr>\n",
              "      <th>0</th>\n",
              "      <td>-0.137940</td>\n",
              "      <td>0.774204</td>\n",
              "      <td>0.889827</td>\n",
              "    </tr>\n",
              "    <tr>\n",
              "      <th>1</th>\n",
              "      <td>2.631765</td>\n",
              "      <td>-0.742779</td>\n",
              "      <td>-0.024679</td>\n",
              "    </tr>\n",
              "    <tr>\n",
              "      <th>2</th>\n",
              "      <td>-0.109512</td>\n",
              "      <td>1.279401</td>\n",
              "      <td>-0.502511</td>\n",
              "    </tr>\n",
              "    <tr>\n",
              "      <th>3</th>\n",
              "      <td>-0.629107</td>\n",
              "      <td>-0.087956</td>\n",
              "      <td>-0.447421</td>\n",
              "    </tr>\n",
              "    <tr>\n",
              "      <th>4</th>\n",
              "      <td>-1.755206</td>\n",
              "      <td>-1.222870</td>\n",
              "      <td>0.084784</td>\n",
              "    </tr>\n",
              "  </tbody>\n",
              "</table>\n",
              "</div>"
            ],
            "text/plain": [
              "   principal component 1  principal component 2  principal component 3\n",
              "0              -0.137940               0.774204               0.889827\n",
              "1               2.631765              -0.742779              -0.024679\n",
              "2              -0.109512               1.279401              -0.502511\n",
              "3              -0.629107              -0.087956              -0.447421\n",
              "4              -1.755206              -1.222870               0.084784"
            ]
          },
          "metadata": {},
          "execution_count": 19
        }
      ]
    },
    {
      "cell_type": "markdown",
      "metadata": {
        "id": "TAaLI6ANe3Dc"
      },
      "source": [
        "#### **Reference**\n",
        "\n",
        "- https://www.youtube.com/watch?v=mWzoKXcA_14&list=PLzx-_kRo3HZtP3tWaieUPwAh9K4I00_6p&index=73"
      ]
    }
  ]
}