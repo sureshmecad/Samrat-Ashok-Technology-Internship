{
  "nbformat": 4,
  "nbformat_minor": 0,
  "metadata": {
    "colab": {
      "name": "4_NumPy Array Slicing_CSCPathshala.ipynb",
      "provenance": [],
      "collapsed_sections": [],
      "authorship_tag": "ABX9TyMV+RKE/GkuBxgjvi2pYVje",
      "include_colab_link": true
    },
    "kernelspec": {
      "name": "python3",
      "display_name": "Python 3"
    },
    "language_info": {
      "name": "python"
    }
  },
  "cells": [
    {
      "cell_type": "markdown",
      "metadata": {
        "id": "view-in-github",
        "colab_type": "text"
      },
      "source": [
        "<a href=\"https://colab.research.google.com/github/sureshmecad/Samrat-Ashok-Technology-Internship/blob/main/4_NumPy_Array_Slicing_CSCPathshala.ipynb\" target=\"_parent\"><img src=\"https://colab.research.google.com/assets/colab-badge.svg\" alt=\"Open In Colab\"/></a>"
      ]
    },
    {
      "cell_type": "code",
      "metadata": {
        "id": "l3h3oYprnE6h"
      },
      "source": [
        "import numpy as np"
      ],
      "execution_count": 1,
      "outputs": []
    },
    {
      "cell_type": "markdown",
      "metadata": {
        "id": "eu8OLTDJWIHA"
      },
      "source": [
        "### **Slicing 1d Array**"
      ]
    },
    {
      "cell_type": "markdown",
      "metadata": {
        "id": "L1c1NVNAc8hv"
      },
      "source": [
        "- Slicing in NumPy array is similar to how it works with a python list."
      ]
    },
    {
      "cell_type": "code",
      "metadata": {
        "colab": {
          "base_uri": "https://localhost:8080/"
        },
        "id": "3mrgW0mMxKRU",
        "outputId": "7c18ee05-c89e-4c31-f98b-157527b2636d"
      },
      "source": [
        "list = [1,2,3,4,5]\n",
        "arr = list[1:3]\n",
        "print(arr)"
      ],
      "execution_count": 2,
      "outputs": [
        {
          "output_type": "stream",
          "name": "stdout",
          "text": [
            "[2, 3]\n"
          ]
        }
      ]
    },
    {
      "cell_type": "code",
      "metadata": {
        "colab": {
          "base_uri": "https://localhost:8080/"
        },
        "id": "lMR-lxTjxKMs",
        "outputId": "7e4a4fc2-97d6-450d-9cd9-9322e72a6034"
      },
      "source": [
        "arr = np.array([[1,2,3,4,5],[4,5,6,7,8],[9,8,7,6,5]])\n",
        "print(\"The NumPy Array is:\")\n",
        "print(arr)\n",
        "arr1 = arr[1:3, :3]  # row 1 to 3 (not inclusive) and first 3 columns\n",
        "print(\"The sliced NumPy Array is:\")\n",
        "print(arr1)"
      ],
      "execution_count": 3,
      "outputs": [
        {
          "output_type": "stream",
          "name": "stdout",
          "text": [
            "The NumPy Array is:\n",
            "[[1 2 3 4 5]\n",
            " [4 5 6 7 8]\n",
            " [9 8 7 6 5]]\n",
            "The sliced NumPy Array is:\n",
            "[[4 5 6]\n",
            " [9 8 7]]\n"
          ]
        }
      ]
    },
    {
      "cell_type": "markdown",
      "metadata": {
        "id": "xpIpkJ8Sy8yX"
      },
      "source": [
        "- Slicing in python means taking elements from one given index to another given index\n",
        "\n",
        " - we pass slice instead of index like this: [start:end]\n",
        "\n",
        " - we can also define the step, like this:[start:end:step]\n",
        "\n",
        " - If we don't pass start its considered 0.\n",
        "\n",
        " - If we don't pass end it's considered length of array in that dimension\n",
        "\n",
        " - If we don't pass step it's considered 1."
      ]
    },
    {
      "cell_type": "code",
      "metadata": {
        "colab": {
          "base_uri": "https://localhost:8080/"
        },
        "id": "uoZU4XB7xKBU",
        "outputId": "bfabd98f-19ad-4e3e-b46a-b3238d9c8564"
      },
      "source": [
        "# Slice elements from index 1 to index 5 from the following array\n",
        "arr = np.array([1,2,3,4,5,6,7])\n",
        "print(arr[1:5])"
      ],
      "execution_count": 4,
      "outputs": [
        {
          "output_type": "stream",
          "name": "stdout",
          "text": [
            "[2 3 4 5]\n"
          ]
        }
      ]
    },
    {
      "cell_type": "code",
      "metadata": {
        "colab": {
          "base_uri": "https://localhost:8080/"
        },
        "id": "4qixqWyfxdyZ",
        "outputId": "d5fb142f-5eda-484f-8fd9-6ec4bf46e6ff"
      },
      "source": [
        "# Slice elements from index 4 to the end of the array\n",
        "arr = np.array([1,2,3,4,5,6,7])\n",
        "print(arr[4:])"
      ],
      "execution_count": 5,
      "outputs": [
        {
          "output_type": "stream",
          "name": "stdout",
          "text": [
            "[5 6 7]\n"
          ]
        }
      ]
    },
    {
      "cell_type": "code",
      "metadata": {
        "colab": {
          "base_uri": "https://localhost:8080/"
        },
        "id": "w_Ym3TrWxebN",
        "outputId": "94eaf5c5-b217-415b-b311-9a8c4e44f774"
      },
      "source": [
        "# Slice elements from the begining to index 4(not included)\n",
        "arr = np.array([1,2,3,4,5,6,7])\n",
        "print(arr[:4])"
      ],
      "execution_count": 6,
      "outputs": [
        {
          "output_type": "stream",
          "name": "stdout",
          "text": [
            "[1 2 3 4]\n"
          ]
        }
      ]
    },
    {
      "cell_type": "markdown",
      "metadata": {
        "id": "_LNpPsF82Tw7"
      },
      "source": [
        "#### **Negative Slicing:** use minus operator to refer to an index from the end."
      ]
    },
    {
      "cell_type": "code",
      "metadata": {
        "colab": {
          "base_uri": "https://localhost:8080/"
        },
        "id": "C1Ajp2vBxeXM",
        "outputId": "fcab75f0-ff94-4534-b133-8235a95530e9"
      },
      "source": [
        "# slice from the index 3 from the end to index 1 from the end\n",
        "arr = np.array([1,2,3,4,5,6,7])\n",
        "print(arr[-3:-1])"
      ],
      "execution_count": 7,
      "outputs": [
        {
          "output_type": "stream",
          "name": "stdout",
          "text": [
            "[5 6]\n"
          ]
        }
      ]
    },
    {
      "cell_type": "markdown",
      "metadata": {
        "id": "mGaP52FGU1t2"
      },
      "source": [
        "#### Use the step value to determine the step of the slicing"
      ]
    },
    {
      "cell_type": "code",
      "metadata": {
        "colab": {
          "base_uri": "https://localhost:8080/"
        },
        "id": "DqsCUWTvxdtV",
        "outputId": "8ba420e6-b142-48c3-a2c0-3f46f57c1841"
      },
      "source": [
        "# Return every other element from index 1 to index 5\n",
        "arr = np.array([1,2,3,4,5,6,7])\n",
        "print(arr[1:5:2])"
      ],
      "execution_count": 8,
      "outputs": [
        {
          "output_type": "stream",
          "name": "stdout",
          "text": [
            "[2 4]\n"
          ]
        }
      ]
    },
    {
      "cell_type": "code",
      "metadata": {
        "colab": {
          "base_uri": "https://localhost:8080/"
        },
        "id": "RwEET5Ryxdo8",
        "outputId": "c595e339-9152-486a-b48e-4f7dac71ff83"
      },
      "source": [
        "# Return every other element from the entire array\n",
        "arr = np.array([1,2,3,4,5,6,7])\n",
        "print(arr[::2])"
      ],
      "execution_count": 9,
      "outputs": [
        {
          "output_type": "stream",
          "name": "stdout",
          "text": [
            "[1 3 5 7]\n"
          ]
        }
      ]
    },
    {
      "cell_type": "markdown",
      "metadata": {
        "id": "LcitgbsGWCn4"
      },
      "source": [
        "### **Slicing 2d Array**"
      ]
    },
    {
      "cell_type": "code",
      "metadata": {
        "colab": {
          "base_uri": "https://localhost:8080/"
        },
        "id": "Yb_4cBetxdkk",
        "outputId": "cc50ed4c-7578-4bca-bea6-f21b28e3f873"
      },
      "source": [
        "arr = np.array([[1,2,3,4,5],[6,7,8,9,10]])\n",
        "print(arr[1, 1:4])"
      ],
      "execution_count": 10,
      "outputs": [
        {
          "output_type": "stream",
          "name": "stdout",
          "text": [
            "[7 8 9]\n"
          ]
        }
      ]
    },
    {
      "cell_type": "code",
      "metadata": {
        "colab": {
          "base_uri": "https://localhost:8080/"
        },
        "id": "DJQTwfJwxdf8",
        "outputId": "3e5f5aeb-044e-402f-bbb8-16954232fc96"
      },
      "source": [
        "arr = np.array([[1,2,3,4,5],[6,7,8,9,10]])\n",
        "print(arr[0:2, 2])"
      ],
      "execution_count": 11,
      "outputs": [
        {
          "output_type": "stream",
          "name": "stdout",
          "text": [
            "[3 8]\n"
          ]
        }
      ]
    },
    {
      "cell_type": "code",
      "metadata": {
        "colab": {
          "base_uri": "https://localhost:8080/"
        },
        "id": "WrPzXiOIxdaE",
        "outputId": "65337bb6-55be-4c94-ba34-174209faadec"
      },
      "source": [
        "arr = np.array([[1,2,3,4,5],[6,7,8,9,10]])\n",
        "print(arr[0:2, 1:4])"
      ],
      "execution_count": 13,
      "outputs": [
        {
          "output_type": "stream",
          "name": "stdout",
          "text": [
            "[[2 3 4]\n",
            " [7 8 9]]\n"
          ]
        }
      ]
    },
    {
      "cell_type": "markdown",
      "metadata": {
        "id": "rloKIXPQdeQg"
      },
      "source": [
        "#### **NumPy Slice as a reference:** It is noteworthy that the results of a NumPy slice is a reference and not a copy of the original array"
      ]
    },
    {
      "cell_type": "code",
      "metadata": {
        "colab": {
          "base_uri": "https://localhost:8080/"
        },
        "id": "EUh82pXMXfYm",
        "outputId": "84e5a369-37fb-45e9-e4a9-757a0646db78"
      },
      "source": [
        "arr = np.array([[1,2,3,4,5],[4,5,6,7,8],[9,8,7,6,5]])\n",
        "print(\"The NumPy Array is:\")\n",
        "print(arr)\n",
        "arr1 = arr[1:, 2:]    # row 1 onwards and column 2 onwards, arr 1 is now pointing to a subset of array\n",
        "print(\"The sliced NumPy Array is:\")\n",
        "print(arr1)"
      ],
      "execution_count": 18,
      "outputs": [
        {
          "output_type": "stream",
          "name": "stdout",
          "text": [
            "The NumPy Array is:\n",
            "[[1 2 3 4 5]\n",
            " [4 5 6 7 8]\n",
            " [9 8 7 6 5]]\n",
            "The sliced NumPy Array is:\n",
            "[[6 7 8]\n",
            " [7 6 5]]\n"
          ]
        }
      ]
    },
    {
      "cell_type": "code",
      "metadata": {
        "colab": {
          "base_uri": "https://localhost:8080/"
        },
        "id": "277VS5y2XfXl",
        "outputId": "445beeeb-2b0d-43ad-acdf-4e84498db05e"
      },
      "source": [
        "arr = np.array([[1,2,3,4,5],[4,5,6,7,8],[9,8,7,6,5]])\n",
        "print(\"The NumPy Array is:\")\n",
        "print(arr)\n",
        "arr1 = arr[1:, 2:]    # row 1 onwards and column 2 onwards, arr 1 is now pointing to a subset of array\n",
        "print(\"The sliced NumPy Array is:\")\n",
        "print(arr1)\n",
        "arr1[0,2]=88\n",
        "print(\"Updated NumPy Array:\")\n",
        "print(arr)"
      ],
      "execution_count": 19,
      "outputs": [
        {
          "output_type": "stream",
          "name": "stdout",
          "text": [
            "The NumPy Array is:\n",
            "[[1 2 3 4 5]\n",
            " [4 5 6 7 8]\n",
            " [9 8 7 6 5]]\n",
            "The sliced NumPy Array is:\n",
            "[[6 7 8]\n",
            " [7 6 5]]\n",
            "Updated NumPy Array:\n",
            "[[ 1  2  3  4  5]\n",
            " [ 4  5  6  7 88]\n",
            " [ 9  8  7  6  5]]\n"
          ]
        }
      ]
    },
    {
      "cell_type": "code",
      "metadata": {
        "colab": {
          "base_uri": "https://localhost:8080/"
        },
        "id": "bdlhw2PoXfWu",
        "outputId": "c5dde493-91e1-4ad7-a82e-d6f33c3baa05"
      },
      "source": [
        "arr = np.array([[1,2,3,4,5],[4,5,6,7,8],[9,8,7,6,5]])\n",
        "print(\"The NumPy Array is:\")\n",
        "print(arr)\n",
        "arr1 = arr[2:, :]    # row 2 onwards and all columns\n",
        "print(\"The sliced NumPy Array is:\")\n",
        "print(arr1)\n",
        "print(\"The shape of Sliced NumPy Array is:\")\n",
        "print(arr1.shape)"
      ],
      "execution_count": 20,
      "outputs": [
        {
          "output_type": "stream",
          "name": "stdout",
          "text": [
            "The NumPy Array is:\n",
            "[[1 2 3 4 5]\n",
            " [4 5 6 7 8]\n",
            " [9 8 7 6 5]]\n",
            "The sliced NumPy Array is:\n",
            "[[9 8 7 6 5]]\n",
            "The shape of Sliced NumPy Array is:\n",
            "(1, 5)\n"
          ]
        }
      ]
    },
    {
      "cell_type": "code",
      "metadata": {
        "colab": {
          "base_uri": "https://localhost:8080/"
        },
        "id": "Inha3rYuXfRu",
        "outputId": "6ddc589f-54be-4fda-9d55-f29b2a5e2064"
      },
      "source": [
        "arr = np.array([[1,2,3,4,5],[4,5,6,7,8],[9,8,7,6,5]])\n",
        "print(\"The NumPy Array is:\")\n",
        "print(arr)\n",
        "arr1 = arr[2, :]    # row 2 onwards and all columns\n",
        "print(\"The sliced NumPy Array is:\")\n",
        "print(arr1)\n",
        "print(\"The shape of Sliced NumPy Array is:\")\n",
        "print(arr1.shape)"
      ],
      "execution_count": 21,
      "outputs": [
        {
          "output_type": "stream",
          "name": "stdout",
          "text": [
            "The NumPy Array is:\n",
            "[[1 2 3 4 5]\n",
            " [4 5 6 7 8]\n",
            " [9 8 7 6 5]]\n",
            "The sliced NumPy Array is:\n",
            "[9 8 7 6 5]\n",
            "The shape of Sliced NumPy Array is:\n",
            "(5,)\n"
          ]
        }
      ]
    },
    {
      "cell_type": "markdown",
      "metadata": {
        "id": "1rd2pYQ28_va"
      },
      "source": [
        "### **Reference**"
      ]
    },
    {
      "cell_type": "markdown",
      "metadata": {
        "id": "56ZUvbzw9Cpa"
      },
      "source": [
        "- https://www.youtube.com/watch?v=qZnphlnTPIg&list=PLzx-_kRo3HZtP3tWaieUPwAh9K4I00_6p&index=4"
      ]
    }
  ]
}