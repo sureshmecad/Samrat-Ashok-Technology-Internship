{
  "nbformat": 4,
  "nbformat_minor": 0,
  "metadata": {
    "colab": {
      "name": "Day21_Pareto and Zipf Distribution in NumPy_CSEPathshala.ipynb",
      "provenance": [],
      "collapsed_sections": [],
      "authorship_tag": "ABX9TyO2X6rWlJXH1QVJsel/Xpk8",
      "include_colab_link": true
    },
    "kernelspec": {
      "name": "python3",
      "display_name": "Python 3"
    },
    "language_info": {
      "name": "python"
    }
  },
  "cells": [
    {
      "cell_type": "markdown",
      "metadata": {
        "id": "view-in-github",
        "colab_type": "text"
      },
      "source": [
        "<a href=\"https://colab.research.google.com/github/sureshmecad/Samrat-Ashok-Technology-Internship/blob/main/Day21_Pareto_and_Zipf_Distribution_in_NumPy_CSEPathshala.ipynb\" target=\"_parent\"><img src=\"https://colab.research.google.com/assets/colab-badge.svg\" alt=\"Open In Colab\"/></a>"
      ]
    },
    {
      "cell_type": "markdown",
      "metadata": {
        "id": "4zEMu2AVNqlZ"
      },
      "source": [
        "### **Pareto and Zipf Distribution**"
      ]
    },
    {
      "cell_type": "markdown",
      "metadata": {
        "id": "hnqBdvxKN2Ev"
      },
      "source": [
        "#### **Pareto Distribution**\n",
        "\n",
        "- A distribution following **Pareto's** law i.e. **80-20 distribution (20% factors cause 80% outcome).**\n",
        "\n",
        "- The **Pareto Principle** stats that for many outcomes, roughly 80% of consequences come from 20% of the causes(the vital few). Other names for this principle are the **80/20 rule**, the **law of the vital few** or the **principle of factor sparsity**.\n",
        "\n",
        "- It has two parameters:\n",
        "\n",
        " - a - shape parameter\n",
        "\n",
        " - size - The shape of the returned array"
      ]
    },
    {
      "cell_type": "code",
      "metadata": {
        "id": "UrzTEvigStZz"
      },
      "source": [
        "import numpy as np\n",
        "from numpy import random"
      ],
      "execution_count": 1,
      "outputs": []
    },
    {
      "cell_type": "code",
      "metadata": {
        "id": "V2VZ6TfMS-oa",
        "colab": {
          "base_uri": "https://localhost:8080/"
        },
        "outputId": "56cb3fa6-215b-4fe9-8088-0367bc5f92a3"
      },
      "source": [
        "x = random.pareto(a=2, size=(2,3))\n",
        "print(x)"
      ],
      "execution_count": 2,
      "outputs": [
        {
          "output_type": "stream",
          "name": "stdout",
          "text": [
            "[[0.16608764 1.94018422 0.12058368]\n",
            " [1.71205598 0.77934946 0.25474118]]\n"
          ]
        }
      ]
    },
    {
      "cell_type": "code",
      "metadata": {
        "id": "Ph-vtfF9TxNt"
      },
      "source": [
        "import matplotlib.pyplot as plt\n",
        "import seaborn as sns"
      ],
      "execution_count": 3,
      "outputs": []
    },
    {
      "cell_type": "code",
      "metadata": {
        "id": "znU8qpVPS_Ep",
        "colab": {
          "base_uri": "https://localhost:8080/",
          "height": 320
        },
        "outputId": "e083f36d-8c8b-4672-ea6d-3188c0673ed0"
      },
      "source": [
        "# Visualization of Pareto Distribution\n",
        "\n",
        "sns.distplot(random.pareto(a=2, size=1000), kde=False)\n",
        "plt.show()"
      ],
      "execution_count": 4,
      "outputs": [
        {
          "output_type": "stream",
          "name": "stderr",
          "text": [
            "/usr/local/lib/python3.7/dist-packages/seaborn/distributions.py:2619: FutureWarning: `distplot` is a deprecated function and will be removed in a future version. Please adapt your code to use either `displot` (a figure-level function with similar flexibility) or `histplot` (an axes-level function for histograms).\n",
            "  warnings.warn(msg, FutureWarning)\n"
          ]
        },
        {
          "output_type": "display_data",
          "data": {
            "image/png": "[encoded data removed]",
            "text/plain": [
              "<Figure size 432x288 with 1 Axes>"
            ]
          },
          "metadata": {
            "needs_background": "light"
          }
        }
      ]
    },
    {
      "cell_type": "markdown",
      "metadata": {
        "id": "nDrvaGEkW6sS"
      },
      "source": [
        "#### **Zipf Distribution**\n",
        "\n",
        "- Zipf distributions are used to sample data based on zipf's law.\n",
        "\n",
        "- **zipf's law:** In a collection, the nth common term is 1/n times of the most common term. E.g. 5th common word in natural language has occurs nearly 1/5th times as of the most used word. \n",
        "\n",
        "- It has two parameters:\n",
        "\n",
        " - a - distribution parameter\n",
        "\n",
        " - size - The shape of the returned array"
      ]
    },
    {
      "cell_type": "code",
      "metadata": {
        "id": "x3pLYIu4S_D_",
        "colab": {
          "base_uri": "https://localhost:8080/"
        },
        "outputId": "67657dcf-f47f-428a-9b67-56fc3f384ea5"
      },
      "source": [
        "# Draw out a sample for zipf distribution with distribution parameter 2 with size 2x3\n",
        "\n",
        "x = random.zipf(a=2, size=(2,3))\n",
        "print(x)"
      ],
      "execution_count": 5,
      "outputs": [
        {
          "output_type": "stream",
          "name": "stdout",
          "text": [
            "[[1 1 1]\n",
            " [5 1 2]]\n"
          ]
        }
      ]
    },
    {
      "cell_type": "markdown",
      "metadata": {
        "id": "XS_GkAJaW-7p"
      },
      "source": [
        "##### **Visualisation of Zipf Distribution**\n",
        "\n",
        "- sample 1000 points but plotting only ones with value < 10 for more meaningful chart"
      ]
    },
    {
      "cell_type": "code",
      "metadata": {
        "id": "0Rh-DzQES_Av",
        "colab": {
          "base_uri": "https://localhost:8080/",
          "height": 320
        },
        "outputId": "4d8d573e-722f-4059-f331-a51065d5cd36"
      },
      "source": [
        "x = random.zipf(a=2, size=1000)\n",
        "sns.distplot(x[x<10], kde=False)\n",
        "plt.show()"
      ],
      "execution_count": 6,
      "outputs": [
        {
          "output_type": "stream",
          "name": "stderr",
          "text": [
            "/usr/local/lib/python3.7/dist-packages/seaborn/distributions.py:2619: FutureWarning: `distplot` is a deprecated function and will be removed in a future version. Please adapt your code to use either `displot` (a figure-level function with similar flexibility) or `histplot` (an axes-level function for histograms).\n",
            "  warnings.warn(msg, FutureWarning)\n"
          ]
        },
        {
          "output_type": "display_data",
          "data": {
            "image/png": "[encoded data removed]",
            "text/plain": [
              "<Figure size 432x288 with 1 Axes>"
            ]
          },
          "metadata": {
            "needs_background": "light"
          }
        }
      ]
    },
    {
      "cell_type": "markdown",
      "metadata": {
        "id": "c_2B09OLS5GY"
      },
      "source": [
        "### **Reference**\n",
        "\n",
        "- https://www.youtube.com/watch?v=hAocRii2_UI&list=PLzx-_kRo3HZtP3tWaieUPwAh9K4I00_6p&index=21"
      ]
    }
  ]
}