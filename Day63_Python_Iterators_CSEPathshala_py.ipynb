{
  "nbformat": 4,
  "nbformat_minor": 0,
  "metadata": {
    "colab": {
      "name": "Day63_Python Iterators_CSEPathshala.py",
      "provenance": [],
      "collapsed_sections": [],
      "authorship_tag": "ABX9TyMiL15mOB6S5KMdGuJnhqoP",
      "include_colab_link": true
    },
    "kernelspec": {
      "name": "python3",
      "display_name": "Python 3"
    },
    "language_info": {
      "name": "python"
    }
  },
  "cells": [
    {
      "cell_type": "markdown",
      "metadata": {
        "id": "view-in-github",
        "colab_type": "text"
      },
      "source": [
        "<a href=\"https://colab.research.google.com/github/sureshmecad/Samrat-Ashok-Technology-Internship/blob/main/Day63_Python_Iterators_CSEPathshala_py.ipynb\" target=\"_parent\"><img src=\"https://colab.research.google.com/assets/colab-badge.svg\" alt=\"Open In Colab\"/></a>"
      ]
    },
    {
      "cell_type": "markdown",
      "metadata": {
        "id": "rdgwcurlV0d3"
      },
      "source": [
        "**Iterators**\n",
        "\n",
        "- An iterator is an object that contains a countable number of values.\n",
        "\n",
        "- An iterator is an object can be iterated upon meaning that you can traverse through all the values.\n",
        "\n",
        "- It consists of the methods **iter()** and **next()**"
      ]
    },
    {
      "cell_type": "code",
      "metadata": {
        "colab": {
          "base_uri": "https://localhost:8080/"
        },
        "id": "AZe0GqqDO6P4",
        "outputId": "b317e332-9314-4cc5-e81a-14869e973e86"
      },
      "source": [
        "lst = [4,2,7,9,1]\n",
        "\n",
        "it = iter(lst)\n",
        "\n",
        "print(next(it))\n",
        "print(next(it))\n",
        "print(next(it))\n",
        "print(next(it))\n",
        "print(next(it))"
      ],
      "execution_count": 8,
      "outputs": [
        {
          "output_type": "stream",
          "name": "stdout",
          "text": [
            "4\n",
            "2\n",
            "7\n",
            "9\n",
            "1\n"
          ]
        }
      ]
    },
    {
      "cell_type": "code",
      "metadata": {
        "colab": {
          "base_uri": "https://localhost:8080/"
        },
        "id": "PVL1lFBxVvj3",
        "outputId": "3333e491-2bb6-4408-fc56-e6bcc68e19cc"
      },
      "source": [
        "S = \"PYTHON\"\n",
        "\n",
        "it = iter(S)\n",
        "\n",
        "print(it.__next__())\n",
        "print(it.__next__())\n",
        "print(it.__next__())\n",
        "print(it.__next__())\n",
        "print(it.__next__())\n",
        "print(it.__next__())"
      ],
      "execution_count": 11,
      "outputs": [
        {
          "output_type": "stream",
          "name": "stdout",
          "text": [
            "P\n",
            "Y\n",
            "T\n",
            "H\n",
            "O\n",
            "N\n"
          ]
        }
      ]
    },
    {
      "cell_type": "markdown",
      "metadata": {
        "id": "a63S4nwvYsma"
      },
      "source": [
        "**Iterator Vs Iterable**\n",
        "\n",
        "- List, tuple, dictionaries and set all are iterable objects. They are iterable containers which you can get an iterator from."
      ]
    },
    {
      "cell_type": "markdown",
      "metadata": {
        "id": "1Y4yOitGZidj"
      },
      "source": [
        "**1) Looping through an iterator**\n",
        "\n",
        "- We can also use a for loop to iterate through an iterable object."
      ]
    },
    {
      "cell_type": "code",
      "metadata": {
        "colab": {
          "base_uri": "https://localhost:8080/"
        },
        "id": "1Nw80TVrVvgO",
        "outputId": "d7b29602-27ea-441f-aa21-36b00c457ae2"
      },
      "source": [
        "lst = [4,2,7,9,1]\n",
        "\n",
        "for i in lst:\n",
        "  print(i)"
      ],
      "execution_count": 12,
      "outputs": [
        {
          "output_type": "stream",
          "name": "stdout",
          "text": [
            "4\n",
            "2\n",
            "7\n",
            "9\n",
            "1\n"
          ]
        }
      ]
    },
    {
      "cell_type": "code",
      "metadata": {
        "colab": {
          "base_uri": "https://localhost:8080/"
        },
        "id": "xvFm-wUzVvcT",
        "outputId": "7a6af06d-73bc-4d56-a71a-12ecda87f5c1"
      },
      "source": [
        "S = \"PYTHON\"\n",
        "\n",
        "for i in S:\n",
        "  print(i)"
      ],
      "execution_count": 13,
      "outputs": [
        {
          "output_type": "stream",
          "name": "stdout",
          "text": [
            "P\n",
            "Y\n",
            "T\n",
            "H\n",
            "O\n",
            "N\n"
          ]
        }
      ]
    },
    {
      "cell_type": "markdown",
      "metadata": {
        "id": "gwuxKXUra199"
      },
      "source": [
        "**2) Creating an iterator**"
      ]
    },
    {
      "cell_type": "code",
      "metadata": {
        "colab": {
          "base_uri": "https://localhost:8080/"
        },
        "id": "SNIf033cVvYX",
        "outputId": "2058c461-286b-4d6c-a690-3dfd0513831a"
      },
      "source": [
        "class MyNumbers:\n",
        "  def __iter__(self):\n",
        "    self.a = 1\n",
        "    return self\n",
        "\n",
        "  def __next__(self):\n",
        "    x = self.a\n",
        "    self.a +=1\n",
        "    return x\n",
        "\n",
        "myclass = MyNumbers()\n",
        "myiter = iter(myclass)\n",
        "\n",
        "print(next(myiter))\n",
        "print(next(myiter))\n",
        "print(next(myiter))\n",
        "print(next(myiter))\n",
        "print(next(myiter))"
      ],
      "execution_count": 14,
      "outputs": [
        {
          "output_type": "stream",
          "name": "stdout",
          "text": [
            "1\n",
            "2\n",
            "3\n",
            "4\n",
            "5\n"
          ]
        }
      ]
    },
    {
      "cell_type": "markdown",
      "metadata": {
        "id": "h-lW3rcTd9yW"
      },
      "source": [
        "**Stopiteration**"
      ]
    },
    {
      "cell_type": "code",
      "metadata": {
        "colab": {
          "base_uri": "https://localhost:8080/"
        },
        "id": "aAMdU2P1eBfd",
        "outputId": "a5fccdef-e7cf-4df1-94d6-ac94d2c28949"
      },
      "source": [
        "class MyNumbers:\n",
        "  def __iter__(self):\n",
        "    self.a = 1\n",
        "    return self\n",
        "\n",
        "  def __next__(self):\n",
        "    if self.a <=20:\n",
        "      x = self.a\n",
        "      self.a +=1\n",
        "      return x\n",
        "\n",
        "    else:\n",
        "      raise StopIteration\n",
        "\n",
        "myclass = MyNumbers()\n",
        "myiter = iter(myclass)\n",
        "\n",
        "for x in myiter:\n",
        "  print(x)"
      ],
      "execution_count": 15,
      "outputs": [
        {
          "output_type": "stream",
          "name": "stdout",
          "text": [
            "1\n",
            "2\n",
            "3\n",
            "4\n",
            "5\n",
            "6\n",
            "7\n",
            "8\n",
            "9\n",
            "10\n",
            "11\n",
            "12\n",
            "13\n",
            "14\n",
            "15\n",
            "16\n",
            "17\n",
            "18\n",
            "19\n",
            "20\n"
          ]
        }
      ]
    },
    {
      "cell_type": "markdown",
      "metadata": {
        "id": "JIbZFn0zVf9y"
      },
      "source": [
        "#### **Reference**\n",
        "\n",
        "- https://www.youtube.com/watch?v=LTfotmWCl9c"
      ]
    }
  ]
}