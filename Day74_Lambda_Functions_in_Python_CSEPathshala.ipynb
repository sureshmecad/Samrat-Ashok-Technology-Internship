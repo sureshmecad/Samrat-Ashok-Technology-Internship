{
  "nbformat": 4,
  "nbformat_minor": 0,
  "metadata": {
    "colab": {
      "name": "Day74_Lambda Functions in Python_CSEPathshala.ipynb",
      "provenance": [],
      "collapsed_sections": [],
      "authorship_tag": "ABX9TyPuVotv8JNy0qSIfzS/g4ya",
      "include_colab_link": true
    },
    "kernelspec": {
      "name": "python3",
      "display_name": "Python 3"
    },
    "language_info": {
      "name": "python"
    }
  },
  "cells": [
    {
      "cell_type": "markdown",
      "metadata": {
        "id": "view-in-github",
        "colab_type": "text"
      },
      "source": [
        "<a href=\"https://colab.research.google.com/github/sureshmecad/Samrat-Ashok-Technology-Internship/blob/main/Day74_Lambda_Functions_in_Python_CSEPathshala.ipynb\" target=\"_parent\"><img src=\"https://colab.research.google.com/assets/colab-badge.svg\" alt=\"Open In Colab\"/></a>"
      ]
    },
    {
      "cell_type": "code",
      "metadata": {
        "id": "lXTHS6jGUIbZ",
        "colab": {
          "base_uri": "https://localhost:8080/"
        },
        "outputId": "2a7d4ed2-ff4c-4b57-9bd3-30d5a1fd35bd"
      },
      "source": [
        "def add(a,b):\n",
        "  return a+b\n",
        "\n",
        "add(9,5)"
      ],
      "execution_count": 1,
      "outputs": [
        {
          "output_type": "execute_result",
          "data": {
            "text/plain": [
              "14"
            ]
          },
          "metadata": {},
          "execution_count": 1
        }
      ]
    },
    {
      "cell_type": "code",
      "metadata": {
        "colab": {
          "base_uri": "https://localhost:8080/"
        },
        "id": "m-YmmcsghFbU",
        "outputId": "1cb88f38-4e52-4177-be48-c2a12beac878"
      },
      "source": [
        "add2 = lambda x,y:x+y\n",
        "add2(9,5)\n",
        "\n",
        "# As functions are object in python so you have to assign it to something\n",
        "# here add2 represents the function"
      ],
      "execution_count": 2,
      "outputs": [
        {
          "output_type": "execute_result",
          "data": {
            "text/plain": [
              "14"
            ]
          },
          "metadata": {},
          "execution_count": 2
        }
      ]
    },
    {
      "cell_type": "code",
      "metadata": {
        "id": "fm_Tf56NhF5A"
      },
      "source": [
        "# Advantages\n",
        "# Good for simple logical operations that are easy to understand. This makes the code more readble too\n",
        "# Good when you want a function that you will use just one time.\n",
        "\n",
        "\n",
        "# Disadvantages\n",
        "# They can only perform one expression. It's not possible to have multiple independant operations in one lambda function"
      ],
      "execution_count": null,
      "outputs": []
    },
    {
      "cell_type": "code",
      "metadata": {
        "colab": {
          "base_uri": "https://localhost:8080/"
        },
        "id": "AIS2BkS5hF1I",
        "outputId": "c9e03ad5-f01c-4e4d-c752-783b916b76dd"
      },
      "source": [
        "func = lambda a:a*a\n",
        "func(5)"
      ],
      "execution_count": 3,
      "outputs": [
        {
          "output_type": "execute_result",
          "data": {
            "text/plain": [
              "25"
            ]
          },
          "metadata": {},
          "execution_count": 3
        }
      ]
    },
    {
      "cell_type": "code",
      "metadata": {
        "colab": {
          "base_uri": "https://localhost:8080/"
        },
        "id": "z3t4ZpUWjK0s",
        "outputId": "27516ad1-5e16-472f-bb28-d5258a2e1f2e"
      },
      "source": [
        "# without lambda function\n",
        "\n",
        "def is_even(n):\n",
        "  return n%2 == 0\n",
        "\n",
        "lst = [1,2,3,4,5,6,7,8,9]\n",
        "even = list(filter(is_even, lst))\n",
        "print(even)\n",
        "\n",
        "# in-built funcion filter(), takes the list and give required output"
      ],
      "execution_count": 4,
      "outputs": [
        {
          "output_type": "stream",
          "name": "stdout",
          "text": [
            "[2, 4, 6, 8]\n"
          ]
        }
      ]
    },
    {
      "cell_type": "code",
      "metadata": {
        "colab": {
          "base_uri": "https://localhost:8080/"
        },
        "id": "wQI7Skp3kS2K",
        "outputId": "8d7625b6-931e-433d-e59d-aad98a647019"
      },
      "source": [
        "# with lambda function\n",
        "\n",
        "lst = [1,2,3,4,5,6,7,8,9]\n",
        "even = list(filter(lambda n:n%2 == 0, lst))\n",
        "print(even)"
      ],
      "execution_count": 5,
      "outputs": [
        {
          "output_type": "stream",
          "name": "stdout",
          "text": [
            "[2, 4, 6, 8]\n"
          ]
        }
      ]
    },
    {
      "cell_type": "markdown",
      "metadata": {
        "id": "9R1ok9TNUZxz"
      },
      "source": [
        "#### **Reference**\n",
        "\n",
        "- https://www.youtube.com/watch?v=DBOjO9Nrlws"
      ]
    }
  ]
}