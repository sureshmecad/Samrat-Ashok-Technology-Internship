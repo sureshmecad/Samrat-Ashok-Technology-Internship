{
  "nbformat": 4,
  "nbformat_minor": 0,
  "metadata": {
    "colab": {
      "name": "1_Numpy-Array_CSEPathshala.ipynb",
      "provenance": [],
      "collapsed_sections": [],
      "authorship_tag": "ABX9TyORPGvs/hCN7ik6ogsyXxFG",
      "include_colab_link": true
    },
    "kernelspec": {
      "name": "python3",
      "display_name": "Python 3"
    },
    "language_info": {
      "name": "python"
    }
  },
  "cells": [
    {
      "cell_type": "markdown",
      "metadata": {
        "id": "view-in-github",
        "colab_type": "text"
      },
      "source": [
        "<a href=\"https://colab.research.google.com/github/sureshmecad/Samrat-Ashok-Technology-Internship/blob/main/1_Numpy_Array_CSEPathshala.ipynb\" target=\"_parent\"><img src=\"https://colab.research.google.com/assets/colab-badge.svg\" alt=\"Open In Colab\"/></a>"
      ]
    },
    {
      "cell_type": "markdown",
      "metadata": {
        "id": "GLyAUnHNTcro"
      },
      "source": [
        "### **List**"
      ]
    },
    {
      "cell_type": "code",
      "metadata": {
        "colab": {
          "base_uri": "https://localhost:8080/"
        },
        "id": "9zJbIUYZCIl1",
        "outputId": "e1c2ad6d-2d41-415a-d2c3-96876a1df80c"
      },
      "source": [
        "# List is used to store a collection of items\n",
        "list1 = [1,2,3,4,5]\n",
        "list1"
      ],
      "execution_count": 1,
      "outputs": [
        {
          "output_type": "execute_result",
          "data": {
            "text/plain": [
              "[1, 2, 3, 4, 5]"
            ]
          },
          "metadata": {},
          "execution_count": 1
        }
      ]
    },
    {
      "cell_type": "code",
      "metadata": {
        "colab": {
          "base_uri": "https://localhost:8080/"
        },
        "id": "UAXrlHftD7U8",
        "outputId": "2c6d3582-a039-4ae2-bc44-e8c8217f5241"
      },
      "source": [
        "list2 = [1, \"Hello\", 3.14, True, 5]\n",
        "list2"
      ],
      "execution_count": 2,
      "outputs": [
        {
          "output_type": "execute_result",
          "data": {
            "text/plain": [
              "[1, 'Hello', 3.14, True, 5]"
            ]
          },
          "metadata": {},
          "execution_count": 2
        }
      ]
    },
    {
      "cell_type": "markdown",
      "metadata": {
        "id": "8iO-pVTLMLho"
      },
      "source": [
        "### **Creating Numpy Arrays**"
      ]
    },
    {
      "cell_type": "code",
      "metadata": {
        "id": "N2f8QEuWNyJT"
      },
      "source": [
        "import numpy as np"
      ],
      "execution_count": 3,
      "outputs": []
    },
    {
      "cell_type": "code",
      "metadata": {
        "colab": {
          "base_uri": "https://localhost:8080/"
        },
        "id": "cpLjL0gJD7Mc",
        "outputId": "9ff603af-620b-409e-9200-867204eb6423"
      },
      "source": [
        "a1 = np.arange(10) # create a range from 0 to 9\n",
        "\n",
        "print(a1)\n",
        "print(\"Shape of Array a1\", a1.shape)"
      ],
      "execution_count": 4,
      "outputs": [
        {
          "output_type": "stream",
          "name": "stdout",
          "text": [
            "[0 1 2 3 4 5 6 7 8 9]\n",
            "Shape of Array a1 (10,)\n"
          ]
        }
      ]
    },
    {
      "cell_type": "code",
      "metadata": {
        "colab": {
          "base_uri": "https://localhost:8080/"
        },
        "id": "nd9KaDJtD7Bs",
        "outputId": "6844637f-2125-49df-c20b-2bf7fd4a787c"
      },
      "source": [
        "a2 = np.arange(0,10,2) # create a range from 0 to 9, step 2\n",
        "\n",
        "print(a2)\n",
        "print(\"Shape of Array a2\", a2.shape)"
      ],
      "execution_count": 5,
      "outputs": [
        {
          "output_type": "stream",
          "name": "stdout",
          "text": [
            "[0 2 4 6 8]\n",
            "Shape of Array a2 (5,)\n"
          ]
        }
      ]
    },
    {
      "cell_type": "code",
      "metadata": {
        "colab": {
          "base_uri": "https://localhost:8080/"
        },
        "id": "Ik8l2dzmOM2u",
        "outputId": "84726c6a-335c-4afb-edaf-18483f0e4266"
      },
      "source": [
        "a21 = np.arange(0,10,3) # create a range from 0 to 9, step 3\n",
        "\n",
        "print(a21)\n",
        "print(\"Shape of Array a21\", a21.shape)"
      ],
      "execution_count": 6,
      "outputs": [
        {
          "output_type": "stream",
          "name": "stdout",
          "text": [
            "[0 3 6 9]\n",
            "Shape of Array a21 (4,)\n"
          ]
        }
      ]
    },
    {
      "cell_type": "markdown",
      "metadata": {
        "id": "TehOqC1bPxIW"
      },
      "source": [
        "#### **np.zeros**"
      ]
    },
    {
      "cell_type": "code",
      "metadata": {
        "colab": {
          "base_uri": "https://localhost:8080/"
        },
        "id": "QRRhitQQOvnJ",
        "outputId": "672e6429-4658-4cc5-ed4e-02c5ef34271d"
      },
      "source": [
        "a3 = np.zeros(5) # create an array with all 0's\n",
        "\n",
        "print(a3)\n",
        "print(\"Shape of Array a3\", a3.shape)"
      ],
      "execution_count": 7,
      "outputs": [
        {
          "output_type": "stream",
          "name": "stdout",
          "text": [
            "[0. 0. 0. 0. 0.]\n",
            "Shape of Array a3 (5,)\n"
          ]
        }
      ]
    },
    {
      "cell_type": "code",
      "metadata": {
        "colab": {
          "base_uri": "https://localhost:8080/"
        },
        "id": "mnFRvexNPGyK",
        "outputId": "4be7ad5e-acbd-4ef2-83d5-efe73b7f3bbe"
      },
      "source": [
        "a4 = np.zeros((2,3)) # array of rank 2 with all 0s; 2 rows & 3 columns\n",
        "\n",
        "print(a4)\n",
        "print(\"Shape of Array a4\", a4.shape)"
      ],
      "execution_count": 9,
      "outputs": [
        {
          "output_type": "stream",
          "name": "stdout",
          "text": [
            "[[0. 0. 0.]\n",
            " [0. 0. 0.]]\n",
            "Shape of Array a4 (2, 3)\n"
          ]
        }
      ]
    },
    {
      "cell_type": "code",
      "metadata": {
        "colab": {
          "base_uri": "https://localhost:8080/"
        },
        "id": "FC6_9PkNQSqq",
        "outputId": "b894c1c3-8f05-478f-e799-c6027c967385"
      },
      "source": [
        "a5 = np.full((2,3),8) # array of rank 2 with all 0s;\n",
        "\n",
        "print(a5)\n",
        "print(\"Shape of Array a5\", a5.shape)"
      ],
      "execution_count": 10,
      "outputs": [
        {
          "output_type": "stream",
          "name": "stdout",
          "text": [
            "[[8 8 8]\n",
            " [8 8 8]]\n",
            "Shape of Array a5 (2, 3)\n"
          ]
        }
      ]
    },
    {
      "cell_type": "markdown",
      "metadata": {
        "id": "qLpbDEgeQ5Ju"
      },
      "source": [
        "#### **identity matrix**\n",
        "\n",
        " - the eye function returns a 2d array with ones on the diagonal and zeros elsewhere"
      ]
    },
    {
      "cell_type": "code",
      "metadata": {
        "colab": {
          "base_uri": "https://localhost:8080/"
        },
        "id": "9RVp6BEUQ35e",
        "outputId": "d19ddf7b-c3a0-4318-b7a9-943bc55275e8"
      },
      "source": [
        "a6 = np.eye(4) # 4x4 identity matrix\n",
        "\n",
        "print(a6)\n",
        "print(\"Shape of Array a6\", a6.shape)"
      ],
      "execution_count": 11,
      "outputs": [
        {
          "output_type": "stream",
          "name": "stdout",
          "text": [
            "[[1. 0. 0. 0.]\n",
            " [0. 1. 0. 0.]\n",
            " [0. 0. 1. 0.]\n",
            " [0. 0. 0. 1.]]\n",
            "Shape of Array a6 (4, 4)\n"
          ]
        }
      ]
    },
    {
      "cell_type": "markdown",
      "metadata": {
        "id": "e3I6FttSRnjw"
      },
      "source": [
        "#### **random numbers**"
      ]
    },
    {
      "cell_type": "code",
      "metadata": {
        "colab": {
          "base_uri": "https://localhost:8080/"
        },
        "id": "tE1kxlXGRrbo",
        "outputId": "4fdfcdf5-9386-48a1-b308-fd60c026d93e"
      },
      "source": [
        "a7 = np.random.random((2,4))  # rank 2 array (2 rows 4 columns) with random values\n",
        "\n",
        "print(a7)\n",
        "print(\"Shape of Array a7\", a7.shape)"
      ],
      "execution_count": 12,
      "outputs": [
        {
          "output_type": "stream",
          "name": "stdout",
          "text": [
            "[[0.44434986 0.81436765 0.24160902 0.63027532]\n",
            " [0.8630283  0.19378075 0.55456315 0.65698898]]\n",
            "Shape of Array a7 (2, 4)\n"
          ]
        }
      ]
    },
    {
      "cell_type": "markdown",
      "metadata": {
        "id": "FHkUrsFRSpuU"
      },
      "source": [
        "#### **Array from list**"
      ]
    },
    {
      "cell_type": "code",
      "metadata": {
        "colab": {
          "base_uri": "https://localhost:8080/"
        },
        "id": "HBPzRU4aStk0",
        "outputId": "4bfc3f8a-53c5-4ff3-ca35-6f0741bba8ac"
      },
      "source": [
        "list1 = [1,2,3,4,5]\n",
        "print(list1)\n",
        "\n",
        "r1 = np.array(list1)\n",
        "print(r1)"
      ],
      "execution_count": 13,
      "outputs": [
        {
          "output_type": "stream",
          "name": "stdout",
          "text": [
            "[1, 2, 3, 4, 5]\n",
            "[1 2 3 4 5]\n"
          ]
        }
      ]
    }
  ]
}