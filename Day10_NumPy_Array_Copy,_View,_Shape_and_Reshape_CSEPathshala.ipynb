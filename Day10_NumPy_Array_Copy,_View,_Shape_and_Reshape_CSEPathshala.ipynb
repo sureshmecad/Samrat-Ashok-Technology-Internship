{
  "nbformat": 4,
  "nbformat_minor": 0,
  "metadata": {
    "colab": {
      "name": "Day10_NumPy Array Copy, View, Shape and Reshape_CSEPathshala.ipynb",
      "provenance": [],
      "collapsed_sections": [],
      "authorship_tag": "ABX9TyNMZgzcNmX+j+WOPv4ZTdwy",
      "include_colab_link": true
    },
    "kernelspec": {
      "name": "python3",
      "display_name": "Python 3"
    },
    "language_info": {
      "name": "python"
    }
  },
  "cells": [
    {
      "cell_type": "markdown",
      "metadata": {
        "id": "view-in-github",
        "colab_type": "text"
      },
      "source": [
        "<a href=\"https://colab.research.google.com/github/sureshmecad/Samrat-Ashok-Technology-Internship/blob/main/Day10_NumPy_Array_Copy%2C_View%2C_Shape_and_Reshape_CSEPathshala.ipynb\" target=\"_parent\"><img src=\"https://colab.research.google.com/assets/colab-badge.svg\" alt=\"Open In Colab\"/></a>"
      ]
    },
    {
      "cell_type": "code",
      "metadata": {
        "id": "k2FIEUnYuEWg"
      },
      "source": [
        "import numpy as np"
      ],
      "execution_count": 1,
      "outputs": []
    },
    {
      "cell_type": "markdown",
      "metadata": {
        "id": "9lWa28vny16o"
      },
      "source": [
        "#### **NumPy Array Copy Vs View**"
      ]
    },
    {
      "cell_type": "markdown",
      "metadata": {
        "id": "WEJxsK6SzB2o"
      },
      "source": [
        "- The difference b/n copy and view\n",
        "\n",
        " - The main difference b/n copy and view of an array is that the copy is a new array, and the view is just a view of the original array.\n",
        "\n",
        " - The copy ownns the data and any changes made to the copy will not affect original array, and any changes made to the original array will not affect the copy.\n",
        "\n",
        " - The view does not own the data and any changes made to the view will affect the original array, and any changes made to the original array will affect the view."
      ]
    },
    {
      "cell_type": "markdown",
      "metadata": {
        "id": "jRJnYeu3Mfqt"
      },
      "source": [
        "#### **COPY EXAMPLE**\n",
        "- Make a copy, change the original array and display both arrays"
      ]
    },
    {
      "cell_type": "code",
      "metadata": {
        "colab": {
          "base_uri": "https://localhost:8080/"
        },
        "id": "V72rB8ieuT7t",
        "outputId": "a2d21d72-2068-4467-efd6-2bf1f63c01b0"
      },
      "source": [
        "arr = np.array([1,2,3,4,5])\n",
        "arr1 = arr.copy()\n",
        "arr[0] = 42\n",
        "print(arr)\n",
        "print(arr1)"
      ],
      "execution_count": 2,
      "outputs": [
        {
          "output_type": "stream",
          "name": "stdout",
          "text": [
            "[42  2  3  4  5]\n",
            "[1 2 3 4 5]\n"
          ]
        }
      ]
    },
    {
      "cell_type": "markdown",
      "metadata": {
        "id": "Z-7NAsewOaS-"
      },
      "source": [
        "#### **VIEW EXAMPLE**"
      ]
    },
    {
      "cell_type": "markdown",
      "metadata": {
        "id": "Hi7jA6rnOeJO"
      },
      "source": [
        "- Make a view, change the original array, and display both arrays."
      ]
    },
    {
      "cell_type": "code",
      "metadata": {
        "colab": {
          "base_uri": "https://localhost:8080/"
        },
        "id": "Py1jujMruT5W",
        "outputId": "97a7b051-d73a-44e1-ffe2-bd60ac0d43bc"
      },
      "source": [
        "arr = np.array([1,2,3,4,5])\n",
        "arr1 = arr.view()\n",
        "arr[0] = 42\n",
        "print(arr)\n",
        "print(arr1)"
      ],
      "execution_count": 3,
      "outputs": [
        {
          "output_type": "stream",
          "name": "stdout",
          "text": [
            "[42  2  3  4  5]\n",
            "[42  2  3  4  5]\n"
          ]
        }
      ]
    },
    {
      "cell_type": "markdown",
      "metadata": {
        "id": "2vn3ThXzOug_"
      },
      "source": [
        "- **Make changes in the view** \n",
        " - Make a view, change the view and display both arrays."
      ]
    },
    {
      "cell_type": "code",
      "metadata": {
        "colab": {
          "base_uri": "https://localhost:8080/"
        },
        "id": "PohYDdTSuT3H",
        "outputId": "eb13f1e5-6058-444a-8d0f-1e7b0c21db46"
      },
      "source": [
        "arr = np.array([1,2,3,4,5])\n",
        "arr1 = arr.view()\n",
        "arr[0] = 31\n",
        "print(arr)\n",
        "print(arr1)"
      ],
      "execution_count": 4,
      "outputs": [
        {
          "output_type": "stream",
          "name": "stdout",
          "text": [
            "[31  2  3  4  5]\n",
            "[31  2  3  4  5]\n"
          ]
        }
      ]
    },
    {
      "cell_type": "markdown",
      "metadata": {
        "id": "emgfI0ctPobR"
      },
      "source": [
        "#### **Check if Array owns its data**\n",
        "- As mentioned above, copies own the data and a view does not own the data, but how can we check this?\n",
        "\n",
        "- Every NumPy array has the attribute base that returns none if the array owns the data. Otherwise the base attribute refers to the original object."
      ]
    },
    {
      "cell_type": "markdown",
      "metadata": {
        "id": "1I158nAfS4Zu"
      },
      "source": [
        "##### **Print the value of the base attribute to check if an array owns it's data or not**"
      ]
    },
    {
      "cell_type": "code",
      "metadata": {
        "colab": {
          "base_uri": "https://localhost:8080/"
        },
        "id": "_k8hNnXKuT1Y",
        "outputId": "3d04b324-9fcd-4998-8fd2-6f65a49a9aba"
      },
      "source": [
        "arr = np.array([1,2,3,4,5])\n",
        "x = arr.copy()\n",
        "y = arr.view()\n",
        "print(x.base)\n",
        "print(y.base)"
      ],
      "execution_count": 5,
      "outputs": [
        {
          "output_type": "stream",
          "name": "stdout",
          "text": [
            "None\n",
            "[1 2 3 4 5]\n"
          ]
        }
      ]
    },
    {
      "cell_type": "markdown",
      "metadata": {
        "id": "Wff9DW_wV_gQ"
      },
      "source": [
        "#### **NumPy array shape**\n",
        "\n",
        "**Shape of an array:** The shape of an array is the number of elements in each dimension\n",
        "\n",
        "**Get the shape of an array:** Numpy arrays have an attribute called shape that returns a tuple with each index having the number of corresponding elements."
      ]
    },
    {
      "cell_type": "code",
      "metadata": {
        "colab": {
          "base_uri": "https://localhost:8080/"
        },
        "id": "MUhoM6YnuTzH",
        "outputId": "4cc55ded-8136-4619-8f5e-217064a8b226"
      },
      "source": [
        "arr = np.array([[1,2,3,4],[5,6,7,8]])\n",
        "print(arr.shape)"
      ],
      "execution_count": 6,
      "outputs": [
        {
          "output_type": "stream",
          "name": "stdout",
          "text": [
            "(2, 4)\n"
          ]
        }
      ]
    },
    {
      "cell_type": "markdown",
      "metadata": {
        "id": "zfPtSMgRXs2p"
      },
      "source": [
        "- Create an array with 5 dimensions using ndmin using a vector with values 1,2,3,4 and verify that last dimension has value 4."
      ]
    },
    {
      "cell_type": "code",
      "metadata": {
        "colab": {
          "base_uri": "https://localhost:8080/"
        },
        "id": "l21bGdoRuTxH",
        "outputId": "10b6d017-d117-41d2-9a23-82ccad5cf22e"
      },
      "source": [
        "arr = np.array([1,2,3,4], ndmin=5)\n",
        "print(arr)\n",
        "print(\"shape of array:\", arr.shape)"
      ],
      "execution_count": 7,
      "outputs": [
        {
          "output_type": "stream",
          "name": "stdout",
          "text": [
            "[[[[[1 2 3 4]]]]]\n",
            "shape of array: (1, 1, 1, 1, 4)\n"
          ]
        }
      ]
    },
    {
      "cell_type": "markdown",
      "metadata": {
        "id": "psjopRv_Yy3e"
      },
      "source": [
        "##### **What does the shape tuple represent?**\n",
        "\n",
        "- An integer at every index tells about the number of elements the corresponding dimension has. In the example above at index -4 we have value 4, so we can say that 5th(4+1th) dimension has 4 elements"
      ]
    },
    {
      "cell_type": "markdown",
      "metadata": {
        "id": "MaBUT2vJZoo5"
      },
      "source": [
        "#### **NumPy array Reshaping**\n",
        "\n",
        "- Reshaping means changing the shape of an array. The shape of an array is the number of elements in each dimension. By reshaping we can add or remove dimensions change number of elements in each dimension."
      ]
    },
    {
      "cell_type": "markdown",
      "metadata": {
        "id": "Pd0no5nhaXbj"
      },
      "source": [
        "- **Reshape from 1-D to 2-D**\n",
        "\n",
        " - Convert the following 1-D array with 12 elements into a 2-D array. The outermost dimension will have 4 arrays, each with 3 elements."
      ]
    },
    {
      "cell_type": "code",
      "metadata": {
        "colab": {
          "base_uri": "https://localhost:8080/"
        },
        "id": "90TDmbAkuTuu",
        "outputId": "94210a6d-cee8-4821-9570-5679f8810d69"
      },
      "source": [
        "arr = np.array([1,2,3,4,5,6,7,8,9,10,11,12])\n",
        "newarr = arr.reshape(4,3)\n",
        "print(newarr)"
      ],
      "execution_count": 8,
      "outputs": [
        {
          "output_type": "stream",
          "name": "stdout",
          "text": [
            "[[ 1  2  3]\n",
            " [ 4  5  6]\n",
            " [ 7  8  9]\n",
            " [10 11 12]]\n"
          ]
        }
      ]
    },
    {
      "cell_type": "markdown",
      "metadata": {
        "id": "x-m0XJX3b66v"
      },
      "source": [
        " - **Reshape from 1-D to 3-D**\n",
        "\n",
        "  - Convert the following 1-D array with 12 elements into a 3-D array. The outermost dimension will have 2 arrays that contain 3 arrays, each with 2 elements."
      ]
    },
    {
      "cell_type": "code",
      "metadata": {
        "colab": {
          "base_uri": "https://localhost:8080/"
        },
        "id": "nqKAsacruTs_",
        "outputId": "7e8555b9-447f-4d47-91a3-80117bbeb6ad"
      },
      "source": [
        "arr = np.array([1,2,3,4,5,6,7,8,9,10,11,12])\n",
        "newarr = arr.reshape(2,3,2)\n",
        "print(newarr)"
      ],
      "execution_count": 9,
      "outputs": [
        {
          "output_type": "stream",
          "name": "stdout",
          "text": [
            "[[[ 1  2]\n",
            "  [ 3  4]\n",
            "  [ 5  6]]\n",
            "\n",
            " [[ 7  8]\n",
            "  [ 9 10]\n",
            "  [11 12]]]\n"
          ]
        }
      ]
    },
    {
      "cell_type": "markdown",
      "metadata": {
        "id": "7VaWaXRbixhE"
      },
      "source": [
        "#### **Can we reshape into any shape?**\n",
        "\n",
        "- Yes, as long as the elements required for reshaping are equal in both shapes. We can reshape an 8 elements 1 D array into 4 elements in two rows 2D array but we cannot reshape it into a 3 elements 3 rows 2D array as that would require 3X3=9 elements."
      ]
    },
    {
      "cell_type": "markdown",
      "metadata": {
        "id": "1OYJsAKfltdD"
      },
      "source": [
        "- Converting 1 D array with 8 elements to a 2 D array with 3 elements in each dimension"
      ]
    },
    {
      "cell_type": "code",
      "metadata": {
        "colab": {
          "base_uri": "https://localhost:8080/",
          "height": 208
        },
        "id": "_qggy8m3uTqe",
        "outputId": "d36b2cf8-782a-49e7-c2e3-d669483bf10b"
      },
      "source": [
        "arr = np.array([1,2,3,4,5,6,7,8])\n",
        "newarr = arr.reshape(3,3)\n",
        "print(newarr)"
      ],
      "execution_count": 10,
      "outputs": [
        {
          "output_type": "error",
          "ename": "ValueError",
          "evalue": "ignored",
          "traceback": [
            "\u001b[0;31m---------------------------------------------------------------------------\u001b[0m",
            "\u001b[0;31mValueError\u001b[0m                                Traceback (most recent call last)",
            "\u001b[0;32m<ipython-input-10-e16f92a6391f>\u001b[0m in \u001b[0;36m<module>\u001b[0;34m()\u001b[0m\n\u001b[1;32m      1\u001b[0m \u001b[0marr\u001b[0m \u001b[0;34m=\u001b[0m \u001b[0mnp\u001b[0m\u001b[0;34m.\u001b[0m\u001b[0marray\u001b[0m\u001b[0;34m(\u001b[0m\u001b[0;34m[\u001b[0m\u001b[0;36m1\u001b[0m\u001b[0;34m,\u001b[0m\u001b[0;36m2\u001b[0m\u001b[0;34m,\u001b[0m\u001b[0;36m3\u001b[0m\u001b[0;34m,\u001b[0m\u001b[0;36m4\u001b[0m\u001b[0;34m,\u001b[0m\u001b[0;36m5\u001b[0m\u001b[0;34m,\u001b[0m\u001b[0;36m6\u001b[0m\u001b[0;34m,\u001b[0m\u001b[0;36m7\u001b[0m\u001b[0;34m,\u001b[0m\u001b[0;36m8\u001b[0m\u001b[0;34m]\u001b[0m\u001b[0;34m)\u001b[0m\u001b[0;34m\u001b[0m\u001b[0;34m\u001b[0m\u001b[0m\n\u001b[0;32m----> 2\u001b[0;31m \u001b[0mnewarr\u001b[0m \u001b[0;34m=\u001b[0m \u001b[0marr\u001b[0m\u001b[0;34m.\u001b[0m\u001b[0mreshape\u001b[0m\u001b[0;34m(\u001b[0m\u001b[0;36m3\u001b[0m\u001b[0;34m,\u001b[0m\u001b[0;36m3\u001b[0m\u001b[0;34m)\u001b[0m\u001b[0;34m\u001b[0m\u001b[0;34m\u001b[0m\u001b[0m\n\u001b[0m\u001b[1;32m      3\u001b[0m \u001b[0mprint\u001b[0m\u001b[0;34m(\u001b[0m\u001b[0mnewarr\u001b[0m\u001b[0;34m)\u001b[0m\u001b[0;34m\u001b[0m\u001b[0;34m\u001b[0m\u001b[0m\n",
            "\u001b[0;31mValueError\u001b[0m: cannot reshape array of size 8 into shape (3,3)"
          ]
        }
      ]
    },
    {
      "cell_type": "code",
      "metadata": {
        "colab": {
          "base_uri": "https://localhost:8080/"
        },
        "id": "_ff0LQjSuTo-",
        "outputId": "a0eb5da5-1f8a-4284-82fc-c6437ee46dd1"
      },
      "source": [
        "arr = np.array([1,2,3,4,5,6,7,8,9])\n",
        "newarr = arr.reshape(3,3)\n",
        "print(newarr)"
      ],
      "execution_count": 11,
      "outputs": [
        {
          "output_type": "stream",
          "name": "stdout",
          "text": [
            "[[1 2 3]\n",
            " [4 5 6]\n",
            " [7 8 9]]\n"
          ]
        }
      ]
    },
    {
      "cell_type": "markdown",
      "metadata": {
        "id": "5obVKonOnTKL"
      },
      "source": [
        "#### **Returns Copy or View?**\n",
        "- Check if returned array is a copy or a view"
      ]
    },
    {
      "cell_type": "code",
      "metadata": {
        "colab": {
          "base_uri": "https://localhost:8080/"
        },
        "id": "ZEJgwYwYuTme",
        "outputId": "b82daac3-5a63-4a71-fe1f-654c17f1f7fc"
      },
      "source": [
        "arr = np.array([1,2,3,4,5,6,7,8])\n",
        "print(arr.reshape(2,4).base)"
      ],
      "execution_count": 13,
      "outputs": [
        {
          "output_type": "stream",
          "name": "stdout",
          "text": [
            "[1 2 3 4 5 6 7 8]\n"
          ]
        }
      ]
    },
    {
      "cell_type": "markdown",
      "metadata": {
        "id": "YyOpPSpzol7d"
      },
      "source": [
        "#### **Unknown Dimension**\n",
        "\n",
        "- We are allowed to have one \"unknown\" dimension. Meaning that we do not have to specify an exact number for one of the dimensions in the reshape method. Pass -1 as the value, and numpy will calculate this number for you."
      ]
    },
    {
      "cell_type": "markdown",
      "metadata": {
        "id": "oC1m90CApYsM"
      },
      "source": [
        "- **Convert 1 D array with 8 elements to 3 D array with 2x2 elements.**"
      ]
    },
    {
      "cell_type": "code",
      "metadata": {
        "colab": {
          "base_uri": "https://localhost:8080/"
        },
        "id": "sSnP90Vwnh6t",
        "outputId": "5740b835-3053-4d87-f620-1baf43f46061"
      },
      "source": [
        "arr = np.array([1,2,3,4,5,6,7,8])\n",
        "newarr = arr.reshape(2,2,-1)\n",
        "print(newarr)"
      ],
      "execution_count": 14,
      "outputs": [
        {
          "output_type": "stream",
          "name": "stdout",
          "text": [
            "[[[1 2]\n",
            "  [3 4]]\n",
            "\n",
            " [[5 6]\n",
            "  [7 8]]]\n"
          ]
        }
      ]
    },
    {
      "cell_type": "markdown",
      "metadata": {
        "id": "nfn3Ahb3qcj2"
      },
      "source": [
        "- we can not pass -1 to more than one dimension"
      ]
    },
    {
      "cell_type": "markdown",
      "metadata": {
        "id": "3Y9DAIQFqryp"
      },
      "source": [
        "#### **Flattening the Arrays**\n",
        "\n",
        " - Flattening arrays means **converting a multidimensional array** into a **1-D array**. We can use **reshape(-1)** to do this."
      ]
    },
    {
      "cell_type": "markdown",
      "metadata": {
        "id": "tQHQmoFIrSzi"
      },
      "source": [
        "- **Convert the array into 1-D array**"
      ]
    },
    {
      "cell_type": "code",
      "metadata": {
        "colab": {
          "base_uri": "https://localhost:8080/"
        },
        "id": "3l5hy8Ulnhwl",
        "outputId": "377bfe85-2517-440b-f538-f3a4d1fab884"
      },
      "source": [
        "arr = np.array([[1,2,3],[4,5,6]])\n",
        "print(arr)\n",
        "newarr = arr.reshape(-1)\n",
        "print(newarr)"
      ],
      "execution_count": 15,
      "outputs": [
        {
          "output_type": "stream",
          "name": "stdout",
          "text": [
            "[[1 2 3]\n",
            " [4 5 6]]\n",
            "[1 2 3 4 5 6]\n"
          ]
        }
      ]
    },
    {
      "cell_type": "markdown",
      "metadata": {
        "id": "2FP3zhM0uLS_"
      },
      "source": [
        "#### **Reference**"
      ]
    },
    {
      "cell_type": "markdown",
      "metadata": {
        "id": "zRdDkEOEuN2u"
      },
      "source": [
        "- https://www.youtube.com/watch?v=CAWUxL2Cw_I&list=PLzx-_kRo3HZtP3tWaieUPwAh9K4I00_6p&index=10"
      ]
    }
  ]
}