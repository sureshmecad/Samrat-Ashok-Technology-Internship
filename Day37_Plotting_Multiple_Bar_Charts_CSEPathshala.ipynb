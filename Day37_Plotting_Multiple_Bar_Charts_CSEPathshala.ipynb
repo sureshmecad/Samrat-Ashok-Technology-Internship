{
  "nbformat": 4,
  "nbformat_minor": 0,
  "metadata": {
    "colab": {
      "name": "Day37_Plotting Multiple Bar Charts_CSEPathshala.ipynb",
      "provenance": [],
      "collapsed_sections": [],
      "authorship_tag": "ABX9TyP/80I/Bj0zNncmaQZqil03",
      "include_colab_link": true
    },
    "kernelspec": {
      "name": "python3",
      "display_name": "Python 3"
    },
    "language_info": {
      "name": "python"
    }
  },
  "cells": [
    {
      "cell_type": "markdown",
      "metadata": {
        "id": "view-in-github",
        "colab_type": "text"
      },
      "source": [
        "<a href=\"https://colab.research.google.com/github/sureshmecad/Samrat-Ashok-Technology-Internship/blob/main/Day37_Plotting_Multiple_Bar_Charts_CSEPathshala.ipynb\" target=\"_parent\"><img src=\"https://colab.research.google.com/assets/colab-badge.svg\" alt=\"Open In Colab\"/></a>"
      ]
    },
    {
      "cell_type": "markdown",
      "metadata": {
        "id": "k_kcHxmUwLiE"
      },
      "source": [
        "- Adding an additional line chart to the chart, we can add another bar graph to an existing chart."
      ]
    },
    {
      "cell_type": "code",
      "metadata": {
        "id": "EsV_j1PowK5n"
      },
      "source": [
        "import matplotlib.pyplot as plt\n",
        "%matplotlib inline\n",
        "from matplotlib import style\n",
        "style.use(\"ggplot\")"
      ],
      "execution_count": 1,
      "outputs": []
    },
    {
      "cell_type": "code",
      "metadata": {
        "colab": {
          "base_uri": "https://localhost:8080/",
          "height": 299
        },
        "id": "okxQwO8lvZ_I",
        "outputId": "f37ed720-d9b8-4ed5-d6ef-925c859a06e0"
      },
      "source": [
        "plt.bar([1,2,3,4,5,6,7,8,9,10], [2,4.5,1,2,3.5,2,1,2,3,2], label='Jim', color='m', align='center', alpha=0.5)\n",
        "plt.bar([1,2,3,4,5,6,7,8,9,10], [3,4,2,5,2,4,2.5,4,3.5,3], label='Tom', color='g', align='center', alpha=0.5)\n",
        "\n",
        "plt.title(\"Results\")    # sets the title for the chart\n",
        "plt.xlabel(\"Semister\")  # sets the label to use for the x-axis\n",
        "plt.ylabel(\"Grade\")     # sets the label to use for the y-axis\n",
        "plt.legend()\n",
        "plt.grid(True, color='y')"
      ],
      "execution_count": 3,
      "outputs": [
        {
          "output_type": "display_data",
          "data": {
            "image/png": "[encoded data removed]",
            "text/plain": [
              "<Figure size 432x288 with 1 Axes>"
            ]
          },
          "metadata": {
            "needs_background": "light"
          }
        }
      ]
    },
    {
      "cell_type": "markdown",
      "metadata": {
        "id": "RZq0Pe7lzM4f"
      },
      "source": [
        "- Because bars might overlap each with other, it is important to be able to distingish them by setting their alpha to 0.5(making them translucent)"
      ]
    },
    {
      "cell_type": "markdown",
      "metadata": {
        "id": "MkcJgA2nz4RD"
      },
      "source": [
        "#### **Changing the tick marks**\n",
        "\n",
        "- so far in our charts, the tick marks on the x-axis always displays the value that was supplied(such as 2,4,6 so on).\n",
        "\n",
        "- But what if our x-axis label is in the form of strings like this?"
      ]
    },
    {
      "cell_type": "code",
      "metadata": {
        "colab": {
          "base_uri": "https://localhost:8080/",
          "height": 265
        },
        "id": "fekt5IFTyxXX",
        "outputId": "6d81e692-314a-4533-e494-351af4cc27da"
      },
      "source": [
        "rainfall = [17,9,16,3,21,7,8,4,6,21,4,1]\n",
        "months = ['Jan', 'Feb', 'Mar', 'Apr', 'May', 'Jun', 'Jul', 'Aug', 'Sep', 'Oct', 'Nov', 'Dec']\n",
        "\n",
        "plt.bar(months, rainfall, align='center', color='orange')\n",
        "plt.show()"
      ],
      "execution_count": 4,
      "outputs": [
        {
          "output_type": "display_data",
          "data": {
            "image/png": "[encoded data removed]",
            "text/plain": [
              "<Figure size 432x288 with 1 Axes>"
            ]
          },
          "metadata": {
            "needs_background": "light"
          }
        }
      ]
    },
    {
      "cell_type": "markdown",
      "metadata": {
        "id": "PD1kmkHi2NLQ"
      },
      "source": [
        "- Create a range object matching the size of the rainfall list and use it to plot the chart.\n",
        "\n",
        "- To ensure that month labels are displayed correctly on the x-axis, use the **xticks()** function."
      ]
    },
    {
      "cell_type": "code",
      "metadata": {
        "colab": {
          "base_uri": "https://localhost:8080/",
          "height": 276
        },
        "id": "xb0zwtpH24zU",
        "outputId": "1178a7ce-ee98-4cd7-c4b3-5ab15fc46347"
      },
      "source": [
        "rainfall = [17,9,16,3,21,7,8,4,6,21,4,1]\n",
        "months = ['Jan', 'Feb', 'Mar', 'Apr', 'May', 'Jun', 'Jul', 'Aug', 'Sep', 'Oct', 'Nov', 'Dec']\n",
        "\n",
        "plt.bar(range(len(rainfall)), rainfall, align='center', color='orange')\n",
        "\n",
        "plt.xticks(range(len(rainfall)), months, rotation='vertical')\n",
        "plt.show()"
      ],
      "execution_count": 6,
      "outputs": [
        {
          "output_type": "display_data",
          "data": {
            "image/png": "[encoded data removed]",
            "text/plain": [
              "<Figure size 432x288 with 1 Axes>"
            ]
          },
          "metadata": {
            "needs_background": "light"
          }
        }
      ]
    },
    {
      "cell_type": "markdown",
      "metadata": {
        "id": "G026RnS63zNz"
      },
      "source": [
        "- The **xticks** function sets the tick labels on the x-axis as well the positioning of the ticks"
      ]
    },
    {
      "cell_type": "markdown",
      "metadata": {
        "id": "JhtGZ1Ij5JiP"
      },
      "source": [
        "#### **Reference**\n",
        "\n",
        "- https://www.youtube.com/watch?v=-i_FddJkpT8&list=PLzx-_kRo3HZtP3tWaieUPwAh9K4I00_6p&index=48"
      ]
    }
  ]
}