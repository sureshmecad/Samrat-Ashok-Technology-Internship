{
  "nbformat": 4,
  "nbformat_minor": 0,
  "metadata": {
    "colab": {
      "name": "Day24_Logs and Summation in NumPy_CSEPathshala.ipynb",
      "provenance": [],
      "collapsed_sections": [],
      "authorship_tag": "ABX9TyOfes2rDbGXNfT7kTuqb0Mm",
      "include_colab_link": true
    },
    "kernelspec": {
      "name": "python3",
      "display_name": "Python 3"
    },
    "language_info": {
      "name": "python"
    }
  },
  "cells": [
    {
      "cell_type": "markdown",
      "metadata": {
        "id": "view-in-github",
        "colab_type": "text"
      },
      "source": [
        "<a href=\"https://colab.research.google.com/github/sureshmecad/Samrat-Ashok-Technology-Internship/blob/main/Day24_Logs_and_Summation_in_NumPy_CSEPathshala.ipynb\" target=\"_parent\"><img src=\"https://colab.research.google.com/assets/colab-badge.svg\" alt=\"Open In Colab\"/></a>"
      ]
    },
    {
      "cell_type": "markdown",
      "metadata": {
        "id": "wkqdZuw9dbn2"
      },
      "source": [
        "### **NumPy Logs and Summation**"
      ]
    },
    {
      "cell_type": "markdown",
      "metadata": {
        "id": "Z6YEgin3dyLt"
      },
      "source": [
        "#### **1) Logs**\n",
        "\n",
        "- **NumPy** provides functions to perform **log at the base 2, e and 10**.\n",
        "\n",
        "- We can take **log** for any base by creating a **custom ufunc**.\n",
        "\n",
        "- All of the log functions will place **-inf or inf** in the elements if the log cannot be computed."
      ]
    },
    {
      "cell_type": "markdown",
      "metadata": {
        "id": "twREkXY-ejkb"
      },
      "source": [
        "##### **a) Log at base 2**\n",
        "\n",
        "- Use the **log2()** function to perform **log at the base 2**."
      ]
    },
    {
      "cell_type": "code",
      "metadata": {
        "id": "QJpB-o6OfAEZ"
      },
      "source": [
        "import numpy as np"
      ],
      "execution_count": 1,
      "outputs": []
    },
    {
      "cell_type": "code",
      "metadata": {
        "colab": {
          "base_uri": "https://localhost:8080/"
        },
        "id": "L-8wapLGdNlC",
        "outputId": "5d7f7f9a-ab77-42c4-cabd-886f1e73c1d1"
      },
      "source": [
        "# Find log at base 2 of all elements of following array.\n",
        "\n",
        "arr = np.arange(1, 10)\n",
        "print(np.log2(arr))"
      ],
      "execution_count": 2,
      "outputs": [
        {
          "output_type": "stream",
          "name": "stdout",
          "text": [
            "[0.         1.         1.5849625  2.         2.32192809 2.5849625\n",
            " 2.80735492 3.         3.169925  ]\n"
          ]
        }
      ]
    },
    {
      "cell_type": "markdown",
      "metadata": {
        "id": "3BBGpIlWf3_7"
      },
      "source": [
        "**Note:** The **arange(1, 10)** function returns an array with integers starting **from 1 (included) to 10 (not included)**"
      ]
    },
    {
      "cell_type": "markdown",
      "metadata": {
        "id": "PBU75LzGgPrC"
      },
      "source": [
        "##### **b) Log at base 10**\n",
        "\n",
        "- Use the **log10()** function to perform **log at the base 10**."
      ]
    },
    {
      "cell_type": "code",
      "metadata": {
        "colab": {
          "base_uri": "https://localhost:8080/"
        },
        "id": "FKBJC5VTdaul",
        "outputId": "90091ee9-088e-457a-9490-2ceedf701980"
      },
      "source": [
        "# Find log at base 10 of all elements of following array\n",
        "\n",
        "arr = np.arange(1, 10)\n",
        "print(np.log10(arr))"
      ],
      "execution_count": 3,
      "outputs": [
        {
          "output_type": "stream",
          "name": "stdout",
          "text": [
            "[0.         0.30103    0.47712125 0.60205999 0.69897    0.77815125\n",
            " 0.84509804 0.90308999 0.95424251]\n"
          ]
        }
      ]
    },
    {
      "cell_type": "markdown",
      "metadata": {
        "id": "hOS3OCXDg64G"
      },
      "source": [
        "##### **c) Natural Log or Log at Base e**\n",
        "\n",
        "- Use the **log()** function to perform **log at the base e**."
      ]
    },
    {
      "cell_type": "code",
      "metadata": {
        "colab": {
          "base_uri": "https://localhost:8080/"
        },
        "id": "I_FXRmH2daql",
        "outputId": "2623d799-79b2-4a5a-bea3-e1a00bc8479e"
      },
      "source": [
        "# Find Log at base e of all elements of following array\n",
        "\n",
        "arr = np.arange(1, 10)\n",
        "print(np.log(arr))"
      ],
      "execution_count": 4,
      "outputs": [
        {
          "output_type": "stream",
          "name": "stdout",
          "text": [
            "[0.         0.69314718 1.09861229 1.38629436 1.60943791 1.79175947\n",
            " 1.94591015 2.07944154 2.19722458]\n"
          ]
        }
      ]
    },
    {
      "cell_type": "markdown",
      "metadata": {
        "id": "23b60-RqkAdD"
      },
      "source": [
        "##### **d) Log at any base**\n",
        "\n",
        "- NumPy does not provide any function to take log at any base, so we can use the **frompyfunc()** function along with inbuilt function **math.log()** with **two input parameters and one output parameter**."
      ]
    },
    {
      "cell_type": "code",
      "metadata": {
        "colab": {
          "base_uri": "https://localhost:8080/"
        },
        "id": "BijFba67damm",
        "outputId": "979bad1f-c2d4-4645-d79b-1d877ac37be2"
      },
      "source": [
        "from math import log\n",
        "nplog = np.frompyfunc(log, 2, 1)\n",
        "print(nplog(100, 15))"
      ],
      "execution_count": 5,
      "outputs": [
        {
          "output_type": "stream",
          "name": "stdout",
          "text": [
            "1.7005483074552052\n"
          ]
        }
      ]
    },
    {
      "cell_type": "markdown",
      "metadata": {
        "id": "KubqrYxkl5zZ"
      },
      "source": [
        "##### **e) NumPy Summations**\n",
        "\n",
        "- What is the difference between summation and addition?\n",
        "\n",
        "- Addition is done between two arguments whereas summation happens over n elements"
      ]
    },
    {
      "cell_type": "code",
      "metadata": {
        "colab": {
          "base_uri": "https://localhost:8080/"
        },
        "id": "CHiCXBwrdait",
        "outputId": "0b6f6573-bf1b-45e4-a1a6-ef0746154810"
      },
      "source": [
        "# Add the values in arr1 to the values in arr2\n",
        "\n",
        "arr1 = np.array([1, 2, 3])\n",
        "arr2 = np.array([1, 2, 3])\n",
        "\n",
        "newarr = np.add(arr1, arr2)\n",
        "print(newarr)"
      ],
      "execution_count": 8,
      "outputs": [
        {
          "output_type": "stream",
          "name": "stdout",
          "text": [
            "[2 4 6]\n"
          ]
        }
      ]
    },
    {
      "cell_type": "code",
      "metadata": {
        "colab": {
          "base_uri": "https://localhost:8080/"
        },
        "id": "GqjOGVTgdaev",
        "outputId": "eac7bd74-a6b9-4214-f3ab-a016782cc012"
      },
      "source": [
        "# Sum the values in arr1 to the values in arr2\n",
        "\n",
        "arr1 = np.array([1, 2, 3])\n",
        "arr2 = np.array([1, 2, 3])\n",
        "\n",
        "newarr = np.sum([arr1, arr2])\n",
        "print(newarr)"
      ],
      "execution_count": 7,
      "outputs": [
        {
          "output_type": "stream",
          "name": "stdout",
          "text": [
            "12\n"
          ]
        }
      ]
    },
    {
      "cell_type": "markdown",
      "metadata": {
        "id": "rMeodRXUq5u3"
      },
      "source": [
        "##### **f) Summation Over an Axis**\n",
        "\n",
        "- If we specify **axis=1**, NumPy will sum the numbers in **each array**"
      ]
    },
    {
      "cell_type": "code",
      "metadata": {
        "colab": {
          "base_uri": "https://localhost:8080/"
        },
        "id": "hpRi5d5Rdaat",
        "outputId": "38c3b692-118f-4a63-ebf7-a54824d0052e"
      },
      "source": [
        "# Perform summation in the following array over 1st axis\n",
        "\n",
        "arr1 = np.array([1, 2, 3])\n",
        "arr2 = np.array([1, 2, 3])\n",
        "\n",
        "newarr = np.sum([arr1, arr2], axis=1)\n",
        "print(newarr)"
      ],
      "execution_count": 9,
      "outputs": [
        {
          "output_type": "stream",
          "name": "stdout",
          "text": [
            "[6 6]\n"
          ]
        }
      ]
    },
    {
      "cell_type": "markdown",
      "metadata": {
        "id": "f19C2VdAshX3"
      },
      "source": [
        "##### **g) Cumulative Sum**\n",
        "\n",
        "- Cumulative sum means partially adding the elements in array\n",
        "\n",
        "- E.g. The partial sum of [1, 2, 3, 4] would be [1, 1+2, 1+2+3, 1+2+3+4] = [1, 3, 6, 10]\n",
        "\n",
        "- Perform partial sum with the cumsum() function"
      ]
    },
    {
      "cell_type": "code",
      "metadata": {
        "colab": {
          "base_uri": "https://localhost:8080/"
        },
        "id": "QXBIO9lXdaWt",
        "outputId": "afacfd22-66f3-48d3-9035-8ad793f080cb"
      },
      "source": [
        "# Perform cumulative summation in the following array\n",
        "\n",
        "arr = np.array([1, 2, 3])\n",
        "newarr = np.cumsum(arr)\n",
        "print(newarr)"
      ],
      "execution_count": 10,
      "outputs": [
        {
          "output_type": "stream",
          "name": "stdout",
          "text": [
            "[1 3 6]\n"
          ]
        }
      ]
    },
    {
      "cell_type": "markdown",
      "metadata": {
        "id": "RoPSmlHUdTJt"
      },
      "source": [
        "#### **Reference**\n",
        "\n",
        "- https://www.youtube.com/watch?v=_Zq3Gye7upw&list=PLzx-_kRo3HZtP3tWaieUPwAh9K4I00_6p&index=24"
      ]
    }
  ]
}