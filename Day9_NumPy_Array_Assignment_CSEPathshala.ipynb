{
  "nbformat": 4,
  "nbformat_minor": 0,
  "metadata": {
    "colab": {
      "name": "Day9_NumPy-Array-Assignment_CSEPathshala.ipynb",
      "provenance": [],
      "collapsed_sections": [],
      "authorship_tag": "ABX9TyM1cYR0Z1VBntA+NIuJCEZV",
      "include_colab_link": true
    },
    "kernelspec": {
      "name": "python3",
      "display_name": "Python 3"
    },
    "language_info": {
      "name": "python"
    }
  },
  "cells": [
    {
      "cell_type": "markdown",
      "metadata": {
        "id": "view-in-github",
        "colab_type": "text"
      },
      "source": [
        "<a href=\"https://colab.research.google.com/github/sureshmecad/Samrat-Ashok-Technology-Internship/blob/main/Day9_NumPy_Array_Assignment_CSEPathshala.ipynb\" target=\"_parent\"><img src=\"https://colab.research.google.com/assets/colab-badge.svg\" alt=\"Open In Colab\"/></a>"
      ]
    },
    {
      "cell_type": "code",
      "metadata": {
        "id": "JD8a9Bj_N7Og"
      },
      "source": [
        "import numpy as np"
      ],
      "execution_count": 1,
      "outputs": []
    },
    {
      "cell_type": "markdown",
      "metadata": {
        "id": "rAQwFRjKOwu-"
      },
      "source": [
        "- When assigning **NumPy arrays**, we have to take note of **how arrays are assigned.**"
      ]
    },
    {
      "cell_type": "markdown",
      "metadata": {
        "id": "ZIZTNWxOPNuP"
      },
      "source": [
        "#### **Copying Reference**"
      ]
    },
    {
      "cell_type": "code",
      "metadata": {
        "colab": {
          "base_uri": "https://localhost:8080/"
        },
        "id": "yjWwCttrOGDI",
        "outputId": "43a2de08-4b70-4411-d7e0-06419fea7199"
      },
      "source": [
        "list = [[1,2,3],[4,5,6]]\n",
        "array1 = np.array(list)\n",
        "print(\"The value of array1 is:\")\n",
        "print(array1)"
      ],
      "execution_count": 2,
      "outputs": [
        {
          "output_type": "stream",
          "name": "stdout",
          "text": [
            "The value of array1 is:\n",
            "[[1 2 3]\n",
            " [4 5 6]]\n"
          ]
        }
      ]
    },
    {
      "cell_type": "markdown",
      "metadata": {
        "id": "OUA_5xdWQRCf"
      },
      "source": [
        "- When we assign **array1 to another variable, array2**, a **copy** of the **array is created**."
      ]
    },
    {
      "cell_type": "code",
      "metadata": {
        "colab": {
          "base_uri": "https://localhost:8080/"
        },
        "id": "pRDjAaaVOGBO",
        "outputId": "6595eb7e-005d-4306-b148-55f4c27d7bba"
      },
      "source": [
        "list = [[1,2,3],[4,5,6]]\n",
        "array1 = np.array(list)\n",
        "print(\"The value of array1 is:\")\n",
        "print(array1)\n",
        "array2 = array1\n",
        "print(\"The value of array2 is:\")\n",
        "print(array2)"
      ],
      "execution_count": 3,
      "outputs": [
        {
          "output_type": "stream",
          "name": "stdout",
          "text": [
            "The value of array1 is:\n",
            "[[1 2 3]\n",
            " [4 5 6]]\n",
            "The value of array2 is:\n",
            "[[1 2 3]\n",
            " [4 5 6]]\n"
          ]
        }
      ]
    },
    {
      "cell_type": "markdown",
      "metadata": {
        "id": "oH8qW2r0SICc"
      },
      "source": [
        "- However, **array2** is actually pointing to the **original array1**. So **any changes made to either array will affect the other**."
      ]
    },
    {
      "cell_type": "code",
      "metadata": {
        "colab": {
          "base_uri": "https://localhost:8080/"
        },
        "id": "QfWYSAf4OF_B",
        "outputId": "2ba1115d-1848-46ba-a1b9-40dd73a5a5ca"
      },
      "source": [
        "list = [[1,2,3],[4,5,6]]\n",
        "array1 = np.array(list)\n",
        "print(\"The value of array1 is:\")\n",
        "print(array1)\n",
        "array2 = array1\n",
        "print(\"The value of array2 is:\")\n",
        "print(array2)\n",
        "array2[0][0]=11\n",
        "print(\"The updated array2 is:\")\n",
        "print(array2)\n",
        "print(\"The updated array1 is:\")\n",
        "print(array1)"
      ],
      "execution_count": 4,
      "outputs": [
        {
          "output_type": "stream",
          "name": "stdout",
          "text": [
            "The value of array1 is:\n",
            "[[1 2 3]\n",
            " [4 5 6]]\n",
            "The value of array2 is:\n",
            "[[1 2 3]\n",
            " [4 5 6]]\n",
            "The updated array2 is:\n",
            "[[11  2  3]\n",
            " [ 4  5  6]]\n",
            "The updated array1 is:\n",
            "[[11  2  3]\n",
            " [ 4  5  6]]\n"
          ]
        }
      ]
    },
    {
      "cell_type": "markdown",
      "metadata": {
        "id": "S8_K6GUiUVFG"
      },
      "source": [
        "- In the **\"Reshaping arrays\"**, we saw how to change the shape of an ndarray using the **reshape()** function.\n",
        "\n",
        "- In addition to using reshape() function, we can also use the shape property of the ndarray to change its dimension. If **array1 changes ahape, array2 will also be affected.** "
      ]
    },
    {
      "cell_type": "code",
      "metadata": {
        "colab": {
          "base_uri": "https://localhost:8080/"
        },
        "id": "3zrJ55lHOF9Y",
        "outputId": "ba52629b-4d1f-4a2a-c77c-3d122a62cb1e"
      },
      "source": [
        "list = [[1,2,3],[4,5,6]]\n",
        "array1 = np.array(list)\n",
        "print(\"The value of array1 is:\")\n",
        "print(array1)\n",
        "array2 = array1\n",
        "print(\"The value of array2 is:\")\n",
        "print(array2)\n",
        "array1.shape = 1,-1\n",
        "print(\"The updated value of array1 is:\")\n",
        "print(array1)\n",
        "print(\"The updated value of array2 is:\")\n",
        "print(array2)"
      ],
      "execution_count": 5,
      "outputs": [
        {
          "output_type": "stream",
          "name": "stdout",
          "text": [
            "The value of array1 is:\n",
            "[[1 2 3]\n",
            " [4 5 6]]\n",
            "The value of array2 is:\n",
            "[[1 2 3]\n",
            " [4 5 6]]\n",
            "The updated value of array1 is:\n",
            "[[1 2 3 4 5 6]]\n",
            "The updated value of array2 is:\n",
            "[[1 2 3 4 5 6]]\n"
          ]
        }
      ]
    },
    {
      "cell_type": "markdown",
      "metadata": {
        "id": "AylJMAEKX7aU"
      },
      "source": [
        "#### **Copying by View (Shallow Copy)**\n",
        "\n",
        "- NumPy has a **view() function** that allows us to **create a copy of an array** by reference, while at the same time ensuring that **changing the shape of the original array does not affect the shape of the copy**. This is known as a shallow copy."
      ]
    },
    {
      "cell_type": "code",
      "metadata": {
        "colab": {
          "base_uri": "https://localhost:8080/"
        },
        "id": "gnETtDEqOF6_",
        "outputId": "6d4f7f87-b0ca-4f48-deee-d75e4fca79e4"
      },
      "source": [
        "list = [[1,2,3],[4,5,6]]\n",
        "array1 = np.array(list)\n",
        "print(\"The value of array1 is:\")\n",
        "print(array1)\n",
        "array2 = array1.view()\n",
        "print(\"The value of array2 is:\")\n",
        "print(array2)"
      ],
      "execution_count": 6,
      "outputs": [
        {
          "output_type": "stream",
          "name": "stdout",
          "text": [
            "The value of array1 is:\n",
            "[[1 2 3]\n",
            " [4 5 6]]\n",
            "The value of array2 is:\n",
            "[[1 2 3]\n",
            " [4 5 6]]\n"
          ]
        }
      ]
    },
    {
      "cell_type": "markdown",
      "metadata": {
        "id": "q0gWxsYEcdi3"
      },
      "source": [
        "- **modify a value in array1** and we will see the **changes in array2**."
      ]
    },
    {
      "cell_type": "code",
      "metadata": {
        "colab": {
          "base_uri": "https://localhost:8080/"
        },
        "id": "GuTlIrvoOF24",
        "outputId": "ba0ba825-889e-4e9d-a8ac-da1b48db7a99"
      },
      "source": [
        "list = [[1,2,3],[4,5,6]]\n",
        "array1 = np.array(list)\n",
        "print(\"The value of array1 is:\")\n",
        "print(array1)\n",
        "array2 = array1.view()\n",
        "print(\"The value of array2 is:\")\n",
        "print(array2)\n",
        "array1[0][0]=11\n",
        "print(\"The updated array1 is:\")\n",
        "print(array1)\n",
        "print(\"The updated array2 is:\")\n",
        "print(array2)"
      ],
      "execution_count": 7,
      "outputs": [
        {
          "output_type": "stream",
          "name": "stdout",
          "text": [
            "The value of array1 is:\n",
            "[[1 2 3]\n",
            " [4 5 6]]\n",
            "The value of array2 is:\n",
            "[[1 2 3]\n",
            " [4 5 6]]\n",
            "The updated array1 is:\n",
            "[[11  2  3]\n",
            " [ 4  5  6]]\n",
            "The updated array2 is:\n",
            "[[11  2  3]\n",
            " [ 4  5  6]]\n"
          ]
        }
      ]
    },
    {
      "cell_type": "markdown",
      "metadata": {
        "id": "X6xNL0XldoOK"
      },
      "source": [
        "- Untill now the **shallow copy** is identical to the copying performed in the previous section. But with shallow copying, when we **change the shape of array1, array2 is unaffected.**"
      ]
    },
    {
      "cell_type": "code",
      "metadata": {
        "colab": {
          "base_uri": "https://localhost:8080/"
        },
        "id": "XIT83sRJOFy_",
        "outputId": "a3edac83-e5c1-4385-c84e-42a2b52f8885"
      },
      "source": [
        "list = [[1,2,3],[4,5,6]]\n",
        "array1 = np.array(list)\n",
        "print(\"The value of array1 is:\")\n",
        "print(array1)\n",
        "array2 = array1.view()\n",
        "print(\"The value of array2 is:\")\n",
        "print(array2)\n",
        "array1.shape = 1,-1\n",
        "print(\"The updated value of array1 is:\")\n",
        "print(array1)\n",
        "print(\"The updated value of array2 is:\")\n",
        "print(array2)"
      ],
      "execution_count": 8,
      "outputs": [
        {
          "output_type": "stream",
          "name": "stdout",
          "text": [
            "The value of array1 is:\n",
            "[[1 2 3]\n",
            " [4 5 6]]\n",
            "The value of array2 is:\n",
            "[[1 2 3]\n",
            " [4 5 6]]\n",
            "The updated value of array1 is:\n",
            "[[1 2 3 4 5 6]]\n",
            "The updated value of array2 is:\n",
            "[[1 2 3]\n",
            " [4 5 6]]\n"
          ]
        }
      ]
    },
    {
      "cell_type": "markdown",
      "metadata": {
        "id": "FgkpgZhrfYGG"
      },
      "source": [
        "#### **Copying by Value (Deep Copy)**\n",
        "\n",
        "- If you want to copy an array by value, use the **copy()** function."
      ]
    },
    {
      "cell_type": "code",
      "metadata": {
        "colab": {
          "base_uri": "https://localhost:8080/"
        },
        "id": "uqyr_YE5OFyW",
        "outputId": "f8a214d4-53b3-43c2-88a8-1cac46d621cf"
      },
      "source": [
        "list = [[1,2,3,4],[5,6,7,8]]\n",
        "array1 = np.array(list)\n",
        "array2 = array1.copy()\n",
        "print(\"The value of array1 is:\")\n",
        "print(array1)\n",
        "print(\"The value of array2 is:\")\n",
        "print(array2)"
      ],
      "execution_count": 10,
      "outputs": [
        {
          "output_type": "stream",
          "name": "stdout",
          "text": [
            "The value of array1 is:\n",
            "[[1 2 3 4]\n",
            " [5 6 7 8]]\n",
            "The value of array2 is:\n",
            "[[1 2 3 4]\n",
            " [5 6 7 8]]\n"
          ]
        }
      ]
    },
    {
      "cell_type": "markdown",
      "metadata": {
        "id": "PTuqVB60gwb_"
      },
      "source": [
        "- The **copy()** function creates a **deep copy of the array** -- it creates a complete copy of the array and its data. When you assign the **copy of the array to another variable**, any **changes** made to the **shape** of the original array **will not affect** its copy."
      ]
    },
    {
      "cell_type": "code",
      "metadata": {
        "colab": {
          "base_uri": "https://localhost:8080/"
        },
        "id": "HqDcbPE9f2sh",
        "outputId": "70d99d48-e98c-44cc-9d6c-3aa006c50658"
      },
      "source": [
        "list = [[1,2,3],[4,5,6]]\n",
        "array1 = np.array(list)\n",
        "print(\"The value of array1 is:\")\n",
        "print(array1)\n",
        "array2 = array1.copy()\n",
        "print(\"The value of array2 is:\")\n",
        "print(array2)\n",
        "array1[0][0]=11\n",
        "print(\"The updated array1 is:\")\n",
        "print(array1)\n",
        "print(\"The updated array2 is:\")\n",
        "print(array2)"
      ],
      "execution_count": 11,
      "outputs": [
        {
          "output_type": "stream",
          "name": "stdout",
          "text": [
            "The value of array1 is:\n",
            "[[1 2 3]\n",
            " [4 5 6]]\n",
            "The value of array2 is:\n",
            "[[1 2 3]\n",
            " [4 5 6]]\n",
            "The updated array1 is:\n",
            "[[11  2  3]\n",
            " [ 4  5  6]]\n",
            "The updated array2 is:\n",
            "[[1 2 3]\n",
            " [4 5 6]]\n"
          ]
        }
      ]
    },
    {
      "cell_type": "code",
      "metadata": {
        "colab": {
          "base_uri": "https://localhost:8080/"
        },
        "id": "2I4wcH9Mf2rK",
        "outputId": "eed55c52-3011-47ec-e97c-8f54b05872a6"
      },
      "source": [
        "list = [[1,2,3],[4,5,6]]\n",
        "array1 = np.array(list)\n",
        "print(\"The value of array1 is:\")\n",
        "print(array1)\n",
        "array2 = array1.copy()\n",
        "print(\"The value of array2 is:\")\n",
        "print(array2)\n",
        "array1.shape = 1,-1\n",
        "print(\"The updated value of array1 is:\")\n",
        "print(array1)\n",
        "print(\"The updated value of array2 is:\")\n",
        "print(array2)"
      ],
      "execution_count": 12,
      "outputs": [
        {
          "output_type": "stream",
          "name": "stdout",
          "text": [
            "The value of array1 is:\n",
            "[[1 2 3]\n",
            " [4 5 6]]\n",
            "The value of array2 is:\n",
            "[[1 2 3]\n",
            " [4 5 6]]\n",
            "The updated value of array1 is:\n",
            "[[1 2 3 4 5 6]]\n",
            "The updated value of array2 is:\n",
            "[[1 2 3]\n",
            " [4 5 6]]\n"
          ]
        }
      ]
    },
    {
      "cell_type": "markdown",
      "metadata": {
        "id": "Lk3nZ0WvN9V_"
      },
      "source": [
        "#### **Reference**"
      ]
    },
    {
      "cell_type": "markdown",
      "metadata": {
        "id": "rMcOLi6rOBfG"
      },
      "source": [
        "- https://www.youtube.com/watch?v=dFBkrfj3QdY&list=PLzx-_kRo3HZtP3tWaieUPwAh9K4I00_6p&index=9"
      ]
    }
  ]
}