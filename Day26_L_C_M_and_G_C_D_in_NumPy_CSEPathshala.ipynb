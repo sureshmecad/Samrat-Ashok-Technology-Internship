{
  "nbformat": 4,
  "nbformat_minor": 0,
  "metadata": {
    "colab": {
      "name": "Day26_L. C. M and G. C. D in NumPy_CSEPathshala.ipynb",
      "provenance": [],
      "collapsed_sections": [],
      "authorship_tag": "ABX9TyPnGvLMtQz/P7CgLcMQtiGj",
      "include_colab_link": true
    },
    "kernelspec": {
      "name": "python3",
      "display_name": "Python 3"
    },
    "language_info": {
      "name": "python"
    }
  },
  "cells": [
    {
      "cell_type": "markdown",
      "metadata": {
        "id": "view-in-github",
        "colab_type": "text"
      },
      "source": [
        "<a href=\"https://colab.research.google.com/github/sureshmecad/Samrat-Ashok-Technology-Internship/blob/main/Day26_L_C_M_and_G_C_D_in_NumPy_CSEPathshala.ipynb\" target=\"_parent\"><img src=\"https://colab.research.google.com/assets/colab-badge.svg\" alt=\"Open In Colab\"/></a>"
      ]
    },
    {
      "cell_type": "markdown",
      "metadata": {
        "id": "A7si4d_AC3ng"
      },
      "source": [
        "#### **Finding LCM (Lowest Common Multiple)**\n",
        "\n",
        "- The lowest common multiple is the least number that is common multiple of both of the numbers."
      ]
    },
    {
      "cell_type": "code",
      "metadata": {
        "id": "oXXLfnMuD0MI"
      },
      "source": [
        "import numpy as np"
      ],
      "execution_count": null,
      "outputs": []
    },
    {
      "cell_type": "code",
      "metadata": {
        "colab": {
          "base_uri": "https://localhost:8080/"
        },
        "id": "aNP8M2rUBelA",
        "outputId": "c1ac582b-7e90-41e4-95bf-fd4d3ca04aa2"
      },
      "source": [
        "# Find the LCM of the following two numbers\n",
        "\n",
        "num1 = 4\n",
        "num2 = 6\n",
        "\n",
        "x = np.lcm(num1, num2)\n",
        "print(x)"
      ],
      "execution_count": null,
      "outputs": [
        {
          "output_type": "stream",
          "name": "stdout",
          "text": [
            "12\n"
          ]
        }
      ]
    },
    {
      "cell_type": "markdown",
      "metadata": {
        "id": "VX8KKdQIEYHo"
      },
      "source": [
        "**Returns:** 12 because that is the lowest common multiple of both numbers **(4*3=12 and 6*2=12)**"
      ]
    },
    {
      "cell_type": "markdown",
      "metadata": {
        "id": "9GpWD1tbFMPJ"
      },
      "source": [
        "#### **Finding LCM in Arrays**\n",
        "\n",
        "- To find the **Lowest Common Multiple** of all values in an array, we can use the **reduce()** method.\n",
        "\n",
        "- The **reduce()** method will use the **ufunc**, in this case the **lcm()** function, on each element and reduce the array by **one dimension**"
      ]
    },
    {
      "cell_type": "code",
      "metadata": {
        "colab": {
          "base_uri": "https://localhost:8080/"
        },
        "id": "3DT6nOyNBvdF",
        "outputId": "6aba4971-7592-446c-a46f-0b58f5b9294a"
      },
      "source": [
        "# Find the LCM of the values of the following array\n",
        "\n",
        "arr = np.array([3, 6, 9])\n",
        "\n",
        "x = np.lcm.reduce(arr)\n",
        "print(x)"
      ],
      "execution_count": null,
      "outputs": [
        {
          "output_type": "stream",
          "name": "stdout",
          "text": [
            "18\n"
          ]
        }
      ]
    },
    {
      "cell_type": "markdown",
      "metadata": {
        "id": "qPAW9Fe0G0IL"
      },
      "source": [
        "**Returns:** 18 because that is the **lowest common multiple** of all three numbers **(3*6=18, 6*3=18 and 9*2=18)**"
      ]
    },
    {
      "cell_type": "code",
      "metadata": {
        "colab": {
          "base_uri": "https://localhost:8080/"
        },
        "id": "csnc05NzBvYm",
        "outputId": "19b148b2-2db3-4b11-bca0-8912b6dc8321"
      },
      "source": [
        "# Find the LCM of all of an array where the array contains all integers from 1 to 10\n",
        "\n",
        "arr = np.arange(1, 11)\n",
        "\n",
        "x = np.lcm.reduce(arr)\n",
        "print(x)"
      ],
      "execution_count": null,
      "outputs": [
        {
          "output_type": "stream",
          "name": "stdout",
          "text": [
            "2520\n"
          ]
        }
      ]
    },
    {
      "cell_type": "markdown",
      "metadata": {
        "id": "oTvswzeFIaDO"
      },
      "source": [
        "#### **Finding GCD (Greatest Common Denominator)**\n",
        "\n",
        "- The GCD (Greatest Common Denominator), also known as HCF (Highest Common Factor) is the biggest number that is a common factor of both of the numbers."
      ]
    },
    {
      "cell_type": "code",
      "metadata": {
        "colab": {
          "base_uri": "https://localhost:8080/"
        },
        "id": "NkDZZVt5BvUN",
        "outputId": "e6b4f7e5-d874-419d-9c44-c3d6421c8b5c"
      },
      "source": [
        "# Find the HCF of the following two numbers\n",
        "\n",
        "num1 = 6\n",
        "num2 = 9\n",
        "\n",
        "x = np.gcd(num1, num2)\n",
        "print(x)"
      ],
      "execution_count": null,
      "outputs": [
        {
          "output_type": "stream",
          "name": "stdout",
          "text": [
            "3\n"
          ]
        }
      ]
    },
    {
      "cell_type": "markdown",
      "metadata": {
        "id": "gvM8Kt_zJX-f"
      },
      "source": [
        "**Returns:** 3 because that is the **highest number** both numbers can be divided by **(6/3=2 and 9/3=3)**"
      ]
    },
    {
      "cell_type": "markdown",
      "metadata": {
        "id": "_kHzOeQ9KL3B"
      },
      "source": [
        "#### **Finding GCD in Arrays**\n",
        "\n",
        "- To find the Highest Common Factor of all values in an array, you can use the reduce() method.\n",
        "\n",
        "- The reduce() method will use the ufunc, in this case the gcd() function, on each element and reduce the array by one dimension."
      ]
    },
    {
      "cell_type": "code",
      "metadata": {
        "colab": {
          "base_uri": "https://localhost:8080/"
        },
        "id": "c1bJSW0aBvQF",
        "outputId": "f90bd5c7-e8f9-4e1d-d728-934e8cadc01e"
      },
      "source": [
        "# Find the GCD for all of the numbers in following array\n",
        "\n",
        "arr = np.array([20, 8, 32, 36, 16])\n",
        "x = np.gcd.reduce(arr)\n",
        "print(x)"
      ],
      "execution_count": null,
      "outputs": [
        {
          "output_type": "stream",
          "name": "stdout",
          "text": [
            "4\n"
          ]
        }
      ]
    },
    {
      "cell_type": "markdown",
      "metadata": {
        "id": "0A8uITBSLglA"
      },
      "source": [
        "**Returns:** 4 because that is the highest number all values can be divided by "
      ]
    },
    {
      "cell_type": "markdown",
      "metadata": {
        "id": "dxE6X-hHBp4F"
      },
      "source": [
        "#### **Reference**\n",
        "\n",
        "- https://www.youtube.com/watch?v=c1iBH3AKz1I&list=PLzx-_kRo3HZtP3tWaieUPwAh9K4I00_6p&index=26"
      ]
    }
  ]
}