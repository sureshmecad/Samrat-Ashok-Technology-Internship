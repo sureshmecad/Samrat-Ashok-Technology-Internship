{
  "nbformat": 4,
  "nbformat_minor": 0,
  "metadata": {
    "colab": {
      "name": "Day35_Pandas-Plotting_CSEPathshala.ipynb",
      "provenance": [],
      "collapsed_sections": [],
      "authorship_tag": "ABX9TyOaDyxgSoJy2WMNeWhQFA5I",
      "include_colab_link": true
    },
    "kernelspec": {
      "name": "python3",
      "display_name": "Python 3"
    },
    "language_info": {
      "name": "python"
    }
  },
  "cells": [
    {
      "cell_type": "markdown",
      "metadata": {
        "id": "view-in-github",
        "colab_type": "text"
      },
      "source": [
        "<a href=\"https://colab.research.google.com/github/sureshmecad/Samrat-Ashok-Technology-Internship/blob/main/Day35_Pandas_Plotting_CSEPathshala.ipynb\" target=\"_parent\"><img src=\"https://colab.research.google.com/assets/colab-badge.svg\" alt=\"Open In Colab\"/></a>"
      ]
    },
    {
      "cell_type": "markdown",
      "metadata": {
        "id": "tMkphDauxoDY"
      },
      "source": [
        "#### **PANDAS Plotting**\n",
        "\n",
        "- Pandas uses the **plot()** method to create diagrams.\n",
        "\n",
        "- we can use **pyplot**, a submodule of the Matplotlib library to visualize the diagram on the screen"
      ]
    },
    {
      "cell_type": "code",
      "metadata": {
        "id": "B37gnoU6xJco"
      },
      "source": [
        "import pandas as pd\n",
        "import matplotlib.pyplot as plt"
      ],
      "execution_count": 1,
      "outputs": []
    },
    {
      "cell_type": "code",
      "metadata": {
        "colab": {
          "base_uri": "https://localhost:8080/",
          "height": 204
        },
        "id": "OJFx1gbfzbOq",
        "outputId": "181b8831-7f69-4c94-864c-c3989b35361a"
      },
      "source": [
        "data = {'Marks' : [20, 30, 10, 15, 25],\n",
        "        'Total' : [80, 90, 95, 65, 75],\n",
        "        'Percentage' : [75, 60, 80, 90, 70]}\n",
        "\n",
        "df = pd.DataFrame(data)\n",
        "df.head()"
      ],
      "execution_count": 4,
      "outputs": [
        {
          "output_type": "execute_result",
          "data": {
            "text/html": [
              "<div>\n",
              "<style scoped>\n",
              "    .dataframe tbody tr th:only-of-type {\n",
              "        vertical-align: middle;\n",
              "    }\n",
              "\n",
              "    .dataframe tbody tr th {\n",
              "        vertical-align: top;\n",
              "    }\n",
              "\n",
              "    .dataframe thead th {\n",
              "        text-align: right;\n",
              "    }\n",
              "</style>\n",
              "<table border=\"1\" class=\"dataframe\">\n",
              "  <thead>\n",
              "    <tr style=\"text-align: right;\">\n",
              "      <th></th>\n",
              "      <th>Marks</th>\n",
              "      <th>Total</th>\n",
              "      <th>Percentage</th>\n",
              "    </tr>\n",
              "  </thead>\n",
              "  <tbody>\n",
              "    <tr>\n",
              "      <th>0</th>\n",
              "      <td>20</td>\n",
              "      <td>80</td>\n",
              "      <td>75</td>\n",
              "    </tr>\n",
              "    <tr>\n",
              "      <th>1</th>\n",
              "      <td>30</td>\n",
              "      <td>90</td>\n",
              "      <td>60</td>\n",
              "    </tr>\n",
              "    <tr>\n",
              "      <th>2</th>\n",
              "      <td>10</td>\n",
              "      <td>95</td>\n",
              "      <td>80</td>\n",
              "    </tr>\n",
              "    <tr>\n",
              "      <th>3</th>\n",
              "      <td>15</td>\n",
              "      <td>65</td>\n",
              "      <td>90</td>\n",
              "    </tr>\n",
              "    <tr>\n",
              "      <th>4</th>\n",
              "      <td>25</td>\n",
              "      <td>75</td>\n",
              "      <td>70</td>\n",
              "    </tr>\n",
              "  </tbody>\n",
              "</table>\n",
              "</div>"
            ],
            "text/plain": [
              "   Marks  Total  Percentage\n",
              "0     20     80          75\n",
              "1     30     90          60\n",
              "2     10     95          80\n",
              "3     15     65          90\n",
              "4     25     75          70"
            ]
          },
          "metadata": {},
          "execution_count": 4
        }
      ]
    },
    {
      "cell_type": "code",
      "metadata": {
        "colab": {
          "base_uri": "https://localhost:8080/",
          "height": 265
        },
        "id": "nZtBkRrIyV01",
        "outputId": "c5faf03a-de18-4739-8825-389ecd04b35d"
      },
      "source": [
        "df.plot()\n",
        "plt.show()"
      ],
      "execution_count": 5,
      "outputs": [
        {
          "output_type": "display_data",
          "data": {
            "image/png": "[encoded data removed]",
            "text/plain": [
              "<Figure size 432x288 with 1 Axes>"
            ]
          },
          "metadata": {
            "needs_background": "light"
          }
        }
      ]
    },
    {
      "cell_type": "markdown",
      "metadata": {
        "id": "EdzNaSA219Sc"
      },
      "source": [
        "#### **Scatter plot**\n",
        "\n",
        "- specify that we want a scatter plot with the **kind** argument; **kind=\"scatter\"**\n",
        "\n",
        "- A **scatter plot** needs an **x- and y- axis**"
      ]
    },
    {
      "cell_type": "code",
      "metadata": {
        "colab": {
          "base_uri": "https://localhost:8080/",
          "height": 279
        },
        "id": "5CrIFlbF0o-v",
        "outputId": "55de402e-c449-40d1-c3fd-47720ece1860"
      },
      "source": [
        "df.plot(kind='scatter', x='Marks', y='Total')\n",
        "plt.show()"
      ],
      "execution_count": 6,
      "outputs": [
        {
          "output_type": "display_data",
          "data": {
            "image/png": "[encoded data removed]",
            "text/plain": [
              "<Figure size 432x288 with 1 Axes>"
            ]
          },
          "metadata": {
            "needs_background": "light"
          }
        }
      ]
    },
    {
      "cell_type": "markdown",
      "metadata": {
        "id": "QUC9tTxo3JYs"
      },
      "source": [
        "#### **Histogram**\n",
        "\n",
        "- use the kind argument to specify that you want a histogram; **kind='hist'**\n",
        "\n",
        "- **Histogram** needs only **one column**\n",
        "\n",
        "- A histogram shows us the **frequency of each interval**, e.g. how many workouts lasted **between 50 and 60 minutes**"
      ]
    },
    {
      "cell_type": "code",
      "metadata": {
        "colab": {
          "base_uri": "https://localhost:8080/",
          "height": 282
        },
        "id": "NOU822xV0oj-",
        "outputId": "feff5ced-c1c2-4fde-d4b5-91022ae9f2df"
      },
      "source": [
        "df['Marks'].plot(kind='hist')"
      ],
      "execution_count": 8,
      "outputs": [
        {
          "output_type": "execute_result",
          "data": {
            "text/plain": [
              "<matplotlib.axes._subplots.AxesSubplot at 0x7fbfd1179dd0>"
            ]
          },
          "metadata": {},
          "execution_count": 8
        },
        {
          "output_type": "display_data",
          "data": {
            "image/png": "[encoded data removed]",
            "text/plain": [
              "<Figure size 432x288 with 1 Axes>"
            ]
          },
          "metadata": {
            "needs_background": "light"
          }
        }
      ]
    },
    {
      "cell_type": "markdown",
      "metadata": {
        "id": "qtqHEBKC5-WF"
      },
      "source": [
        "#### **Reference**\n",
        "\n",
        "- https://www.youtube.com/watch?v=IRwviW9L1ew&list=PLzx-_kRo3HZtP3tWaieUPwAh9K4I00_6p&index=47"
      ]
    }
  ]
}